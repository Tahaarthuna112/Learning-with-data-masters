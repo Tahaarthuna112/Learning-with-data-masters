{
 "cells": [
  {
   "cell_type": "code",
   "execution_count": null,
   "id": "b420b72d-e088-45ce-a515-c835cbadb82c",
   "metadata": {},
   "outputs": [],
   "source": [
    "Q1. What is a database? Differentiate between SQL and NoSQL databases."
   ]
  },
  {
   "cell_type": "code",
   "execution_count": null,
   "id": "b1cb35e0-30e0-401a-9b47-d79076a588a0",
   "metadata": {},
   "outputs": [],
   "source": [
    "A database is a structured collection of data that is organized and stored in a way that allows for efficient retrieval, management, and manipulation of information. Databases are used to store and manage vast amounts of data in various applications and systems, ranging from small personal projects to large-scale enterprise applications."
   ]
  },
  {
   "cell_type": "code",
   "execution_count": null,
   "id": "8b152985-ff40-4567-8634-2106bfe0443a",
   "metadata": {},
   "outputs": [],
   "source": [
    "The five critical differences between SQL and NoSQL are:\n",
    "\n",
    "SQL databases are relational, and NoSQL databases are non-relational.\n",
    "SQL databases use structured query language (SQL) and have a predefined schema. NoSQL databases have dynamic schemas for unstructured data.\n",
    "SQL databases are vertically scalable, while NoSQL databases are horizontally scalable.\n",
    "SQL databases are table-based, while NoSQL databases are document, key-value, graph, or wide-column stores.\n",
    "SQL databases are better for multi-row transactions, while NoSQL is better for unstructured data like documents or JSON."
   ]
  },
  {
   "cell_type": "code",
   "execution_count": null,
   "id": "17fc8285-d5b4-421c-8675-08b9815cf4d4",
   "metadata": {},
   "outputs": [],
   "source": [
    "Q2. What is DDL? Explain why CREATE, DROP, ALTER, and TRUNCATE are used with an example."
   ]
  },
  {
   "cell_type": "code",
   "execution_count": null,
   "id": "ce4a3148-056b-4962-9d2a-b956f3036920",
   "metadata": {},
   "outputs": [],
   "source": [
    "Data Definition Language(DDL) is a subset of SQL and a part of DBMS(Database Management System). DDL consist of Commands to commands like CREATE, ALTER, TRUNCATE and DROP. These commands are used to create or modify the tables in SQL."
   ]
  },
  {
   "cell_type": "code",
   "execution_count": null,
   "id": "37d7d1bd-c8a0-4dd2-921a-f48093f47464",
   "metadata": {},
   "outputs": [],
   "source": [
    "the commands are as follows:-\n",
    "1. Create\n",
    "2. Drop\n",
    "3. Alter\n",
    "4. Truncate"
   ]
  },
  {
   "cell_type": "code",
   "execution_count": null,
   "id": "76589e94-cdd7-4240-b3fc-f2e4adda987e",
   "metadata": {},
   "outputs": [],
   "source": [
    "Command-1 :\n",
    "CREATE :\n",
    "This command is used to create a new table in SQL. The user has to give information like table name, column names, and their datatypes.\n",
    "\n",
    "Syntax –\n",
    "\n",
    "CREATE TABLE table_name\n",
    "(\n",
    "column_1 datatype,\n",
    "column_2 datatype,\n",
    "column_3 datatype,\n",
    "....\n",
    ");"
   ]
  },
  {
   "cell_type": "code",
   "execution_count": null,
   "id": "1472a504-a123-42f4-a87b-d082ba8c7a88",
   "metadata": {},
   "outputs": [],
   "source": [
    "Example –\n",
    "We need to create a table for storing Student information of a particular College. Create syntax would be as below.\n",
    "\n",
    "CREATE TABLE Student_info\n",
    "(\n",
    "College_Id number(2),\n",
    "College_name varchar(30),\n",
    "Branch varchar(10)\n",
    ");"
   ]
  },
  {
   "cell_type": "code",
   "execution_count": null,
   "id": "022fcc94-af22-4162-8eca-f041471c0874",
   "metadata": {},
   "outputs": [],
   "source": [
    "Command-2 :\n",
    "DROP :\n",
    "This command is used to remove an existing table along with its structure from the Database.\n",
    "\n",
    "Syntax –\n",
    "Syntax to drop an existing table.\n",
    "\n",
    "DROP TABLE table_name;"
   ]
  },
  {
   "cell_type": "code",
   "execution_count": null,
   "id": "b37ac781-9419-40a1-88d6-ac263e1fe19a",
   "metadata": {},
   "outputs": [],
   "source": [
    "Example –\n",
    "If the College Authority wants to change their Database by deleting the Student_info Table. \n",
    "\n",
    "DROP TABLE Student_info;"
   ]
  },
  {
   "cell_type": "code",
   "execution_count": null,
   "id": "302120ec-b6d1-421e-91cc-d210d7cdb486",
   "metadata": {},
   "outputs": [],
   "source": [
    "Command-3 :\n",
    "ALTER :\n",
    "This command is used to add, delete or change columns in the existing table. The user needs to know the existing table name and can do add, delete or modify tasks easily.\n",
    "\n",
    "Syntax –\n",
    "Syntax to add a column to an existing table.\n",
    "\n",
    "ALTER TABLE table_name\n",
    "ADD column_name datatype;\n"
   ]
  },
  {
   "cell_type": "code",
   "execution_count": null,
   "id": "7fb2ee9a-0ba3-4c52-9279-401dd0c6c031",
   "metadata": {},
   "outputs": [],
   "source": [
    "Example –\n",
    "In our Student_info table, we want to add a new column for CGPA. The syntax would be as below as follows.\n",
    "\n",
    "ALTER TABLE Student_info\n",
    "ADD CGPA number;"
   ]
  },
  {
   "cell_type": "code",
   "execution_count": null,
   "id": "b6268ec3-b707-4e96-b330-60cab8f3b2bd",
   "metadata": {},
   "outputs": [],
   "source": [
    "Command-4 :\n",
    "TRUNCATE :\n",
    "This command is used to remove all rows from the table, but the structure of the table still exists.\n",
    "\n",
    "Syntax –\n",
    "Syntax to remove an existing table."
   ]
  },
  {
   "cell_type": "code",
   "execution_count": null,
   "id": "08229d2b-93d7-40f2-b935-97cc6561fa3d",
   "metadata": {},
   "outputs": [],
   "source": [
    "Example –\n",
    "The College Authority wants to remove the details of all students for new batches but wants to keep the table structure. The command they can use is as follows.\n",
    "\n",
    "TRUNCATE TABLE Student_info;"
   ]
  },
  {
   "cell_type": "code",
   "execution_count": null,
   "id": "819abc6b-8d7c-421c-baf7-e3d56689c3f1",
   "metadata": {},
   "outputs": [],
   "source": [
    "Q3. What is DML? Explain INSERT, UPDATE, and DELETE with an example."
   ]
  },
  {
   "cell_type": "code",
   "execution_count": null,
   "id": "8b072ecc-7269-424d-9f0d-914879e2a4bd",
   "metadata": {},
   "outputs": [],
   "source": [
    "DML stands for Data Manipulation Language, and it is a subset of SQL (Structured Query Language) used for manipulating data within a database. DML statements allow you to perform operations such as inserting new data, updating existing data, and deleting data from database tables. Here are explanations and examples of the three primary DML statements: INSERT, UPDATE, and DELETE."
   ]
  },
  {
   "cell_type": "code",
   "execution_count": null,
   "id": "2eea9716-f485-4e51-8331-a180d7d879d2",
   "metadata": {},
   "outputs": [],
   "source": [
    "INSERT Command\n",
    "This command is used to enter the information or values into a row. We can connect one or more records to a single table within a repository using this instruction. This is often used to connect an unused tag to the documents.\n",
    "\n",
    "Syntax:\n",
    "\n",
    "INSERT INTO <table_name> ('column_name1' <datatype>, 'column_name2' <datatype>)\n",
    "VALUES ('value1', 'value2'); "
   ]
  },
  {
   "cell_type": "code",
   "execution_count": null,
   "id": "7aa0d260-8af2-41eb-b3ac-7ceab944ad4b",
   "metadata": {},
   "outputs": [],
   "source": [
    "Example :\n",
    "\n",
    "INSERT INTO students ('stu_id' int, 'stu_name' varchar(20), 'city' varchar(20))\n",
    "VALUES ('1', 'Nirmit', 'Gorakhpur'); "
   ]
  },
  {
   "cell_type": "code",
   "execution_count": null,
   "id": "59eb168b-534c-4db6-9d86-809adb00e777",
   "metadata": {},
   "outputs": [],
   "source": [
    "UPDATE Command\n",
    "This command is used to alter existing table records. Within a table, it modifies data from one or more records. This command is used to alter the data which is already present in a table.\n",
    "\n",
    "Syntax:\n",
    "\n",
    "UPDATE <table_name>\n",
    "SET <column_name = value>\n",
    "WHERE condition; "
   ]
  },
  {
   "cell_type": "code",
   "execution_count": null,
   "id": "b8fa91d9-f1e4-4438-8b09-8f7e02d860eb",
   "metadata": {},
   "outputs": [],
   "source": [
    "Example:\n",
    "\n",
    "UPDATE students\n",
    "SET due_fees = 20000\n",
    "WHERE stu_name = 'Mini'; "
   ]
  },
  {
   "cell_type": "code",
   "execution_count": null,
   "id": "65541b85-0a0f-41b8-9f86-3ba5dc2f6418",
   "metadata": {},
   "outputs": [],
   "source": [
    "DELETE Command\n",
    "It deletes all archives from a table. This command is used to erase some or all of the previous table’s records. If we do not specify the ‘WHERE’ condition then all the rows would be erased or deleted.\n",
    "\n",
    "Syntax:\n",
    "\n",
    "DELETE FROM <table_name>\n",
    "WHERE <condition>; "
   ]
  },
  {
   "cell_type": "code",
   "execution_count": null,
   "id": "2738683f-d37b-42a6-93f8-5273b28d52fe",
   "metadata": {},
   "outputs": [],
   "source": [
    "Example:\n",
    "\n",
    "DELETE FROM students\n",
    "WHERE stu_id = '001'; "
   ]
  },
  {
   "cell_type": "code",
   "execution_count": null,
   "id": "64b91bb4-3a58-4196-9ca0-75ecf3ee7b7f",
   "metadata": {},
   "outputs": [],
   "source": [
    "Q4. What is DQL? Explain SELECT with an example."
   ]
  },
  {
   "cell_type": "code",
   "execution_count": null,
   "id": "37075ac0-29a9-4fa4-a7ce-e0525cc7a6b9",
   "metadata": {},
   "outputs": [],
   "source": [
    "We can define DQL as follows it is a component of SQL statement that allows getting data from the database and imposing order upon it. It includes the SELECT statement. This command allows getting the data out of the database to perform operations with it."
   ]
  },
  {
   "cell_type": "code",
   "execution_count": null,
   "id": "254a3fb5-0143-4e46-b140-9b19daadc376",
   "metadata": {},
   "outputs": [],
   "source": [
    "List of DQL: \n",
    "\n",
    "SELECT: It is used to retrieve data from the database."
   ]
  },
  {
   "cell_type": "code",
   "execution_count": null,
   "id": "cb506442-c842-4df2-ad3a-30c286458fe4",
   "metadata": {},
   "outputs": [],
   "source": [
    "Example:\n",
    "Suppose you have a database with a table named \"Customers\" that stores information about customers, including their names, email addresses, and cities. You can use the SELECT statement to retrieve the names and email addresses of all customers who live in a specific city, such as \"New York.\""
   ]
  },
  {
   "cell_type": "code",
   "execution_count": null,
   "id": "7a93dd86-feb1-444e-a9a3-03663e60278d",
   "metadata": {},
   "outputs": [],
   "source": [
    "SELECT FirstName, LastName, Email\n",
    "FROM Customers\n",
    "WHERE City = 'New York';\n"
   ]
  },
  {
   "cell_type": "code",
   "execution_count": null,
   "id": "ff2f798a-7a53-48b4-b94f-4e677709fead",
   "metadata": {},
   "outputs": [],
   "source": [
    "Q5. Explain Primary Key and Foreign Key."
   ]
  },
  {
   "cell_type": "code",
   "execution_count": null,
   "id": "7b3964ac-5941-45be-8b41-19e50853186e",
   "metadata": {},
   "outputs": [],
   "source": [
    "A primary key is used to ensure that data in the specific column is unique. A column cannot have NULL values. It is either an existing table column or a column that is specifically generated by the database according to a defined sequence. "
   ]
  },
  {
   "cell_type": "code",
   "execution_count": null,
   "id": "4b090cae-bdf4-4614-a2a4-81100358bf9d",
   "metadata": {},
   "outputs": [],
   "source": [
    "A foreign key is a column or group of columns in a relational database table that provides a link between data in two tables. It is a column (or columns) that references a column (most often the primary key) of another table. "
   ]
  },
  {
   "cell_type": "code",
   "execution_count": null,
   "id": "dc7fe91f-de08-4096-ae9e-31f50d801ce2",
   "metadata": {},
   "outputs": [],
   "source": [
    "The MySQLCursor of mysql-connector-python (and similar libraries) is used to execute statements to communicate with the MySQL database.\n",
    "\n",
    "Using the methods of it you can execute SQL statements, fetch data from the result sets, call procedures.\n",
    "\n",
    "You can create Cursor object using the cursor() method of the Connection object/class.\n",
    "\n",
    "Example\n",
    "import mysql.connector\n",
    "\n",
    "#establishing the connection\n",
    "conn = mysql.connector.connect(\n",
    "   user='root', password='password', host='127.0.0.1', database='mydb'\n",
    ")\n",
    "#Creating a cursor object using the cursor() method\n",
    "cursor = conn.cursor()"
   ]
  },
  {
   "cell_type": "code",
   "execution_count": null,
   "id": "d877d764-f073-46ef-b08a-39485075b980",
   "metadata": {},
   "outputs": [],
   "source": [
    "Explanation of the cursor() and execute() methods:\n",
    "\n",
    "cursor() Method:\n",
    "\n",
    "The cursor() method creates a cursor object associated with the database connection.\n",
    "The cursor object is used to execute SQL queries and fetch results from the database.\n",
    "execute() Method:\n",
    "\n",
    "The execute() method is used to execute SQL queries on the database using the cursor object.\n",
    "You pass an SQL query as a string to the execute() method.\n",
    "After executing the query, the cursor can be used to fetch the results (if any) or perform other database operations."
   ]
  },
  {
   "cell_type": "code",
   "execution_count": null,
   "id": "07b77742-bcac-426b-905b-71feee668396",
   "metadata": {},
   "outputs": [],
   "source": [
    "Q7. Give the order of execution of SQL clauses in an SQL query."
   ]
  },
  {
   "cell_type": "code",
   "execution_count": null,
   "id": "fe4ce2c2-8ab7-43e5-87e3-ce10671eecaa",
   "metadata": {},
   "outputs": [],
   "source": [
    "Order\t Clause\t    Function\n",
    "1\t   FROM\t     Tables are joined to get the base data.\n",
    "2\tWHERE\tThe base data is filtered.\n",
    "3\tGROUP BY\tThe filtered base data is grouped.\n",
    "4\tHAVING\tThe grouped base data is filtered.\n",
    "5\tSELECT\tThe final data is returned.\n",
    "6\tORDER BY\tThe final data is sorted.\n",
    "7\tLIMIT\tThe returned data is limited to row count."
   ]
  }
 ],
 "metadata": {
  "kernelspec": {
   "display_name": "Python 3 (ipykernel)",
   "language": "python",
   "name": "python3"
  },
  "language_info": {
   "codemirror_mode": {
    "name": "ipython",
    "version": 3
   },
   "file_extension": ".py",
   "mimetype": "text/x-python",
   "name": "python",
   "nbconvert_exporter": "python",
   "pygments_lexer": "ipython3",
   "version": "3.10.8"
  }
 },
 "nbformat": 4,
 "nbformat_minor": 5
}
