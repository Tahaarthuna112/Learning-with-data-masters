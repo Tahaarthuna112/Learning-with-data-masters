{
 "cells": [
  {
   "cell_type": "code",
   "execution_count": null,
   "id": "e4da7c50-5b78-4456-a8c1-1b6ea4d2bd64",
   "metadata": {},
   "outputs": [],
   "source": [
    "Q1. What is multiprocessing in python? Why is it useful?"
   ]
  },
  {
   "cell_type": "code",
   "execution_count": null,
   "id": "24d67d73-e7d7-4402-9156-60c43f33ddce",
   "metadata": {},
   "outputs": [],
   "source": [
    "Multiprocessing in Python refers to the capability of the language to create and manage multiple processes concurrently, allowing for parallel execution of tasks. Each process has its own memory space and runs independently, making it suitable for tasks that can be divided into smaller, independent units of work. This is in contrast to multithreading, where threads share the same memory space of a single process."
   ]
  },
  {
   "cell_type": "code",
   "execution_count": null,
   "id": "40f8f02e-6637-4aef-9eae-6d0b07e963c5",
   "metadata": {},
   "outputs": [],
   "source": [
    "1. Parallelism\n",
    "2. Isolation\n",
    "3. Performance Improvement\n",
    "4. GIL Bypass\n",
    "5. Fault Isolation\n",
    "6. Resource Management"
   ]
  },
  {
   "cell_type": "code",
   "execution_count": null,
   "id": "d99ec6cc-3ef2-4c2f-a22c-3d501c7f7ed7",
   "metadata": {},
   "outputs": [],
   "source": [
    "Q2. What are the differences between multiprocessing and multithreading?"
   ]
  },
  {
   "cell_type": "code",
   "execution_count": null,
   "id": "a924cb3d-ea1b-4b59-947e-5d5422177515",
   "metadata": {},
   "outputs": [],
   "source": [
    "Multiprocessing and multithreading are both techniques used to achieve concurrent execution in a program, but they differ in terms of how they manage and utilize resources. Here are the key differences between multiprocessing and multithreading:\n",
    "\n",
    "Process vs. Thread:\n",
    "\n",
    "Multiprocessing: In multiprocessing, multiple processes are created, each with its own memory space and Python interpreter. These processes run independently and can execute tasks concurrently on different CPU cores.\n",
    "Multithreading: In multithreading, multiple threads are created within a single process. Threads share the same memory space and resources, including the Python interpreter. They can run concurrently on a single CPU core, with the operating system managing their execution time.\n",
    "Resource Isolation:\n",
    "\n",
    "Multiprocessing: Processes are isolated from each other, meaning they do not share memory directly. Communication between processes is typically achieved through inter-process communication mechanisms like pipes, queues, and shared memory.\n",
    "Multithreading: Threads share the same memory space, which can lead to shared data and resources. While this can simplify communication and data sharing, it also requires careful synchronization to avoid issues like race conditions.\n",
    "Parallelism:\n",
    "\n",
    "Multiprocessing: Since processes run independently on separate CPU cores, multiprocessing is well-suited for achieving true parallelism and leveraging multiple cores for CPU-bound tasks.\n",
    "Multithreading: Due to the Global Interpreter Lock (GIL) in CPython (the default Python interpreter), only one thread can execute Python bytecode at a time. This limits the ability of multithreading to achieve true parallelism for CPU-bound tasks, but it can still be effective for I/O-bound tasks.\n",
    "Performance:\n",
    "\n",
    "Multiprocessing: Generally more efficient for CPU-bound tasks that can be divided into independent units of work.\n",
    "Multithreading: More suited for I/O-bound tasks where the threads spend a significant amount of time waiting for external resources like file I/O, network requests, etc.\n",
    "Complexity:\n",
    "\n",
    "Multiprocessing: Can be more complex to manage due to the need for inter-process communication and synchronization mechanisms. Processes are more isolated, which reduces potential issues related to shared data but requires explicit communication.\n",
    "Multithreading: Can be simpler to work with for tasks that require shared data and communication between threads. However, the need for careful synchronization to avoid race conditions can introduce complexities.\n",
    "Fault Isolation:\n",
    "\n",
    "Multiprocessing: Processes are isolated from each other, so a crash in one process generally doesn't affect others.\n",
    "Multithreading: Threads within a process share the same memory space, so a crash in one thread can potentially affect the entire process.\n",
    "In summary, multiprocessing is better suited for CPU-bound tasks that can benefit from true parallelism, while multithreading is more appropriate for tasks with a lot of I/O operations. The choice between them depends on the nature of the task, the available hardware, and the desired level of complexity and resource management.\n"
   ]
  },
  {
   "cell_type": "code",
   "execution_count": null,
   "id": "2aa39a3b-666e-4a61-ab21-94cdf7ce9fce",
   "metadata": {},
   "outputs": [],
   "source": [
    "#Q3. Write a python code to create a process using the multiprocessing module."
   ]
  },
  {
   "cell_type": "code",
   "execution_count": 1,
   "id": "c2884ebf-6303-4494-accd-2bb51db5102b",
   "metadata": {},
   "outputs": [
    {
     "name": "stdout",
     "output_type": "stream",
     "text": [
      "Worker process: Result for 5 is 10\n",
      "Main process: Process has finished.\n"
     ]
    }
   ],
   "source": [
    "import multiprocessing\n",
    "\n",
    "def worker_function(num):\n",
    "    \"\"\"A function to be executed by the worker process.\"\"\"\n",
    "    result = num * 2\n",
    "    print(f\"Worker process: Result for {num} is {result}\")\n",
    "\n",
    "if __name__ == \"__main__\":\n",
    "    # Create a process and pass an argument to it\n",
    "    num_to_double = 5\n",
    "    process = multiprocessing.Process(target=worker_function, args=(num_to_double,))\n",
    "\n",
    "    # Start the process\n",
    "    process.start()\n",
    "\n",
    "    # Wait for the process to finish\n",
    "    process.join()\n",
    "\n",
    "    print(\"Main process: Process has finished.\")\n"
   ]
  },
  {
   "cell_type": "code",
   "execution_count": null,
   "id": "1eb236d4-e948-4c15-af40-1702faee6774",
   "metadata": {},
   "outputs": [],
   "source": [
    "#Q4) What is a multiprocessing pool in python? Why is it used?"
   ]
  },
  {
   "cell_type": "code",
   "execution_count": null,
   "id": "38ac7c96-7c1b-41fa-b198-750d3f486130",
   "metadata": {},
   "outputs": [],
   "source": [
    "A multiprocessing pool in Python, specifically provided by the multiprocessing module, is a mechanism that allows you to efficiently manage a group of worker processes to perform parallel computations or execute tasks concurrently. The primary purpose of using a multiprocessing pool is to distribute tasks across multiple processes, taking advantage of available CPU cores and achieving parallelism while abstracting away the complexities of managing individual processes."
   ]
  },
  {
   "cell_type": "code",
   "execution_count": null,
   "id": "b87de856-48f5-48fe-9efb-53d046037793",
   "metadata": {},
   "outputs": [],
   "source": [
    "#Q5) How can we create a pool of worker processes in python using the multiprocessing module?"
   ]
  },
  {
   "cell_type": "code",
   "execution_count": null,
   "id": "2816873e-1744-4623-bcb1-987e2629ebb7",
   "metadata": {},
   "outputs": [],
   "source": [
    "We can create a pool of worker processes in Python using the multiprocessing module's Pool class."
   ]
  },
  {
   "cell_type": "code",
   "execution_count": 2,
   "id": "db01f270-cc24-4d49-8397-2acdc8b22e7c",
   "metadata": {},
   "outputs": [
    {
     "name": "stdout",
     "output_type": "stream",
     "text": [
      "Results: [2, 4, 6, 8, 10]\n"
     ]
    }
   ],
   "source": [
    "import multiprocessing\n",
    "\n",
    "def worker_function(task):\n",
    "    result = task * 2\n",
    "    return result\n",
    "\n",
    "if __name__ == \"__main__\":\n",
    "    num_processes = 4\n",
    "    pool = multiprocessing.Pool(processes=num_processes)\n",
    "\n",
    "    tasks = [1, 2, 3, 4, 5]\n",
    "\n",
    "    results = pool.map(worker_function, tasks)\n",
    "\n",
    "    pool.close()\n",
    "\n",
    "    pool.join()\n",
    "\n",
    "    print(\"Results:\", results)\n"
   ]
  },
  {
   "cell_type": "code",
   "execution_count": null,
   "id": "3e48cb30-2dde-4c80-953a-336c6a588162",
   "metadata": {},
   "outputs": [],
   "source": [
    "#Q6)  Write a python program to create 4 processes, each process should print a different number using the \n",
    "multiprocessing module in python."
   ]
  },
  {
   "cell_type": "code",
   "execution_count": null,
   "id": "741b4d8e-9610-42d5-8241-9309bffc9760",
   "metadata": {},
   "outputs": [],
   "source": [
    "import multiprocessing\n",
    "\n",
    "def print_number(number):\n",
    "    \"\"\"A function to print a number.\"\"\"\n",
    "    print(f\"Process {number}: My number is {number}\")\n",
    "\n",
    "if __name__ == \"__main__\":\n",
    "    # Create a list of numbers\n",
    "    numbers = [1, 2, 3, 4]\n",
    "\n",
    "    # Create and start processes for each number\n",
    "    processes = []\n",
    "    for num in numbers:\n",
    "        process = multiprocessing.Process(target=print_number, args=(num,))\n",
    "        processes.append(process)\n",
    "        process.start()\n",
    "\n",
    "    # Wait for all processes to finish\n",
    "    for process in processes:\n",
    "        process.join()\n",
    "\n",
    "    print(\"All processes have finished.\")\n"
   ]
  }
 ],
 "metadata": {
  "kernelspec": {
   "display_name": "Python 3 (ipykernel)",
   "language": "python",
   "name": "python3"
  },
  "language_info": {
   "codemirror_mode": {
    "name": "ipython",
    "version": 3
   },
   "file_extension": ".py",
   "mimetype": "text/x-python",
   "name": "python",
   "nbconvert_exporter": "python",
   "pygments_lexer": "ipython3",
   "version": "3.10.8"
  }
 },
 "nbformat": 4,
 "nbformat_minor": 5
}
