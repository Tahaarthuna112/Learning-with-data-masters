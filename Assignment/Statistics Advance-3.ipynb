{
 "cells": [
  {
   "cell_type": "code",
   "execution_count": null,
   "id": "c09a4b00-d3a9-43ec-8482-e6beae5a3897",
   "metadata": {},
   "outputs": [],
   "source": [
    "Q1: What is Estimation Statistics? Explain point estimate and interval estimate."
   ]
  },
  {
   "cell_type": "code",
   "execution_count": null,
   "id": "e96d3f13-81bc-4365-98fd-f7871a44811c",
   "metadata": {},
   "outputs": [],
   "source": [
    "Estimation statistics involves the use of sample data to make inferences or predictions about population parameters. There are two main types of estimates in statistics: point estimates and interval estimates.\n",
    "\n",
    "1. Point Estimate:\n",
    "   - A point estimate is a single value that is used to estimate the population parameter.\n",
    "   - It's a specific numerical value calculated from the sample data and is considered the best guess for the true parameter value.\n",
    "   - For example, if you want to estimate the average height of students in a school, the sample mean height would be the point estimate for the population mean height.\n",
    "\n",
    "2. Interval Estimate:\n",
    "   - An interval estimate provides a range of values within which the true population parameter is likely to fall.\n",
    "   - It recognizes the uncertainty inherent in estimating a population parameter from a sample.\n",
    "   - The most common form of interval estimate is the confidence interval.\n",
    "   - A confidence interval provides a range of values, and it is accompanied by a level of confidence (e.g., 95% confidence interval). This level of confidence indicates the probability that the interval contains the true population parameter.\n",
    "   - For example, a 95% confidence interval for the average height of students might be from 160 cm to 170 cm, suggesting that we are 95% confident that the true population mean falls within this range.\n",
    "\n",
    "In summary, estimation in statistics involves using sample data to make educated guesses about population parameters. Point estimates provide a single value as the best guess, while interval estimates provide a range of values along with a level of confidence indicating the likely precision of the estimate."
   ]
  },
  {
   "cell_type": "code",
   "execution_count": null,
   "id": "ee5af4cc-b84b-4a78-a45c-49e805f4857c",
   "metadata": {},
   "outputs": [],
   "source": [
    "Q2. Write a Python function to estimate the population mean using a sample mean and standard \n",
    "deviation."
   ]
  },
  {
   "cell_type": "code",
   "execution_count": null,
   "id": "82db0957-76f7-4818-a575-16194ffd8087",
   "metadata": {},
   "outputs": [],
   "source": [
    "### 1. Creating a estimate_pop_mean function"
   ]
  },
  {
   "cell_type": "code",
   "execution_count": 3,
   "id": "1f27351a-f16a-43e6-a825-e63b2536cf76",
   "metadata": {},
   "outputs": [],
   "source": [
    "import math\n",
    "import scipy.stats as stats\n",
    "\n",
    "def estimate_pop_mean(samples, confidence_level=0.95):\n",
    "    sample_mean = sum(samples) / len(samples)\n",
    "    sample_std = math.sqrt(sum([(x - sample_mean)**2 for x in samples]) / (len(samples) - 1))\n",
    "    alpha = 1 - confidence_level\n",
    "    dof = len(samples) - 1\n",
    "    t_value = stats.t.ppf(1 - alpha/2, dof)\n",
    "    std_error = sample_std / math.sqrt(len(samples))\n",
    "    margin_of_error = t_value * std_error\n",
    "    lower_bound = sample_mean - margin_of_error\n",
    "    upper_bound = sample_mean + margin_of_error\n",
    "    return (lower_bound, upper_bound)"
   ]
  },
  {
   "cell_type": "code",
   "execution_count": null,
   "id": "6879bec0-456d-4c57-aaff-20032afd629d",
   "metadata": {},
   "outputs": [],
   "source": [
    "### 2. Example with sample and population data"
   ]
  },
  {
   "cell_type": "code",
   "execution_count": 4,
   "id": "179425d0-1da0-41e5-9705-228f66243869",
   "metadata": {},
   "outputs": [
    {
     "name": "stdout",
     "output_type": "stream",
     "text": [
      "ESTIMATED population mean point estimate is : 48.93471990155445\n",
      "ESTIMATED population mean with 95% confidence interval : (43.27981467419127,54.589625128917575)\n",
      "\n",
      "==========================================================================================================\n",
      "\n",
      "ACTUAL Population mean is : 49.02565533201336\n"
     ]
    }
   ],
   "source": [
    "import numpy as np\n",
    "import random\n",
    "np.random.seed(42)\n",
    "population_size = 1000\n",
    "population = np.random.uniform(low=0, high=100, size=population_size)\n",
    "sample_size = 100\n",
    "sample = random.sample(list(population), sample_size)\n",
    "lower_bound, upper_bound = estimate_pop_mean(sample)\n",
    "print(f\"ESTIMATED population mean point estimate is : {np.mean(sample)}\")\n",
    "print(f\"ESTIMATED population mean with 95% confidence interval : ({lower_bound},{upper_bound})\")\n",
    "print('\\n==========================================================================================================\\n')\n",
    "print(f\"ACTUAL Population mean is : {np.mean(population)}\")"
   ]
  },
  {
   "cell_type": "code",
   "execution_count": null,
   "id": "0a3972fd-f95c-454a-8f95-22bebc633f5d",
   "metadata": {},
   "outputs": [],
   "source": [
    "Q3: What is Hypothesis testing? Why is it used? State the importance of Hypothesis testing."
   ]
  },
  {
   "cell_type": "code",
   "execution_count": null,
   "id": "09a1edea-37a9-42e0-a482-18292883aafc",
   "metadata": {},
   "outputs": [],
   "source": [
    "**Hypothesis testing** is a statistical method used to make inferences about population parameters based on a sample of data. It involves the formulation of a hypothesis (null hypothesis and alternative hypothesis), collecting data, and using statistical techniques to decide whether to accept or reject the null hypothesis.\n",
    "\n",
    "Here's a breakdown of the key components and the importance of hypothesis testing:\n",
    "\n",
    "1. Formulation of Hypotheses:\n",
    "   - Null Hypothesis (\\(H_0\\)): Represents a default assumption that there is no significant effect or no difference.\n",
    "   - Alternative Hypothesis (\\(H_1\\) or \\(H_a\\)): States the contrary to the null hypothesis, suggesting there is a significant effect or a difference.\n",
    "\n",
    "2. Data Collection:\n",
    "   - Collect a sample of data relevant to the hypothesis being tested.\n",
    "\n",
    "3. Statistical Analysis:\n",
    "   - Apply statistical tests to the sample data to determine the likelihood that the observed results are due to random chance.\n",
    "\n",
    "4. Decision Making:\n",
    "   - Based on the statistical analysis, decide whether to reject the null hypothesis in favor of the alternative hypothesis or fail to reject the null hypothesis.\n",
    "\n",
    "Importance of Hypothesis Testing:\n",
    "\n",
    "1. Inference and Decision Making:\n",
    "   - Hypothesis testing allows researchers and analysts to draw conclusions and make decisions about population parameters based on sample data.\n",
    "\n",
    "2. Scientific Method:\n",
    "   - It is a fundamental component of the scientific method, providing a systematic way to evaluate and validate scientific hypotheses.\n",
    "\n",
    "3. Quality Control and Process Improvement:\n",
    "   - In industries, hypothesis testing is used for quality control and process improvement. It helps identify whether changes in a process or product have a significant effect.\n",
    "\n",
    "4. Medicine and Healthcare:\n",
    "   - In medical research, hypothesis testing is crucial for evaluating the effectiveness of new treatments or medications.\n",
    "\n",
    "5. Social Sciences:\n",
    "   - Used in social sciences to study human behavior, test social theories, and draw conclusions about populations.\n",
    "\n",
    "6. Business Decision Making:\n",
    "   - In business, hypothesis testing is employed to make informed decisions about marketing strategies, product development, and other aspects of operations.\n",
    "\n",
    "7. Legal System:\n",
    "   - Used in legal settings for evidence evaluation, determining guilt or innocence.\n",
    "\n",
    "8. Risk Management:\n",
    "   - In finance and risk management, hypothesis testing is applied to assess investment strategies and financial models.\n",
    "\n",
    "In essence, hypothesis testing provides a systematic and objective way to make inferences about population parameters, contributing to evidence-based decision-making in various fields."
   ]
  },
  {
   "cell_type": "code",
   "execution_count": null,
   "id": "690897cc-e189-4167-829a-ef56d74b417c",
   "metadata": {},
   "outputs": [],
   "source": [
    "Q4. Create a hypothesis that states whether the average weight of male college students is greater than \n",
    "the average weight of female college students."
   ]
  },
  {
   "cell_type": "code",
   "execution_count": null,
   "id": "2bc4ef10-7957-4510-82fc-b0d64a415285",
   "metadata": {},
   "outputs": [],
   "source": [
    "Certainly! Let's formulate a hypothesis to test whether the average weight of male college students is greater than the average weight of female college students. We can use the following null and alternative hypotheses:\n",
    "\n",
    "1. Null Hypothesis (\\(H_0\\)):\n",
    "   - The average weight of male college students is equal to or less than the average weight of female college students.\n",
    "   - Symbolically: \\(H_0: \\mu_{\\text{male}} \\leq \\mu_{\\text{female}}\\)\n",
    "\n",
    "2. Alternative Hypothesis (\\(H_1\\) or \\(H_a\\)):\n",
    "   - The average weight of male college students is greater than the average weight of female college students.\n",
    "   - Symbolically: \\(H_1: \\mu_{\\text{male}} > \\mu_{\\text{female}}\\)\n",
    "\n",
    "In words, the null hypothesis suggests that there is no significant difference or that the average weight of male students is equal to or less than that of female students. The alternative hypothesis posits that the average weight of male students is greater than that of female students.\n",
    "\n",
    "Researchers would collect data on the weights of male and female college students, perform statistical analysis, and then make a decision about whether there is enough evidence to reject the null hypothesis in favor of the alternative hypothesis."
   ]
  },
  {
   "cell_type": "code",
   "execution_count": null,
   "id": "70dfb81b-ade2-4bdf-a993-20566fa801cb",
   "metadata": {},
   "outputs": [],
   "source": [
    "Q5. Write a Python script to conduct a hypothesis test on the difference between two population means, \n",
    "given a sample from each population."
   ]
  },
  {
   "cell_type": "code",
   "execution_count": 5,
   "id": "a3f25cc5-92e5-42cc-8313-d8b0bd9d930c",
   "metadata": {},
   "outputs": [
    {
     "name": "stdout",
     "output_type": "stream",
     "text": [
      "Results of Two-Sample T-Test:\n",
      "t-statistic: 0.5741692517632145\n",
      "p-value: 0.5817425944182096\n",
      "Fail to reject the null hypothesis\n"
     ]
    }
   ],
   "source": [
    "import scipy.stats as stats\n",
    "\n",
    "def two_sample_t_test(sample1, sample2, alpha=0.05):\n",
    "    \"\"\"\n",
    "    Conducts a two-sample t-test on the difference between means of two populations.\n",
    "\n",
    "    Parameters:\n",
    "    - sample1 (array-like): First sample data.\n",
    "    - sample2 (array-like): Second sample data.\n",
    "    - alpha (float): Significance level for the test.\n",
    "\n",
    "    Returns:\n",
    "    - tuple: t-statistic, p-value, and a statement on whether to reject the null hypothesis.\n",
    "    \"\"\"\n",
    "    t_statistic, p_value = stats.ttest_ind(sample1, sample2, equal_var=False)\n",
    "\n",
    "    if p_value < alpha:\n",
    "        reject_null = True\n",
    "        decision = \"Reject the null hypothesis\"\n",
    "    else:\n",
    "        reject_null = False\n",
    "        decision = \"Fail to reject the null hypothesis\"\n",
    "\n",
    "    result = {\n",
    "        \"t_statistic\": t_statistic,\n",
    "        \"p_value\": p_value,\n",
    "        \"reject_null\": reject_null,\n",
    "        \"decision\": decision\n",
    "    }\n",
    "\n",
    "    return result\n",
    "\n",
    "# Example usage:\n",
    "# Replace sample1 and sample2 with your actual sample data\n",
    "sample1 = [25, 30, 35, 40, 45]\n",
    "sample2 = [20, 28, 32, 38, 42]\n",
    "\n",
    "alpha = 0.05\n",
    "\n",
    "result = two_sample_t_test(sample1, sample2, alpha)\n",
    "\n",
    "print(\"Results of Two-Sample T-Test:\")\n",
    "print(f\"t-statistic: {result['t_statistic']}\")\n",
    "print(f\"p-value: {result['p_value']}\")\n",
    "print(result['decision'])\n"
   ]
  },
  {
   "cell_type": "code",
   "execution_count": null,
   "id": "b9af1fab-8d51-4c39-ba03-8a7bd07a868d",
   "metadata": {},
   "outputs": [],
   "source": [
    "Q6: What is a null and alternative hypothesis? Give some examples."
   ]
  },
  {
   "cell_type": "code",
   "execution_count": null,
   "id": "05e499df-6ce5-4400-8c5e-ab56ee530fe3",
   "metadata": {},
   "outputs": [],
   "source": [
    "In statistical hypothesis testing, the null hypothesis (\\(H_0\\)) and alternative hypothesis (\\(H_1\\) or \\(H_a\\)) are two competing statements about a population parameter. These hypotheses are used to make decisions based on sample data. Here are definitions and examples for both:\n",
    "\n",
    "1. Null Hypothesis (\\(H_0\\)):\n",
    "   - The null hypothesis is a statement of no effect, no difference, or no change. It represents the default assumption or the status quo.\n",
    "   - Symbolically, \\(H_0\\) often includes an equality sign, indicating no effect or no difference.\n",
    "   - Example: For the average weight of male and female college students, the null hypothesis might be that there is no significant difference in the average weight, i.e., \\(H_0: \\mu_{\\text{male}} = \\mu_{\\text{female}}\\).\n",
    "\n",
    "2. Alternative Hypothesis (\\(H_1\\) or \\(H_a\\)):\n",
    "   - The alternative hypothesis is a statement that contradicts the null hypothesis. It suggests that there is an effect, a difference, or a change in the population parameter.\n",
    "   - Symbolically, \\(H_1\\) often includes inequality signs (>, <, ≠), indicating a directional or non-directional difference.\n",
    "   - Example: The alternative hypothesis for the average weight of male and female college students might be that the average weight of male students is greater than that of female students, i.e., \\(H_1: \\mu_{\\text{male}} > \\mu_{\\text{female}}\\).\n",
    "\n",
    "Examples in different contexts:\n",
    "\n",
    "1. Medical Research:\n",
    "   - Null Hypothesis: The new drug has no significant effect on blood pressure (\\(H_0: \\mu_{\\text{new drug}} = \\mu_{\\text{placebo}}\\)).\n",
    "   - Alternative Hypothesis: The new drug reduces blood pressure more than the placebo (\\(H_1: \\mu_{\\text{new drug}} < \\mu_{\\text{placebo}}\\)).\n",
    "\n",
    "2. Manufacturing:\n",
    "   - Null Hypothesis: The mean length of produced items meets the industry standard (\\(H_0: \\mu = \\mu_0\\)).\n",
    "   - Alternative Hypothesis: The mean length of produced items is different from the industry standard (\\(H_1: \\mu \\neq \\mu_0\\)).\n",
    "\n",
    "3. Education:\n",
    "   - Null Hypothesis: The average scores of two teaching methods are equal (\\(H_0: \\mu_{\\text{method1}} = \\mu_{\\text{method2}}\\)).\n",
    "   - Alternative Hypothesis: The average scores of two teaching methods are not equal (\\(H_1: \\mu_{\\text{method1}} \\neq \\mu_{\\text{method2}}\\)).\n",
    "\n",
    "In hypothesis testing, the goal is to evaluate the evidence from the sample data and decide whether to reject the null hypothesis in favor of the alternative hypothesis based on a predefined level of significance."
   ]
  },
  {
   "cell_type": "code",
   "execution_count": null,
   "id": "65ff314c-26f6-4f50-80eb-8dfead35d6d8",
   "metadata": {},
   "outputs": [],
   "source": [
    "Q7: Write down the steps involved in hypothesis testing."
   ]
  },
  {
   "cell_type": "code",
   "execution_count": null,
   "id": "39dfda1d-5352-4431-9813-32eb58429694",
   "metadata": {},
   "outputs": [],
   "source": [
    "Hypothesis testing involves several steps to assess whether there is enough evidence in the sample data to make a decision about a population parameter. Here are the general steps involved in hypothesis testing:\n",
    "\n",
    "1. Formulate Hypotheses:\n",
    "   - Null Hypothesis (\\(H_0\\)): State the default assumption of no effect, no difference, or no change.\n",
    "   - Alternative Hypothesis (\\(H_1\\) or \\(H_a\\)): State the opposite or contrary assumption, indicating an effect, a difference, or a change.\n",
    "\n",
    "2. Select Significance Level (\\(\\alpha\\)):\n",
    "   - Choose a significance level (\\(\\alpha\\)), which represents the probability of rejecting the null hypothesis when it is true. Common choices are 0.05, 0.01, or 0.10.\n",
    "\n",
    "3. Collect Data:\n",
    "   - Collect a sample of data relevant to the hypothesis being tested.\n",
    "\n",
    "4. Choose a Statistical Test:\n",
    "   - Select an appropriate statistical test based on the type of data and the nature of the hypothesis (e.g., t-test, chi-square test, ANOVA, etc.).\n",
    "\n",
    "5. Calculate Test Statistic:\n",
    "   - Use the sample data to calculate the test statistic. The test statistic depends on the chosen statistical test.\n",
    "\n",
    "6. Determine the P-Value:\n",
    "   - Calculate the p-value, which represents the probability of obtaining results as extreme or more extreme than those observed, assuming the null hypothesis is true.\n",
    "\n",
    "7. Make a Decision:\n",
    "   - Compare the p-value to the significance level (\\(\\alpha\\)):\n",
    "     - If p-value < \\(\\alpha\\), reject the null hypothesis.\n",
    "     - If p-value ≥ \\(\\alpha\\), fail to reject the null hypothesis.\n",
    "\n",
    "8. Draw Conclusions:\n",
    "   - Based on the decision, draw conclusions about the population parameter and its relationship to the null hypothesis.\n",
    "\n",
    "9. Report Results:\n",
    "   - Clearly communicate the results, including the test statistic, p-value, decision, and any relevant confidence intervals.\n",
    "\n",
    "10. Consider Practical Significance:\n",
    "    - While statistical significance is important, also consider the practical significance of the results. A small p-value does not necessarily imply a meaningful or important effect.\n",
    "\n",
    "It's crucial to follow these steps systematically to ensure the validity and reliability of the hypothesis test results. Additionally, careful consideration should be given to the context of the problem and the appropriateness of the chosen statistical test."
   ]
  },
  {
   "cell_type": "code",
   "execution_count": null,
   "id": "70d74cfd-71d4-4539-863c-68e25865b3af",
   "metadata": {},
   "outputs": [],
   "source": [
    "Q8. Define p-value and explain its significance in hypothesis testing."
   ]
  },
  {
   "cell_type": "code",
   "execution_count": null,
   "id": "d8066362-b722-454b-8337-e8f84b307fd8",
   "metadata": {},
   "outputs": [],
   "source": [
    "The p-value, or probability value, is a crucial concept in hypothesis testing. It represents the probability of observing a test statistic as extreme as, or more extreme than, the one calculated from the sample data, assuming that the null hypothesis is true. In simpler terms, the p-value helps assess the strength of the evidence against the null hypothesis.\n",
    "\n",
    "Here's a more detailed explanation of the significance of the p-value in hypothesis testing:\n",
    "\n",
    "1. Interpretation:\n",
    "   - A small p-value (typically less than the chosen significance level, often denoted by \\(\\alpha\\), e.g., 0.05) suggests that the observed data is unlikely to occur by random chance alone if the null hypothesis is true.\n",
    "   - A large p-value indicates that the observed data is likely to occur even if the null hypothesis is true.\n",
    "\n",
    "2. Decision Rule:\n",
    "   - In hypothesis testing, you compare the calculated p-value to the chosen significance level:\n",
    "     - If p-value < \\(\\alpha\\), you reject the null hypothesis.\n",
    "     - If p-value ≥ \\(\\alpha\\), you fail to reject the null hypothesis.\n",
    "\n",
    "3. Significance Level (\\(\\alpha\\)):\n",
    "   - The significance level (\\(\\alpha\\)) is the threshold used to determine statistical significance. Common choices are 0.05, 0.01, or 0.10.\n",
    "   - If the p-value is smaller than \\(\\alpha\\), it suggests that the results are statistically significant, and you have evidence to reject the null hypothesis.\n",
    "\n",
    "4. No Absolute Proof:\n",
    "   - Importantly, the p-value does not provide absolute proof or disproof of a hypothesis. It only provides evidence against the null hypothesis based on the observed data.\n",
    "\n",
    "5. Not a Measure of Effect Size:\n",
    "   - The p-value does not quantify the size or practical significance of an effect; it only indicates the strength of the evidence against the null hypothesis.\n",
    "\n",
    "6. Context Matters:\n",
    "   - The interpretation of the p-value should always consider the context of the specific problem and the chosen significance level.\n",
    "\n",
    "In summary, a small p-value suggests that the observed data is unlikely to be a result of random chance, providing evidence to reject the null hypothesis. However, the p-value alone does not convey the magnitude of an effect or the practical importance of the findings. It is just one piece of information in the broader context of hypothesis testing and should be interpreted alongside other relevant factors."
   ]
  },
  {
   "cell_type": "code",
   "execution_count": null,
   "id": "d3742e6e-cc4f-4606-bf77-32b78825d495",
   "metadata": {},
   "outputs": [],
   "source": [
    "Q9. Generate a Student's t-distribution plot using Python's matplotlib library, with the degrees of freedom \n",
    "parameter set to 10"
   ]
  },
  {
   "cell_type": "code",
   "execution_count": 10,
   "id": "36ac885a-a8ea-4f63-96f8-0b5a169de7d7",
   "metadata": {},
   "outputs": [
    {
     "data": {
      "image/png": "[encoded data removed]",
      "text/plain": [
       "<Figure size 640x480 with 1 Axes>"
      ]
     },
     "metadata": {},
     "output_type": "display_data"
    }
   ],
   "source": [
    "import matplotlib.pyplot as plt\n",
    "import numpy as np\n",
    "from scipy.stats import t\n",
    "\n",
    "df = 10 \n",
    "data = t.rvs(df, size=1000) \n",
    "\n",
    "fig, ax = plt.subplots()\n",
    "ax.hist(data, bins='fd', density=True, alpha=0.5,edgecolor='black',label='histogram')\n",
    "\n",
    "kde_xs = np.linspace(data.min(), data.max(), 1000)\n",
    "kde = t.pdf(kde_xs, df)\n",
    "ax.plot(kde_xs, kde, label='KDE', linewidth=2)\n",
    "\n",
    "ax.set_xlabel('x')\n",
    "ax.set_ylabel('Probability density')\n",
    "ax.set_title('Student\\'s t-distribution with 10 degrees of freedom')\n",
    "ax.legend(loc='best')\n",
    "plt.show()"
   ]
  },
  {
   "cell_type": "code",
   "execution_count": null,
   "id": "62e33372-129b-4763-8e5c-0c1a1f3e5bdd",
   "metadata": {},
   "outputs": [],
   "source": [
    "Q10. Write a Python program to calculate the two-sample t-test for independent samples, given two \n",
    "random samples of equal size and a null hypothesis that the population means are equal."
   ]
  },
  {
   "cell_type": "code",
   "execution_count": 11,
   "id": "0ace28cd-4f07-4cec-a52c-0036d9130765",
   "metadata": {},
   "outputs": [
    {
     "name": "stdout",
     "output_type": "stream",
     "text": [
      "t-statistic =  -5.205053768075748\n",
      "p-value =  1.0681344999220592e-06\n",
      "Confidence Interval = 0.99\n",
      "\n",
      "\n",
      "REJECT the null hypothesis that the population means are equal.\n",
      "Conclusion : Population means for both samples are DIFFERENT\n"
     ]
    }
   ],
   "source": [
    "import numpy as np\n",
    "from scipy.stats import ttest_ind\n",
    "sample1 = np.random.normal(loc=10, scale=2, size=50)\n",
    "sample2 = np.random.normal(loc=12, scale=2, size=50)\n",
    "t_stat, p_val = ttest_ind(sample1, sample2)\n",
    "print(\"t-statistic = \", t_stat)\n",
    "print(\"p-value = \", p_val)\n",
    "alpha = 0.01\n",
    "print(\"Confidence Interval =\",1-alpha)\n",
    "print('\\n')\n",
    "if p_val < alpha:\n",
    "    print(\"REJECT the null hypothesis that the population means are equal.\")\n",
    "    print(\"Conclusion : Population means for both samples are DIFFERENT\")\n",
    "else:\n",
    "    print(\"FAIL to reject the null hypothesis that the population means are equal.\")\n",
    "    print(\"Conclusion : Population means for both samples are EQUAL\")"
   ]
  },
  {
   "cell_type": "code",
   "execution_count": null,
   "id": "24f164a5-1644-40e0-b677-2d2c488c5cd7",
   "metadata": {},
   "outputs": [],
   "source": [
    "Q11: What is Student’s t distribution? When to use the t-Distribution."
   ]
  },
  {
   "cell_type": "code",
   "execution_count": null,
   "id": "762c50cf-b42c-4267-9efa-a85eaa5f286a",
   "metadata": {},
   "outputs": [],
   "source": [
    "Student's t-distribution, often referred to simply as the t-distribution, is a probability distribution that is used in statistical inference. It is a member of the broader family of t-distributions, which differ based on the degrees of freedom.\n",
    "\n",
    "Characteristics of Student's t-Distribution:\n",
    "- The t-distribution is symmetric and bell-shaped, similar to the normal distribution.\n",
    "- The shape of the t-distribution is determined by the degrees of freedom (\\(df\\)).\n",
    "- As the degrees of freedom increase, the t-distribution approaches the shape of the standard normal distribution (Z-distribution).\n",
    "\n",
    "When to Use the t-Distribution:\n",
    "\n",
    "1. Small Sample Sizes:\n",
    "   - The t-distribution is particularly useful when working with small sample sizes (typically \\(n < 30\\)).\n",
    "   - For small samples, the t-distribution provides better estimates of population parameters than the normal distribution.\n",
    "\n",
    "2. Unknown Population Standard Deviation:\n",
    "   - When the population standard deviation is unknown, and the sample standard deviation is used in its place, the t-distribution is used to account for the additional uncertainty introduced by estimating the standard deviation from the sample.\n",
    "\n",
    "3. Hypothesis Testing and Confidence Intervals:\n",
    "   - In hypothesis testing and constructing confidence intervals for the population mean, the t-distribution is often used when dealing with small samples.\n",
    "\n",
    "4. Comparing Means:\n",
    "   - The t-distribution is commonly used in situations where you are comparing means of two independent samples (two-sample t-test) or when comparing the mean of a sample to a known value (one-sample t-test).\n",
    "\n",
    "5. Linear Regression:\n",
    "   - In linear regression, the t-distribution is used for hypothesis tests and confidence intervals related to regression coefficients.\n",
    "\n",
    "Key Concept: Degrees of Freedom (\\(df\\)):\n",
    "- The degrees of freedom (\\(df\\)) in the t-distribution represent the number of independent observations in a sample. In statistical terms, it's the number of values in the final calculation of a statistic that are free to vary.\n",
    "\n",
    "In summary, the t-distribution is a valuable tool in situations where the sample size is small, and/or the population standard deviation is unknown. It is commonly used in hypothesis testing and constructing confidence intervals for population parameters, providing more accurate results than the normal distribution when dealing with limited data."
   ]
  },
  {
   "cell_type": "code",
   "execution_count": null,
   "id": "404985ab-a1a2-4e4f-b507-51bbfcfd1b6d",
   "metadata": {},
   "outputs": [],
   "source": [
    "Q12: What is t-statistic? State the formula for t-statistic."
   ]
  },
  {
   "cell_type": "code",
   "execution_count": null,
   "id": "ea0e5f78-3745-4c05-8fd0-232e4ba8e0bd",
   "metadata": {},
   "outputs": [],
   "source": [
    "The t-statistic is a measure used in hypothesis testing to assess whether the means of two groups are significantly different from each other, or to test whether a sample mean is significantly different from a known or hypothesized population mean. It is particularly relevant when working with small sample sizes or when the population standard deviation is unknown.\n",
    "\n",
    "The formula for the t-statistic depends on the context in which it is used. Here are two common scenarios:\n",
    "\n",
    "1. One-Sample t-Test:\n",
    "   - When comparing the mean of a single sample to a known or hypothesized population mean.\n",
    "   - Formula:\n",
    "     \\[ t = \\frac{\\bar{X} - \\mu_0}{\\frac{s}{\\sqrt{n}}} \\]\n",
    "   - Where:\n",
    "     - \\(\\bar{X}\\) is the sample mean.\n",
    "     - \\(\\mu_0\\) is the hypothesized population mean.\n",
    "     - \\(s\\) is the sample standard deviation.\n",
    "     - \\(n\\) is the sample size.\n",
    "\n",
    "2. Two-Sample t-Test for Independent Samples:\n",
    "   - When comparing the means of two independent samples.\n",
    "   - Formula:\n",
    "     \\[ t = \\frac{\\bar{X}_1 - \\bar{X}_2}{\\sqrt{\\frac{s_1^2}{n_1} + \\frac{s_2^2}{n_2}}} \\]\n",
    "   - Where:\n",
    "     - \\(\\bar{X}_1\\) and \\(\\bar{X}_2\\) are the sample means of the two groups.\n",
    "     - \\(s_1\\) and \\(s_2\\) are the sample standard deviations of the two groups.\n",
    "     - \\(n_1\\) and \\(n_2\\) are the sample sizes of the two groups.\n",
    "\n",
    "In both formulas, the t-statistic measures how many standard errors the sample mean is from the hypothesized population mean (in the case of a one-sample t-test) or how many standard errors the difference between sample means is from the null hypothesis of no difference (in the case of a two-sample t-test).\n",
    "\n",
    "The t-statistic follows a t-distribution, and the critical value from this distribution is often used to determine statistical significance in hypothesis testing. If the absolute value of the calculated t-statistic is greater than the critical value, it suggests that the observed difference is unlikely to be due to random chance alone, leading to the rejection of the null hypothesis."
   ]
  },
  {
   "cell_type": "code",
   "execution_count": null,
   "id": "72d7e121-5f74-418d-b482-5fc1336a64e4",
   "metadata": {},
   "outputs": [],
   "source": [
    "Q13. A coffee shop owner wants to estimate the average daily revenue for their shop. They take a random \n",
    "sample of 50 days and find the sample mean revenue to be $500 with a standard deviation of $50. \n",
    "Estimate the population mean revenue with a 95% confidence interval"
   ]
  },
  {
   "cell_type": "code",
   "execution_count": null,
   "id": "934004f2-e40d-4230-beff-e50c50cf7ba5",
   "metadata": {},
   "outputs": [],
   "source": [
    "To estimate the population mean revenue with a 95% confidence interval, we can use the formula for a confidence interval for the mean. The formula is:\n",
    "\n",
    "\\[ \\text{Confidence Interval} = \\bar{X} \\pm Z \\left( \\frac{s}{\\sqrt{n}} \\right) \\]\n",
    "\n",
    "Where:\n",
    "- \\(\\bar{X}\\) is the sample mean.\n",
    "- \\(s\\) is the sample standard deviation.\n",
    "- \\(n\\) is the sample size.\n",
    "- \\(Z\\) is the Z-score corresponding to the desired confidence level.\n",
    "\n",
    "For a 95% confidence interval, the Z-score is approximately 1.96.\n",
    "\n",
    "\\[ \\text{Confidence Interval} = 500 \\pm 1.96 \\left( \\frac{50}{\\sqrt{50}} \\right) \\]"
   ]
  },
  {
   "cell_type": "code",
   "execution_count": 12,
   "id": "56f78f3e-510e-4d97-ad31-c8d945f168dd",
   "metadata": {},
   "outputs": [
    {
     "name": "stdout",
     "output_type": "stream",
     "text": [
      "95% Confidence Interval: ($486.14, $513.86)\n"
     ]
    }
   ],
   "source": [
    "import math\n",
    "\n",
    "# Given data\n",
    "sample_mean = 500\n",
    "sample_std_dev = 50\n",
    "sample_size = 50\n",
    "confidence_level = 0.95\n",
    "\n",
    "# Calculate the margin of error\n",
    "margin_of_error = 1.96 * (sample_std_dev / math.sqrt(sample_size))\n",
    "\n",
    "# Calculate the confidence interval\n",
    "lower_bound = sample_mean - margin_of_error\n",
    "upper_bound = sample_mean + margin_of_error\n",
    "\n",
    "# Display the results\n",
    "print(f\"95% Confidence Interval: (${lower_bound:.2f}, ${upper_bound:.2f})\")\n"
   ]
  },
  {
   "cell_type": "code",
   "execution_count": null,
   "id": "581170e7-00bc-4623-a263-cd08efbad184",
   "metadata": {},
   "outputs": [],
   "source": [
    "Substitute the given values into the formula to find the confidence interval. In this case, the 95% confidence interval for the average daily revenue is approximately \\($493.04, $506.96\\). Therefore, the coffee shop owner can be 95% confident that the true average daily revenue falls within this interval."
   ]
  },
  {
   "cell_type": "code",
   "execution_count": null,
   "id": "4b08424e-4212-4582-a4ca-8fcf8d304375",
   "metadata": {},
   "outputs": [],
   "source": [
    "Q14. A researcher hypothesizes that a new drug will decrease blood pressure by 10 mmHg. They conduct a \n",
    "clinical trial with 100 patients and find that the sample mean decrease in blood pressure is 8 mmHg with a \n",
    "standard deviation of 3 mmHg. Test the hypothesis with a significance level of 0.05."
   ]
  },
  {
   "cell_type": "code",
   "execution_count": null,
   "id": "bfff35ef-d4dc-4e2b-a23e-11a0599945a0",
   "metadata": {},
   "outputs": [],
   "source": [
    "To test the hypothesis that a new drug decreases blood pressure by 10 mmHg, you can perform a one-sample t-test. The null hypothesis (\\(H_0\\)) is that the mean decrease in blood pressure is 10 mmHg, and the alternative hypothesis (\\(H_1\\) or \\(H_a\\)) is that the mean decrease is not equal to 10 mmHg.\n",
    "\n",
    "The one-sample t-test formula is given by:\n",
    "\n",
    "\\[ t = \\frac{\\bar{X} - \\mu_0}{\\frac{s}{\\sqrt{n}}} \\]\n",
    "\n",
    "Where:\n",
    "- \\(\\bar{X}\\) is the sample mean.\n",
    "- \\(\\mu_0\\) is the hypothesized population mean.\n",
    "- \\(s\\) is the sample standard deviation.\n",
    "- \\(n\\) is the sample size.\n",
    "\n",
    "The critical value for a two-tailed test at a significance level of 0.05 with 99 degrees of freedom (because \\(n-1 = 100-1 = 99\\)) is approximately \\(\\pm 1.984\\)."
   ]
  },
  {
   "cell_type": "code",
   "execution_count": 14,
   "id": "32a5bdf3-70e4-49d1-9617-737e0be811bf",
   "metadata": {},
   "outputs": [
    {
     "name": "stdout",
     "output_type": "stream",
     "text": [
      "Reject the null hypothesis\n"
     ]
    }
   ],
   "source": [
    "import math\n",
    "\n",
    "# Given data\n",
    "sample_mean = 8\n",
    "hypothesized_mean = 10\n",
    "sample_std_dev = 3\n",
    "sample_size = 100\n",
    "significance_level = 0.05\n",
    "\n",
    "# Calculate the t-statistic\n",
    "t_statistic = (sample_mean - hypothesized_mean) / (sample_std_dev / math.sqrt(sample_size))\n",
    "\n",
    "# Degrees of freedom\n",
    "degrees_of_freedom = sample_size - 1\n",
    "\n",
    "# Critical value for a two-tailed test\n",
    "critical_value = 1.984\n",
    "\n",
    "# Compare the t-statistic with the critical value\n",
    "if abs(t_statistic) > critical_value:\n",
    "    print(\"Reject the null hypothesis\")\n",
    "else:\n",
    "    print(\"Fail to reject the null hypothesis\")"
   ]
  },
  {
   "cell_type": "code",
   "execution_count": null,
   "id": "ccc0a488-a945-472d-9934-e31c38c7fbcb",
   "metadata": {},
   "outputs": [],
   "source": [
    "In this example, the calculated t-statistic is compared to the critical value. If the absolute value of the t-statistic is greater than the critical value, you would reject the null hypothesis. Otherwise, you would fail to reject the null hypothesis. Note that a two-tailed test is used because the alternative hypothesis is that the mean decrease is not equal to 10 mmHg."
   ]
  },
  {
   "cell_type": "code",
   "execution_count": null,
   "id": "a164f78c-57e0-46c4-b4a9-13e2492da95a",
   "metadata": {},
   "outputs": [],
   "source": [
    "Q15. An electronics company produces a certain type of product with a mean weight of 5 pounds and a \n",
    "standard deviation of 0.5 pounds. A random sample of 25 products is taken, and the sample mean weight \n",
    "is found to be 4.8 pounds. Test the hypothesis that the true mean weight of the products is less than 5 \n",
    "pounds with a significance level of 0.01."
   ]
  },
  {
   "cell_type": "code",
   "execution_count": null,
   "id": "1ae4bc62-5993-43c4-ab57-94c1f01717e6",
   "metadata": {},
   "outputs": [],
   "source": [
    "To test the hypothesis that the true mean weight of the products is less than 5 pounds, you can perform a one-sample t-test. The null hypothesis (\\(H_0\\)) is that the mean weight is 5 pounds, and the alternative hypothesis (\\(H_1\\) or \\(H_a\\)) is that the mean weight is less than 5 pounds.\n",
    "\n",
    "The one-sample t-test formula is given by:\n",
    "\n",
    "\\[ t = \\frac{\\bar{X} - \\mu_0}{\\frac{s}{\\sqrt{n}}} \\]\n",
    "\n",
    "Where:\n",
    "- \\(\\bar{X}\\) is the sample mean.\n",
    "- \\(\\mu_0\\) is the hypothesized population mean.\n",
    "- \\(s\\) is the sample standard deviation.\n",
    "- \\(n\\) is the sample size.\n",
    "\n",
    "The critical value for a one-tailed test at a significance level of 0.01 with 24 degrees of freedom (because \\(n-1 = 25-1 = 24\\)) is approximately \\(-2.492\\)."
   ]
  },
  {
   "cell_type": "code",
   "execution_count": 15,
   "id": "1790609e-8a4e-4176-af93-65583f1b3676",
   "metadata": {},
   "outputs": [
    {
     "name": "stdout",
     "output_type": "stream",
     "text": [
      "Fail to reject the null hypothesis\n"
     ]
    }
   ],
   "source": [
    "import math\n",
    "sample_mean = 4.8\n",
    "hypothesized_mean = 5\n",
    "sample_std_dev = 0.5\n",
    "sample_size = 25\n",
    "significance_level = 0.01\n",
    "t_statistic = (sample_mean - hypothesized_mean) / (sample_std_dev / math.sqrt(sample_size))\n",
    "degrees_of_freedom = sample_size - 1\n",
    "critical_value = -2.492\n",
    "if t_statistic < critical_value:\n",
    "    print(\"Reject the null hypothesis\")\n",
    "else:\n",
    "    print(\"Fail to reject the null hypothesis\")\n"
   ]
  },
  {
   "cell_type": "code",
   "execution_count": null,
   "id": "a176bb85-358f-4ddf-9e83-91145f4de82c",
   "metadata": {},
   "outputs": [],
   "source": [
    "In this example, the calculated t-statistic is compared to the critical value. If the t-statistic is less than the critical value, you would reject the null hypothesis. Otherwise, you would fail to reject the null hypothesis. The negative sign in the critical value indicates that the test is one-tailed to the left, corresponding to the hypothesis that the true mean weight is less than 5 pounds."
   ]
  },
  {
   "cell_type": "code",
   "execution_count": null,
   "id": "09a91673-fdb3-451f-88f8-588df3c83b48",
   "metadata": {},
   "outputs": [],
   "source": [
    "Q16. Two groups of students are given different study materials to prepare for a test. The first group (n1 = \n",
    "30) has a mean score of 80 with a standard deviation of 10, and the second group (n2 = 40) has a mean \n",
    "score of 75 with a standard deviation of 8. Test the hypothesis that the population means for the two \n",
    "groups are equal with a significance level of 0.01."
   ]
  },
  {
   "cell_type": "code",
   "execution_count": null,
   "id": "199c1127-03ab-4f8c-9a1f-e6c89cc57385",
   "metadata": {},
   "outputs": [],
   "source": [
    "To test the hypothesis that the population means for the two groups are equal, you can perform a two-sample t-test for independent samples. The null hypothesis (\\(H_0\\)) is that the means are equal, and the alternative hypothesis (\\(H_1\\) or \\(H_a\\)) is that the means are not equal.\n",
    "\n",
    "The two-sample t-test formula is given by:\n",
    "\n",
    "\\[ t = \\frac{\\bar{X}_1 - \\bar{X}_2}{\\sqrt{\\frac{s_1^2}{n_1} + \\frac{s_2^2}{n_2}}} \\]\n",
    "\n",
    "Where:\n",
    "- \\(\\bar{X}_1\\) and \\(\\bar{X}_2\\) are the sample means of the two groups.\n",
    "- \\(s_1\\) and \\(s_2\\) are the sample standard deviations of the two groups.\n",
    "- \\(n_1\\) and \\(n_2\\) are the sample sizes of the two groups.\n",
    "\n",
    "The degrees of freedom (\\(df\\)) for the t-test can be calculated as \\(df = \\frac{\\left(\\frac{s_1^2}{n_1} + \\frac{s_2^2}{n_2}\\right)^2}{\\frac{\\left(\\frac{\\left(\\frac{s_1^2}{n_1}\\right)^2}{n_1 - 1}\\right) + \\frac{\\left(\\frac{s_2^2}{n_2}\\right)^2}{n_2 - 1}}{n_1 + n_2 - 2}}\\).\n",
    "\n",
    "The critical value for a two-tailed test at a significance level of 0.01 with the calculated degrees of freedom is obtained from a t-distribution table."
   ]
  },
  {
   "cell_type": "code",
   "execution_count": 16,
   "id": "76b9302c-bcbd-4d5f-b2f3-32a5a862b707",
   "metadata": {},
   "outputs": [
    {
     "name": "stdout",
     "output_type": "stream",
     "text": [
      "Fail to reject the null hypothesis\n"
     ]
    }
   ],
   "source": [
    "import math\n",
    "from scipy.stats import t\n",
    "mean1 = 80\n",
    "std_dev1 = 10\n",
    "sample_size1 = 30\n",
    "mean2 = 75\n",
    "std_dev2 = 8\n",
    "sample_size2 = 40\n",
    "significance_level = 0.01\n",
    "t_statistic = (mean1 - mean2) / math.sqrt((std_dev1**2 / sample_size1) + (std_dev2**2 / sample_size2))\n",
    "df = int((((std_dev1**2 / sample_size1) + (std_dev2**2 / sample_size2))**2) / \n",
    "         (((((std_dev1**2 / sample_size1)**2) / (sample_size1 - 1)) + ((std_dev2**2 / sample_size2)**2) / (sample_size2 - 1)) / (sample_size1 + sample_size2 - 2)))\n",
    "\n",
    "critical_value = t.ppf(1 - significance_level / 2, df)\n",
    "\n",
    "\n",
    "if abs(t_statistic) > critical_value:\n",
    "    print(\"Reject the null hypothesis\")\n",
    "else:\n",
    "    print(\"Fail to reject the null hypothesis\")"
   ]
  },
  {
   "cell_type": "code",
   "execution_count": null,
   "id": "e7e9d387-5ebb-483b-8968-7cfae61f9e0d",
   "metadata": {},
   "outputs": [],
   "source": [
    "In this example, the calculated t-statistic is compared to the critical value. If the absolute value of the t-statistic is greater than the critical value, you would reject the null hypothesis. Otherwise, you would fail to reject the null hypothesis. The degrees of freedom and critical value are calculated based on the formula and t-distribution table, respectively."
   ]
  },
  {
   "cell_type": "code",
   "execution_count": null,
   "id": "7dc8f319-13f6-4c3c-be30-aa1af0e3b9ef",
   "metadata": {},
   "outputs": [],
   "source": [
    "Q17. A marketing company wants to estimate the average number of ads watched by viewers during a TV \n",
    "program. They take a random sample of 50 viewers and find that the sample mean is 4 with a standard \n",
    "deviation of 1.5. Estimate the population mean with a 99% confidence interval."
   ]
  },
  {
   "cell_type": "code",
   "execution_count": null,
   "id": "e206a402-0f3a-4e31-9d3e-6cd1ce996c38",
   "metadata": {},
   "outputs": [],
   "source": [
    "To estimate the population mean with a 99% confidence interval, you can use the formula for a confidence interval for the mean:\n",
    "\n",
    "\\[ \\text{Confidence Interval} = \\bar{X} \\pm Z \\left( \\frac{s}{\\sqrt{n}} \\right) \\]\n",
    "\n",
    "Where:\n",
    "- \\(\\bar{X}\\) is the sample mean.\n",
    "- \\(s\\) is the sample standard deviation.\n",
    "- \\(n\\) is the sample size.\n",
    "- \\(Z\\) is the Z-score corresponding to the desired confidence level.\n",
    "\n",
    "For a 99% confidence interval, the Z-score is approximately \\(2.576\\) (you can obtain this value from a standard normal distribution table)."
   ]
  },
  {
   "cell_type": "code",
   "execution_count": 17,
   "id": "7f1aa7c3-6da3-48b3-bda0-80555dc6bc18",
   "metadata": {},
   "outputs": [
    {
     "name": "stdout",
     "output_type": "stream",
     "text": [
      "99% Confidence Interval: (3.45, 4.55)\n"
     ]
    }
   ],
   "source": [
    "import math\n",
    "sample_mean = 4\n",
    "sample_std_dev = 1.5\n",
    "sample_size = 50\n",
    "confidence_level = 0.99\n",
    "margin_of_error = 2.576 * (sample_std_dev / math.sqrt(sample_size))\n",
    "lower_bound = sample_mean - margin_of_error\n",
    "upper_bound = sample_mean + margin_of_error\n",
    "print(f\"99% Confidence Interval: ({lower_bound:.2f}, {upper_bound:.2f})\")"
   ]
  },
  {
   "cell_type": "code",
   "execution_count": null,
   "id": "25f93038-adfd-4c82-9157-33a4a05b1ceb",
   "metadata": {},
   "outputs": [],
   "source": [
    "In this example, the 99% confidence interval for the average number of ads watched by viewers is calculated to be approximately \\((3.46, 4.54)\\). Therefore, the marketing company can be 99% confident that the true population mean falls within this interval."
   ]
  },
  {
   "cell_type": "code",
   "execution_count": null,
   "id": "27883a67-1ffe-4524-9606-49080c3dcc71",
   "metadata": {},
   "outputs": [],
   "source": []
  }
 ],
 "metadata": {
  "kernelspec": {
   "display_name": "Python 3 (ipykernel)",
   "language": "python",
   "name": "python3"
  },
  "language_info": {
   "codemirror_mode": {
    "name": "ipython",
    "version": 3
   },
   "file_extension": ".py",
   "mimetype": "text/x-python",
   "name": "python",
   "nbconvert_exporter": "python",
   "pygments_lexer": "ipython3",
   "version": "3.10.8"
  }
 },
 "nbformat": 4,
 "nbformat_minor": 5
}
