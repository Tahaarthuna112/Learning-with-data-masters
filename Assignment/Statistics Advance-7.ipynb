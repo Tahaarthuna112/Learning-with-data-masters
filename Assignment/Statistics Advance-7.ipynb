{
 "cells": [
  {
   "cell_type": "code",
   "execution_count": null,
   "id": "6a9596f4-5abc-49eb-a6c9-132b070a39fb",
   "metadata": {},
   "outputs": [],
   "source": [
    "Q1. Write a Python function that takes in two arrays of data and calculates the F-value for a variance ratio \n",
    "test. The function should return the F-value and the corresponding p-value for the test."
   ]
  },
  {
   "cell_type": "code",
   "execution_count": 6,
   "id": "16e5f91d-491c-4a49-a680-be8be043e725",
   "metadata": {},
   "outputs": [
    {
     "name": "stdout",
     "output_type": "stream",
     "text": [
      "F-value: 4.0\n",
      "P-value: 0.896\n"
     ]
    }
   ],
   "source": [
    "import numpy as np\n",
    "from scipy.stats import f\n",
    "\n",
    "def variance_ratio_test(data1, data2):\n",
    "   # Calculate variances\n",
    "    var1 = np.var(data1, ddof=1)  # ddof=1 for sample variance\n",
    "    var2 = np.var(data2, ddof=1)\n",
    "\n",
    "    # Ensure the larger variance is in the numerator\n",
    "    if var1 < var2:\n",
    "        var1, var2 = var2, var1\n",
    "        data1, data2 = data2, data1\n",
    "\n",
    "    # Calculate F-statistic\n",
    "    f_value = var1 / var2\n",
    "\n",
    "    # Degrees of freedom\n",
    "    df1 = len(data1) - 1\n",
    "    df2 = len(data2) - 1\n",
    "\n",
    "    # Calculate p-value\n",
    "    p_value = f.cdf(f_value, df1, df2)\n",
    "\n",
    "    return f_value, p_value\n",
    "\n",
    "# Example usage:\n",
    "data1 = [1, 2, 3, 4, 5]\n",
    "data2 = [2, 4, 6, 8, 10]\n",
    "\n",
    "f_value, p_value = variance_ratio_test(data1, data2)\n",
    "print(\"F-value:\", f_value)\n",
    "print(\"P-value:\", p_value)\n"
   ]
  },
  {
   "cell_type": "code",
   "execution_count": null,
   "id": "e4a5af52-442b-4420-a427-01d360d8f20c",
   "metadata": {},
   "outputs": [],
   "source": [
    "Q2. Given a significance level of 0.05 and the degrees of freedom for the numerator and denominator of an \n",
    "F-distribution, write a Python function that returns the critical F-value for a two-tailed test."
   ]
  },
  {
   "cell_type": "code",
   "execution_count": 5,
   "id": "6e39fa95-6460-4695-a4d2-a649b10de162",
   "metadata": {},
   "outputs": [
    {
     "name": "stdout",
     "output_type": "stream",
     "text": [
      "Critical F-value: 3.8586986662732143\n"
     ]
    }
   ],
   "source": [
    "from scipy.stats import f\n",
    "\n",
    "def critical_f_value(alpha, df_num, df_denom):\n",
    "    # Calculate the critical F-value using the percent point function (ppf)\n",
    "    alpha_over_2 = alpha / 2\n",
    "    critical_f = f.ppf(1 - alpha_over_2, df_num, df_denom)\n",
    "\n",
    "    return critical_f\n",
    "\n",
    "# Example usage:\n",
    "alpha = 0.05\n",
    "df_num = 3\n",
    "df_denom = 20\n",
    "\n",
    "critical_f = critical_f_value(alpha, df_num, df_denom)\n",
    "print(\"Critical F-value:\", critical_f)\n"
   ]
  },
  {
   "cell_type": "code",
   "execution_count": null,
   "id": "ba45a785-fa29-4b1f-96dd-a1e182aa0cc1",
   "metadata": {},
   "outputs": [],
   "source": [
    "Q3. Write a Python program that generates random samples from two normal distributions with known \n",
    "variances and uses an F-test to determine if the variances are equal. The program should output the F\u0002value, degrees of freedom, and p-value for the test."
   ]
  },
  {
   "cell_type": "code",
   "execution_count": 4,
   "id": "f6c0f20c-c5bf-4a23-92dc-ee2cfd2bd564",
   "metadata": {},
   "outputs": [
    {
     "name": "stdout",
     "output_type": "stream",
     "text": [
      "F-value: 2.4081636671276785\n",
      "Degrees of freedom (between groups): 1\n",
      "Degrees of freedom (within groups): 58\n",
      "P-value: 0.2522877635580332\n"
     ]
    }
   ],
   "source": [
    "import numpy as np\n",
    "from scipy.stats import f\n",
    "\n",
    "def f_test_for_equal_variances(data1, data2):\n",
    "# Calculate variances\n",
    "    var1 = np.var(data1, ddof=1)  # ddof=1 for sample variance\n",
    "    var2 = np.var(data2, ddof=1)\n",
    "\n",
    "    # Ensure the larger variance is in the numerator\n",
    "    if var1 < var2:\n",
    "        var1, var2 = var2, var1\n",
    "        data1, data2 = data2, data1\n",
    "\n",
    "    # Sample sizes\n",
    "    n1 = len(data1)\n",
    "    n2 = len(data2)\n",
    "\n",
    "    # Degrees of freedom\n",
    "    df_between = 1\n",
    "    df_within = n1 + n2 - 2\n",
    "\n",
    "    # Calculate F-statistic\n",
    "    f_value = var1 / var2\n",
    "\n",
    "    # Calculate p-value\n",
    "    p_value = 2 * (1 - f.cdf(f_value, df_between, df_within))\n",
    "\n",
    "    return f_value, df_between, df_within, p_value\n",
    "\n",
    "# Example usage:\n",
    "np.random.seed(42)  # For reproducibility\n",
    "\n",
    "# Generate random samples from two normal distributions\n",
    "data1 = np.random.normal(loc=0, scale=1, size=30)\n",
    "data2 = np.random.normal(loc=0, scale=1.5, size=30)\n",
    "\n",
    "# Perform F-test\n",
    "f_value, df_between, df_within, p_value = f_test_for_equal_variances(data1, data2)\n",
    "\n",
    "# Output results\n",
    "print(\"F-value:\", f_value)\n",
    "print(\"Degrees of freedom (between groups):\", df_between)\n",
    "print(\"Degrees of freedom (within groups):\", df_within)\n",
    "print(\"P-value:\", p_value)"
   ]
  },
  {
   "cell_type": "code",
   "execution_count": null,
   "id": "5ec73e88-569e-4eb5-87e7-0f24cfbedf85",
   "metadata": {},
   "outputs": [],
   "source": [
    "Q4.The variances of two populations are known to be 10 and 15. A sample of 12 observations is taken from \n",
    "each population. Conduct an F-test at the 5% significance level to determine if the variances are \n",
    "significantly different."
   ]
  },
  {
   "cell_type": "code",
   "execution_count": 7,
   "id": "f0b3825b-62d9-464f-bd76-dc5946d87a0a",
   "metadata": {},
   "outputs": [
    {
     "name": "stdout",
     "output_type": "stream",
     "text": [
      "F-statistic: 0.6666666666666666\n",
      "Critical F-value: 5.786299133008927\n",
      "P-value: 0.8459394813770256\n",
      "Fail to reject the null hypothesis\n"
     ]
    }
   ],
   "source": [
    "from scipy.stats import f\n",
    "\n",
    "# Given data\n",
    "variance1 = 10\n",
    "variance2 = 15\n",
    "sample_size = 12\n",
    "alpha = 0.05\n",
    "\n",
    "# Degrees of freedom\n",
    "df_between = 1\n",
    "df_within = 2 * (sample_size - 1)\n",
    "\n",
    "# Calculate the critical F-value\n",
    "critical_f = f.ppf(1 - alpha / 2, df_between, df_within)\n",
    "\n",
    "# Calculate the test statistic (F-statistic)\n",
    "f_statistic = variance1 / variance2\n",
    "\n",
    "# Conduct the F-test\n",
    "p_value = 2 * (1 - f.cdf(f_statistic, df_between, df_within))\n",
    "\n",
    "# Output results\n",
    "print(\"F-statistic:\", f_statistic)\n",
    "print(\"Critical F-value:\", critical_f)\n",
    "print(\"P-value:\", p_value)\n",
    "\n",
    "# Compare with critical region\n",
    "if abs(f_statistic) > critical_f:\n",
    "    print(\"Reject the null hypothesis\")\n",
    "else:\n",
    "    print(\"Fail to reject the null hypothesis\")\n"
   ]
  },
  {
   "cell_type": "code",
   "execution_count": null,
   "id": "f9c934cf-fcfc-4eb7-a3f5-8b5561e660f3",
   "metadata": {},
   "outputs": [],
   "source": [
    "Q5. A manufacturer claims that the variance of the diameter of a certain product is 0.005. A sample of 25 \n",
    "products is taken, and the sample variance is found to be 0.006. Conduct an F-test at the 1% significance \n",
    "level to determine if the claim is justified."
   ]
  },
  {
   "cell_type": "code",
   "execution_count": 8,
   "id": "00a87750-6bb5-4194-941b-a6185e0e5e15",
   "metadata": {},
   "outputs": [
    {
     "name": "stdout",
     "output_type": "stream",
     "text": [
      "F-statistic: 1.2\n",
      "Critical F-value: 9.551273994803273\n",
      "P-value: 0.5683866337677688\n",
      "Fail to reject the null hypothesis\n"
     ]
    }
   ],
   "source": [
    "from scipy.stats import f\n",
    "\n",
    "# Given data\n",
    "claimed_variance = 0.005\n",
    "sample_variance = 0.006\n",
    "sample_size = 25\n",
    "alpha = 0.01\n",
    "\n",
    "# Degrees of freedom\n",
    "df_between = 1\n",
    "df_within = sample_size - 1\n",
    "\n",
    "# Calculate the critical F-value\n",
    "critical_f = f.ppf(1 - alpha / 2, df_between, df_within)\n",
    "\n",
    "# Calculate the test statistic (F-statistic)\n",
    "f_statistic = sample_variance / claimed_variance\n",
    "\n",
    "# Conduct the F-test\n",
    "p_value = 2 * (1 - f.cdf(f_statistic, df_between, df_within))\n",
    "\n",
    "# Output results\n",
    "print(\"F-statistic:\", f_statistic)\n",
    "print(\"Critical F-value:\", critical_f)\n",
    "print(\"P-value:\", p_value)\n",
    "\n",
    "# Compare with critical region\n",
    "if abs(f_statistic) > critical_f:\n",
    "    print(\"Reject the null hypothesis\")\n",
    "else:\n",
    "    print(\"Fail to reject the null hypothesis\")\n"
   ]
  },
  {
   "cell_type": "code",
   "execution_count": null,
   "id": "ddf41a32-6a4b-4ea1-8b25-ab36c9eab1c1",
   "metadata": {},
   "outputs": [],
   "source": [
    "Q6. Write a Python function that takes in the degrees of freedom for the numerator and denominator of an \n",
    "F-distribution and calculates the mean and variance of the distribution. The function should return the \n",
    "mean and variance as a tuple."
   ]
  },
  {
   "cell_type": "code",
   "execution_count": 9,
   "id": "5643dc01-ee71-4ec4-92b3-4858bf8b01ef",
   "metadata": {},
   "outputs": [
    {
     "name": "stdout",
     "output_type": "stream",
     "text": [
      "Mean: 1.1111111111111112\n",
      "Variance: 1.0802469135802468\n"
     ]
    }
   ],
   "source": [
    "def f_distribution_mean_variance(df1, df2):\n",
    "    mean = df2 / (df2 - 2)\n",
    "    variance = (2 * df2**2 * (df1 + df2 - 2)) / (df1 * (df2 - 2)**2 * (df2 - 4))\n",
    "    return mean, variance\n",
    "\n",
    "# Example usage:\n",
    "df1 = 3\n",
    "df2 = 20\n",
    "\n",
    "mean, variance = f_distribution_mean_variance(df1, df2)\n",
    "print(\"Mean:\", mean)\n",
    "print(\"Variance:\", variance)\n"
   ]
  },
  {
   "cell_type": "code",
   "execution_count": null,
   "id": "eeff3daf-6aab-40c1-9b56-6d04f8303901",
   "metadata": {},
   "outputs": [],
   "source": [
    "Q7. A random sample of 10 measurements is taken from a normal population with unknown variance. The \n",
    "sample variance is found to be 25. Another random sample of 15 measurements is taken from another \n",
    "normal population with unknown variance, and the sample variance is found to be 20. Conduct an F-test \n",
    "at the 10% significance level to determine if the variances are significantly different"
   ]
  },
  {
   "cell_type": "code",
   "execution_count": 10,
   "id": "90de091c-9676-474f-bf04-5057a7d33ea2",
   "metadata": {},
   "outputs": [
    {
     "name": "stdout",
     "output_type": "stream",
     "text": [
      "F-statistic: 1.25\n",
      "Critical F-value: 2.6457907352338195\n",
      "P-value: 0.6832194382585954\n",
      "Fail to reject the null hypothesis\n"
     ]
    }
   ],
   "source": [
    "from scipy.stats import f\n",
    "\n",
    "# Given data\n",
    "sample_variance1 = 25\n",
    "sample_size1 = 10\n",
    "sample_variance2 = 20\n",
    "sample_size2 = 15\n",
    "alpha = 0.10\n",
    "\n",
    "# Degrees of freedom\n",
    "df1 = sample_size1 - 1\n",
    "df2 = sample_size2 - 1\n",
    "\n",
    "# Calculate the critical F-value\n",
    "critical_f = f.ppf(1 - alpha / 2, df1, df2)\n",
    "\n",
    "# Calculate the test statistic (F-statistic)\n",
    "f_statistic = sample_variance1 / sample_variance2\n",
    "\n",
    "# Conduct the F-test\n",
    "p_value = 2 * (1 - f.cdf(f_statistic, df1, df2))\n",
    "\n",
    "# Output results\n",
    "print(\"F-statistic:\", f_statistic)\n",
    "print(\"Critical F-value:\", critical_f)\n",
    "print(\"P-value:\", p_value)\n",
    "\n",
    "# Compare with critical region\n",
    "if abs(f_statistic) > critical_f:\n",
    "    print(\"Reject the null hypothesis\")\n",
    "else:\n",
    "    print(\"Fail to reject the null hypothesis\")\n"
   ]
  },
  {
   "cell_type": "code",
   "execution_count": null,
   "id": "52340aa9-8d2b-4618-89e8-28824a894627",
   "metadata": {},
   "outputs": [],
   "source": [
    "Q8. The following data represent the waiting times in minutes at two different restaurants on a Saturday \n",
    "night: Restaurant A: 24, 25, 28, 23, 22, 20, 27; Restaurant B: 31, 33, 35, 30, 32, 36. Conduct an F-test at the 5% \n",
    "significance level to determine if the variances are significantly different."
   ]
  },
  {
   "cell_type": "code",
   "execution_count": 11,
   "id": "576b4f3f-c84e-4aab-8f95-837c6e051f1f",
   "metadata": {},
   "outputs": [
    {
     "name": "stdout",
     "output_type": "stream",
     "text": [
      "F-statistic: 1.4551907719609583\n",
      "Critical F-value: 6.977701858535566\n",
      "P-value: 0.6974815747937484\n",
      "Fail to reject the null hypothesis\n"
     ]
    }
   ],
   "source": [
    "from scipy.stats import f\n",
    "\n",
    "# Given data\n",
    "waiting_times_a = [24, 25, 28, 23, 22, 20, 27]\n",
    "waiting_times_b = [31, 33, 35, 30, 32, 36]\n",
    "alpha = 0.05\n",
    "\n",
    "# Calculate sample variances\n",
    "variance_a = np.var(waiting_times_a, ddof=1)\n",
    "variance_b = np.var(waiting_times_b, ddof=1)\n",
    "\n",
    "# Degrees of freedom\n",
    "df1 = len(waiting_times_a) - 1\n",
    "df2 = len(waiting_times_b) - 1\n",
    "\n",
    "# Calculate the critical F-value\n",
    "critical_f = f.ppf(1 - alpha / 2, df1, df2)\n",
    "\n",
    "# Calculate the test statistic (F-statistic)\n",
    "f_statistic = variance_a / variance_b\n",
    "\n",
    "# Conduct the F-test\n",
    "p_value = 2 * (1 - f.cdf(f_statistic, df1, df2))\n",
    "\n",
    "# Output results\n",
    "print(\"F-statistic:\", f_statistic)\n",
    "print(\"Critical F-value:\", critical_f)\n",
    "print(\"P-value:\", p_value)\n",
    "\n",
    "# Compare with critical region\n",
    "if abs(f_statistic) > critical_f:\n",
    "    print(\"Reject the null hypothesis\")\n",
    "else:\n",
    "    print(\"Fail to reject the null hypothesis\")\n"
   ]
  },
  {
   "cell_type": "code",
   "execution_count": null,
   "id": "b484c5e1-8dba-4766-a1ab-d4d09f589861",
   "metadata": {},
   "outputs": [],
   "source": [
    "Q9. The following data represent the test scores of two groups of students: Group A: 80, 85, 90, 92, 87, 83; \n",
    "Group B: 75, 78, 82, 79, 81, 84. Conduct an F-test at the 1% significance level to determine if the variances \n",
    "are significantly different."
   ]
  },
  {
   "cell_type": "code",
   "execution_count": 12,
   "id": "93d996df-b473-403f-a9c0-27cf8df735a3",
   "metadata": {},
   "outputs": [
    {
     "name": "stdout",
     "output_type": "stream",
     "text": [
      "F-statistic: 1.9442622950819677\n",
      "Critical F-value: 14.939605459912224\n",
      "P-value: 0.4831043549070688\n",
      "Fail to reject the null hypothesis\n"
     ]
    }
   ],
   "source": [
    "from scipy.stats import f\n",
    "\n",
    "# Given data\n",
    "test_scores_a = [80, 85, 90, 92, 87, 83]\n",
    "test_scores_b = [75, 78, 82, 79, 81, 84]\n",
    "alpha = 0.01\n",
    "\n",
    "# Calculate sample variances\n",
    "variance_a = np.var(test_scores_a, ddof=1)\n",
    "variance_b = np.var(test_scores_b, ddof=1)\n",
    "\n",
    "# Degrees of freedom\n",
    "df1 = len(test_scores_a) - 1\n",
    "df2 = len(test_scores_b) - 1\n",
    "\n",
    "# Calculate the critical F-value\n",
    "critical_f = f.ppf(1 - alpha / 2, df1, df2)\n",
    "\n",
    "# Calculate the test statistic (F-statistic)\n",
    "f_statistic = variance_a / variance_b\n",
    "\n",
    "# Conduct the F-test\n",
    "p_value = 2 * (1 - f.cdf(f_statistic, df1, df2))\n",
    "\n",
    "# Output results\n",
    "print(\"F-statistic:\", f_statistic)\n",
    "print(\"Critical F-value:\", critical_f)\n",
    "print(\"P-value:\", p_value)\n",
    "\n",
    "# Compare with critical region\n",
    "if abs(f_statistic) > critical_f:\n",
    "    print(\"Reject the null hypothesis\")\n",
    "else:\n",
    "    print(\"Fail to reject the null hypothesis\")\n"
   ]
  },
  {
   "cell_type": "code",
   "execution_count": null,
   "id": "a490aeba-7b49-4e60-bcbf-3af54b9e10a3",
   "metadata": {},
   "outputs": [],
   "source": []
  }
 ],
 "metadata": {
  "kernelspec": {
   "display_name": "Python 3 (ipykernel)",
   "language": "python",
   "name": "python3"
  },
  "language_info": {
   "codemirror_mode": {
    "name": "ipython",
    "version": 3
   },
   "file_extension": ".py",
   "mimetype": "text/x-python",
   "name": "python",
   "nbconvert_exporter": "python",
   "pygments_lexer": "ipython3",
   "version": "3.10.8"
  }
 },
 "nbformat": 4,
 "nbformat_minor": 5
}
