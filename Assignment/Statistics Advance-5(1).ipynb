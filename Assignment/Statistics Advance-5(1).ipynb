{
 "cells": [
  {
   "cell_type": "code",
   "execution_count": null,
   "id": "68797d47-00dd-4455-9e1d-518bbd5f0e6d",
   "metadata": {},
   "outputs": [],
   "source": [
    "Q1. Calculate the 95% confidence interval for a sample of data with a mean of 50 and a standard deviation \n",
    "of 5 using Python. Interpret the results."
   ]
  },
  {
   "cell_type": "code",
   "execution_count": 1,
   "id": "9e65b0c0-96f3-46e7-9a95-81ecf561dc8d",
   "metadata": {},
   "outputs": [
    {
     "name": "stdout",
     "output_type": "stream",
     "text": [
      "95% Confidence Interval: (48.1329693162095, 51.8670306837905)\n"
     ]
    }
   ],
   "source": [
    "import scipy.stats as stats\n",
    "\n",
    "# Given data\n",
    "mean = 50\n",
    "std_dev = 5\n",
    "sample_size = 30  # You should replace this with your actual sample size\n",
    "\n",
    "# Calculate the standard error of the mean\n",
    "standard_error = std_dev / (sample_size ** 0.5)\n",
    "\n",
    "# Set the confidence level\n",
    "confidence_level = 0.95\n",
    "\n",
    "# Calculate the degrees of freedom\n",
    "degrees_of_freedom = sample_size - 1\n",
    "\n",
    "# Calculate the margin of error\n",
    "margin_of_error = stats.t.ppf((1 + confidence_level) / 2, degrees_of_freedom) * standard_error\n",
    "\n",
    "# Calculate the confidence interval\n",
    "confidence_interval = (mean - margin_of_error, mean + margin_of_error)\n",
    "\n",
    "# Print the results\n",
    "print(f\"95% Confidence Interval: {confidence_interval}\")\n"
   ]
  },
  {
   "cell_type": "code",
   "execution_count": null,
   "id": "ea97d921-3120-4b6d-8870-20ef0af17bb4",
   "metadata": {},
   "outputs": [],
   "source": [
    "Q2. Conduct a chi-square goodness of fit test to determine if the distribution of colors of M&Ms in a bag \n",
    "matches the expected distribution of 20% blue, 20% orange, 20% green, 10% yellow, 10% red, and 20% \n",
    "brown. Use Python to perform the test with a significance level of 0.05."
   ]
  },
  {
   "cell_type": "code",
   "execution_count": 2,
   "id": "d1972870-0752-4585-9fc2-7439b6203240",
   "metadata": {},
   "outputs": [
    {
     "name": "stdout",
     "output_type": "stream",
     "text": [
      "Test Chi2 statistic: 5.0\n",
      "p-value: 0.4158801869955079\n",
      "Critical Chi Square value for 0.05 significance level for 5 degrees of freedom is : 11.0705\n",
      "Fail to reject null hypothesis\n",
      "Conclusion : The distribution of colors of M&Ms in the bag matches the expected distribution.\n"
     ]
    }
   ],
   "source": [
    "import numpy as np\n",
    "from scipy.stats import chisquare\n",
    "from scipy.stats import chi2\n",
    "\n",
    "# observed frequencies\n",
    "obs_freq = np.array([10, 20, 15, 5, 5, 15])\n",
    "\n",
    "# expected frequencies\n",
    "exp_freq = np.array([0.2, 0.2, 0.2, 0.1, 0.1, 0.2]) * np.sum(obs_freq)\n",
    "\n",
    "# Null and alternate hypothesis\n",
    "null_hypothesis = \"The distribution of colors of M&Ms in the bag matches the expected distribution.\"\n",
    "alternate_hypothesis = \"The distribution of colors of M&Ms in the bag does not match the expected distribution.\"\n",
    "\n",
    "# perform chi-square goodness of fit test\n",
    "test_statistic, p_value = chisquare(obs_freq, exp_freq)\n",
    "\n",
    "# print results\n",
    "print(\"Test Chi2 statistic:\", test_statistic)\n",
    "print(\"p-value:\", p_value)\n",
    "\n",
    "# Critical chi2 value\n",
    "df = len(obs_freq)-1\n",
    "alpha = 0.05\n",
    "chi2_crit = chi2.ppf(1-alpha,df)\n",
    "print(f\"Critical Chi Square value for {alpha} significance level for {df} degrees of freedom is : {chi2_crit:.4f}\")\n",
    "\n",
    "# compare p-value with significance level\n",
    "alpha = 0.05\n",
    "if p_value < alpha:\n",
    "    print(\"Reject null hypothesis\")\n",
    "    print(f\"Conculsion : {alternate_hypothesis}\")\n",
    "else:\n",
    "    print(\"Fail to reject null hypothesis\")\n",
    "    print(f\"Conclusion : {null_hypothesis}\")\n"
   ]
  },
  {
   "cell_type": "code",
   "execution_count": null,
   "id": "802f25ac-b987-4911-9660-e9e7bae3abb6",
   "metadata": {},
   "outputs": [],
   "source": [
    " Question 3 : Use Python to calculate the chi-square statistic and p-value for a contingency table with the following data :\n",
    "\n",
    "|         | Group A | Group B |\n",
    "|:-------:|:-------:|:-------:|\n",
    "|Outcome 1| 20      | 15      |\n",
    "|Outcome 2| 10      | 25      |\n",
    "|Outcome 3| 15      | 20      |\n",
    "\n",
    " Interpret the results of test\n",
    "---"
   ]
  },
  {
   "cell_type": "code",
   "execution_count": 1,
   "id": "c655b8b7-44ee-4d26-8162-3bfbd95b3506",
   "metadata": {},
   "outputs": [
    {
     "name": "stdout",
     "output_type": "stream",
     "text": [
      "Chi-square Statistic: 5.833333333333334\n",
      "P-value: 0.05411376622282158\n",
      "Degrees of Freedom: 2\n",
      "Expected Frequencies:\n",
      "[[15. 20.]\n",
      " [15. 20.]\n",
      " [15. 20.]]\n"
     ]
    }
   ],
   "source": [
    "import numpy as np\n",
    "from scipy.stats import chi2_contingency\n",
    "\n",
    "# Creating the contingency table\n",
    "observed_data = np.array([[20, 15], [10, 25], [15, 20]])\n",
    "\n",
    "# Calculating the chi-square statistic, p-value, degrees of freedom, and expected frequencies\n",
    "chi2_stat, p_val, dof, expected = chi2_contingency(observed_data)\n",
    "\n",
    "# Printing the results\n",
    "print(f\"Chi-square Statistic: {chi2_stat}\")\n",
    "print(f\"P-value: {p_val}\")\n",
    "print(f\"Degrees of Freedom: {dof}\")\n",
    "print(\"Expected Frequencies:\")\n",
    "print(expected)\n"
   ]
  },
  {
   "cell_type": "code",
   "execution_count": null,
   "id": "d69074c9-e2b3-4ad2-b943-febb0a114f70",
   "metadata": {},
   "outputs": [],
   "source": [
    "Q4. A study of the prevalence of smoking in a population of 500 individuals found that 60 individuals \n",
    "smoked. Use Python to calculate the 95% confidence interval for the true proportion of individuals in the \n",
    "population who smoke"
   ]
  },
  {
   "cell_type": "code",
   "execution_count": 2,
   "id": "cabfa4f6-11f5-452d-97bf-855de1daa978",
   "metadata": {},
   "outputs": [
    {
     "name": "stdout",
     "output_type": "stream",
     "text": [
      "Sample Proportion: 0.12\n",
      "Margin of Error: 0.028483611128692923\n",
      "95% Confidence Interval: (0.09151638887130707, 0.1484836111286929)\n"
     ]
    }
   ],
   "source": [
    "import scipy.stats as stats\n",
    "import numpy as np\n",
    "\n",
    "# Given data\n",
    "total_population = 500\n",
    "smokers = 60\n",
    "\n",
    "# Calculate the proportion of smokers in the sample\n",
    "sample_proportion = smokers / total_population\n",
    "\n",
    "# Set the confidence level\n",
    "confidence_level = 0.95\n",
    "\n",
    "# Calculate the standard error\n",
    "standard_error = np.sqrt((sample_proportion * (1 - sample_proportion)) / total_population)\n",
    "\n",
    "# Calculate the margin of error\n",
    "margin_of_error = stats.norm.ppf((1 + confidence_level) / 2) * standard_error\n",
    "\n",
    "# Calculate the confidence interval\n",
    "confidence_interval = (sample_proportion - margin_of_error, sample_proportion + margin_of_error)\n",
    "\n",
    "# Print the results\n",
    "print(f\"Sample Proportion: {sample_proportion}\")\n",
    "print(f\"Margin of Error: {margin_of_error}\")\n",
    "print(f\"95% Confidence Interval: {confidence_interval}\")\n"
   ]
  },
  {
   "cell_type": "code",
   "execution_count": null,
   "id": "eb0b330e-0caa-465d-b14f-bfd1b827e385",
   "metadata": {},
   "outputs": [],
   "source": [
    "Interpretation:\n",
    "\n",
    "The 95% confidence interval provides a range of values within which we can reasonably expect the true proportion of smokers in the population to lie. In this case, it means that we are 95% confident that the true proportion of smokers in the population is within the calculated interval."
   ]
  },
  {
   "cell_type": "code",
   "execution_count": null,
   "id": "5ee8c3e4-6b16-4d64-b567-6ff6952700b5",
   "metadata": {},
   "outputs": [],
   "source": [
    "Q5. Calculate the 90% confidence interval for a sample of data with a mean of 75 and a standard deviation \n",
    "of 12 using Python. Interpret the results"
   ]
  },
  {
   "cell_type": "code",
   "execution_count": 5,
   "id": "41ae9751-4f65-44d7-a216-7983215a18c9",
   "metadata": {},
   "outputs": [
    {
     "name": "stdout",
     "output_type": "stream",
     "text": [
      "t_critical for 30 samples with 90.0% confidence is : 1.6991\n",
      "90% confidence interval: (71.277, 78.723)\n"
     ]
    }
   ],
   "source": [
    "import scipy.stats as stats\n",
    "import math\n",
    "\n",
    "# Given data\n",
    "x_bar = 75\n",
    "sigma = 12\n",
    "n = 30 # Assumed sample size 30\n",
    "\n",
    "# Degrees of freedom\n",
    "df = n - 1\n",
    "\n",
    "# Confidence level \n",
    "confidence_level = 0.90\n",
    "alpha = 1 -  confidence_level\n",
    "\n",
    "# Critical value for 90% confidence interval\n",
    "t_critical = stats.t.ppf(1 - alpha/2, df)\n",
    "print(f't_critical for {n} samples with {confidence_level*100}% confidence is : {t_critical:.4f}')\n",
    "\n",
    "# Calculate standard error of the mean\n",
    "sem = sigma / math.sqrt(n)\n",
    "\n",
    "# Calculate confidence interval\n",
    "lower_ci = x_bar - t_critical * sem\n",
    "upper_ci = x_bar + t_critical * sem\n",
    "\n",
    "print(\"90% confidence interval: ({:.3f}, {:.3f})\".format(lower_ci, upper_ci))"
   ]
  },
  {
   "cell_type": "code",
   "execution_count": null,
   "id": "5a4dc6bf-18b9-418c-85dd-4546756e5ad0",
   "metadata": {},
   "outputs": [],
   "source": [
    "Interpretation : Above results mean that for sample size 30 , the estimated population mean lies between 71.277 and 78.723 with 90% confidence"
   ]
  },
  {
   "cell_type": "code",
   "execution_count": null,
   "id": "4bac437d-76e8-476a-a8eb-ca3c2b33f7f5",
   "metadata": {},
   "outputs": [],
   "source": [
    "Q6. Use Python to plot the chi-square distribution with 10 degrees of freedom. Label the axes and shade the \n",
    "area corresponding to a chi-square statistic of 15."
   ]
  },
  {
   "cell_type": "code",
   "execution_count": 6,
   "id": "69be3967-5a9a-4ce2-8a28-1f93e247ca5e",
   "metadata": {},
   "outputs": [
    {
     "data": {
      "image/png": "[encoded data removed]",
      "text/plain": [
       "<Figure size 640x480 with 1 Axes>"
      ]
     },
     "metadata": {},
     "output_type": "display_data"
    }
   ],
   "source": [
    "import numpy as np\n",
    "import matplotlib.pyplot as plt\n",
    "import scipy.stats as stats\n",
    "\n",
    "# Degrees of freedom\n",
    "df = 10\n",
    "\n",
    "# Generate values for the x-axis\n",
    "x = np.linspace(0, 30, 1000)\n",
    "\n",
    "# Plot the chi-square distribution\n",
    "plt.plot(x, stats.chi2.pdf(x, df), label=f'Chi-square Distribution (df={df})')\n",
    "\n",
    "# Shade the area corresponding to a chi-square statistic of 15\n",
    "x_shaded = np.linspace(0, 15, 100)\n",
    "plt.fill_between(x_shaded, stats.chi2.pdf(x_shaded, df), color='orange', alpha=0.5, label='Area for chi-square stat of 15')\n",
    "\n",
    "# Label the axes and title\n",
    "plt.title(f'Chi-square Distribution (df={df})')\n",
    "plt.xlabel('Chi-square Statistic')\n",
    "plt.ylabel('Probability Density Function')\n",
    "\n",
    "# Add legend\n",
    "plt.legend()\n",
    "\n",
    "# Show the plot\n",
    "plt.show()\n"
   ]
  },
  {
   "cell_type": "code",
   "execution_count": null,
   "id": "2aa4f442-06dd-482f-862d-f162c4643fd9",
   "metadata": {},
   "outputs": [],
   "source": [
    "Interpretation:\n",
    "\n",
    "The shaded area represents the probability of observing a chi-square statistic less than or equal to 15 in a chi-square distribution with 10 degrees of freedom. The orange shaded region in the plot corresponds to the probability under the curve for a chi-square statistic of 15."
   ]
  },
  {
   "cell_type": "code",
   "execution_count": null,
   "id": "1e3c9d1c-fb64-4a89-a49e-c8f1ffd10608",
   "metadata": {},
   "outputs": [],
   "source": [
    "Q7. A random sample of 1000 people was asked if they preferred Coke or Pepsi. Of the sample, 520 \n",
    "preferred Coke. Calculate a 99% confidence interval for the true proportion of people in the population who \n",
    "prefer Coke."
   ]
  },
  {
   "cell_type": "code",
   "execution_count": 7,
   "id": "d7d7f91d-2188-461f-9c92-e8d26e0d81a1",
   "metadata": {},
   "outputs": [
    {
     "name": "stdout",
     "output_type": "stream",
     "text": [
      "Sample Proportion: 0.52\n",
      "Margin of Error: 0.040694842322030134\n",
      "99% Confidence Interval: (0.4793051576779699, 0.5606948423220302)\n"
     ]
    }
   ],
   "source": [
    "import scipy.stats as stats\n",
    "import numpy as np\n",
    "\n",
    "# Given data\n",
    "total_sample_size = 1000\n",
    "coke_preferred = 520\n",
    "\n",
    "# Calculate the sample proportion\n",
    "sample_proportion = coke_preferred / total_sample_size\n",
    "\n",
    "# Set the confidence level\n",
    "confidence_level = 0.99\n",
    "\n",
    "# Calculate the standard error\n",
    "standard_error = np.sqrt((sample_proportion * (1 - sample_proportion)) / total_sample_size)\n",
    "\n",
    "# Calculate the margin of error\n",
    "margin_of_error = stats.norm.ppf((1 + confidence_level) / 2) * standard_error\n",
    "\n",
    "# Calculate the confidence interval\n",
    "confidence_interval = (sample_proportion - margin_of_error, sample_proportion + margin_of_error)\n",
    "\n",
    "# Print the results\n",
    "print(f\"Sample Proportion: {sample_proportion}\")\n",
    "print(f\"Margin of Error: {margin_of_error}\")\n",
    "print(f\"99% Confidence Interval: {confidence_interval}\")\n"
   ]
  },
  {
   "cell_type": "code",
   "execution_count": null,
   "id": "826a1b87-2dbd-4274-b430-886efb5d52ac",
   "metadata": {},
   "outputs": [],
   "source": [
    "Interpretation:\n",
    "\n",
    "The 99% confidence interval provides a range of values within which we can reasonably expect the true proportion of people in the population who prefer Coke to lie. In this case, it means that we are 99% confident that the true proportion is within the calculated interval."
   ]
  },
  {
   "cell_type": "code",
   "execution_count": null,
   "id": "2c0a365b-3ad9-4fc6-bc4f-8f318c1c3295",
   "metadata": {},
   "outputs": [],
   "source": [
    "Q8. A researcher hypothesizes that a coin is biased towards tails. They flip the coin 100 times and observe \n",
    "45 tails. Conduct a chi-square goodness of fit test to determine if the observed frequencies match the \n",
    "expected frequencies of a fair coin. Use a significance level of 0.05."
   ]
  },
  {
   "cell_type": "code",
   "execution_count": 8,
   "id": "7411e719-7453-4632-b8fb-00264f031287",
   "metadata": {},
   "outputs": [
    {
     "name": "stdout",
     "output_type": "stream",
     "text": [
      "Chi-square Statistic: 1.0\n",
      "P-value: 0.31731050786291115\n",
      "Significance Level: 0.05\n",
      "Fail to reject the null hypothesis. There is no significant evidence that the coin is biased towards tails.\n"
     ]
    }
   ],
   "source": [
    "import numpy as np\n",
    "from scipy.stats import chisquare\n",
    "\n",
    "# Given data\n",
    "total_flips = 100\n",
    "observed_tails = 45\n",
    "expected_tails = total_flips / 2  # Assuming a fair coin\n",
    "\n",
    "# Create the observed and expected frequency arrays\n",
    "observed_frequencies = np.array([observed_tails, total_flips - observed_tails])\n",
    "expected_frequencies = np.array([expected_tails, total_flips - expected_tails])\n",
    "\n",
    "# Perform the chi-square goodness of fit test\n",
    "chi2_stat, p_val = chisquare(f_obs=observed_frequencies, f_exp=expected_frequencies)\n",
    "\n",
    "# Print the results\n",
    "print(f\"Chi-square Statistic: {chi2_stat}\")\n",
    "print(f\"P-value: {p_val}\")\n",
    "\n",
    "# Check the significance level\n",
    "alpha = 0.05\n",
    "print(f\"Significance Level: {alpha}\")\n",
    "\n",
    "# Compare p-value to the significance level\n",
    "if p_val < alpha:\n",
    "    print(\"Reject the null hypothesis. The coin may be biased towards tails.\")\n",
    "else:\n",
    "    print(\"Fail to reject the null hypothesis. There is no significant evidence that the coin is biased towards tails.\")\n"
   ]
  },
  {
   "cell_type": "code",
   "execution_count": null,
   "id": "b40c95da-05cf-4372-9e2c-2d7b8a7aa0b8",
   "metadata": {},
   "outputs": [],
   "source": [
    "Interpretation:\n",
    "\n",
    "If the p-value is less than the chosen significance level (0.05 in this case), you can reject the null hypothesis. This suggests that there is a significant difference between the observed and expected frequencies, indicating that the coin may be biased towards tails.\n",
    "\n",
    "If the p-value is greater than the significance level, you do not reject the null hypothesis. This suggests that there is not enough evidence to conclude a significant difference between the observed and expected frequencies."
   ]
  },
  {
   "cell_type": "code",
   "execution_count": null,
   "id": "3deb640f-8c6f-403c-a9d2-d9f27bec32d6",
   "metadata": {},
   "outputs": [],
   "source": [
    " Question 9 : A study was conducted to determine if there is an association between smoking status (smoker or non-smoker) and lung cancer diagnosis (yes or no). The results are shown in the contingency table below. Conduct a chi-square test for independence to determine if there is a significant association between smoking status and lung cancer diagnosis.\n",
    "\n",
    "|            | Lung Cancer:Yes | Lung Cancer:No |\n",
    "|:----------:|:---------------:|:--------------:|\n",
    "| Smoker     | 60              | 140            |\n",
    "| Non Smoker | 30              | 170            |\n",
    "\n",
    " Use a significance level of 0.05.\n",
    "---"
   ]
  },
  {
   "cell_type": "code",
   "execution_count": 9,
   "id": "2028c177-e8e7-4e30-946d-dadd70022b76",
   "metadata": {},
   "outputs": [
    {
     "name": "stdout",
     "output_type": "stream",
     "text": [
      "Chi-square Statistic: 12.057347670250895\n",
      "P-value: 0.0005158863863703744\n",
      "Degrees of Freedom: 1\n",
      "Expected Frequencies:\n",
      "[[ 45. 155.]\n",
      " [ 45. 155.]]\n",
      "Significance Level: 0.05\n",
      "Reject the null hypothesis. There is a significant association between smoking status and lung cancer diagnosis.\n"
     ]
    }
   ],
   "source": [
    "import numpy as np\n",
    "from scipy.stats import chi2_contingency\n",
    "\n",
    "# Given data (contingency table)\n",
    "observed_data = np.array([[60, 140], [30, 170]])\n",
    "\n",
    "# Perform the chi-square test for independence\n",
    "chi2_stat, p_val, dof, expected = chi2_contingency(observed_data)\n",
    "\n",
    "# Print the results\n",
    "print(f\"Chi-square Statistic: {chi2_stat}\")\n",
    "print(f\"P-value: {p_val}\")\n",
    "print(f\"Degrees of Freedom: {dof}\")\n",
    "print(\"Expected Frequencies:\")\n",
    "print(expected)\n",
    "\n",
    "# Check the significance level\n",
    "alpha = 0.05\n",
    "print(f\"Significance Level: {alpha}\")\n",
    "\n",
    "# Compare p-value to the significance level\n",
    "if p_val < alpha:\n",
    "    print(\"Reject the null hypothesis. There is a significant association between smoking status and lung cancer diagnosis.\")\n",
    "else:\n",
    "    print(\"Fail to reject the null hypothesis. There is no significant association between smoking status and lung cancer diagnosis.\")\n"
   ]
  },
  {
   "cell_type": "code",
   "execution_count": null,
   "id": "c0589b73-fa15-4ecb-b9d4-9241573ea2a9",
   "metadata": {},
   "outputs": [],
   "source": [
    " Question 10 : A study was conducted to determine if the proportion of people who prefer milk chocolate, dark chocolate, or white chocolate is different in the U.S. versus the U.K. A random sample of 500 people from the U.S. and a random sample of 500 people from the U.K. were surveyed. The results are shown in the contingency table below. Conduct a chi-square test for independence to determine if there is a significant association between chocolate preference and country of origin.\n",
    "\n",
    "|             | Milk Chocolate | Dark Chocolate | White Chocolate |\n",
    "|:-----------:|:--------------:|:--------------:|:---------------:|\n",
    "|U.S. (n=500) | 200            | 150            | 150             |\n",
    "|U.K. (n=500) | 225            | 175            | 100             |\n",
    "\n",
    " Use a significance level of 0.01."
   ]
  },
  {
   "cell_type": "code",
   "execution_count": 10,
   "id": "ffc12ef0-0082-490e-9578-3a9f1610fd94",
   "metadata": {},
   "outputs": [
    {
     "name": "stdout",
     "output_type": "stream",
     "text": [
      "Chi-square Statistic: 13.393665158371041\n",
      "P-value: 0.0012348168997745918\n",
      "Degrees of Freedom: 2\n",
      "Expected Frequencies:\n",
      "[[212.5 162.5 125. ]\n",
      " [212.5 162.5 125. ]]\n",
      "Significance Level: 0.01\n",
      "Reject the null hypothesis. There is a significant association between chocolate preference and country of origin.\n"
     ]
    }
   ],
   "source": [
    "import numpy as np\n",
    "from scipy.stats import chi2_contingency\n",
    "\n",
    "# Given data (contingency table)\n",
    "observed_data = np.array([[200, 150, 150], [225, 175, 100]])\n",
    "\n",
    "# Perform the chi-square test for independence\n",
    "chi2_stat, p_val, dof, expected = chi2_contingency(observed_data)\n",
    "\n",
    "# Print the results\n",
    "print(f\"Chi-square Statistic: {chi2_stat}\")\n",
    "print(f\"P-value: {p_val}\")\n",
    "print(f\"Degrees of Freedom: {dof}\")\n",
    "print(\"Expected Frequencies:\")\n",
    "print(expected)\n",
    "\n",
    "# Check the significance level\n",
    "alpha = 0.01\n",
    "print(f\"Significance Level: {alpha}\")\n",
    "\n",
    "# Compare p-value to the significance level\n",
    "if p_val < alpha:\n",
    "    print(\"Reject the null hypothesis. There is a significant association between chocolate preference and country of origin.\")\n",
    "else:\n",
    "    print(\"Fail to reject the null hypothesis. There is no significant association between chocolate preference and country of origin.\")\n"
   ]
  },
  {
   "cell_type": "code",
   "execution_count": null,
   "id": "19c4a5d0-cecf-4c82-a73c-e07ad2e031e1",
   "metadata": {},
   "outputs": [],
   "source": [
    "Q11. A random sample of 30 people was selected from a population with an unknown mean and standard \n",
    "deviation. The sample mean was found to be 72 and the sample standard deviation was found to be 10. \n",
    "Conduct a hypothesis test to determine if the population mean is significantly different from 70. Use a \n",
    "significance level of 0.05."
   ]
  },
  {
   "cell_type": "code",
   "execution_count": 11,
   "id": "6d4f115f-101a-4d14-a356-ef2da647f967",
   "metadata": {},
   "outputs": [
    {
     "name": "stdout",
     "output_type": "stream",
     "text": [
      "t-statistic: 1.0954451150103321\n",
      "Critical t-value: 2.045229642132703\n",
      "P-value: 0.2823362372860698\n",
      "Fail to reject the null hypothesis. There is not enough evidence to conclude a significant difference in the population mean.\n"
     ]
    }
   ],
   "source": [
    "import scipy.stats as stats\n",
    "\n",
    "# Given data\n",
    "sample_size = 30\n",
    "sample_mean = 72\n",
    "sample_std_dev = 10\n",
    "population_mean_hypothesized = 70\n",
    "\n",
    "# Calculate the t-statistic\n",
    "t_stat = (sample_mean - population_mean_hypothesized) / (sample_std_dev / (sample_size**0.5))\n",
    "\n",
    "# Degrees of freedom\n",
    "degrees_of_freedom = sample_size - 1\n",
    "\n",
    "# Set the significance level\n",
    "alpha = 0.05\n",
    "\n",
    "# Calculate the critical t-value for a two-tailed test\n",
    "critical_t_value = stats.t.ppf(1 - alpha / 2, df=degrees_of_freedom)\n",
    "\n",
    "# Calculate the p-value\n",
    "p_value = 2 * (1 - stats.t.cdf(abs(t_stat), df=degrees_of_freedom))\n",
    "\n",
    "# Print the results\n",
    "print(f\"t-statistic: {t_stat}\")\n",
    "print(f\"Critical t-value: {critical_t_value}\")\n",
    "print(f\"P-value: {p_value}\")\n",
    "\n",
    "# Compare t-statistic to critical t-value and p-value to the significance level\n",
    "if abs(t_stat) > critical_t_value or p_value < alpha:\n",
    "    print(\"Reject the null hypothesis. The population mean is significantly different from 70.\")\n",
    "else:\n",
    "    print(\"Fail to reject the null hypothesis. There is not enough evidence to conclude a significant difference in the population mean.\")\n"
   ]
  },
  {
   "cell_type": "code",
   "execution_count": null,
   "id": "a708fb1a-de67-4369-8651-23a26ad65056",
   "metadata": {},
   "outputs": [],
   "source": []
  }
 ],
 "metadata": {
  "kernelspec": {
   "display_name": "Python 3 (ipykernel)",
   "language": "python",
   "name": "python3"
  },
  "language_info": {
   "codemirror_mode": {
    "name": "ipython",
    "version": 3
   },
   "file_extension": ".py",
   "mimetype": "text/x-python",
   "name": "python",
   "nbconvert_exporter": "python",
   "pygments_lexer": "ipython3",
   "version": "3.10.8"
  }
 },
 "nbformat": 4,
 "nbformat_minor": 5
}
