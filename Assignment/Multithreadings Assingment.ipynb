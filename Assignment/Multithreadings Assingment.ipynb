{
 "cells": [
  {
   "cell_type": "code",
   "execution_count": null,
   "id": "e4bc0184-818e-418d-a89c-10bfda321c92",
   "metadata": {},
   "outputs": [],
   "source": [
    " # Q1) what is multithreading in python? why is it used? Name the module used to handle threads in python"
   ]
  },
  {
   "cell_type": "code",
   "execution_count": null,
   "id": "abcfb92a-fb0b-4336-8f40-1c83c5365edc",
   "metadata": {},
   "outputs": [],
   "source": [
    "Multithreading in Python refers to the concurrent execution of multiple threads within a single process. A thread is a lightweight unit of execution that shares the same memory space with other threads in the same process. This allows for more efficient utilization of system resources and can help improve the responsiveness of applications, particularly those that involve tasks that can be executed concurrently."
   ]
  },
  {
   "cell_type": "code",
   "execution_count": null,
   "id": "85c49c3a-af96-4c34-a7a7-dcec73085f24",
   "metadata": {},
   "outputs": [],
   "source": [
    "The threading module is used to handle threads in Python. "
   ]
  },
  {
   "cell_type": "code",
   "execution_count": null,
   "id": "769783f8-8928-459c-807f-11022a7a6895",
   "metadata": {},
   "outputs": [],
   "source": [
    "# Q2) why threading module used? write the use of the following functions.\n",
    "1. activeCount()\n",
    "2. currentThread()\n",
    "3. enumerate()"
   ]
  },
  {
   "cell_type": "code",
   "execution_count": null,
   "id": "21306cac-e0e2-4b17-849c-d28f6cd50a0d",
   "metadata": {},
   "outputs": [],
   "source": [
    "The threading module in Python is used to create, manage, and synchronize threads. It provides a higher-level interface compared to using the lower-level thread module, making it easier to work with threads"
   ]
  },
  {
   "cell_type": "code",
   "execution_count": null,
   "id": "89f9d82e-90f3-4d46-aa85-56b8d8cc5c1b",
   "metadata": {},
   "outputs": [],
   "source": [
    "1. active count(): This function returns the number of Thread objects currently alive. It is useful for tracking the number of threads in your program. It's important to note that this function doesn't necessarily return the number of active threads at any given time due to the dynamic nature of threads and their lifecycle."
   ]
  },
  {
   "cell_type": "code",
   "execution_count": null,
   "id": "c5901617-6833-4630-ab84-805f25a230a3",
   "metadata": {},
   "outputs": [],
   "source": [
    "2. Current Thread(): This function returns a reference to the current Thread object corresponding to the caller's thread. It's often used to identify the current thread for debugging or for creating thread-specific data."
   ]
  },
  {
   "cell_type": "code",
   "execution_count": null,
   "id": "41036e58-a6ab-4829-89ad-6fdde1d3abb0",
   "metadata": {},
   "outputs": [],
   "source": [
    "3. Enumerate() :This function returns a list of all Thread objects currently alive. It's useful for obtaining a list of thread objects that you can iterate through for various purposes, such as checking their states or performing operations on them."
   ]
  },
  {
   "cell_type": "code",
   "execution_count": null,
   "id": "7979c187-5ba0-4d92-8b0f-f464a5357388",
   "metadata": {},
   "outputs": [],
   "source": [
    "#Q3. Explain the following functions?\n",
    "1. run()\n",
    "2. start()\n",
    "3. join()\n",
    "4. isAlive()"
   ]
  },
  {
   "cell_type": "code",
   "execution_count": null,
   "id": "b8ffc557-32e6-4675-9953-e629f4825ba7",
   "metadata": {},
   "outputs": [],
   "source": [
    "run(): The run() method is a part of the Thread class and defines the code that will be executed when a thread is started. You typically subclass the Thread class and override the run() method with the specific code that you want the thread to execute. This method is automatically called when you start a thread using the start() method."
   ]
  },
  {
   "cell_type": "code",
   "execution_count": null,
   "id": "b771f719-f3a2-40b1-b93b-05d077da53bf",
   "metadata": {},
   "outputs": [],
   "source": [
    "start(): The start() method is used to initiate the execution of a thread. It creates a new system-level thread and calls the run() method of the Thread object. Once the start() method is called, the thread begins its execution independently of the main program, allowing concurrent execution of multiple threads."
   ]
  },
  {
   "cell_type": "code",
   "execution_count": null,
   "id": "80d5232b-668e-47d7-ba7d-6a4aa9d49d79",
   "metadata": {},
   "outputs": [],
   "source": [
    "join(): The join() method is used to wait for a thread to finish its execution. When you call join() on a thread, the calling thread (usually the main thread) will wait until the target thread completes its execution before continuing. This is often used to ensure that certain threads complete their tasks before the program proceeds."
   ]
  },
  {
   "cell_type": "code",
   "execution_count": null,
   "id": "754f84f3-ebd0-46bb-a23d-f33cabfbfdfb",
   "metadata": {},
   "outputs": [],
   "source": [
    "isAlive(): The isAlive() method is used to check if a thread is currently active and running. It returns True if the thread is still executing its code, and False if the thread has finished its execution or hasn't been started yet."
   ]
  },
  {
   "cell_type": "code",
   "execution_count": null,
   "id": "da7a29a3-06e5-4d11-9cb3-18ff33d267c0",
   "metadata": {},
   "outputs": [],
   "source": [
    "# Q4 write a python program to create two threads. Thread one must print the list of squares and thread \n",
    "two must print the list of cubes.?"
   ]
  },
  {
   "cell_type": "code",
   "execution_count": 1,
   "id": "44aadb15-cecd-4201-a5c3-ce18c0351dcb",
   "metadata": {},
   "outputs": [
    {
     "name": "stdout",
     "output_type": "stream",
     "text": [
      "List of squares:\n",
      "1 squared is 1\n",
      "2 squared is 4\n",
      "3 squared is 9\n",
      "4 squared is 16\n",
      "5 squared is 25\n",
      "List of cubes:\n",
      "1 cubed is 1\n",
      "2 cubed is 8\n",
      "3 cubed is 27\n",
      "4 cubed is 64\n",
      "5 cubed is 125\n",
      "Both threads have finished.\n"
     ]
    }
   ],
   "source": [
    "import threading\n",
    "\n",
    "def print_squares(numbers):\n",
    "    print(\"List of squares:\")\n",
    "    for num in numbers:\n",
    "        print(num, \"squared is\", num * num)\n",
    "\n",
    "def print_cubes(numbers):\n",
    "    print(\"List of cubes:\")\n",
    "    for num in numbers:\n",
    "        print(num, \"cubed is\", num * num * num)\n",
    "\n",
    "numbers = [1, 2, 3, 4, 5]\n",
    "\n",
    "thread1 = threading.Thread(target=print_squares, args=(numbers,))\n",
    "thread2 = threading.Thread(target=print_cubes, args=(numbers,))\n",
    "\n",
    "thread1.start()\n",
    "thread2.start()\n",
    "\n",
    "thread1.join()\n",
    "thread2.join()\n",
    "\n",
    "print(\"Both threads have finished.\")\n"
   ]
  },
  {
   "cell_type": "code",
   "execution_count": null,
   "id": "f601d9f1-18bf-4455-9ded-99796f202f5b",
   "metadata": {},
   "outputs": [],
   "source": [
    "# Q5)  State advantages and disadvantages of multithreading?"
   ]
  },
  {
   "cell_type": "code",
   "execution_count": null,
   "id": "4d804972-ac5c-4c30-ac76-41df461dcd39",
   "metadata": {},
   "outputs": [],
   "source": [
    "Advantages of Multithreading:\n",
    "\n",
    "Concurrent Execution: Threads can execute tasks concurrently, allowing for more efficient utilization of CPU cores and potentially speeding up the execution of certain types of tasks.\n",
    "\n",
    "Responsiveness: Multithreading can improve the responsiveness of applications by allowing certain tasks, such as user interface updates or I/O operations, to run in the background without blocking the main thread.\n",
    "\n",
    "Resource Sharing: Threads within the same process can easily share data and resources, reducing the need for complex inter-process communication (IPC) mechanisms.\n",
    "\n",
    "Shared Memory: Threads in the same process share memory, making it easier to exchange information between threads without the overhead of data copying.\n",
    "\n",
    "Efficient for I/O Operations: In I/O-bound scenarios, such as reading/writing files or making network requests, multithreading can improve efficiency by allowing threads to wait for I/O operations to complete without blocking the entire process."
   ]
  },
  {
   "cell_type": "code",
   "execution_count": null,
   "id": "23aa180b-63af-4a9f-bce8-5a21cc502d99",
   "metadata": {},
   "outputs": [],
   "source": [
    "Disadvantages of Multithreading:\n",
    "\n",
    "Complexity: Multithreading introduces complexity to programming, as developers need to manage thread synchronization, data sharing, and potential race conditions.\n",
    "\n",
    "Concurrency Bugs: Race conditions, deadlocks, and other concurrency-related bugs can be difficult to identify and debug, making multithreaded code prone to errors.\n",
    "\n",
    "Resource Contentions: Threads within the same process can compete for resources, leading to contention for CPU time, memory, and other system resources.\n",
    "\n",
    "Limited Parallelism: In languages like Python with the Global Interpreter Lock (GIL), true parallelism might not be achievable for CPU-bound tasks due to the GIL's restrictions on thread execution.\n",
    "\n",
    "Increased Memory Usage: Each thread within a process requires additional memory for its stack and other resources. Creating too many threads can lead to higher memory consumption.\n",
    "\n",
    "Thread Interference: Uncontrolled data access among threads can lead to thread interference, causing unintended data corruption or inconsistencies.\n",
    "\n",
    "Debugging Complexity: Debugging multithreaded applications can be challenging, as the timing and order of thread execution can be non-deterministic.\n",
    "\n",
    "Portability: Not all platforms and systems handle threads in the same way, which can lead to portability issues when developing cross-platform applications."
   ]
  },
  {
   "cell_type": "code",
   "execution_count": null,
   "id": "c3ee8111-3063-46e2-a1e5-01cc4d17e33f",
   "metadata": {},
   "outputs": [],
   "source": [
    "#Q6) Explain deadlocks and race conditions"
   ]
  },
  {
   "cell_type": "code",
   "execution_count": null,
   "id": "1fe9250e-66d9-40f4-8f6a-82669d746208",
   "metadata": {},
   "outputs": [],
   "source": []
  }
 ],
 "metadata": {
  "kernelspec": {
   "display_name": "Python 3 (ipykernel)",
   "language": "python",
   "name": "python3"
  },
  "language_info": {
   "codemirror_mode": {
    "name": "ipython",
    "version": 3
   },
   "file_extension": ".py",
   "mimetype": "text/x-python",
   "name": "python",
   "nbconvert_exporter": "python",
   "pygments_lexer": "ipython3",
   "version": "3.10.8"
  }
 },
 "nbformat": 4,
 "nbformat_minor": 5
}
