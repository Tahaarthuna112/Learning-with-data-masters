{
 "cells": [
  {
   "cell_type": "code",
   "execution_count": null,
   "id": "9eb4281b-5d14-4130-a779-128b92b7c892",
   "metadata": {},
   "outputs": [],
   "source": [
    "#Q1, Create a vehicle class with an init method having instance variables as name_of_vehicle, max_speed \n",
    "and average_of_vehicle. "
   ]
  },
  {
   "cell_type": "code",
   "execution_count": 2,
   "id": "33129b7c-e82d-4a1a-bbf0-1611e7304fc4",
   "metadata": {},
   "outputs": [
    {
     "name": "stdout",
     "output_type": "stream",
     "text": [
      "Car\n",
      "200\n",
      "50\n"
     ]
    }
   ],
   "source": [
    "# Creating an instance of the Vehicle class\n",
    "car = Vehicle(\"Car\", 200, 50)\n",
    "\n",
    "\n",
    "print(car.name_of_vehicle)        \n",
    "print(car.max_speed)              \n",
    "print(car.average_of_vehicle)     \n"
   ]
  },
  {
   "cell_type": "code",
   "execution_count": null,
   "id": "62c36b34-a99c-42e7-ae4a-85c5520e0979",
   "metadata": {},
   "outputs": [],
   "source": [
    "#Q2. Create a child class car from the vehicle class created in Que 1, which will inherit the vehicle class.\n",
    "Create a method named seating_capacity which takes capacity as an argument and returns the name of\n",
    "the vehicle and its seating capacity."
   ]
  },
  {
   "cell_type": "code",
   "execution_count": 5,
   "id": "1f7d20e7-c220-40fb-a657-eb4b58f6ad02",
   "metadata": {},
   "outputs": [
    {
     "name": "stdout",
     "output_type": "stream",
     "text": [
      "Sedan\n",
      "200\n",
      "50\n",
      "The {self.name_of_vehicle} has a seating capacity of {capacity}.\n"
     ]
    }
   ],
   "source": [
    "class Car(Vehicle):\n",
    "    def seating_capacity(self, capacity):\n",
    "        return \"The {self.name_of_vehicle} has a seating capacity of {capacity}.\"\n",
    "\n",
    "\n",
    "car = Car(\"Sedan\", 200, 50)\n",
    "\n",
    "\n",
    "print(car.name_of_vehicle)        \n",
    "print(car.max_speed)              \n",
    "print(car.average_of_vehicle)     \n",
    "\n",
    "\n",
    "print(car.seating_capacity(5))    \n"
   ]
  },
  {
   "cell_type": "code",
   "execution_count": null,
   "id": "a00aa8d1-5fd3-41bb-9bb9-334cb5b365b1",
   "metadata": {},
   "outputs": [],
   "source": [
    "#Q3. What is multiple inheritance? Write a python code to demonstrate multiple inheritance"
   ]
  },
  {
   "cell_type": "code",
   "execution_count": null,
   "id": "cc605518-cb0e-4ea4-a0e5-929d6959c8d1",
   "metadata": {},
   "outputs": [],
   "source": [
    "Multiple inheritance is a feature in object-oriented programming where a class can inherit characteristics and behaviors from more than one parent class"
   ]
  },
  {
   "cell_type": "code",
   "execution_count": 7,
   "id": "432cc0f0-5a0e-4224-b944-cfe15d0cd7a4",
   "metadata": {},
   "outputs": [],
   "source": [
    "class class1 :\n",
    "    def test_class1(self) : \n",
    "        print(\"this is my class1 \" )"
   ]
  },
  {
   "cell_type": "code",
   "execution_count": 8,
   "id": "a39b31c6-3fc6-46cb-beda-c10824c88c69",
   "metadata": {},
   "outputs": [],
   "source": [
    "class class2(class1) : \n",
    "    def test_class2(self) : \n",
    "        print(\"this is my class2\" )"
   ]
  },
  {
   "cell_type": "code",
   "execution_count": 9,
   "id": "04e39c66-bb2d-430f-b885-7ec3ef4bc742",
   "metadata": {},
   "outputs": [],
   "source": [
    "class class3(class2) : \n",
    "    def test_class3(self) : \n",
    "        print(\"this is my class3 \")"
   ]
  },
  {
   "cell_type": "code",
   "execution_count": 10,
   "id": "42af5bfa-3bb5-4616-8bad-4d60f5662382",
   "metadata": {},
   "outputs": [],
   "source": [
    "obj_class3  = class3()"
   ]
  },
  {
   "cell_type": "code",
   "execution_count": 11,
   "id": "affa7b4e-26ba-4067-b7c8-fb47531622b6",
   "metadata": {},
   "outputs": [
    {
     "name": "stdout",
     "output_type": "stream",
     "text": [
      "this is my class1 \n"
     ]
    }
   ],
   "source": [
    "obj_class3.test_class1()"
   ]
  },
  {
   "cell_type": "code",
   "execution_count": 12,
   "id": "1d554706-1729-407f-a24a-aef90ba1816e",
   "metadata": {},
   "outputs": [
    {
     "name": "stdout",
     "output_type": "stream",
     "text": [
      "this is my class2\n"
     ]
    }
   ],
   "source": [
    "obj_class3.test_class2()"
   ]
  },
  {
   "cell_type": "code",
   "execution_count": 13,
   "id": "fbe848c7-a27c-4b84-8def-b32953745454",
   "metadata": {},
   "outputs": [
    {
     "name": "stdout",
     "output_type": "stream",
     "text": [
      "this is my class3 \n"
     ]
    }
   ],
   "source": [
    "obj_class3.test_class3()"
   ]
  },
  {
   "cell_type": "code",
   "execution_count": null,
   "id": "cceb04a5-0515-4306-8687-87b005269683",
   "metadata": {},
   "outputs": [],
   "source": [
    "#Q4. What are getter and setter in python? Create a class and create a getter and a setter method in this \n",
    "class"
   ]
  },
  {
   "cell_type": "code",
   "execution_count": null,
   "id": "f2f86d10-2e69-44d0-9edb-58374b560fbc",
   "metadata": {},
   "outputs": [],
   "source": [
    "In Python, getters and setters are methods used to access and modify the values of class attributes. They provide a way to encapsulate the access to the attributes and add additional logic if needed."
   ]
  },
  {
   "cell_type": "code",
   "execution_count": 14,
   "id": "5c5eeedb-8038-426c-960e-a430d48440a1",
   "metadata": {},
   "outputs": [],
   "source": [
    "class car :\n",
    "    def __init__(self , year , make , model, speed ) : \n",
    "        \n",
    "        self.__year = year \n",
    "        self.__make = make\n",
    "        self.__model = model\n",
    "        self.__speed = 0\n",
    "        \n",
    "    def set_speed(self,speed) : \n",
    "        self.__speed = 0 if speed < 0 else speed\n",
    "        \n",
    "    def get_speed(self)  : \n",
    "        return self.__speed"
   ]
  },
  {
   "cell_type": "code",
   "execution_count": 16,
   "id": "5da347a5-90ec-4d5d-8ebc-e45708486370",
   "metadata": {},
   "outputs": [],
   "source": [
    "c = car(2021 , \"toyata\" , \"innova\" , 12)"
   ]
  },
  {
   "cell_type": "code",
   "execution_count": 17,
   "id": "31d29178-7f1b-4ecb-a02c-34057dfef82a",
   "metadata": {},
   "outputs": [
    {
     "data": {
      "text/plain": [
       "2021"
      ]
     },
     "execution_count": 17,
     "metadata": {},
     "output_type": "execute_result"
    }
   ],
   "source": [
    "c._car__year"
   ]
  },
  {
   "cell_type": "code",
   "execution_count": 18,
   "id": "5890b313-36a1-457b-9aa8-7f248bac69be",
   "metadata": {},
   "outputs": [],
   "source": [
    "c.set_speed(-3245)"
   ]
  },
  {
   "cell_type": "code",
   "execution_count": 19,
   "id": "bc16a1db-c4be-41a9-9011-d7ff591ea7ce",
   "metadata": {},
   "outputs": [
    {
     "data": {
      "text/plain": [
       "0"
      ]
     },
     "execution_count": 19,
     "metadata": {},
     "output_type": "execute_result"
    }
   ],
   "source": [
    "c.get_speed()"
   ]
  },
  {
   "cell_type": "code",
   "execution_count": 20,
   "id": "795353ee-2aed-41da-b518-62c1e8702d4e",
   "metadata": {},
   "outputs": [],
   "source": [
    "c.set_speed(234)"
   ]
  },
  {
   "cell_type": "code",
   "execution_count": 21,
   "id": "3cfa09ec-419d-4f9b-8898-3f538db8d67b",
   "metadata": {},
   "outputs": [
    {
     "data": {
      "text/plain": [
       "234"
      ]
     },
     "execution_count": 21,
     "metadata": {},
     "output_type": "execute_result"
    }
   ],
   "source": [
    "c.get_speed()"
   ]
  },
  {
   "cell_type": "code",
   "execution_count": null,
   "id": "d15b3fcf-cc1e-4307-b052-3e00d2f48172",
   "metadata": {},
   "outputs": [],
   "source": [
    "#Q5.What is method overriding in python? Write a python code to demonstrate method overriding"
   ]
  },
  {
   "cell_type": "code",
   "execution_count": null,
   "id": "5f388a4f-5678-4ef6-8467-51e8d16a9dde",
   "metadata": {},
   "outputs": [],
   "source": [
    "Method overriding is a concept in object-oriented programming where a subclass provides its own implementation of a method that is already defined in its superclass."
   ]
  },
  {
   "cell_type": "code",
   "execution_count": 22,
   "id": "a0f5e870-369f-4525-930b-4bdc741867c5",
   "metadata": {},
   "outputs": [
    {
     "name": "stdout",
     "output_type": "stream",
     "text": [
      "Animal is making a sound.\n",
      "Dog is barking.\n"
     ]
    }
   ],
   "source": [
    "class Animal:\n",
    "    def speak(self):\n",
    "        print(\"Animal is making a sound.\")\n",
    "        \n",
    "class Dog(Animal):\n",
    "    def speak(self):\n",
    "        print(\"Dog is barking.\")\n",
    "\n",
    "# Creating instances of\n",
    "animal = Animal()\n",
    "dog = Dog()\n",
    "\n",
    "# Calling the speak method of the Animal class\n",
    "animal.speak()  # Output: Animal is making a sound.\n",
    "\n",
    "# Calling the speak method of the Dog class (overridden method)\n",
    "dog.speak()     # Output: Dog is barking.\n"
   ]
  },
  {
   "cell_type": "code",
   "execution_count": null,
   "id": "1bd51dfa-62e7-4ed6-ad47-540dc9f4b999",
   "metadata": {},
   "outputs": [],
   "source": []
  }
 ],
 "metadata": {
  "kernelspec": {
   "display_name": "Python 3 (ipykernel)",
   "language": "python",
   "name": "python3"
  },
  "language_info": {
   "codemirror_mode": {
    "name": "ipython",
    "version": 3
   },
   "file_extension": ".py",
   "mimetype": "text/x-python",
   "name": "python",
   "nbconvert_exporter": "python",
   "pygments_lexer": "ipython3",
   "version": "3.10.8"
  }
 },
 "nbformat": 4,
 "nbformat_minor": 5
}
