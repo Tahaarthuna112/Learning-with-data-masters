{
 "cells": [
  {
   "cell_type": "code",
   "execution_count": null,
   "id": "de8dc6c5-88ce-4fe0-a33e-3940c7075171",
   "metadata": {},
   "outputs": [],
   "source": [
    "Q1. Explain GET and POST methods."
   ]
  },
  {
   "cell_type": "code",
   "execution_count": null,
   "id": "4904ec68-4018-442f-bb99-05036e57201f",
   "metadata": {},
   "outputs": [],
   "source": [
    "GET and POST are two HTTP methods used in web communication to request and send data between a client (usually a web browser) and a server. They serve different purposes and have distinct characteristics:\n",
    "\n",
    "GET Method:\n",
    "Purpose: The GET method is primarily used to request data from a server. It is designed for retrieving information and should not have any side effects on the server or the data."
   ]
  },
  {
   "cell_type": "code",
   "execution_count": null,
   "id": "df02d63f-788b-4e24-a03a-3e64626e300a",
   "metadata": {},
   "outputs": [],
   "source": [
    "POST Method:\n",
    "Purpose: The POST method is used to submit data to the server to be processed. It is typically used for actions that may have side effects, such as creating a new resource on the server or updating an existing one."
   ]
  },
  {
   "cell_type": "code",
   "execution_count": null,
   "id": "9af69af4-545b-4fd1-ab49-efa2cb7f9592",
   "metadata": {},
   "outputs": [],
   "source": [
    "Q2. Why is request used in Flask?"
   ]
  },
  {
   "cell_type": "code",
   "execution_count": null,
   "id": "b23715d2-926a-4ccd-ab2c-aa6851f21b82",
   "metadata": {},
   "outputs": [],
   "source": [
    "In Flask, the request object is used to access and interact with incoming HTTP requests made by clients (typically web browsers) to your Flask application. It provides a way to access various parts of an HTTP request, such as the URL parameters, form data, headers, and more. The request object is a fundamental component of handling incoming requests and is essential for building web applications with Flask.\n",
    "\n",
    "Here are some common reasons why the request object is used in Flask:"
   ]
  },
  {
   "cell_type": "code",
   "execution_count": null,
   "id": "140cf8a5-4a67-4481-9510-981129b1c625",
   "metadata": {},
   "outputs": [],
   "source": [
    "1.Accessing Request Data\n",
    "2.Route Handling\n",
    "3.Session Management \n",
    "4.Request Headers\n",
    "5.File Uploads"
   ]
  },
  {
   "cell_type": "code",
   "execution_count": null,
   "id": "5f785b49-241d-4431-ab09-0f4ca7493340",
   "metadata": {},
   "outputs": [],
   "source": [
    "Q3. Why is redirect() used in Flask?"
   ]
  },
  {
   "cell_type": "code",
   "execution_count": null,
   "id": "44ca6382-60e3-41f8-8194-745e2c5d2787",
   "metadata": {},
   "outputs": [],
   "source": [
    "In Flask, the redirect() function is used to perform a client-side redirect to a different URL or route within your web application. Redirects are a fundamental part of web development and are used for various purposes. Here's why redirect() is commonly used in Flask applications:"
   ]
  },
  {
   "cell_type": "code",
   "execution_count": null,
   "id": "fe8b070c-df34-4ee5-a945-d4036c37d01c",
   "metadata": {},
   "outputs": [],
   "source": [
    "1.URL Navigation\n",
    "2.Handling Form Submissions\n",
    "3.Changing URLs\n",
    "4.Authentication And Authorisation"
   ]
  },
  {
   "cell_type": "code",
   "execution_count": null,
   "id": "039a7351-a55f-45aa-a204-f33c19f8751a",
   "metadata": {},
   "outputs": [],
   "source": [
    "Q4. What are templates in Flask? Why is the render_template() function used?"
   ]
  },
  {
   "cell_type": "code",
   "execution_count": null,
   "id": "38a6e41c-5c5f-4bc2-b26e-8e4aaafb4fa1",
   "metadata": {},
   "outputs": [],
   "source": [
    "In Flask, templates are used to separate the presentation (HTML) of a web application from its logic (Python code). Templates allow you to create dynamic web pages by embedding placeholders for data that can be filled in when the page is rendered. The render_template() function in Flask is used to render these templates and generate HTML pages dynamically. Here's why templates and the render_template() function are important:"
   ]
  },
  {
   "cell_type": "code",
   "execution_count": null,
   "id": "393aeace-3037-47cd-88a4-830ec699c7ab",
   "metadata": {},
   "outputs": [],
   "source": [
    "1.Separation Of Corners\n",
    "2.Dynamic Content\n",
    "3.Reuse\n",
    "4.Template Inheritance\n",
    "5.Integration With Jinja2"
   ]
  },
  {
   "cell_type": "code",
   "execution_count": null,
   "id": "eb44776d-928e-4a2a-8239-18c84b424309",
   "metadata": {},
   "outputs": [],
   "source": [
    "Q5. Create a simple API. Use Postman to test it. Attach the screenshot of the output in the Jupyter Notebook"
   ]
  },
  {
   "cell_type": "code",
   "execution_count": null,
   "id": "ea755d3c-63bb-4fd1-bba9-171a9cda75b5",
   "metadata": {},
   "outputs": [],
   "source": [
    "from flask import Flask, jsonify\n",
    "\n",
    "app = Flask(__name__)\n",
    "\n",
    "@app.route('/api', methods=['POST'])\n",
    "def get_data():\n",
    "    data = {\"message\": \"Hello, this is a simple API!\"}\n",
    "    return jsonify(data)\n",
    "\n",
    "if __name__==\"__main__\":\n",
    "    app.run(host=\"0.0.0.0\")\n"
   ]
  },
  {
   "cell_type": "code",
   "execution_count": null,
   "id": "8f73099c-11ac-4889-85b4-18c1599cd49e",
   "metadata": {},
   "outputs": [],
   "source": []
  }
 ],
 "metadata": {
  "kernelspec": {
   "display_name": "Python 3 (ipykernel)",
   "language": "python",
   "name": "python3"
  },
  "language_info": {
   "codemirror_mode": {
    "name": "ipython",
    "version": 3
   },
   "file_extension": ".py",
   "mimetype": "text/x-python",
   "name": "python",
   "nbconvert_exporter": "python",
   "pygments_lexer": "ipython3",
   "version": "3.10.8"
  }
 },
 "nbformat": 4,
 "nbformat_minor": 5
}
