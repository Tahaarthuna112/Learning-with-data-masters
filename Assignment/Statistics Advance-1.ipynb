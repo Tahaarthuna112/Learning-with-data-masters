{
 "cells": [
  {
   "cell_type": "code",
   "execution_count": null,
   "id": "64349eb6-3195-4e2c-a1d5-cbd8f65069b5",
   "metadata": {},
   "outputs": [],
   "source": [
    "Q1. What is the Probability density function?"
   ]
  },
  {
   "cell_type": "code",
   "execution_count": null,
   "id": "1843375c-b198-4d30-8e2c-b97bfc2c97e6",
   "metadata": {},
   "outputs": [],
   "source": [
    "The Probability Density Function (PDF) is a concept in probability theory and statistics that describes the likelihood of a continuous random variable falling within a particular range of values. In simpler terms, the PDF represents the probability distribution of a continuous random variable.\n",
    "\n",
    "For a continuous random variable \\(X\\), the PDF is denoted by \\(f(x)\\), and it satisfies the following properties:\n",
    "\n",
    "1. The probability that \\(X\\) falls in any interval \\((a, b)\\) is given by the integral of the PDF over that interval:\n",
    "\n",
    "   \\[ P(a < X < b) = \\int_{a}^{b} f(x) \\,dx \\]\n",
    "\n",
    "2. The total area under the PDF curve over the entire range of possible values is equal to 1:\n",
    "\n",
    "   \\[ \\int_{-\\infty}^{\\infty} f(x) \\,dx = 1 \\]\n",
    "\n",
    "In graphical terms, the PDF is often represented as a curve on a coordinate plane. The height of the curve at a particular point represents the probability density at that point. It's important to note that the probability of a specific point is technically zero in a continuous distribution, and probabilities are defined for intervals instead.\n",
    "\n",
    "The cumulative distribution function (CDF) is related to the PDF. The CDF gives the probability that a random variable \\(X\\) is less than or equal to a specified value. It is the integral of the PDF up to that point.\n",
    "\n",
    "\\[ F(x) = \\int_{-\\infty}^{x} f(t) \\,dt \\]\n",
    "\n",
    "In summary, the PDF is a fundamental concept in probability theory, providing a way to model and understand the likelihood of different outcomes in continuous random variables."
   ]
  },
  {
   "cell_type": "code",
   "execution_count": null,
   "id": "75e959e0-f614-4ac1-8531-ed2c7fef232f",
   "metadata": {},
   "outputs": [],
   "source": [
    "Q2. What are the types of Probability distribution?"
   ]
  },
  {
   "cell_type": "code",
   "execution_count": null,
   "id": "b692fed8-c2b1-4fdb-af33-b625253f1c2c",
   "metadata": {},
   "outputs": [],
   "source": [
    "There are several types of probability distributions, and they can be broadly categorized into two main classes: discrete probability distributions and continuous probability distributions.\n",
    "\n",
    "1. Discrete Probability Distributions:\n",
    "   - Bernoulli Distribution: A distribution with two possible outcomes, often labeled as success and failure (e.g., a coin flip).\n",
    "   - Binomial Distribution: Describes the number of successes in a fixed number of independent Bernoulli trials (e.g., the number of heads in a series of coin flips).\n",
    "   - Poisson Distribution: Models the number of events that occur in a fixed interval of time or space, given a known average rate of occurrence.\n",
    "\n",
    "2. Continuous Probability Distributions:\n",
    "   - Uniform Distribution: All outcomes are equally likely within a given range (e.g., a continuous fair die roll).\n",
    "   - Normal Distribution (Gaussian Distribution): Symmetric bell-shaped curve characterized by its mean and standard deviation. Many natural phenomena follow this distribution.\n",
    "   - Exponential Distribution: Describes the time between events in a Poisson process, where events occur continuously and independently at a constant average rate.\n",
    "   - Gamma Distribution: Generalizes the exponential distribution and is used to model the waiting time until a Poisson process reaches a certain number of events.\n",
    "   - Beta Distribution: Often used to model the distribution of random variables limited to intervals (e.g., probabilities).\n",
    "\n",
    "3. Joint Probability Distributions:\n",
    "   - Multinomial Distribution: Generalization of the binomial distribution to more than two categories.\n",
    "   - Multivariate Normal Distribution: Extension of the normal distribution to multiple dimensions.\n",
    "\n",
    "4. Other Distributions:\n",
    "   - Logistic Distribution: Used in logistic regression and modeling binary outcomes.\n",
    "   - Cauchy Distribution: Similar to the normal distribution but with heavier tails.\n",
    "   - Weibull Distribution: Used in reliability engineering to model time until failure."
   ]
  },
  {
   "cell_type": "code",
   "execution_count": null,
   "id": "56178dba-4664-4b26-b8f0-dada66d5477b",
   "metadata": {},
   "outputs": [],
   "source": [
    "Q3. Write a Python function to calculate the probability density function of a normal distribution with \n",
    "given mean and standard deviation at a given point."
   ]
  },
  {
   "cell_type": "code",
   "execution_count": 1,
   "id": "f9786a90-d948-4ec4-a634-2912d8d95424",
   "metadata": {},
   "outputs": [],
   "source": [
    "import math\n",
    "\n",
    "def normal_pdf(x, mean, std_dev):\n",
    "    \"\"\"\n",
    "    Calculates the probability density function (PDF) of a normal distribution\n",
    "    with a given mean and standard deviation at a given point x.\n",
    "    \"\"\"\n",
    "    variance = std_dev ** 2\n",
    "    exponent = -((x - mean) ** 2) / (2 * variance)\n",
    "    coefficient = 1 / math.sqrt(2 * math.pi * variance)\n",
    "    pdf = coefficient * math.exp(exponent)\n",
    "    return pdf"
   ]
  },
  {
   "cell_type": "code",
   "execution_count": 2,
   "id": "554039d9-92ef-42e4-9460-f700d0dd4b79",
   "metadata": {},
   "outputs": [
    {
     "data": {
      "text/plain": [
       "0.2129653370149015"
      ]
     },
     "execution_count": 2,
     "metadata": {},
     "output_type": "execute_result"
    }
   ],
   "source": [
    "normal_pdf(x=3,mean=2,std_dev=1.5)"
   ]
  },
  {
   "cell_type": "code",
   "execution_count": null,
   "id": "9e4ba042-f0fd-4938-a814-4fdae6257ce4",
   "metadata": {},
   "outputs": [],
   "source": [
    "Q4. What are the properties of Binomial distribution? Give two examples of events where binomial \n",
    "distribution can be applied?"
   ]
  },
  {
   "cell_type": "code",
   "execution_count": null,
   "id": "8b9987ca-0bfa-410b-ae8e-6dc7d834b1c6",
   "metadata": {},
   "outputs": [],
   "source": [
    "The Binomial distribution is a discrete probability distribution that describes the number of successes in a fixed number of independent Bernoulli trials, where each trial has only two possible outcomes: success or failure. The properties of the Binomial distribution include:\n",
    "\n",
    "1. Fixed Number of Trials (n): The number of trials (experiments or observations) is fixed in advance.\n",
    "\n",
    "2. Independent Trials: The trials are independent of each other, meaning the outcome of one trial does not affect the outcome of another.\n",
    "\n",
    "3. Two Possible Outcomes: Each trial results in one of two mutually exclusive outcomes, often labeled as success (S) and failure (F).\n",
    "\n",
    "4. Constant Probability of Success (p): The probability of success (P(S)) is the same for each trial. The probability of failure (P(F)) is then 1 - P(S).\n",
    "\n",
    "5. Discreteness: The random variable representing the number of successes is a discrete variable, taking on non-negative integer values.\n",
    "\n",
    "The probability mass function (PMF) of the Binomial distribution is given by:\n",
    "\n",
    "\\[ P(X = k) = \\binom{n}{k} p^k (1 - p)^{n - k} \\]\n",
    "\n",
    "where:\n",
    "- \\( n \\) is the number of trials,\n",
    "- \\( k \\) is the number of successes,\n",
    "- \\( p \\) is the probability of success in a single trial,\n",
    "- \\( \\binom{n}{k} \\) is the binomial coefficient, representing the number of ways to choose \\( k \\) successes from \\( n \\) trials.\n",
    "\n",
    "Two examples of events where the Binomial distribution can be applied are:\n",
    "\n",
    "1. Coin Flips: The number of heads obtained when flipping a biased coin with a known probability of heads.\n",
    "\n",
    "2. Quality Control: The number of defective items in a sample of a fixed size taken from a production line where each item can be either defective or non-defective.\n",
    "\n",
    "In both cases, there is a fixed number of trials, each trial has two possible outcomes, the trials are independent, and the probability of success (or failure) is constant across trials. These characteristics make the Binomial distribution suitable for modeling such scenarios."
   ]
  },
  {
   "cell_type": "code",
   "execution_count": null,
   "id": "a78f7627-9ecd-405b-8466-b59c1c65065c",
   "metadata": {},
   "outputs": [],
   "source": [
    "Q5. Generate a random sample of size 1000 from a binomial distribution with probability of success 0.4 \n",
    "and plot a histogram of the results using matplotlib."
   ]
  },
  {
   "cell_type": "code",
   "execution_count": 3,
   "id": "891b325c-057d-4208-a1f3-206333422ec2",
   "metadata": {},
   "outputs": [
    {
     "data": {
      "image/png": "[encoded data removed]",
      "text/plain": [
       "<Figure size 640x480 with 1 Axes>"
      ]
     },
     "metadata": {},
     "output_type": "display_data"
    }
   ],
   "source": [
    "import numpy as np\n",
    "import matplotlib.pyplot as plt\n",
    "\n",
    "# Generate a random sample of size 1000 from a Binomial distribution\n",
    "n = 1000  # Sample size\n",
    "p = 0.4  # Probability of success\n",
    "sample = np.random.binomial(n, p, size=1000)\n",
    "\n",
    "# Plot a histogram of the results using Fredman diaconis rule i.e. bins='fd'\n",
    "plt.hist(sample,bins='fd',density=True, edgecolor='black')\n",
    "plt.xlabel('Number of Successes')\n",
    "plt.ylabel('Probability')\n",
    "plt.title('Binomial Distribution (n=1000, p=0.4)')\n",
    "plt.show()"
   ]
  },
  {
   "cell_type": "code",
   "execution_count": null,
   "id": "6f67d37c-66d0-4b54-bf48-68557c9e8c97",
   "metadata": {},
   "outputs": [],
   "source": [
    "Q6. Write a Python function to calculate the cumulative distribution function of a Poisson distribution \n",
    "with given mean at a given point."
   ]
  },
  {
   "cell_type": "code",
   "execution_count": 4,
   "id": "b74244c0-b352-476a-b1be-fca352a47df7",
   "metadata": {},
   "outputs": [],
   "source": [
    "import math\n",
    "\n",
    "def poisson_cdf(mean, point):\n",
    "    \"\"\"\n",
    "    Calculates the cumulative distribution function of a \n",
    "    Poisson distribution with given mean at a given point\n",
    "    \"\"\"\n",
    "    cdf = 0\n",
    "    for k in range(point + 1):\n",
    "        cdf = cdf + math.exp(-mean) * pow(mean, k) / math.factorial(k)\n",
    "    return cdf\n"
   ]
  },
  {
   "cell_type": "code",
   "execution_count": 5,
   "id": "fa39ad33-e947-485b-bc8c-a07524764da4",
   "metadata": {},
   "outputs": [
    {
     "name": "stdout",
     "output_type": "stream",
     "text": [
      "Poison cdf for mean = 4 at x = 2 is 0.2381\n"
     ]
    }
   ],
   "source": [
    "result = poisson_cdf(mean=4,point=2)\n",
    "print(f'Poison cdf for mean = 4 at x = 2 is {round(result,4)}')"
   ]
  },
  {
   "cell_type": "code",
   "execution_count": 6,
   "id": "18a85359-1407-4b85-84ac-a3517e2274b7",
   "metadata": {},
   "outputs": [
    {
     "data": {
      "text/plain": [
       "0.23810330555354436"
      ]
     },
     "execution_count": 6,
     "metadata": {},
     "output_type": "execute_result"
    }
   ],
   "source": [
    "from scipy.stats import poisson\n",
    "poisson.cdf(2,mu=4)"
   ]
  },
  {
   "cell_type": "code",
   "execution_count": null,
   "id": "2bc5746a-3fea-4ed6-b446-992c018c1636",
   "metadata": {},
   "outputs": [],
   "source": [
    "Q7. How Binomial distribution different from Poisson distribution"
   ]
  },
  {
   "cell_type": "code",
   "execution_count": null,
   "id": "5b8fc039-1d4b-4f98-8637-af5049316ad4",
   "metadata": {},
   "outputs": [],
   "source": [
    "The Binomial distribution and the Poisson distribution are both probability distributions, but they are used in different scenarios and have distinct characteristics. Here are the key differences between the Binomial distribution and the Poisson distribution:\n",
    "\n",
    "1. Nature of the Processes:\n",
    "   - Binomial Distribution: It is used to model the number of successes in a fixed number of independent Bernoulli trials, where each trial has two possible outcomes (success or failure).\n",
    "   - Poisson Distribution: It is used to model the number of events that occur in a fixed interval of time or space, given a known average rate of occurrence.\n",
    "\n",
    "2. Number of Trials:\n",
    "   - Binomial Distribution: The number of trials is fixed and known in advance.\n",
    "   - Poisson Distribution: The number of events is not fixed; instead, the distribution describes the number of events in a fixed interval.\n",
    "\n",
    "3. Possible Outcomes:\n",
    "   - Binomial Distribution: Each trial has two possible outcomes (success or failure).\n",
    "   - Poisson Distribution: There is an unlimited number of possible events in the given interval.\n",
    "\n",
    "4. Probability of Success:\n",
    "   - Binomial Distribution: Each trial has a constant probability of success.\n",
    "   - Poisson Distribution: Describes the number of events in a continuous process with a low probability of occurrence.\n",
    "\n",
    "5. Assumptions:\n",
    "   - Binomial Distribution: Assumes a fixed number of trials, independence between trials, and constant probability of success.\n",
    "   - Poisson Distribution: Assumes events occur independently, and the probability of an event occurring in a very short time interval is proportional to the length of the interval.\n",
    "\n",
    "6. Parameterization:\n",
    "   - Binomial Distribution: Characterized by two parameters - the number of trials (\\(n\\)) and the probability of success (\\(p\\)).\n",
    "   - Poisson Distribution: Characterized by one parameter - the average rate of events (\\(\\lambda\\)).\n",
    "\n",
    "7. Applicability:\n",
    "   - Binomial Distribution: Applicable when dealing with a fixed number of trials and discrete outcomes.\n",
    "   - Poisson Distribution: Applicable when dealing with a large number of trials or events over a continuous interval.\n",
    "\n",
    "In summary, while both the Binomial and Poisson distributions involve counting events, they are applied in different contexts based on the nature of the underlying process and the characteristics of the data being modeled. The choice between them depends on the specific details of the problem at hand."
   ]
  },
  {
   "cell_type": "code",
   "execution_count": null,
   "id": "6feb5632-f724-4c9e-94ea-8c03f22713ba",
   "metadata": {},
   "outputs": [],
   "source": [
    "Q8. Generate a random sample of size 1000 from a Poisson distribution with mean 5 and calculate the \n",
    "sample mean and variance."
   ]
  },
  {
   "cell_type": "code",
   "execution_count": 8,
   "id": "8f891d9c-9815-4b01-bfcc-82888a8ede93",
   "metadata": {},
   "outputs": [
    {
     "name": "stdout",
     "output_type": "stream",
     "text": [
      "Sample Mean: 4.851\n",
      "Sample Variance: 4.950799\n"
     ]
    }
   ],
   "source": [
    "import numpy as np\n",
    "mean_value = 5  \n",
    "poisson_sample = np.random.poisson(mean_value, size=1000)\n",
    "sample_mean = np.mean(poisson_sample)\n",
    "sample_variance = np.var(poisson_sample)\n",
    "print(f\"Sample Mean: {sample_mean}\")\n",
    "print(f\"Sample Variance: {sample_variance}\")"
   ]
  },
  {
   "cell_type": "code",
   "execution_count": null,
   "id": "83ac5267-a607-4ba0-8665-269ce9bbcfbb",
   "metadata": {},
   "outputs": [],
   "source": [
    "Q9. How mean and variance are related in Binomial distribution and Poisson distribution?"
   ]
  },
  {
   "cell_type": "code",
   "execution_count": null,
   "id": "8683b3bb-6722-4833-b9df-edab5afe6ee6",
   "metadata": {},
   "outputs": [],
   "source": [
    "The relationship between mean (\\(\\mu\\)) and variance (\\(\\sigma^2\\)) in both the Binomial distribution and the Poisson distribution is influenced by the specific characteristics of each distribution. Let's explore the relationships for each distribution:\n",
    "\n",
    "### Binomial Distribution:\n",
    "\n",
    "For a Binomial distribution with parameters \\(n\\) (number of trials) and \\(p\\) (probability of success in each trial), the mean and variance are related as follows:\n",
    "\n",
    "- Mean (\\(\\mu\\)): \\(\\mu = np\\)\n",
    "- Variance (\\(\\sigma^2\\)): \\(\\sigma^2 = np(1-p)\\)\n",
    "\n",
    "So, in the Binomial distribution, the variance is influenced by both the number of trials (\\(n\\)) and the probability of success in each trial (\\(p\\)). As the probability of success increases or decreases, the variance tends to change accordingly.\n",
    "\n",
    "### Poisson Distribution:\n",
    "\n",
    "For a Poisson distribution with parameter \\(\\lambda\\) (average rate of events), the mean and variance are equal and are given by:\n",
    "\n",
    "- Mean (\\(\\mu\\)): \\(\\mu = \\lambda\\)\n",
    "- Variance (\\(\\sigma^2\\)): \\(\\sigma^2 = \\lambda\\)\n",
    "\n",
    "In the Poisson distribution, the mean and variance are both equal to the average rate of events (\\(\\lambda\\)). This reflects the assumption that in a Poisson process, the events are occurring independently, and the variance of the number of events in a fixed interval is equal to the mean.\n",
    "\n",
    "### Summary:\n",
    "\n",
    "- In the Binomial distribution, the variance depends on both the number of trials and the probability of success, leading to a more flexible relationship between mean and variance.\n",
    "  \n",
    "- In the Poisson distribution, the mean and variance are equal, emphasizing the simplicity of the distribution and the assumption that events occur independently at a constant average rate.\n",
    "\n",
    "In both cases, understanding the mean and variance is crucial for characterizing the spread and central tendency of the distribution, and it provides insights into the underlying processes being modeled."
   ]
  },
  {
   "cell_type": "code",
   "execution_count": null,
   "id": "3493825a-2b3a-4286-8a24-df1343c89452",
   "metadata": {},
   "outputs": [],
   "source": [
    "Q10. In normal distribution with respect to mean position, where does the least frequent data appear?"
   ]
  },
  {
   "cell_type": "code",
   "execution_count": null,
   "id": "eb3d4ae0-6028-4d61-b86b-0ec02f13857c",
   "metadata": {},
   "outputs": [],
   "source": [
    "In a normal distribution (also known as a Gaussian distribution), the least frequent data points appear in the tails of the distribution, farthest away from the mean. The normal distribution is symmetric, and the probability density is highest around the mean.\n",
    "\n",
    "The normal distribution is characterized by its mean (\\(\\mu\\)) and standard deviation (\\(\\sigma\\)). The distribution is bell-shaped, and approximately 68% of the data falls within one standard deviation of the mean, 95% within two standard deviations, and 99.7% within three standard deviations, according to the empirical rule (also known as the 68-95-99.7 rule).\n",
    "\n",
    "The tails of the distribution, beyond three standard deviations from the mean, contain a very small percentage of the data. Therefore, data points in these extreme tails are the least frequent in a normal distribution.\n",
    "\n",
    "In summary, the least frequent data points in a normal distribution are found in the tails, where values are significantly higher or lower than the mean."
   ]
  },
  {
   "cell_type": "code",
   "execution_count": null,
   "id": "7147382d-5d9d-439e-8a3f-be5abbf68128",
   "metadata": {},
   "outputs": [],
   "source": []
  }
 ],
 "metadata": {
  "kernelspec": {
   "display_name": "Python 3 (ipykernel)",
   "language": "python",
   "name": "python3"
  },
  "language_info": {
   "codemirror_mode": {
    "name": "ipython",
    "version": 3
   },
   "file_extension": ".py",
   "mimetype": "text/x-python",
   "name": "python",
   "nbconvert_exporter": "python",
   "pygments_lexer": "ipython3",
   "version": "3.10.8"
  }
 },
 "nbformat": 4,
 "nbformat_minor": 5
}
