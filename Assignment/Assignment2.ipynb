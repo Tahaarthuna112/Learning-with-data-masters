{
 "cells": [
  {
   "cell_type": "code",
   "execution_count": null,
   "id": "ad128d4e-31a8-455d-8732-b60d4dff69bc",
   "metadata": {},
   "outputs": [],
   "source": [
    "#Q1. How do you comment code in Python? What are the different types of comments?"
   ]
  },
  {
   "cell_type": "code",
   "execution_count": null,
   "id": "d455ad20-3009-404e-84ce-5c19f4122e23",
   "metadata": {},
   "outputs": [],
   "source": [
    "In Python we use # to write a single line comment ....python also supports multi lines comments which can be ..."
   ]
  },
  {
   "cell_type": "code",
   "execution_count": null,
   "id": "e97fe279-6dcc-46a4-8d71-df288f0854d0",
   "metadata": {},
   "outputs": [],
   "source": [
    "represented by double cotations \"\"\"    \"\"\" example.."
   ]
  },
  {
   "cell_type": "code",
   "execution_count": null,
   "id": "c0c632cb-691c-4af9-bd08-812e08538398",
   "metadata": {},
   "outputs": [],
   "source": [
    "\"\"\"\n",
    "This is Python Jupiter notebook\n",
    "we use this to code python programms\n",
    "\"\"\""
   ]
  },
  {
   "cell_type": "code",
   "execution_count": null,
   "id": "b3f1f959-8908-4e8f-9cfb-95b65fcbab32",
   "metadata": {},
   "outputs": [],
   "source": [
    "# Q2. What are variables in Python? How do you declare and assign values to variables?"
   ]
  },
  {
   "cell_type": "code",
   "execution_count": null,
   "id": "d8ec5b2a-fc15-42a2-a21a-9e11b8705866",
   "metadata": {},
   "outputs": [],
   "source": [
    "variable in python are used to store values ...they act as a container...example\n",
    "x = 10\n",
    "x = 20"
   ]
  },
  {
   "cell_type": "code",
   "execution_count": null,
   "id": "df8a69a6-f715-4784-83ab-f61388a9c3f2",
   "metadata": {},
   "outputs": [],
   "source": [
    "#How do you convert one data type to another in Python?"
   ]
  },
  {
   "cell_type": "code",
   "execution_count": null,
   "id": "1cd81afd-24c8-445f-b824-535350022e72",
   "metadata": {},
   "outputs": [],
   "source": [
    "python automatically converts one data type to another depends on what we type\n",
    "example..."
   ]
  },
  {
   "cell_type": "code",
   "execution_count": 1,
   "id": "ed464a32-434e-4bef-bcb1-81f1f7c8540d",
   "metadata": {},
   "outputs": [
    {
     "data": {
      "text/plain": [
       "int"
      ]
     },
     "execution_count": 1,
     "metadata": {},
     "output_type": "execute_result"
    }
   ],
   "source": [
    "x = 10\n",
    "type(x)"
   ]
  },
  {
   "cell_type": "code",
   "execution_count": 2,
   "id": "44249f05-74c9-4fa6-9c3c-bb91fa3f3ded",
   "metadata": {},
   "outputs": [
    {
     "data": {
      "text/plain": [
       "float"
      ]
     },
     "execution_count": 2,
     "metadata": {},
     "output_type": "execute_result"
    }
   ],
   "source": [
    "y = 20.55\n",
    "type(y)"
   ]
  },
  {
   "cell_type": "code",
   "execution_count": null,
   "id": "a741666f-67b4-4248-9008-cb98b6741a27",
   "metadata": {},
   "outputs": [],
   "source": [
    "#Q4. How do you write and execute a Python script from the command line?"
   ]
  },
  {
   "cell_type": "code",
   "execution_count": null,
   "id": "2ac1ea97-cd2b-4475-8eea-2e60b65b6684",
   "metadata": {},
   "outputs": [],
   "source": [
    "import py_compile\n",
    "py_compile.compile('first_script.py' \n",
    "'__pycache__\\\\first_script.cpython-37.pyc' "
   ]
  },
  {
   "cell_type": "code",
   "execution_count": null,
   "id": "9c841cf9-bc7f-40aa-bf02-195e8453d25a",
   "metadata": {},
   "outputs": [],
   "source": [
    "py_compile is a module that behaves like the import statement. It generates two functions— one to generate the bytecode from the source file and another when the source file is invoked as a script."
   ]
  },
  {
   "cell_type": "code",
   "execution_count": null,
   "id": "e8b71887-b8ec-4906-8f6f-9fcf0b06e083",
   "metadata": {},
   "outputs": [],
   "source": [
    "# Q5) Given a list my_list = [1, 2, 3, 4, 5], write the code to slice the list and obtain the sub-list [2, 3]."
   ]
  },
  {
   "cell_type": "code",
   "execution_count": 5,
   "id": "1dc0dfb1-02e0-4137-b944-e7aac9274f17",
   "metadata": {},
   "outputs": [
    {
     "name": "stdout",
     "output_type": "stream",
     "text": [
      "[2, 3]\n"
     ]
    }
   ],
   "source": [
    "l = [1,2,3,4,5]\n",
    "sub_list = l[1:3]\n",
    "print(sub_list)"
   ]
  },
  {
   "cell_type": "code",
   "execution_count": null,
   "id": "9c53fad9-255c-4f48-9b0a-78c276c21e37",
   "metadata": {},
   "outputs": [],
   "source": [
    "# Q6. What is a complex number in mathematics, and how is it represented in Python?"
   ]
  },
  {
   "cell_type": "code",
   "execution_count": null,
   "id": "9b28f212-3495-44bd-b70d-84427c408964",
   "metadata": {},
   "outputs": [],
   "source": [
    "Complex number in maths are the numbers in the form of a+bi where a and b are the integers\n",
    "and i is an imaginary number ..examples of complex number in python ... and in python we represent i with j"
   ]
  },
  {
   "cell_type": "code",
   "execution_count": 7,
   "id": "bf056cc4-f24b-4888-916e-1cc6056e4406",
   "metadata": {},
   "outputs": [
    {
     "data": {
      "text/plain": [
       "complex"
      ]
     },
     "execution_count": 7,
     "metadata": {},
     "output_type": "execute_result"
    }
   ],
   "source": [
    "z = 7+8j\n",
    "type(z)"
   ]
  },
  {
   "cell_type": "code",
   "execution_count": 8,
   "id": "7ba35fd9-6b86-4b3d-b9bf-c5f4c6afb61d",
   "metadata": {},
   "outputs": [
    {
     "data": {
      "text/plain": [
       "complex"
      ]
     },
     "execution_count": 8,
     "metadata": {},
     "output_type": "execute_result"
    }
   ],
   "source": [
    "z = 9+77j\n",
    "type(z)"
   ]
  },
  {
   "cell_type": "code",
   "execution_count": null,
   "id": "b3c2078c-d88f-4b81-9a94-642e96a231d2",
   "metadata": {},
   "outputs": [],
   "source": [
    "# Q7. What is the correct way to declare a variable named age and assign the value 25 to it?"
   ]
  },
  {
   "cell_type": "code",
   "execution_count": null,
   "id": "59acc08f-64fa-4b4d-bcf6-3bf2dfd46624",
   "metadata": {},
   "outputs": [],
   "source": [
    "the correct way to assign 25 as a value to it is as follows"
   ]
  },
  {
   "cell_type": "code",
   "execution_count": null,
   "id": "f885fdd1-a40b-421e-8d9a-8660a9c5c8aa",
   "metadata": {},
   "outputs": [],
   "source": [
    "age = 25"
   ]
  },
  {
   "cell_type": "code",
   "execution_count": null,
   "id": "fa8d6065-b42f-48a3-a8d8-6c083dc0afc6",
   "metadata": {},
   "outputs": [],
   "source": [
    "# Q8. Declare a variable named price and assign the value 9.99 to it. What data type does this variable\n",
    "belong to?"
   ]
  },
  {
   "cell_type": "code",
   "execution_count": 2,
   "id": "2c1613e5-af61-4b43-baef-8056eaf1121a",
   "metadata": {},
   "outputs": [
    {
     "data": {
      "text/plain": [
       "float"
      ]
     },
     "execution_count": 2,
     "metadata": {},
     "output_type": "execute_result"
    }
   ],
   "source": [
    "price = 9.99\n",
    "type(price)"
   ]
  },
  {
   "cell_type": "code",
   "execution_count": null,
   "id": "cfbf24d0-9208-4cc9-a176-4d02100e8bf0",
   "metadata": {},
   "outputs": [],
   "source": [
    "hence the above variable price data type is float.."
   ]
  },
  {
   "cell_type": "code",
   "execution_count": null,
   "id": "0d8078c2-4def-4598-9c3f-77fa1708b3fc",
   "metadata": {},
   "outputs": [],
   "source": [
    "# Q9. Create a variable named name and assign your full name to it as a string. How would you print the\n",
    "value of this variable?"
   ]
  },
  {
   "cell_type": "code",
   "execution_count": 6,
   "id": "b846ee0f-20fe-4c91-a39f-91cfef8d0122",
   "metadata": {},
   "outputs": [
    {
     "name": "stdout",
     "output_type": "stream",
     "text": [
      "Taha Arthuna\n"
     ]
    }
   ],
   "source": [
    "name = \"Taha Arthuna\"\n",
    "print(name)"
   ]
  },
  {
   "cell_type": "code",
   "execution_count": null,
   "id": "4d52ac61-3df5-4815-b4bc-6d12f8304b3f",
   "metadata": {},
   "outputs": [],
   "source": [
    "#Q10. Given the string \"Hello, World!\", extract the substring \"World\"."
   ]
  },
  {
   "cell_type": "code",
   "execution_count": 9,
   "id": "4362e8f8-53c3-43e5-875f-d53d348690b7",
   "metadata": {},
   "outputs": [
    {
     "name": "stdout",
     "output_type": "stream",
     "text": [
      "World\n"
     ]
    }
   ],
   "source": [
    "str = \"Hello, World!\"\n",
    "sub_str = str[7:12]\n",
    "print(sub_str)"
   ]
  },
  {
   "cell_type": "code",
   "execution_count": null,
   "id": "4980f3b2-ef1d-4668-a4ef-e67cecbfe4f2",
   "metadata": {},
   "outputs": [],
   "source": [
    "#Q11. Create a variable named \"is_student\" and assign it a boolean value indicating whether you are\n",
    "currently a student or not."
   ]
  }
 ],
 "metadata": {
  "kernelspec": {
   "display_name": "Python 3 (ipykernel)",
   "language": "python",
   "name": "python3"
  },
  "language_info": {
   "codemirror_mode": {
    "name": "ipython",
    "version": 3
   },
   "file_extension": ".py",
   "mimetype": "text/x-python",
   "name": "python",
   "nbconvert_exporter": "python",
   "pygments_lexer": "ipython3",
   "version": "3.10.8"
  }
 },
 "nbformat": 4,
 "nbformat_minor": 5
}
