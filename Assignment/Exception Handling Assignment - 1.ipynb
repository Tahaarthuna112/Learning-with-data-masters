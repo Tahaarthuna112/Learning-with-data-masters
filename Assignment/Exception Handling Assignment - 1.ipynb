{
 "cells": [
  {
   "cell_type": "code",
   "execution_count": null,
   "id": "780e4de8-3bea-46ce-b91d-e7b5ea968d18",
   "metadata": {},
   "outputs": [],
   "source": [
    "#Q1) what is exception in python? write the difference between exceptions and syntax errors"
   ]
  },
  {
   "cell_type": "code",
   "execution_count": null,
   "id": "9e86b441-8e2d-4b3a-b2f9-c5974a7d5210",
   "metadata": {},
   "outputs": [],
   "source": [
    "In Python, an exception is an event that occurs during the execution of a program that disrupts the normal flow of instructions. "
   ]
  },
  {
   "cell_type": "code",
   "execution_count": null,
   "id": "b2812942-160d-4643-83cd-ad028fe3a76c",
   "metadata": {},
   "outputs": [],
   "source": [
    "Key differences between exceptions and syntax errors:\n",
    "\n",
    "1.Nature of Occurrence:\n",
    "\n",
    "Exceptions: These are runtime errors that occur while the program is running and being executed\n",
    "\n",
    "Syntax Errors: These occur during the parsing or compilation phase, before the program starts running.\n",
    "2. Handling:\n",
    "    Exceptions: You can use try and except blocks to catch and handle exceptions. \n",
    "        \n",
    "    syntax: Since syntax errors prevent the program from running, they must be fixed in the code itself before the program can be executed.\n",
    "3. Run time impact:\n",
    "    Exceptions: They affect the program's runtime behavior and can be handled to prevent program crashes.\n",
    "Syntax Errors: They occur before the program starts running, so they need to be addressed before execution and do not impact runtime behavior."
   ]
  },
  {
   "cell_type": "code",
   "execution_count": null,
   "id": "a1149066-5c89-4279-9799-ba883009da69",
   "metadata": {},
   "outputs": [],
   "source": [
    "#Q2) what happens when an exception is not handeled? Explain with an example."
   ]
  },
  {
   "cell_type": "code",
   "execution_count": null,
   "id": "3ad223e0-534c-403a-b23d-86cc4dab1c46",
   "metadata": {},
   "outputs": [],
   "source": [
    "When an exception is not handled in a program, the program will crash, and an error message will be displayed that provides information about the unhandled exception and its traceback. This can be disruptive and undesirable for both the user and the developer."
   ]
  },
  {
   "cell_type": "code",
   "execution_count": 1,
   "id": "0a06bf6d-17da-49a3-be15-1b5d78ca7834",
   "metadata": {},
   "outputs": [
    {
     "name": "stdin",
     "output_type": "stream",
     "text": [
      "Enter a number:  0\n"
     ]
    },
    {
     "ename": "ZeroDivisionError",
     "evalue": "division by zero",
     "output_type": "error",
     "traceback": [
      "\u001b[0;31m---------------------------------------------------------------------------\u001b[0m",
      "\u001b[0;31mZeroDivisionError\u001b[0m                         Traceback (most recent call last)",
      "Cell \u001b[0;32mIn[1], line 3\u001b[0m\n\u001b[1;32m      1\u001b[0m \u001b[38;5;28;01mtry\u001b[39;00m:\n\u001b[1;32m      2\u001b[0m     num \u001b[38;5;241m=\u001b[39m \u001b[38;5;28mint\u001b[39m(\u001b[38;5;28minput\u001b[39m(\u001b[38;5;124m\"\u001b[39m\u001b[38;5;124mEnter a number: \u001b[39m\u001b[38;5;124m\"\u001b[39m))\n\u001b[0;32m----> 3\u001b[0m     result \u001b[38;5;241m=\u001b[39m \u001b[38;5;241;43m10\u001b[39;49m\u001b[43m \u001b[49m\u001b[38;5;241;43m/\u001b[39;49m\u001b[43m \u001b[49m\u001b[43mnum\u001b[49m\n\u001b[1;32m      4\u001b[0m     \u001b[38;5;28mprint\u001b[39m(\u001b[38;5;124m\"\u001b[39m\u001b[38;5;124mResult:\u001b[39m\u001b[38;5;124m\"\u001b[39m, result)\n\u001b[1;32m      5\u001b[0m \u001b[38;5;28;01mexcept\u001b[39;00m \u001b[38;5;167;01mValueError\u001b[39;00m:\n",
      "\u001b[0;31mZeroDivisionError\u001b[0m: division by zero"
     ]
    }
   ],
   "source": [
    "try:\n",
    "    num = int(input(\"Enter a number: \"))\n",
    "    result = 10 / num\n",
    "    print(\"Result:\", result)\n",
    "except ValueError:\n",
    "    print(\"Invalid input. Please enter a valid number.\")\n"
   ]
  },
  {
   "cell_type": "code",
   "execution_count": null,
   "id": "c870a4dc-af66-4848-a56f-3e7423f3be77",
   "metadata": {},
   "outputs": [],
   "source": [
    "#Q3) Which Python statements are used to catch and handle exceptions? Explain with an example?"
   ]
  },
  {
   "cell_type": "code",
   "execution_count": null,
   "id": "88f9c788-d248-4c76-a389-e72cc0b45bf6",
   "metadata": {},
   "outputs": [],
   "source": [
    "n Python, you can use try and except blocks to catch and handle exceptions. The try block contains the code that might raise an exception, and the except block specifies the code to be executed if a specific exception is raised within the try block. This allows you to gracefully handle errors and prevent your program from crashing."
   ]
  },
  {
   "cell_type": "code",
   "execution_count": 2,
   "id": "805c704e-f9e2-48f3-bf4c-d2097be78b63",
   "metadata": {},
   "outputs": [
    {
     "name": "stdin",
     "output_type": "stream",
     "text": [
      "Enter a number:  8\n"
     ]
    },
    {
     "name": "stdout",
     "output_type": "stream",
     "text": [
      "Result: 1.25\n"
     ]
    }
   ],
   "source": [
    "try:\n",
    "    num = int(input(\"Enter a number: \"))\n",
    "    result = 10 / num\n",
    "    print(\"Result:\", result)\n",
    "except ValueError:\n",
    "    print(\"Invalid input. Please enter a valid number.\")\n"
   ]
  },
  {
   "cell_type": "code",
   "execution_count": null,
   "id": "4641755e-4a67-4c06-9be7-e9f62dd6713b",
   "metadata": {},
   "outputs": [],
   "source": [
    "#Q4) Explain with an example\n",
    "a. try and else\n",
    "b. finally\n",
    "c. raise"
   ]
  },
  {
   "cell_type": "code",
   "execution_count": null,
   "id": "d540af2b-e087-4801-a0af-304f4c204e1c",
   "metadata": {},
   "outputs": [],
   "source": [
    "a. try, else, and except:\n",
    "\n",
    "The try, else, and except blocks allow you to handle exceptions while also having a separate section for code that should be executed when no exceptions occur."
   ]
  },
  {
   "cell_type": "code",
   "execution_count": 3,
   "id": "f9ed8aed-caf6-4c16-bcbf-95cf66904fa4",
   "metadata": {},
   "outputs": [
    {
     "name": "stdin",
     "output_type": "stream",
     "text": [
      "Enter a number:  0\n"
     ]
    },
    {
     "name": "stdout",
     "output_type": "stream",
     "text": [
      "Cannot divide by zero.\n"
     ]
    }
   ],
   "source": [
    "try:\n",
    "    num = int(input(\"Enter a number: \"))\n",
    "    result = 10 / num\n",
    "except ZeroDivisionError:\n",
    "    print(\"Cannot divide by zero.\")\n",
    "except ValueError:\n",
    "    print(\"Invalid input. Please enter a valid number.\")\n",
    "else:\n",
    "    print(\"Result:\", result)\n"
   ]
  },
  {
   "cell_type": "code",
   "execution_count": null,
   "id": "f10e1f0f-3130-417b-b74a-83d3d966a582",
   "metadata": {},
   "outputs": [],
   "source": [
    "b. finally:\n",
    "\n",
    "The finally block is used to define code that will always be executed, regardless of whether an exception occurred or not. "
   ]
  },
  {
   "cell_type": "code",
   "execution_count": 4,
   "id": "ebef76bf-8330-4542-916b-fdd8ed34dfd3",
   "metadata": {},
   "outputs": [
    {
     "name": "stdout",
     "output_type": "stream",
     "text": [
      "File not found.\n"
     ]
    }
   ],
   "source": [
    "try:\n",
    "    file = open(\"example.txt\", \"r\")\n",
    "    content = file.read()\n",
    "    print(content)\n",
    "except FileNotFoundError:\n",
    "    print(\"File not found.\")\n",
    "finally:\n",
    "    if 'file' in locals():\n",
    "        file.close()\n"
   ]
  },
  {
   "cell_type": "code",
   "execution_count": null,
   "id": "6baf3dff-f538-4c52-895e-99f328f383e5",
   "metadata": {},
   "outputs": [],
   "source": [
    "c. raise:\n",
    "\n",
    "The raise statement is used to explicitly raise an exception. This can be useful when you want to indicate that a certain condition or situation warrants an exception."
   ]
  },
  {
   "cell_type": "code",
   "execution_count": 5,
   "id": "0c23c7f4-2c35-4efd-b9cf-f94955c8b214",
   "metadata": {},
   "outputs": [
    {
     "name": "stdout",
     "output_type": "stream",
     "text": [
      "An error occurred: Division by zero is not allowed.\n"
     ]
    }
   ],
   "source": [
    "def divide(a, b):\n",
    "    if b == 0:\n",
    "        raise ZeroDivisionError(\"Division by zero is not allowed.\")\n",
    "    return a / b\n",
    "\n",
    "try:\n",
    "    result = divide(10, 0)\n",
    "except ZeroDivisionError as e:\n",
    "    print(\"An error occurred:\", e)\n"
   ]
  },
  {
   "cell_type": "code",
   "execution_count": null,
   "id": "8c592553-e697-48fc-9980-2b1f61966cef",
   "metadata": {},
   "outputs": [],
   "source": [
    "#Q5) what are custom exceptions in python ? why do we need custom exceptions? explain with an example"
   ]
  },
  {
   "cell_type": "code",
   "execution_count": null,
   "id": "0733eba0-6787-4f09-8ee9-ef94fb6f41e4",
   "metadata": {},
   "outputs": [],
   "source": [
    "In Python, custom exceptions are user-defined exceptions that you create to handle specific error situations that may not be covered by the built-in exceptions. These exceptions allow you to provide more context-specific error handling and improve the readability and maintainability of your code."
   ]
  },
  {
   "cell_type": "code",
   "execution_count": null,
   "id": "7511e034-9a12-4ba8-b7a2-2151a4799e5f",
   "metadata": {},
   "outputs": [],
   "source": [
    "Here's why we need custom exceptions:\n",
    "\n",
    "Specific Error Situations: Custom exceptions allow you to represent specific error scenarios that are unique to your application or domain. This makes your code more expressive and easier to understand.\n",
    "\n",
    "Readability: By using custom exceptions, you can give meaningful names to the exceptions, making the code more self-explanatory and enhancing readability.\n",
    "\n",
    "Separation of Concerns: Custom exceptions help separate the error-handling logic from the rest of your code. This can make your codebase cleaner and more organized.\n",
    "\n",
    "Consistency: Using custom exceptions ensures that you're handling errors in a consistent manner throughout your application."
   ]
  },
  {
   "cell_type": "code",
   "execution_count": 6,
   "id": "a0fbab04-57b5-4ba6-a5d5-e80fd9413667",
   "metadata": {},
   "outputs": [
    {
     "name": "stdout",
     "output_type": "stream",
     "text": [
      "Error: Insufficient funds. Available balance: 1000, requested: 1500\n"
     ]
    }
   ],
   "source": [
    "class InsufficientFundsError(Exception):\n",
    "    def __init__(self, balance, amount):\n",
    "        self.balance = balance\n",
    "        self.amount = amount\n",
    "        super().__init__(f\"Insufficient funds. Available balance: {balance}, requested: {amount}\")\n",
    "\n",
    "def withdraw(balance, amount):\n",
    "    if amount > balance:\n",
    "        raise InsufficientFundsError(balance, amount)\n",
    "    return balance - amount\n",
    "\n",
    "try:\n",
    "    account_balance = 1000\n",
    "    withdrawal_amount = 1500\n",
    "    new_balance = withdraw(account_balance, withdrawal_amount)\n",
    "except InsufficientFundsError as e:\n",
    "    print(\"Error:\", e)\n",
    "else:\n",
    "    print(\"Withdrawal successful. New balance:\", new_balance)\n"
   ]
  },
  {
   "cell_type": "code",
   "execution_count": null,
   "id": "876172b7-1e2d-4cd3-a55f-467b200c1691",
   "metadata": {},
   "outputs": [],
   "source": [
    "#Q6) Create a custom exception class. Use this class to handle an exception?"
   ]
  },
  {
   "cell_type": "code",
   "execution_count": 7,
   "id": "340dda5b-f6a7-42db-b5b2-dadd6854da4d",
   "metadata": {},
   "outputs": [
    {
     "name": "stdin",
     "output_type": "stream",
     "text": [
      "Enter a value:  20\n"
     ]
    },
    {
     "name": "stdout",
     "output_type": "stream",
     "text": [
      "Operation successful\n"
     ]
    }
   ],
   "source": [
    "class CustomError(Exception):\n",
    "    def __init__(self, message):\n",
    "        self.message = message\n",
    "        super().__init__(message)\n",
    "\n",
    "def perform_operation(value):\n",
    "    if value < 0:\n",
    "        raise CustomError(\"Value cannot be negative\")\n",
    "\n",
    "try:\n",
    "    user_input = int(input(\"Enter a value: \"))\n",
    "    perform_operation(user_input)\n",
    "    print(\"Operation successful\")\n",
    "except CustomError as e:\n",
    "    print(\"CustomError:\", e)\n",
    "except ValueError:\n",
    "    print(\"Invalid input. Please enter a valid number.\")\n"
   ]
  },
  {
   "cell_type": "code",
   "execution_count": null,
   "id": "5dfe14d0-ff71-49b3-b6a7-e5b6b9b858c5",
   "metadata": {},
   "outputs": [],
   "source": []
  }
 ],
 "metadata": {
  "kernelspec": {
   "display_name": "Python 3 (ipykernel)",
   "language": "python",
   "name": "python3"
  },
  "language_info": {
   "codemirror_mode": {
    "name": "ipython",
    "version": 3
   },
   "file_extension": ".py",
   "mimetype": "text/x-python",
   "name": "python",
   "nbconvert_exporter": "python",
   "pygments_lexer": "ipython3",
   "version": "3.10.8"
  }
 },
 "nbformat": 4,
 "nbformat_minor": 5
}
