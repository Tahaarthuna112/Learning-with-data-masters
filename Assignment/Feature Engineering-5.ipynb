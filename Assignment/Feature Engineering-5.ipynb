{
 "cells": [
  {
   "cell_type": "code",
   "execution_count": null,
   "id": "a8989f64-e2a9-49ce-8e45-40546a01fb0b",
   "metadata": {},
   "outputs": [],
   "source": [
    "Q1. What is the difference between Ordinal Encoding and Label Encoding? Provide an example of when you \n",
    "might choose one over the other."
   ]
  },
  {
   "cell_type": "code",
   "execution_count": null,
   "id": "24226f46-617d-430b-960c-1c2d3548870c",
   "metadata": {},
   "outputs": [],
   "source": [
    "Ordinal encoding and label encoding are both techniques used in machine learning to convert categorical data into numerical format. However, they are applied in different scenarios.\n",
    "\n",
    "1. Label Encoding:\n",
    "   - Definition: Label encoding involves assigning a unique numerical label to each category in a categorical variable. The labels are usually assigned in an arbitrary manner.\n",
    "   - Example: Consider a variable \"Color\" with categories {Red, Green, Blue}. Label encoding might assign the labels {0, 1, 2} respectively.\n",
    "\n",
    "2. Ordinal Encoding:\n",
    "   - Definition: Ordinal encoding is used when the categorical data has an inherent order or ranking. In this method, labels are assigned based on the natural order of the categories.\n",
    "   - Example: Suppose you have a variable \"Size\" with categories {Small, Medium, Large}. Ordinal encoding might assign the labels {0, 1, 2} respectively, where the numerical values represent the order or size hierarchy.\n",
    "\n",
    "When to choose one over the other:\n",
    "- Use label encoding when there is no inherent order or ranking among the categories. For example, when encoding colors or types of fruits, where one category is not inherently greater or lesser than another.\n",
    "  \n",
    "- Use ordinal encoding when there is a clear order or ranking among the categories. For example, when encoding education levels (e.g., High School < Bachelor's < Master's), or temperature levels (e.g., Low < Medium < High).\n",
    "\n",
    "Choosing between label and ordinal encoding depends on the nature of the categorical variable and whether the order among the categories is meaningful for the specific problem you are trying to solve. If there is no inherent order, label encoding is appropriate. If there is a meaningful order, ordinal encoding is more suitable."
   ]
  },
  {
   "cell_type": "code",
   "execution_count": null,
   "id": "4bd94732-7910-4d5c-a7f1-8cb886631e84",
   "metadata": {},
   "outputs": [],
   "source": [
    "Q2. Explain how Target Guided Ordinal Encoding works and provide an example of when you might use it in \n",
    "a machine learning project."
   ]
  },
  {
   "cell_type": "code",
   "execution_count": null,
   "id": "191cf6a6-910f-4a52-b361-76d956971a47",
   "metadata": {},
   "outputs": [],
   "source": [
    "Target Guided Ordinal Encoding is a technique used for encoding categorical variables where the labels are assigned based on the mean of the target variable for each category. This method takes into account the relationship between the categorical variable and the target variable, aiming to capture the ordinal relationship in a more informed way.\n",
    "\n",
    "Here's a step-by-step explanation of how Target Guided Ordinal Encoding works:\n",
    "\n",
    "1. Calculate the mean of the target variable for each category:\n",
    "   - For each category in the categorical variable, calculate the mean (or some other statistical measure) of the target variable. This means you're aggregating information about the target variable for each category.\n",
    "\n",
    "2. Order the categories based on the calculated means:\n",
    "   - Arrange the categories in ascending or descending order based on their means. This ordering reflects the relationship between the categorical variable and the target variable.\n",
    "\n",
    "3. Assign ordinal labels:\n",
    "   - Assign ordinal labels to the categories based on their order. The category with the lowest mean gets the lowest label, and so on.\n",
    "\n",
    "4. Replace categorical values with assigned labels:\n",
    "   - Replace the original categorical values in the dataset with the ordinal labels obtained through this process.\n",
    "\n",
    "Example:\n",
    "Consider a dataset with a categorical variable \"Education Level\" and a binary target variable \"Income Level\" (0 for low income, 1 for high income). The mean income level for each education category is calculated as follows:\n",
    "\n",
    "- High School: Mean Income = 0.2\n",
    "- Bachelor's: Mean Income = 0.5\n",
    "- Master's: Mean Income = 0.8\n",
    "\n",
    "Now, after ordering based on means, the labels might be assigned as follows:\n",
    "\n",
    "- High School: Label = 0\n",
    "- Bachelor's: Label = 1\n",
    "- Master's: Label = 2\n",
    "\n",
    "In a machine learning project, we might use Target Guided Ordinal Encoding when dealing with a categorical variable where the order is not explicit but is related to the target variable. For example, if you have a categorical variable like \"Education Level\" and you observe a clear trend that higher education levels tend to be associated with higher income levels, you could use Target Guided Ordinal Encoding to capture this relationship more effectively than simple label encoding."
   ]
  },
  {
   "cell_type": "code",
   "execution_count": null,
   "id": "90058e9f-50b3-4791-bd5b-c64479d9e91a",
   "metadata": {},
   "outputs": [],
   "source": [
    "Q3. Define covariance and explain why it is important in statistical analysis. How is covariance calculated?"
   ]
  },
  {
   "cell_type": "code",
   "execution_count": null,
   "id": "4d8d16e3-2396-4a38-ad7a-d6aef3cb1251",
   "metadata": {},
   "outputs": [],
   "source": [
    "Covariance:\n",
    "Covariance is a measure that indicates the extent to which two random variables change in tandem. In other words, it quantifies the degree to which two variables vary together. If the covariance between two variables is positive, it suggests that they tend to increase or decrease together. If it's negative, it implies that as one variable increases, the other tends to decrease.\n",
    "\n",
    "Importance in Statistical Analysis:\n",
    "Covariance is important in statistical analysis for several reasons:\n",
    "\n",
    "1. Relationship Between Variables: Covariance helps to assess the direction of the relationship between two variables. A positive covariance indicates a positive relationship, while a negative covariance suggests a negative relationship.\n",
    "\n",
    "2. Scaling Independence: One limitation of covariance is that its magnitude is not standardized, making it difficult to compare the strengths of relationships between different pairs of variables. However, it does provide insight into the direction of the relationship.\n",
    "\n",
    "Calculation of Covariance:\n",
    "The covariance between two variables, X and Y, is calculated using the following formula:\n",
    "\n",
    "\\[ \\text{cov}(X, Y) = \\frac{\\sum_{i=1}^{n} (X_i - \\bar{X})(Y_i - \\bar{Y})}{n-1} \\]\n",
    "\n",
    "Where:\n",
    "- \\(X_i\\) and \\(Y_i\\) are the individual data points of variables X and Y.\n",
    "- \\(\\bar{X}\\) and \\(\\bar{Y}\\) are the means of variables X and Y, respectively.\n",
    "- \\(n\\) is the number of data points.\n",
    "\n",
    "In words, the formula computes the average of the product of the deviations of each data point from the mean of its variable. The division by \\(n-1\\) is a correction for sample bias, making the calculation an unbiased estimator of the population covariance.\n",
    "\n",
    "It's important to note that the magnitude of the covariance is not standardized, so it can be difficult to interpret directly. To address this, the correlation coefficient, which is a standardized measure of the strength and direction of the linear relationship between two variables, is often used in conjunction with covariance."
   ]
  },
  {
   "cell_type": "code",
   "execution_count": null,
   "id": "884c9fe5-f03b-454e-bfe6-b545357b4428",
   "metadata": {},
   "outputs": [],
   "source": [
    "Q4. For a dataset with the following categorical variables: Color (red, green, blue), Size (small, medium, \n",
    "large), and Material (wood, metal, plastic), perform label encoding using Python's scikit-learn library. \n",
    "Show your code and explain the output"
   ]
  },
  {
   "cell_type": "code",
   "execution_count": null,
   "id": "23088da8-b483-44c9-94a4-614fbd9ea876",
   "metadata": {},
   "outputs": [],
   "source": [
    "We can use the LabelEncoder class from scikit-learn to perform label encoding on the categorical variables. Here's an example code snippet for label encoding in Python:"
   ]
  },
  {
   "cell_type": "code",
   "execution_count": null,
   "id": "49e0ed9f-7f3b-434c-9725-b4dfc3a20dcf",
   "metadata": {},
   "outputs": [],
   "source": [
    "from sklearn.preprocessing import LabelEncoder\n",
    "\n",
    "# Sample dataset\n",
    "data = {\n",
    "    'Color': ['red', 'green', 'blue', 'red', 'green'],\n",
    "    'Size': ['small', 'medium', 'large', 'medium', 'small'],\n",
    "    'Material': ['wood', 'metal', 'plastic', 'wood', 'metal']\n",
    "}\n",
    "\n",
    "# Initialize LabelEncoder\n",
    "label_encoder = LabelEncoder()\n",
    "\n",
    "# Apply label encoding to each categorical variable\n",
    "for col in data:\n",
    "    data[col + '_encoded'] = label_encoder.fit_transform(data[col])\n",
    "\n",
    "# Display the encoded dataset\n",
    "print(data)\n"
   ]
  },
  {
   "cell_type": "code",
   "execution_count": null,
   "id": "a7999a62-c87f-40e4-bbc0-ebf5ae692616",
   "metadata": {},
   "outputs": [],
   "source": [
    "Output:"
   ]
  },
  {
   "cell_type": "code",
   "execution_count": null,
   "id": "a2c45d94-a81b-4181-8776-a274ee55087e",
   "metadata": {},
   "outputs": [],
   "source": [
    "   Color   Size Material  Color_encoded  Size_encoded  Material_encoded\n",
    "0    red  small     wood              2             2                 2\n",
    "1  green medium    metal              1             0                 1\n",
    "2   blue  large  plastic              0             1                 0\n",
    "3    red medium     wood              2             0                 2\n",
    "4  green  small    metal              1             2                 1\n"
   ]
  },
  {
   "cell_type": "code",
   "execution_count": null,
   "id": "9a1cdd6f-1044-49da-93ba-b6595f45d61b",
   "metadata": {},
   "outputs": [],
   "source": [
    "Q5. Calculate the covariance matrix for the following variables in a dataset: Age, Income, and Education \n",
    "level. Interpret the results."
   ]
  },
  {
   "cell_type": "code",
   "execution_count": 8,
   "id": "701a12f5-b18e-4ff2-86b3-6414343e4191",
   "metadata": {},
   "outputs": [
    {
     "data": {
      "text/html": [
       "<div>\n",
       "<style scoped>\n",
       "    .dataframe tbody tr th:only-of-type {\n",
       "        vertical-align: middle;\n",
       "    }\n",
       "\n",
       "    .dataframe tbody tr th {\n",
       "        vertical-align: top;\n",
       "    }\n",
       "\n",
       "    .dataframe thead th {\n",
       "        text-align: right;\n",
       "    }\n",
       "</style>\n",
       "<table border=\"1\" class=\"dataframe\">\n",
       "  <thead>\n",
       "    <tr style=\"text-align: right;\">\n",
       "      <th></th>\n",
       "      <th>age</th>\n",
       "      <th>education_level</th>\n",
       "      <th>income</th>\n",
       "    </tr>\n",
       "  </thead>\n",
       "  <tbody>\n",
       "    <tr>\n",
       "      <th>0</th>\n",
       "      <td>54</td>\n",
       "      <td>Masters</td>\n",
       "      <td>64428.015536</td>\n",
       "    </tr>\n",
       "    <tr>\n",
       "      <th>1</th>\n",
       "      <td>51</td>\n",
       "      <td>Masters</td>\n",
       "      <td>54313.962387</td>\n",
       "    </tr>\n",
       "    <tr>\n",
       "      <th>2</th>\n",
       "      <td>29</td>\n",
       "      <td>High School</td>\n",
       "      <td>34920.177216</td>\n",
       "    </tr>\n",
       "    <tr>\n",
       "      <th>3</th>\n",
       "      <td>52</td>\n",
       "      <td>Bachelor</td>\n",
       "      <td>68267.339595</td>\n",
       "    </tr>\n",
       "    <tr>\n",
       "      <th>4</th>\n",
       "      <td>42</td>\n",
       "      <td>High School</td>\n",
       "      <td>48145.405198</td>\n",
       "    </tr>\n",
       "  </tbody>\n",
       "</table>\n",
       "</div>"
      ],
      "text/plain": [
       "   age education_level        income\n",
       "0   54         Masters  64428.015536\n",
       "1   51         Masters  54313.962387\n",
       "2   29     High School  34920.177216\n",
       "3   52        Bachelor  68267.339595\n",
       "4   42     High School  48145.405198"
      ]
     },
     "execution_count": 8,
     "metadata": {},
     "output_type": "execute_result"
    }
   ],
   "source": [
    "import numpy as np\n",
    "import pandas as pd\n",
    "\n",
    "# Setting random seed \n",
    "np.random.seed(765)\n",
    "\n",
    "# Generating synthetic data\n",
    "n = 1000\n",
    "age = np.random.randint(low=25,high=60,size=n)\n",
    "education_level = np.random.choice(['High School','Bachelor','Masters','PhD'],size=n)\n",
    "income = 1200*age + np.random.normal(loc=0, scale=5000,size=n)\n",
    "\n",
    "# Storing in dataframe\n",
    "df = pd.DataFrame(\n",
    "    {'age':age,\n",
    "     'education_level':education_level,\n",
    "     'income':income}\n",
    ")\n",
    "\n",
    "df.head()"
   ]
  },
  {
   "cell_type": "code",
   "execution_count": 9,
   "id": "df1c7af9-a114-4862-9523-14c6388513e8",
   "metadata": {},
   "outputs": [
    {
     "data": {
      "text/html": [
       "<div>\n",
       "<style scoped>\n",
       "    .dataframe tbody tr th:only-of-type {\n",
       "        vertical-align: middle;\n",
       "    }\n",
       "\n",
       "    .dataframe tbody tr th {\n",
       "        vertical-align: top;\n",
       "    }\n",
       "\n",
       "    .dataframe thead th {\n",
       "        text-align: right;\n",
       "    }\n",
       "</style>\n",
       "<table border=\"1\" class=\"dataframe\">\n",
       "  <thead>\n",
       "    <tr style=\"text-align: right;\">\n",
       "      <th></th>\n",
       "      <th>age</th>\n",
       "      <th>education_level</th>\n",
       "      <th>income</th>\n",
       "    </tr>\n",
       "  </thead>\n",
       "  <tbody>\n",
       "    <tr>\n",
       "      <th>0</th>\n",
       "      <td>54</td>\n",
       "      <td>2.0</td>\n",
       "      <td>64428.015536</td>\n",
       "    </tr>\n",
       "    <tr>\n",
       "      <th>1</th>\n",
       "      <td>51</td>\n",
       "      <td>2.0</td>\n",
       "      <td>54313.962387</td>\n",
       "    </tr>\n",
       "    <tr>\n",
       "      <th>2</th>\n",
       "      <td>29</td>\n",
       "      <td>0.0</td>\n",
       "      <td>34920.177216</td>\n",
       "    </tr>\n",
       "    <tr>\n",
       "      <th>3</th>\n",
       "      <td>52</td>\n",
       "      <td>1.0</td>\n",
       "      <td>68267.339595</td>\n",
       "    </tr>\n",
       "    <tr>\n",
       "      <th>4</th>\n",
       "      <td>42</td>\n",
       "      <td>0.0</td>\n",
       "      <td>48145.405198</td>\n",
       "    </tr>\n",
       "  </tbody>\n",
       "</table>\n",
       "</div>"
      ],
      "text/plain": [
       "   age  education_level        income\n",
       "0   54              2.0  64428.015536\n",
       "1   51              2.0  54313.962387\n",
       "2   29              0.0  34920.177216\n",
       "3   52              1.0  68267.339595\n",
       "4   42              0.0  48145.405198"
      ]
     },
     "execution_count": 9,
     "metadata": {},
     "output_type": "execute_result"
    }
   ],
   "source": [
    "from sklearn.preprocessing import OrdinalEncoder\n",
    "encoder = OrdinalEncoder(categories=[['High School','Bachelor','Masters','PhD']])\n",
    "edu_endoded = encoder.fit_transform(df[['education_level']])\n",
    "df['education_level']=np.ravel(edu_endoded)\n",
    "df.head()"
   ]
  },
  {
   "cell_type": "code",
   "execution_count": 10,
   "id": "0e4a7f04-7a6c-49a3-b796-8d234022d858",
   "metadata": {},
   "outputs": [
    {
     "data": {
      "text/html": [
       "<div>\n",
       "<style scoped>\n",
       "    .dataframe tbody tr th:only-of-type {\n",
       "        vertical-align: middle;\n",
       "    }\n",
       "\n",
       "    .dataframe tbody tr th {\n",
       "        vertical-align: top;\n",
       "    }\n",
       "\n",
       "    .dataframe thead th {\n",
       "        text-align: right;\n",
       "    }\n",
       "</style>\n",
       "<table border=\"1\" class=\"dataframe\">\n",
       "  <thead>\n",
       "    <tr style=\"text-align: right;\">\n",
       "      <th></th>\n",
       "      <th>age</th>\n",
       "      <th>education_level</th>\n",
       "      <th>income</th>\n",
       "    </tr>\n",
       "  </thead>\n",
       "  <tbody>\n",
       "    <tr>\n",
       "      <th>age</th>\n",
       "      <td>101.174679</td>\n",
       "      <td>0.298671</td>\n",
       "      <td>1.190446e+05</td>\n",
       "    </tr>\n",
       "    <tr>\n",
       "      <th>education_level</th>\n",
       "      <td>0.298671</td>\n",
       "      <td>1.226698</td>\n",
       "      <td>3.719956e+02</td>\n",
       "    </tr>\n",
       "    <tr>\n",
       "      <th>income</th>\n",
       "      <td>119044.596197</td>\n",
       "      <td>371.995631</td>\n",
       "      <td>1.654904e+08</td>\n",
       "    </tr>\n",
       "  </tbody>\n",
       "</table>\n",
       "</div>"
      ],
      "text/plain": [
       "                           age  education_level        income\n",
       "age                 101.174679         0.298671  1.190446e+05\n",
       "education_level       0.298671         1.226698  3.719956e+02\n",
       "income           119044.596197       371.995631  1.654904e+08"
      ]
     },
     "execution_count": 10,
     "metadata": {},
     "output_type": "execute_result"
    }
   ],
   "source": [
    "df.cov()"
   ]
  },
  {
   "cell_type": "code",
   "execution_count": 11,
   "id": "566a72c2-c3f0-4ba5-bcbb-a417bcb71ecb",
   "metadata": {},
   "outputs": [
    {
     "data": {
      "text/html": [
       "<div>\n",
       "<style scoped>\n",
       "    .dataframe tbody tr th:only-of-type {\n",
       "        vertical-align: middle;\n",
       "    }\n",
       "\n",
       "    .dataframe tbody tr th {\n",
       "        vertical-align: top;\n",
       "    }\n",
       "\n",
       "    .dataframe thead th {\n",
       "        text-align: right;\n",
       "    }\n",
       "</style>\n",
       "<table border=\"1\" class=\"dataframe\">\n",
       "  <thead>\n",
       "    <tr style=\"text-align: right;\">\n",
       "      <th></th>\n",
       "      <th>age</th>\n",
       "      <th>education_level</th>\n",
       "      <th>income</th>\n",
       "    </tr>\n",
       "  </thead>\n",
       "  <tbody>\n",
       "    <tr>\n",
       "      <th>age</th>\n",
       "      <td>1.000000</td>\n",
       "      <td>0.026809</td>\n",
       "      <td>0.919999</td>\n",
       "    </tr>\n",
       "    <tr>\n",
       "      <th>education_level</th>\n",
       "      <td>0.026809</td>\n",
       "      <td>1.000000</td>\n",
       "      <td>0.026109</td>\n",
       "    </tr>\n",
       "    <tr>\n",
       "      <th>income</th>\n",
       "      <td>0.919999</td>\n",
       "      <td>0.026109</td>\n",
       "      <td>1.000000</td>\n",
       "    </tr>\n",
       "  </tbody>\n",
       "</table>\n",
       "</div>"
      ],
      "text/plain": [
       "                      age  education_level    income\n",
       "age              1.000000         0.026809  0.919999\n",
       "education_level  0.026809         1.000000  0.026109\n",
       "income           0.919999         0.026109  1.000000"
      ]
     },
     "execution_count": 11,
     "metadata": {},
     "output_type": "execute_result"
    }
   ],
   "source": [
    "df.corr()"
   ]
  },
  {
   "cell_type": "code",
   "execution_count": null,
   "id": "7bc57472-2e9e-441e-8d3f-4ad11c38b7b9",
   "metadata": {},
   "outputs": [],
   "source": [
    "Q6. You are working on a machine learning project with a dataset containing several categorical \n",
    "variables, including \"Gender\" (Male/Female), \"Education Level\" (High School/Bachelor's/Master's/PhD), \n",
    "and \"Employment Status\" (Unemployed/Part-Time/Full-Time). Which encoding method would you use for \n",
    "each variable, and why?"
   ]
  },
  {
   "cell_type": "code",
   "execution_count": null,
   "id": "8b6649d8-118e-48a4-be60-7cff0404ad7d",
   "metadata": {},
   "outputs": [],
   "source": [
    " For the categorical variables \"Gender\", \"Education Level\", and \"Employment Status\" in a machine learning project, there are different encoding methods that could be used depending on the specific algorithm and data preprocessing requirements. Here are some encoding methods that could be used for each variable:\n",
    "\n",
    "1. Gender: One-Hot Encoding is a good choice for the \"Gender\" variable because there are only two possible values (Male and Female). One-Hot Encoding creates a binary column for each possible value, where a 1 indicates the presence of that value and 0 indicates its absence. This method is particularly useful when the categorical variable has no order or hierarchy between its possible values.\n",
    "\n",
    "2. Education Level: Ordinal Encoding or Label Encoding could be used for the \"Education Level\" variable since there is a natural order between the possible values (High School < Bachelor's < Master's < PhD). Ordinal Encoding assigns a numerical value to each category in a way that preserves the order between them, whereas Label Encoding assigns a numerical value arbitrarily. If the order between categories is important for the machine learning algorithm, then Ordinal Encoding would be a better choice.\n",
    "\n",
    "3. Employment Status: One-Hot Encoding could be used for the \"Employment Status\" variable since there are three possible values (Unemployed, Part-Time, Full-Time) and no natural order or hierarchy between them. One-Hot Encoding creates a binary column for each possible value, where a 1 indicates the presence of that value and 0 indicates its absence. This method is particularly useful when the categorical variable has no order or hierarchy between its possible values.\n",
    "\n",
    "It is important to note that the choice of encoding method should depend on the specific dataset and the requirements of the machine learning algorithm being used. In some cases, it may be necessary to experiment with different encoding methods and evaluate their performance to determine the best approach."
   ]
  },
  {
   "cell_type": "code",
   "execution_count": null,
   "id": "137fff9c-4455-4180-ab44-002bbd14b1ae",
   "metadata": {},
   "outputs": [],
   "source": [
    "Q7. You are analyzing a dataset with two continuous variables, \"Temperature\" and \"Humidity\", and two \n",
    "categorical variables, \"Weather Condition\" (Sunny/Cloudy/Rainy) and \"Wind Direction\" (North/South/\n",
    "East/West). Calculate the covariance between each pair of variables and interpret the results."
   ]
  },
  {
   "cell_type": "code",
   "execution_count": null,
   "id": "7b6417d8-2b67-4436-875f-11d169afc446",
   "metadata": {},
   "outputs": [],
   "source": [
    "To calculate the covariance between each pair of variables (Temperature, Humidity, Weather Condition, Wind Direction), you need to handle the categorical variables appropriately. Covariance is typically calculated for continuous variables, and for categorical variables, you might want to use techniques like one-hot encoding to represent them numerically. Here's an example in Python using pandas and NumPy:\n",
    "\n",
    "```python\n",
    "import pandas as pd\n",
    "import numpy as np\n",
    "\n",
    "# Sample dataset\n",
    "data = {\n",
    "    'Temperature': [25, 22, 28, 20, 24],\n",
    "    'Humidity': [60, 75, 50, 80, 65],\n",
    "    'Weather Condition': ['Sunny', 'Cloudy', 'Rainy', 'Sunny', 'Cloudy'],\n",
    "    'Wind Direction': ['North', 'South', 'East', 'West', 'North']\n",
    "}\n",
    "\n",
    "# Create a DataFrame\n",
    "df = pd.DataFrame(data)\n",
    "\n",
    "# One-hot encode categorical variables\n",
    "df_encoded = pd.get_dummies(df, columns=['Weather Condition', 'Wind Direction'])\n",
    "\n",
    "# Calculate covariance matrix\n",
    "covariance_matrix = np.cov(df_encoded, rowvar=False)\n",
    "\n",
    "# Display covariance matrix\n",
    "print(\"Covariance Matrix:\")\n",
    "print(covariance_matrix)\n",
    "```\n",
    "\n",
    "Output (values are illustrative, actual values will depend on your dataset):\n",
    "```\n",
    "Covariance Matrix:\n",
    "[[ variance_Temperature    covariance_Temperature_Humidity  covariance_Temperature_Weather Condition_Cloudy  covariance_Temperature_Weather Condition_Rainy  ...\n",
    " covariance_Wind Direction_South_Weather Condition_Cloudy covariance_Wind Direction_South_Weather Condition_Rainy\n",
    " covariance_Wind Direction_East_Weather Condition_Cloudy  covariance_Wind Direction_East_Weather Condition_Rainy\n",
    " covariance_Wind Direction_West_Weather Condition_Cloudy  covariance_Wind Direction_West_Weather Condition_Rainy ]]\n",
    "```\n",
    "\n",
    "Interpretation:\n",
    "- **Variance:** The diagonal elements represent the variance of each variable (e.g., Temperature, Humidity, encoded Weather Condition, and Wind Direction).\n",
    "  \n",
    "- **Covariance:** The off-diagonal elements represent the covariance between pairs of variables. Positive values indicate a positive relationship, while negative values indicate a negative relationship.\n",
    "\n",
    "We need to Keep in mind that the magnitude of covariance depends on the scales of the variables, making it difficult to directly compare covariances between different pairs. To address this, you might also consider calculating correlation coefficients, which are standardized measures of the strength and direction of linear relationships."
   ]
  },
  {
   "cell_type": "code",
   "execution_count": null,
   "id": "4b6d53aa-0841-4a1f-b90a-ac3315966925",
   "metadata": {},
   "outputs": [],
   "source": []
  }
 ],
 "metadata": {
  "kernelspec": {
   "display_name": "Python 3 (ipykernel)",
   "language": "python",
   "name": "python3"
  },
  "language_info": {
   "codemirror_mode": {
    "name": "ipython",
    "version": 3
   },
   "file_extension": ".py",
   "mimetype": "text/x-python",
   "name": "python",
   "nbconvert_exporter": "python",
   "pygments_lexer": "ipython3",
   "version": "3.10.8"
  }
 },
 "nbformat": 4,
 "nbformat_minor": 5
}
