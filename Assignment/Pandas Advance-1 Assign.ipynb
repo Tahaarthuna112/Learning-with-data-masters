{
 "cells": [
  {
   "cell_type": "code",
   "execution_count": null,
   "id": "9d464a19-1ae5-4728-9a66-1c8fcab99729",
   "metadata": {},
   "outputs": [],
   "source": [
    "Q1. List any five functions of the pandas library with execution."
   ]
  },
  {
   "cell_type": "code",
   "execution_count": null,
   "id": "1f0dda77-aa1b-406c-8196-4b4458347491",
   "metadata": {},
   "outputs": [],
   "source": [
    "read_csv(): Used to read data from a CSV file into a Pandas DataFrame."
   ]
  },
  {
   "cell_type": "code",
   "execution_count": null,
   "id": "18921158-74ac-41da-bae6-5ca715e1d0cd",
   "metadata": {},
   "outputs": [],
   "source": [
    "import pandas as pd\n",
    "\n",
    "# Read a CSV file into a DataFrame\n",
    "df = pd.read_csv('data.csv')\n",
    "print(df.head())\n"
   ]
  },
  {
   "cell_type": "code",
   "execution_count": null,
   "id": "a3dfffa3-1c6f-40fd-b9b6-ab6e0b890981",
   "metadata": {},
   "outputs": [],
   "source": [
    "head(): Displays the first n rows of a DataFrame (default n=5)."
   ]
  },
  {
   "cell_type": "code",
   "execution_count": null,
   "id": "f56a0c91-f5ac-4955-93c2-3aea15d0b47f",
   "metadata": {},
   "outputs": [],
   "source": [
    "# Display the first 3 rows of the DataFrame\n",
    "print(df.head(3))\n"
   ]
  },
  {
   "cell_type": "code",
   "execution_count": null,
   "id": "b08e0b6e-0940-4162-bb2d-18e8e64b6fb8",
   "metadata": {},
   "outputs": [],
   "source": [
    "describe(): Generates summary statistics of numeric columns in a DataFrame."
   ]
  },
  {
   "cell_type": "code",
   "execution_count": null,
   "id": "f4dc3d87-b614-4f59-a286-1b109d8284cb",
   "metadata": {},
   "outputs": [],
   "source": [
    "# Generate summary statistics for numeric columns\n",
    "print(df.describe())\n"
   ]
  },
  {
   "cell_type": "code",
   "execution_count": null,
   "id": "510d3a87-17d3-4519-adbc-76ffc6e32c19",
   "metadata": {},
   "outputs": [],
   "source": [
    "groupby(): Used for grouping data based on one or more columns."
   ]
  },
  {
   "cell_type": "code",
   "execution_count": null,
   "id": "1724a5be-4cad-45a7-845a-930f626de21c",
   "metadata": {},
   "outputs": [],
   "source": [
    "# Group data by the 'category' column and calculate the mean of 'value' column for each group\n",
    "grouped = df.groupby('category')['value'].mean()\n",
    "print(grouped)\n"
   ]
  },
  {
   "cell_type": "code",
   "execution_count": null,
   "id": "8dd61c55-05bb-49ba-882c-0e1dcf51022e",
   "metadata": {},
   "outputs": [],
   "source": [
    "drop(): Allows you to drop specified labels from rows or columns in a DataFrame."
   ]
  },
  {
   "cell_type": "code",
   "execution_count": null,
   "id": "6e1f4a91-6aa6-40c1-b46a-9b0da6845249",
   "metadata": {},
   "outputs": [],
   "source": [
    "# Drop the 'column_to_drop' column from the DataFrame\n",
    "df = df.drop('column_to_drop', axis=1)\n",
    "print(df.head())"
   ]
  },
  {
   "cell_type": "code",
   "execution_count": null,
   "id": "f1246874-0da4-4573-8467-580aba4cda29",
   "metadata": {},
   "outputs": [],
   "source": [
    "Q2. Given a Pandas DataFrame df with columns 'A', 'B', and 'C', write a Python function to re-index the \n",
    "DataFrame with a new index that starts from 1 and increments by 2 for each row"
   ]
  },
  {
   "cell_type": "code",
   "execution_count": 5,
   "id": "bff102ee-51a8-440d-8a08-163516b8d673",
   "metadata": {},
   "outputs": [
    {
     "name": "stdout",
     "output_type": "stream",
     "text": [
      "Old Index \n",
      "    A  B  C\n",
      "0  1  4  7\n",
      "1  2  5  8\n",
      "2  3  6  9\n",
      "Re-Indexed \n",
      "    A  B  C\n",
      "1  1  4  7\n",
      "3  2  5  8\n",
      "5  3  6  9\n"
     ]
    }
   ],
   "source": [
    "import pandas as pd\n",
    "\n",
    "def reindex_df(df):\n",
    "    new_index = range(1, 2*len(df), 2)\n",
    "    df = df.set_index(pd.Index(new_index))\n",
    "    return df\n",
    "df = pd.DataFrame({'A': [1, 2, 3], 'B': [4, 5, 6], 'C': [7, 8, 9]})\n",
    "print(\"Old Index \\n\",df)\n",
    "\n",
    "df = reindex_df(df)\n",
    "print(\"Re-Indexed \\n\",df)\n"
   ]
  },
  {
   "cell_type": "code",
   "execution_count": null,
   "id": "0bd0f09d-f329-49dc-850e-f932ae14042a",
   "metadata": {},
   "outputs": [],
   "source": [
    "Q3. You have a Pandas DataFrame df with a column named 'Values'. Write a Python function that \n",
    "iterates over the DataFrame and calculates the sum of the first three values in the 'Values' column. The \n",
    "function should print the sum to the console.\n",
    "\n",
    "For example, if the 'Values' column of df contains the values [10, 20, 30, 40, 50], your function should \n",
    "calculate and print the sum of the first three values, which is 60"
   ]
  },
  {
   "cell_type": "code",
   "execution_count": 7,
   "id": "02d11c9e-b6de-422a-b5e3-afb7360eb6b6",
   "metadata": {},
   "outputs": [
    {
     "name": "stdout",
     "output_type": "stream",
     "text": [
      "Sum of the first three values in the 'Values' column: 60\n"
     ]
    }
   ],
   "source": [
    "import pandas as pd\n",
    "\n",
    "def calculate_sum_of_first_three(df):\n",
    "    if 'Values' not in df.columns:\n",
    "        print(\"The 'Values' column does not exist in the DataFrame.\")\n",
    "        return\n",
    "    values_column = df['Values']\n",
    "    sum_of_first_three = values_column.head(3).sum()\n",
    "    print(\"Sum of the first three values in the 'Values' column:\", sum_of_first_three)\n",
    "data = {'Values': [10, 20, 30, 40, 50]}\n",
    "df = pd.DataFrame(data)\n",
    "calculate_sum_of_first_three(df)"
   ]
  },
  {
   "cell_type": "code",
   "execution_count": null,
   "id": "6e4549da-b636-430e-8c78-4eec4be89157",
   "metadata": {},
   "outputs": [],
   "source": [
    "Q4. Given a Pandas DataFrame df with a column 'Text', write a Python function to create a new column \n",
    "'Word_Count' that contains the number of words in each row of the 'Text' column."
   ]
  },
  {
   "cell_type": "code",
   "execution_count": 11,
   "id": "fc223612-db15-4d4e-90a1-ea38012b7c8d",
   "metadata": {},
   "outputs": [
    {
     "data": {
      "text/html": [
       "<div>\n",
       "<style scoped>\n",
       "    .dataframe tbody tr th:only-of-type {\n",
       "        vertical-align: middle;\n",
       "    }\n",
       "\n",
       "    .dataframe tbody tr th {\n",
       "        vertical-align: top;\n",
       "    }\n",
       "\n",
       "    .dataframe thead th {\n",
       "        text-align: right;\n",
       "    }\n",
       "</style>\n",
       "<table border=\"1\" class=\"dataframe\">\n",
       "  <thead>\n",
       "    <tr style=\"text-align: right;\">\n",
       "      <th></th>\n",
       "      <th>Text</th>\n",
       "      <th>Word_Count</th>\n",
       "    </tr>\n",
       "  </thead>\n",
       "  <tbody>\n",
       "    <tr>\n",
       "      <th>0</th>\n",
       "      <td>Hello world</td>\n",
       "      <td>2</td>\n",
       "    </tr>\n",
       "    <tr>\n",
       "      <th>1</th>\n",
       "      <td>Python is great</td>\n",
       "      <td>3</td>\n",
       "    </tr>\n",
       "    <tr>\n",
       "      <th>2</th>\n",
       "      <td>Hello PW skills</td>\n",
       "      <td>3</td>\n",
       "    </tr>\n",
       "  </tbody>\n",
       "</table>\n",
       "</div>"
      ],
      "text/plain": [
       "              Text  Word_Count\n",
       "0      Hello world           2\n",
       "1  Python is great           3\n",
       "2  Hello PW skills           3"
      ]
     },
     "execution_count": 11,
     "metadata": {},
     "output_type": "execute_result"
    }
   ],
   "source": [
    "def count_words(df):\n",
    "    df['Word_Count'] = df['Text'].apply(lambda x: len(str(x).split()))\n",
    "    return df\n",
    "df2 = pd.DataFrame({'Text': ['Hello world', 'Python is great', 'Hello PW skills']})\n",
    "df2 = count_words(df2)\n",
    "df2"
   ]
  },
  {
   "cell_type": "code",
   "execution_count": null,
   "id": "170324ec-3fd9-4380-a61c-119a772c0402",
   "metadata": {},
   "outputs": [],
   "source": [
    "Q5. How are DataFrame.size() and DataFrame.shape() different?"
   ]
  },
  {
   "cell_type": "code",
   "execution_count": null,
   "id": "45eb47f6-ad3b-4463-bdca-e6fcfe04abf8",
   "metadata": {},
   "outputs": [],
   "source": [
    "DataFrame.size:\n",
    "\n",
    "DataFrame.size returns the total number of elements in the DataFrame, which is equal to the product of the number of rows and the number of columns.\n",
    "It provides a single integer value representing the total number of data points in the DataFrame.\n",
    "It does not differentiate between rows and columns; it simply returns the overall size of the DataFrame.\n",
    "\n",
    "DataFrame.shape:\n",
    "\n",
    "DataFrame.shape returns a tuple representing the dimensions of the DataFrame, where the first element of the tuple is the number of rows, and the second element is the number of columns.\n",
    "It provides more detailed information about the structure of the DataFrame, allowing you to see the number of rows and columns separately.\n",
    "\n",
    "In summary, DataFrame.size gives you the total number of elements, while DataFrame.shape provides information about the number of rows and columns as a tuple. \n"
   ]
  },
  {
   "cell_type": "code",
   "execution_count": null,
   "id": "68a191da-5ba5-43f8-ba1c-02d24276d5e2",
   "metadata": {},
   "outputs": [],
   "source": [
    "Q6. Which function of pandas do we use to read an excel file?"
   ]
  },
  {
   "cell_type": "code",
   "execution_count": null,
   "id": "30627cce-83a3-4f1d-9e62-2851ca70bde3",
   "metadata": {},
   "outputs": [],
   "source": [
    "In pandas, we use the read_excel() function to read data from an Excel file. This function can read both .xlsx and .xls files."
   ]
  },
  {
   "cell_type": "code",
   "execution_count": null,
   "id": "be91bcb4-c83b-48cc-832b-9b6236105f23",
   "metadata": {},
   "outputs": [],
   "source": [
    "Q7. You have a Pandas DataFrame df that contains a column named 'Email' that contains email \n",
    "addresses in the format 'username@domain.com'. Write a Python function that creates a new column \n",
    "'Username' in df that contains only the username part of each email address.\n",
    "\n",
    "The username is the part of the email address that appears before the '@' symbol. For example, if the \n",
    "email address is 'john.doe@example.com', the 'Username' column should contain 'john.doe'. Your \n",
    "function should extract the username from each email address and store it in the new 'Username' \n",
    "column."
   ]
  },
  {
   "cell_type": "code",
   "execution_count": 1,
   "id": "84627b64-c839-41fb-838e-a5b4caa1c261",
   "metadata": {},
   "outputs": [
    {
     "name": "stdout",
     "output_type": "stream",
     "text": [
      "                    Email    Username\n",
      "0    john.doe@example.com    john.doe\n",
      "1  jane.smith@example.com  jane.smith\n",
      "2         bob@company.net         bob\n"
     ]
    }
   ],
   "source": [
    "import pandas as pd\n",
    "\n",
    "def extract_username_from_email(df):\n",
    "    df['Username'] = df['Email'].str.split('@').str[0]\n",
    "    return df\n",
    "\n",
    "# Example usage:\n",
    "data = {'Email': ['john.doe@example.com', 'jane.smith@example.com', 'bob@company.net']}\n",
    "df = pd.DataFrame(data)\n",
    "\n",
    "df = extract_username_from_email(df)\n",
    "print(df)\n"
   ]
  },
  {
   "cell_type": "code",
   "execution_count": null,
   "id": "3695ec9f-bbb4-4599-8fc5-6987bd1d5610",
   "metadata": {},
   "outputs": [],
   "source": [
    "Q8. You have a Pandas DataFrame df with columns 'A', 'B', and 'C'. Write a Python function that selects \n",
    "all rows where the value in column 'A' is greater than 5 and the value in column 'B' is less than 10. The \n",
    "function should return a new DataFrame that contains only the selected rows.\n",
    "\n",
    "For example, if df contains the following values:\n",
    "\n",
    "   A   B   C\n",
    "\n",
    "0  3   5   1\n",
    "\n",
    "1  8   2   7\n",
    "\n",
    "2  6   9   4\n",
    "\n",
    "3  2   3   5\n",
    "\n",
    "4  9   1   2\n",
    "Assignment\n",
    "Data Science Masters\n",
    "Your function should select the following rows:   A   B   C\n",
    "\n",
    "1  8   2   7\n",
    "\n",
    "4  9   1   2\n",
    "\n",
    "The function should return a new DataFrame that contains only the selected rows."
   ]
  },
  {
   "cell_type": "code",
   "execution_count": 2,
   "id": "0234c71d-06a3-4ec5-b9df-5e3db6098328",
   "metadata": {},
   "outputs": [
    {
     "name": "stdout",
     "output_type": "stream",
     "text": [
      "   A  B  C\n",
      "1  8  2  7\n",
      "2  6  9  4\n",
      "4  9  1  2\n"
     ]
    }
   ],
   "source": [
    "import pandas as pd\n",
    "\n",
    "def select_rows(df):\n",
    "    selected_rows = df[(df['A'] > 5) & (df['B'] < 10)]\n",
    "    return selected_rows\n",
    "\n",
    "# Example usage:\n",
    "data = {'A': [3, 8, 6, 2, 9],\n",
    "        'B': [5, 2, 9, 3, 1],\n",
    "        'C': [1, 7, 4, 5, 2]}\n",
    "df = pd.DataFrame(data)\n",
    "\n",
    "selected_df = select_rows(df)\n",
    "print(selected_df)\n"
   ]
  },
  {
   "cell_type": "code",
   "execution_count": null,
   "id": "237ca6b2-deb4-4d05-b3a7-95b0478c3831",
   "metadata": {},
   "outputs": [],
   "source": [
    "Q9. Given a Pandas DataFrame df with a column 'Values', write a Python function to calculate the mean, \n",
    "median, and standard deviation of the values in the 'Values' column."
   ]
  },
  {
   "cell_type": "code",
   "execution_count": 3,
   "id": "53f91c33-270d-41ee-aadc-79ec4c6a14e1",
   "metadata": {},
   "outputs": [
    {
     "name": "stdout",
     "output_type": "stream",
     "text": [
      "Mean of the Values Column is : 16.666666666666668 \n",
      "Median of the Values Column is : 17.5 \n",
      "Mode of the Values Column is : 25\n"
     ]
    }
   ],
   "source": [
    "import pandas as pd\n",
    "\n",
    "values_list = [5,10,15,20,25,25]\n",
    "\n",
    "df1 = pd.DataFrame({'Values': values_list})\n",
    "\n",
    "def mmm(df):\n",
    "    mean = (df['Values'].mean())\n",
    "    median = df['Values'].median()\n",
    "    mode = df['Values'].mode()\n",
    "    print(\"Mean of the Values Column is : {} \".format(mean))\n",
    "    print(\"Median of the Values Column is : {} \".format(median))\n",
    "    print(\"Mode of the Values Column is : {}\".format(mode.values[0]))\n",
    "mmm(df1)"
   ]
  },
  {
   "cell_type": "code",
   "execution_count": null,
   "id": "37bb7086-7c89-4c5c-99be-d7d73517bc88",
   "metadata": {},
   "outputs": [],
   "source": [
    "Q10. Given a Pandas DataFrame df with a column 'Sales' and a column 'Date', write a Python function to \n",
    "create a new column 'MovingAverage' that contains the moving average of the sales for the past 7 days \n",
    "for each row in the DataFrame. The moving average should be calculated using a window of size 7 and \n",
    "should include the current day."
   ]
  },
  {
   "cell_type": "code",
   "execution_count": 6,
   "id": "0149d8e5-a350-4160-9548-4eb96bdad32d",
   "metadata": {},
   "outputs": [
    {
     "name": "stdout",
     "output_type": "stream",
     "text": [
      "        Date  Sales  MovingAverage\n",
      "0 2023-09-01    100     100.000000\n",
      "1 2023-09-02    120     110.000000\n",
      "2 2023-09-03    110     110.000000\n",
      "3 2023-09-04     90     105.000000\n",
      "4 2023-09-05    130     110.000000\n",
      "5 2023-09-06    150     116.666667\n",
      "6 2023-09-07    140     120.000000\n",
      "7 2023-09-08    125     123.571429\n",
      "8 2023-09-09    105     121.428571\n"
     ]
    }
   ],
   "source": [
    "import pandas as pd\n",
    "\n",
    "def calculate_moving_average(df):\n",
    "    df['Date'] = pd.to_datetime(df['Date'])\n",
    "    df = df.sort_values(by='Date')\n",
    "    df['MovingAverage'] = df['Sales'].rolling(window=7, min_periods=1).mean()\n",
    "    return df\n",
    "data = {'Date': ['2023-09-01', '2023-09-02', '2023-09-03', '2023-09-04', '2023-09-05', '2023-09-06', '2023-09-07', '2023-09-08', '2023-09-09'],\n",
    "        'Sales': [100, 120, 110, 90, 130, 150, 140, 125, 105]}\n",
    "df = pd.DataFrame(data)\n",
    "\n",
    "df = calculate_moving_average(df)\n",
    "print(df)\n"
   ]
  },
  {
   "cell_type": "code",
   "execution_count": null,
   "id": "b20e51dc-57c2-4bed-9f4c-499e1531c320",
   "metadata": {},
   "outputs": [],
   "source": [
    "Q11. You have a Pandas DataFrame df with a column 'Date'. Write a Python function that creates a new \n",
    "column 'Weekday' in the DataFrame. The 'Weekday' column should contain the weekday name (e.g. \n",
    "Monday, Tuesday) corresponding to each date in the 'Date' column.\n",
    "\n",
    "For example, if df contains the following values:\n",
    "\n",
    "         Date\n",
    "\n",
    "0  2023-01-01\n",
    "\n",
    "1  2023-01-02\n",
    "\n",
    "2  2023-01-03\n",
    "\n",
    "3  2023-01-04\n",
    "\n",
    "4  2023-01-05\n",
    "\n",
    "Your function should create the following DataFrame:\n",
    "\n",
    "\n",
    "         Date    Weekday\n",
    "\n",
    "0  2023-01-01    Sunday\n",
    "\n",
    "1  2023-01-02     Monday\n",
    "\n",
    "2  2023-01-03    Tuesday\n",
    "\n",
    "3  2023-01-04    Wednesday\n",
    "\n",
    "4  2023-01-05    Thursday\n",
    "\n",
    "The function should return the modified DataFrame.\n"
   ]
  },
  {
   "cell_type": "code",
   "execution_count": 8,
   "id": "fdeab47a-71c8-4cef-ba2c-8449e1eef8c5",
   "metadata": {},
   "outputs": [
    {
     "name": "stdout",
     "output_type": "stream",
     "text": [
      "        Date    Weekday\n",
      "0 2023-01-01     Sunday\n",
      "1 2023-01-02     Monday\n",
      "2 2023-01-03    Tuesday\n",
      "3 2023-01-04  Wednesday\n",
      "4 2023-01-05   Thursday\n"
     ]
    }
   ],
   "source": [
    "import pandas as pd\n",
    "\n",
    "def add_weekday_column(df):\n",
    "    df['Date'] = pd.to_datetime(df['Date'])\n",
    "    df['Weekday'] = df['Date'].dt.strftime('%A')\n",
    "    return df\n",
    "data = {'Date': ['2023-01-01', '2023-01-02', '2023-01-03', '2023-01-04', '2023-01-05']}\n",
    "df = pd.DataFrame(data)\n",
    "df = add_weekday_column(df)\n",
    "print(df)"
   ]
  },
  {
   "cell_type": "code",
   "execution_count": null,
   "id": "a56e7688-b16e-41c0-b210-7ef574c2d74c",
   "metadata": {},
   "outputs": [],
   "source": [
    "Q12. Given a Pandas DataFrame df with a column 'Date' that contains timestamps, write a Python \n",
    "function to select all rows where the date is between '2023-01-01' and '2023-01-31'."
   ]
  },
  {
   "cell_type": "code",
   "execution_count": 11,
   "id": "5288fd30-3df1-4ec0-8d57-e677f40ea80b",
   "metadata": {},
   "outputs": [],
   "source": [
    "date = pd.date_range('2023-01-01', '2023-02-28', freq='D')\n",
    "df = pd.DataFrame({'Date' : date})"
   ]
  },
  {
   "cell_type": "code",
   "execution_count": 12,
   "id": "0144ec12-7376-49a8-913b-4ed727d0d597",
   "metadata": {},
   "outputs": [
    {
     "data": {
      "text/html": [
       "<div>\n",
       "<style scoped>\n",
       "    .dataframe tbody tr th:only-of-type {\n",
       "        vertical-align: middle;\n",
       "    }\n",
       "\n",
       "    .dataframe tbody tr th {\n",
       "        vertical-align: top;\n",
       "    }\n",
       "\n",
       "    .dataframe thead th {\n",
       "        text-align: right;\n",
       "    }\n",
       "</style>\n",
       "<table border=\"1\" class=\"dataframe\">\n",
       "  <thead>\n",
       "    <tr style=\"text-align: right;\">\n",
       "      <th></th>\n",
       "      <th>Date</th>\n",
       "    </tr>\n",
       "  </thead>\n",
       "  <tbody>\n",
       "    <tr>\n",
       "      <th>0</th>\n",
       "      <td>2023-01-01</td>\n",
       "    </tr>\n",
       "    <tr>\n",
       "      <th>1</th>\n",
       "      <td>2023-01-02</td>\n",
       "    </tr>\n",
       "    <tr>\n",
       "      <th>2</th>\n",
       "      <td>2023-01-03</td>\n",
       "    </tr>\n",
       "    <tr>\n",
       "      <th>3</th>\n",
       "      <td>2023-01-04</td>\n",
       "    </tr>\n",
       "    <tr>\n",
       "      <th>4</th>\n",
       "      <td>2023-01-05</td>\n",
       "    </tr>\n",
       "    <tr>\n",
       "      <th>5</th>\n",
       "      <td>2023-01-06</td>\n",
       "    </tr>\n",
       "    <tr>\n",
       "      <th>6</th>\n",
       "      <td>2023-01-07</td>\n",
       "    </tr>\n",
       "    <tr>\n",
       "      <th>7</th>\n",
       "      <td>2023-01-08</td>\n",
       "    </tr>\n",
       "    <tr>\n",
       "      <th>8</th>\n",
       "      <td>2023-01-09</td>\n",
       "    </tr>\n",
       "    <tr>\n",
       "      <th>9</th>\n",
       "      <td>2023-01-10</td>\n",
       "    </tr>\n",
       "    <tr>\n",
       "      <th>10</th>\n",
       "      <td>2023-01-11</td>\n",
       "    </tr>\n",
       "    <tr>\n",
       "      <th>11</th>\n",
       "      <td>2023-01-12</td>\n",
       "    </tr>\n",
       "    <tr>\n",
       "      <th>12</th>\n",
       "      <td>2023-01-13</td>\n",
       "    </tr>\n",
       "    <tr>\n",
       "      <th>13</th>\n",
       "      <td>2023-01-14</td>\n",
       "    </tr>\n",
       "    <tr>\n",
       "      <th>14</th>\n",
       "      <td>2023-01-15</td>\n",
       "    </tr>\n",
       "    <tr>\n",
       "      <th>15</th>\n",
       "      <td>2023-01-16</td>\n",
       "    </tr>\n",
       "    <tr>\n",
       "      <th>16</th>\n",
       "      <td>2023-01-17</td>\n",
       "    </tr>\n",
       "    <tr>\n",
       "      <th>17</th>\n",
       "      <td>2023-01-18</td>\n",
       "    </tr>\n",
       "    <tr>\n",
       "      <th>18</th>\n",
       "      <td>2023-01-19</td>\n",
       "    </tr>\n",
       "    <tr>\n",
       "      <th>19</th>\n",
       "      <td>2023-01-20</td>\n",
       "    </tr>\n",
       "    <tr>\n",
       "      <th>20</th>\n",
       "      <td>2023-01-21</td>\n",
       "    </tr>\n",
       "    <tr>\n",
       "      <th>21</th>\n",
       "      <td>2023-01-22</td>\n",
       "    </tr>\n",
       "    <tr>\n",
       "      <th>22</th>\n",
       "      <td>2023-01-23</td>\n",
       "    </tr>\n",
       "    <tr>\n",
       "      <th>23</th>\n",
       "      <td>2023-01-24</td>\n",
       "    </tr>\n",
       "    <tr>\n",
       "      <th>24</th>\n",
       "      <td>2023-01-25</td>\n",
       "    </tr>\n",
       "    <tr>\n",
       "      <th>25</th>\n",
       "      <td>2023-01-26</td>\n",
       "    </tr>\n",
       "    <tr>\n",
       "      <th>26</th>\n",
       "      <td>2023-01-27</td>\n",
       "    </tr>\n",
       "    <tr>\n",
       "      <th>27</th>\n",
       "      <td>2023-01-28</td>\n",
       "    </tr>\n",
       "    <tr>\n",
       "      <th>28</th>\n",
       "      <td>2023-01-29</td>\n",
       "    </tr>\n",
       "    <tr>\n",
       "      <th>29</th>\n",
       "      <td>2023-01-30</td>\n",
       "    </tr>\n",
       "    <tr>\n",
       "      <th>30</th>\n",
       "      <td>2023-01-31</td>\n",
       "    </tr>\n",
       "  </tbody>\n",
       "</table>\n",
       "</div>"
      ],
      "text/plain": [
       "         Date\n",
       "0  2023-01-01\n",
       "1  2023-01-02\n",
       "2  2023-01-03\n",
       "3  2023-01-04\n",
       "4  2023-01-05\n",
       "5  2023-01-06\n",
       "6  2023-01-07\n",
       "7  2023-01-08\n",
       "8  2023-01-09\n",
       "9  2023-01-10\n",
       "10 2023-01-11\n",
       "11 2023-01-12\n",
       "12 2023-01-13\n",
       "13 2023-01-14\n",
       "14 2023-01-15\n",
       "15 2023-01-16\n",
       "16 2023-01-17\n",
       "17 2023-01-18\n",
       "18 2023-01-19\n",
       "19 2023-01-20\n",
       "20 2023-01-21\n",
       "21 2023-01-22\n",
       "22 2023-01-23\n",
       "23 2023-01-24\n",
       "24 2023-01-25\n",
       "25 2023-01-26\n",
       "26 2023-01-27\n",
       "27 2023-01-28\n",
       "28 2023-01-29\n",
       "29 2023-01-30\n",
       "30 2023-01-31"
      ]
     },
     "execution_count": 12,
     "metadata": {},
     "output_type": "execute_result"
    }
   ],
   "source": [
    "df[(df['Date'] >= '2023-01-01') & (df['Date'] <= '2023-01-31')]"
   ]
  },
  {
   "cell_type": "code",
   "execution_count": null,
   "id": "b814b13d-00fa-44a9-8f1a-99be2aca0fc9",
   "metadata": {},
   "outputs": [],
   "source": [
    "Q13. To use the basic functions of pandas, what is the first and foremost necessary library that needs to \n",
    "be imported?"
   ]
  },
  {
   "cell_type": "code",
   "execution_count": null,
   "id": "8a8aa37c-5a71-43d4-a071-ad35f9a45ba5",
   "metadata": {},
   "outputs": [],
   "source": [
    "To use the basic functions of pandas, the first and foremost library that needs to be imported is, of course, the pandas library itself. You typically import it with the following line of code:"
   ]
  },
  {
   "cell_type": "code",
   "execution_count": 13,
   "id": "d3d5418d-ea90-464d-8d58-a41ab5f4c9db",
   "metadata": {},
   "outputs": [],
   "source": [
    "import pandas as pd"
   ]
  },
  {
   "cell_type": "code",
   "execution_count": null,
   "id": "92947b1b-a3c5-447d-92ac-349ca89f5014",
   "metadata": {},
   "outputs": [],
   "source": [
    "The common convention is to alias pandas as 'pd' for brevity, which makes it easier to refer to pandas functions and objects in your code. Once you've imported pandas in your Python script or notebook, you can use its functions and data structures to work with data in tabular form, such as DataFrames and Series."
   ]
  }
 ],
 "metadata": {
  "kernelspec": {
   "display_name": "Python 3 (ipykernel)",
   "language": "python",
   "name": "python3"
  },
  "language_info": {
   "codemirror_mode": {
    "name": "ipython",
    "version": 3
   },
   "file_extension": ".py",
   "mimetype": "text/x-python",
   "name": "python",
   "nbconvert_exporter": "python",
   "pygments_lexer": "ipython3",
   "version": "3.10.8"
  }
 },
 "nbformat": 4,
 "nbformat_minor": 5
}
