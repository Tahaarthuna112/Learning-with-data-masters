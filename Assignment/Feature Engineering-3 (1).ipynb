{
 "cells": [
  {
   "cell_type": "code",
   "execution_count": null,
   "id": "6cfa101b-5329-4d44-91d4-a738c0056dd1",
   "metadata": {},
   "outputs": [],
   "source": [
    "Q1. What is Min-Max scaling, and how is it used in data preprocessing? Provide an example to illustrate its \n",
    "application."
   ]
  },
  {
   "cell_type": "code",
   "execution_count": null,
   "id": "faeaba28-07b0-4d60-8937-d4311a70b22c",
   "metadata": {},
   "outputs": [],
   "source": [
    "Min-Max scaling, also known as normalization, is a data preprocessing technique used to scale and transform features of a dataset into a specific range. The purpose of Min-Max scaling is to bring all the values of different features to a common scale without distorting the original distribution of the data. This is particularly important in machine learning algorithms that are sensitive to the scale of input features, such as gradient-based optimization algorithms.\n",
    "\n",
    "The formula for Min-Max scaling is as follows:\n",
    "\n",
    "\\[ X_{\\text{scaled}} = \\frac{{X - \\text{min}(X)}}{{\\text{max}(X) - \\text{min}(X)}} \\]\n",
    "\n",
    "Here:\n",
    "- \\(X\\) is the original value of a feature.\n",
    "- \\(\\text{min}(X)\\) is the minimum value of that feature in the dataset.\n",
    "- \\(\\text{max}(X)\\) is the maximum value of that feature in the dataset.\n",
    "- \\(X_{\\text{scaled}}\\) is the scaled value of \\(X\\) in the desired range (usually between 0 and 1).\n",
    "\n",
    "Here's a simple example in Python to illustrate Min-Max scaling:"
   ]
  },
  {
   "cell_type": "code",
   "execution_count": 2,
   "id": "882732f5-cf0f-4027-b1dd-583448d6058c",
   "metadata": {},
   "outputs": [
    {
     "name": "stdout",
     "output_type": "stream",
     "text": [
      "Original Data:\n",
      " [[ 2.  5.]\n",
      " [ 1.  8.]\n",
      " [ 4. 10.]\n",
      " [ 6.  3.]]\n",
      "\n",
      "Scaled Data:\n",
      " [[0.2        0.28571429]\n",
      " [0.         0.71428571]\n",
      " [0.6        1.        ]\n",
      " [1.         0.        ]]\n"
     ]
    }
   ],
   "source": [
    "import numpy as np\n",
    "from sklearn.preprocessing import MinMaxScaler\n",
    "\n",
    "# Create a sample dataset\n",
    "data = np.array([[2.0, 5.0],\n",
    "                 [1.0, 8.0],\n",
    "                 [4.0, 10.0],\n",
    "                 [6.0, 3.0]])\n",
    "\n",
    "# Initialize the MinMaxScaler\n",
    "scaler = MinMaxScaler()\n",
    "\n",
    "# Fit and transform the data using the scaler\n",
    "scaled_data = scaler.fit_transform(data)\n",
    "\n",
    "# Display the original and scaled data\n",
    "print(\"Original Data:\\n\", data)\n",
    "print(\"\\nScaled Data:\\n\", scaled_data)"
   ]
  },
  {
   "cell_type": "code",
   "execution_count": null,
   "id": "576986cd-89a0-4e56-8c83-674e12676b34",
   "metadata": {},
   "outputs": [],
   "source": [
    "In this example, the `MinMaxScaler` from scikit-learn is used to scale the features of the dataset. The `fit_transform` method computes the minimum and maximum values of each feature and scales the data accordingly. The result is a dataset where all the values are in the range [0, 1]."
   ]
  },
  {
   "cell_type": "code",
   "execution_count": null,
   "id": "e3675ddc-3984-4f70-b7cd-f85a3a3bd53c",
   "metadata": {},
   "outputs": [],
   "source": [
    "Q2. What is the Unit Vector technique in feature scaling, and how does it differ from Min-Max scaling? \n",
    "Provide an example to illustrate its application."
   ]
  },
  {
   "cell_type": "code",
   "execution_count": null,
   "id": "cbf69e0f-76e9-4d34-8663-17c27fa9ba68",
   "metadata": {},
   "outputs": [],
   "source": [
    "Unit Vector scaling, also known as vector normalization or unit normalization, is a feature scaling technique that scales the values of a feature to have a unit norm. In other words, it transforms the feature vector to have a length of 1 while preserving its direction. This technique is particularly useful when the magnitude of the features is not important, and you are more concerned about the direction of the data points.\n",
    "\n",
    "The formula for unit vector scaling is as follows:\n",
    "\n",
    "\\[ X_{\\text{scaled}} = \\frac{X}{\\|X\\|} \\]\n",
    "\n",
    "Here:\n",
    "- \\(X\\) is the original feature vector.\n",
    "- \\(\\|X\\|\\) is the Euclidean norm (magnitude) of the feature vector.\n",
    "\n",
    "Unit Vector scaling is different from Min-Max scaling in that it does not scale the values to a specific range (e.g., [0, 1]). Instead, it normalizes the vector such that its magnitude becomes 1.\n",
    "\n",
    "Here's a Python example using scikit-learn to illustrate Unit Vector scaling:\n"
   ]
  },
  {
   "cell_type": "code",
   "execution_count": 3,
   "id": "42aa04a5-cb34-490a-be26-5ac85d478af6",
   "metadata": {},
   "outputs": [
    {
     "name": "stdout",
     "output_type": "stream",
     "text": [
      "Original Data:\n",
      " [[ 2.  5.]\n",
      " [ 1.  8.]\n",
      " [ 4. 10.]\n",
      " [ 6.  3.]]\n",
      "\n",
      "Normalized Data:\n",
      " [[0.37139068 0.92847669]\n",
      " [0.12403473 0.99227788]\n",
      " [0.37139068 0.92847669]\n",
      " [0.89442719 0.4472136 ]]\n"
     ]
    }
   ],
   "source": [
    "import numpy as np\n",
    "from sklearn.preprocessing import Normalizer\n",
    "\n",
    "# Create a sample dataset\n",
    "data = np.array([[2.0, 5.0],\n",
    "                 [1.0, 8.0],\n",
    "                 [4.0, 10.0],\n",
    "                 [6.0, 3.0]])\n",
    "\n",
    "# Initialize the Normalizer with L2 norm (default)\n",
    "normalizer = Normalizer()\n",
    "\n",
    "# Transform the data using the normalizer\n",
    "normalized_data = normalizer.transform(data)\n",
    "\n",
    "# Display the original and normalized data\n",
    "print(\"Original Data:\\n\", data)\n",
    "print(\"\\nNormalized Data:\\n\", normalized_data)"
   ]
  },
  {
   "cell_type": "code",
   "execution_count": null,
   "id": "1ccafdcb-1a78-443d-8f4b-112d9197dedc",
   "metadata": {},
   "outputs": [],
   "source": [
    "In this example, the `Normalizer` from scikit-learn is used to perform Unit Vector scaling with the default L2 norm (Euclidean norm). The result is a dataset where each row has a unit norm, and the direction of the original vectors is preserved."
   ]
  },
  {
   "cell_type": "code",
   "execution_count": null,
   "id": "8a05236d-976c-4f73-9802-bf414b832dd8",
   "metadata": {},
   "outputs": [],
   "source": [
    "Q3. What is PCA (Principle Component Analysis), and how is it used in dimensionality reduction? Provide an \n",
    "example to illustrate its application."
   ]
  },
  {
   "cell_type": "code",
   "execution_count": null,
   "id": "ef2650cf-0712-43fd-a083-af505ff3a049",
   "metadata": {},
   "outputs": [],
   "source": [
    "PCA, or Principal Component Analysis, is a dimensionality reduction technique used to transform high-dimensional data into a lower-dimensional representation while retaining as much of the original variance as possible. The idea is to identify the principal components (linear combinations of the original features) that capture the most significant information in the data.\n",
    "\n",
    "Here are the main steps of PCA:\n",
    "\n",
    "1. Standardize the Data: If the features of the dataset are on different scales, it is essential to standardize them.\n",
    "\n",
    "2. Compute the Covariance Matrix: Calculate the covariance matrix of the standardized data.\n",
    "\n",
    "3. Compute Eigenvectors and Eigenvalues: Solve the eigenvalue problem to obtain the eigenvectors and eigenvalues of the covariance matrix.\n",
    "\n",
    "4. Sort Eigenvectors by Eigenvalues: Sort the eigenvectors in descending order based on their corresponding eigenvalues. The eigenvectors with higher eigenvalues capture more variance in the data.\n",
    "\n",
    "5. Select Principal Components: Choose the top \\(k\\) eigenvectors to form the new feature space (where \\(k\\) is the desired dimensionality of the reduced data).\n",
    "\n",
    "6. Transform the Data: Project the original data onto the selected eigenvectors to obtain the lower-dimensional representation.\n",
    "\n",
    "Here's a simple example in Python using the Iris dataset:"
   ]
  },
  {
   "cell_type": "code",
   "execution_count": 4,
   "id": "37185f12-eb08-4883-b77b-3cadc42bad10",
   "metadata": {},
   "outputs": [
    {
     "data": {
      "image/png": "[encoded data removed]",
      "text/plain": [
       "<Figure size 800x600 with 1 Axes>"
      ]
     },
     "metadata": {},
     "output_type": "display_data"
    }
   ],
   "source": [
    "import numpy as np\n",
    "import pandas as pd\n",
    "from sklearn.decomposition import PCA\n",
    "from sklearn.datasets import load_iris\n",
    "import matplotlib.pyplot as plt\n",
    "\n",
    "# Load Iris dataset\n",
    "iris = load_iris()\n",
    "data = iris.data\n",
    "target = iris.target\n",
    "columns = iris.feature_names\n",
    "\n",
    "# Standardize the data\n",
    "data_std = (data - np.mean(data, axis=0)) / np.std(data, axis=0)\n",
    "\n",
    "# Apply PCA\n",
    "pca = PCA(n_components=2)\n",
    "data_pca = pca.fit_transform(data_std)\n",
    "\n",
    "# Create a DataFrame for visualization\n",
    "df_pca = pd.DataFrame(data_pca, columns=['Principal Component 1', 'Principal Component 2'])\n",
    "df_pca['Target'] = target\n",
    "\n",
    "# Visualize the reduced data\n",
    "plt.figure(figsize=(8, 6))\n",
    "targets = [0, 1, 2]\n",
    "colors = ['r', 'g', 'b']\n",
    "for target, color in zip(targets, colors):\n",
    "    indices_to_keep = df_pca['Target'] == target\n",
    "    plt.scatter(df_pca.loc[indices_to_keep, 'Principal Component 1'],\n",
    "                df_pca.loc[indices_to_keep, 'Principal Component 2'],\n",
    "                c=color, s=50)\n",
    "\n",
    "plt.xlabel('Principal Component 1')\n",
    "plt.ylabel('Principal Component 2')\n",
    "plt.title('PCA of Iris Dataset')\n",
    "plt.legend(iris.target_names)\n",
    "plt.show()"
   ]
  },
  {
   "cell_type": "code",
   "execution_count": null,
   "id": "3fc5a530-1b25-4b24-bd64-31dbbe6b8bd0",
   "metadata": {},
   "outputs": [],
   "source": [
    "In this example, PCA is applied to the Iris dataset, and the data is reduced to two principal components for visualization. The resulting plot shows the reduced data points in a 2D space, where each color corresponds to a different class (species) of iris flowers."
   ]
  },
  {
   "cell_type": "code",
   "execution_count": null,
   "id": "3eb432f8-f127-46e0-a7d8-e19ebc0caea8",
   "metadata": {},
   "outputs": [],
   "source": [
    "Q4. What is the relationship between PCA and Feature Extraction, and how can PCA be used for Feature \n",
    "Extraction? Provide an example to illustrate this concept."
   ]
  },
  {
   "cell_type": "code",
   "execution_count": null,
   "id": "d348343f-25e6-4a18-9173-9ea151e9ad98",
   "metadata": {},
   "outputs": [],
   "source": [
    "PCA (Principal Component Analysis) is often used for feature extraction in the context of dimensionality reduction. Feature extraction involves transforming the original features of a dataset into a new set of features, usually with a lower dimension, while preserving the essential information in the data. PCA achieves feature extraction by identifying and selecting the principal components, which are linear combinations of the original features.\n",
    "\n",
    "The relationship between PCA and feature extraction can be summarized as follows:\n",
    "\n",
    "1. Identifying Principal Components: In PCA, the principal components are the eigenvectors of the covariance matrix of the data. These eigenvectors represent the directions of maximum variance in the data.\n",
    "\n",
    "2. Reducing Dimensionality: The principal components are ordered by their corresponding eigenvalues, with the first principal component capturing the most variance. By selecting a subset of the top \\(k\\) principal components (where \\(k\\) is the desired reduced dimensionality), we can create a new feature space that retains the most important information in the original data.\n",
    "\n",
    "3. Transforming Data: The original data is then projected onto the selected principal components to obtain the lower-dimensional representation.\n",
    "\n",
    "Here's an example using the Breast Cancer Wisconsin dataset from scikit-learn:"
   ]
  },
  {
   "cell_type": "code",
   "execution_count": 5,
   "id": "c11e2d80-faa9-4dfe-86d0-ee69d92deab1",
   "metadata": {},
   "outputs": [
    {
     "data": {
      "image/png": "[encoded data removed]",
      "text/plain": [
       "<Figure size 800x600 with 1 Axes>"
      ]
     },
     "metadata": {},
     "output_type": "display_data"
    }
   ],
   "source": [
    "import numpy as np\n",
    "import pandas as pd\n",
    "from sklearn.decomposition import PCA\n",
    "from sklearn.datasets import load_breast_cancer\n",
    "import matplotlib.pyplot as plt\n",
    "\n",
    "# Load Breast Cancer dataset\n",
    "cancer = load_breast_cancer()\n",
    "data = cancer.data\n",
    "target = cancer.target\n",
    "columns = cancer.feature_names\n",
    "\n",
    "# Standardize the data\n",
    "data_std = (data - np.mean(data, axis=0)) / np.std(data, axis=0)\n",
    "\n",
    "# Apply PCA for feature extraction\n",
    "pca = PCA(n_components=2)\n",
    "data_pca = pca.fit_transform(data_std)\n",
    "\n",
    "# Create a DataFrame for visualization\n",
    "df_pca = pd.DataFrame(data_pca, columns=['Principal Component 1', 'Principal Component 2'])\n",
    "df_pca['Target'] = target\n",
    "\n",
    "# Visualize the reduced data\n",
    "plt.figure(figsize=(8, 6))\n",
    "targets = [0, 1]\n",
    "colors = ['r', 'b']\n",
    "for target, color in zip(targets, colors):\n",
    "    indices_to_keep = df_pca['Target'] == target\n",
    "    plt.scatter(df_pca.loc[indices_to_keep, 'Principal Component 1'],\n",
    "                df_pca.loc[indices_to_keep, 'Principal Component 2'],\n",
    "                c=color, s=50)\n",
    "\n",
    "plt.xlabel('Principal Component 1')\n",
    "plt.ylabel('Principal Component 2')\n",
    "plt.title('PCA for Feature Extraction (Breast Cancer Dataset)')\n",
    "plt.legend(['Malignant', 'Benign'])\n",
    "plt.show()"
   ]
  },
  {
   "cell_type": "code",
   "execution_count": null,
   "id": "a3dd9276-43a1-458c-9e9b-f9567849fc3b",
   "metadata": {},
   "outputs": [],
   "source": [
    "In this example, PCA is applied to the Breast Cancer Wisconsin dataset, and the data is reduced to two principal components for visualization. The plot shows the reduced data points in a 2D space, with different colors representing malignant and benign tumors. The lower-dimensional representation capturmost significant variation in the original feature space."
   ]
  },
  {
   "cell_type": "code",
   "execution_count": null,
   "id": "5399fdfd-c6c8-44d7-aee0-0f2c4d0618bb",
   "metadata": {},
   "outputs": [],
   "source": [
    "Q5. You are working on a project to build a recommendation system for a food delivery service. The dataset \n",
    "contains features such as price, rating, and delivery time. Explain how you would use Min-Max scaling to \n",
    "preprocess the data."
   ]
  },
  {
   "cell_type": "code",
   "execution_count": null,
   "id": "cf8ae804-a5d6-42fa-8341-38ae513dbd85",
   "metadata": {},
   "outputs": [],
   "source": [
    "In the context of building a recommendation system for a food delivery service, you might have a dataset with features such as price, rating, delivery time, and possibly others. Min-Max scaling can be a useful preprocessing technique to ensure that these features are on a consistent scale, which can be important for certain recommendation algorithms that are sensitive to the scale of input features.\n",
    "\n",
    "1. Understand the Features:\n",
    "   - Identify the numerical features in your dataset, such as price, rating, and delivery time, that you want to include in your recommendation system.\n",
    "\n",
    "2. Check for Differing Scales:\n",
    "   - Examine the range of values for each feature. If the features are on different scales (e.g., price might have values in the tens or hundreds, while rating is on a scale of 1 to 5), it's a good idea to standardize them to a common range.\n",
    "\n",
    "3. Apply Min-Max Scaling:\n",
    "   - Use the Min-Max scaling formula to scale each feature to a specific range, commonly between 0 and 1. The formula is as follows:\n",
    "     \\[ X_{\\text{scaled}} = \\frac{{X - \\text{min}(X)}}{{\\text{max}(X) - \\text{min}(X)}} \\]\n",
    "   - This transformation ensures that all the values are proportionally represented within the specified range.\n",
    "\n",
    "4. Implementation in Python:\n",
    "   - Here's a simple example using Python and scikit-learn:\n",
    "This code snippet demonstrates how to use the `MinMaxScaler` from scikit-learn to scale the specified features.\n",
    "\n",
    "5. Check the Resulting Data:\n",
    "   - After applying Min-Max scaling, inspect the transformed data to ensure that the features are now within the desired range (typically between 0 and 1).\n",
    "\n",
    "Min-Max scaling helps ensure that no single feature dominates the others due to differences in scale, and it can contribute to the stability and convergence of certain recommendation algorithms during training."
   ]
  },
  {
   "cell_type": "code",
   "execution_count": 7,
   "id": "8aa263fb-c81d-462f-9a01-d90b49818487",
   "metadata": {},
   "outputs": [
    {
     "ename": "IndexError",
     "evalue": "only integers, slices (`:`), ellipsis (`...`), numpy.newaxis (`None`) and integer or boolean arrays are valid indices",
     "output_type": "error",
     "traceback": [
      "\u001b[0;31m---------------------------------------------------------------------------\u001b[0m",
      "\u001b[0;31mIndexError\u001b[0m                                Traceback (most recent call last)",
      "Cell \u001b[0;32mIn[7], line 8\u001b[0m\n\u001b[1;32m      5\u001b[0m scaler \u001b[38;5;241m=\u001b[39m MinMaxScaler()\n\u001b[1;32m      7\u001b[0m \u001b[38;5;66;03m# Fit and transform the selected features\u001b[39;00m\n\u001b[0;32m----> 8\u001b[0m data[[\u001b[38;5;124m'\u001b[39m\u001b[38;5;124mprice\u001b[39m\u001b[38;5;124m'\u001b[39m, \u001b[38;5;124m'\u001b[39m\u001b[38;5;124mrating\u001b[39m\u001b[38;5;124m'\u001b[39m, \u001b[38;5;124m'\u001b[39m\u001b[38;5;124mdelivery_time\u001b[39m\u001b[38;5;124m'\u001b[39m]] \u001b[38;5;241m=\u001b[39m scaler\u001b[38;5;241m.\u001b[39mfit_transform(\u001b[43mdata\u001b[49m\u001b[43m[\u001b[49m\u001b[43m[\u001b[49m\u001b[38;5;124;43m'\u001b[39;49m\u001b[38;5;124;43mprice\u001b[39;49m\u001b[38;5;124;43m'\u001b[39;49m\u001b[43m,\u001b[49m\u001b[43m \u001b[49m\u001b[38;5;124;43m'\u001b[39;49m\u001b[38;5;124;43mrating\u001b[39;49m\u001b[38;5;124;43m'\u001b[39;49m\u001b[43m,\u001b[49m\u001b[43m \u001b[49m\u001b[38;5;124;43m'\u001b[39;49m\u001b[38;5;124;43mdelivery_time\u001b[39;49m\u001b[38;5;124;43m'\u001b[39;49m\u001b[43m]\u001b[49m\u001b[43m]\u001b[49m)\n",
      "\u001b[0;31mIndexError\u001b[0m: only integers, slices (`:`), ellipsis (`...`), numpy.newaxis (`None`) and integer or boolean arrays are valid indices"
     ]
    }
   ],
   "source": [
    "from sklearn.preprocessing import MinMaxScaler\n",
    "\n",
    "# Assuming 'data' is your dataset with columns like 'price', 'rating', 'delivery_time'\n",
    "# Initialize the MinMaxScaler\n",
    "scaler = MinMaxScaler()\n",
    "\n",
    "# Fit and transform the selected features\n",
    "data[['price', 'rating', 'delivery_time']] = scaler.fit_transform(data[['price', 'rating', 'delivery_time']])\n",
    "\n"
   ]
  },
  {
   "cell_type": "code",
   "execution_count": null,
   "id": "41b03a85-0a10-4250-97f2-65e9dbf60cab",
   "metadata": {},
   "outputs": [],
   "source": [
    "Q6. You are working on a project to build a model to predict stock prices. The dataset contains many \n",
    "features, such as company financial data and market trends. Explain how you would use PCA to reduce the \n",
    "dimensionality of the dataset."
   ]
  },
  {
   "cell_type": "code",
   "execution_count": null,
   "id": "02086363-5097-49a8-b9ef-46f86937411b",
   "metadata": {},
   "outputs": [],
   "source": [
    "When working on a project to predict stock prices with a dataset containing numerous features, PCA (Principal Component Analysis) can be employed to reduce the dimensionality of the dataset. Dimensionality reduction is beneficial in this context because it can help mitigate the curse of dimensionality, enhance model interpretability, and potentially improve the model's generalization performance.\n",
    "\n",
    "Here's a step-by-step explanation of how we can use PCA to reduce the dimensionality of the stock price prediction dataset:\n",
    "\n",
    "1. Understand the Features:\n",
    "   - Identify the features in your dataset, which might include various financial metrics, market trends, and other relevant variables.\n",
    "\n",
    "2. Standardize the Data:\n",
    "   - Standardize the data by subtracting the mean and scaling to unit variance. Standardization is important for PCA because it ensures that all features are on a comparable scale.\n",
    "\n",
    "3. Apply PCA:\n",
    "   - Use PCA to transform the standardized data into its principal components. The principal components are linear combinations of the original features that capture the maximum variance in the data.\n",
    "\n",
    "   ```python\n",
    "   from sklearn.decomposition import PCA\n",
    "   from sklearn.preprocessing import StandardScaler\n",
    "\n",
    "   # Assuming 'data' is our dataset with various features\n",
    "   # Standardize the data\n",
    "   data_standardized = StandardScaler().fit_transform(data)\n",
    "\n",
    "   # Apply PCA\n",
    "   pca = PCA(n_components=desired_number_of_components)\n",
    "   data_pca = pca.fit_transform(data_standardized)\n",
    "   ```\n",
    "\n",
    "   - Specify the number of components (\\(k\\)) based on how much variance we want to retain. You can choose \\(k\\) such that a certain percentage of the total variance is preserved (e.g., 95%).\n",
    "\n",
    "4. Evaluate Explained Variance:\n",
    "   - Inspect the explained variance ratio provided by PCA to understand how much variance is retained by each principal component. This information can help you decide on the appropriate number of components.\n",
    "\n",
    "   ```python\n",
    "   explained_variance_ratio = pca.explained_variance_ratio_\n",
    "   ```\n",
    "\n",
    "5. Select the Number of Components:\n",
    "   - Choose the number of principal components based on the explained variance ratio. A common approach is to select a number of components that capture a sufficiently high percentage of the total variance (e.g., 95%).\n",
    "\n",
    "6. Transform the Data:\n",
    "   - Project the original data onto the selected principal components to obtain the reduced-dimensional representation.\n",
    "\n",
    "   ```python\n",
    "   data_reduced = data_pca[:, :selected_number_of_components]\n",
    "   ```\n",
    "\n",
    "7. Use the Reduced Data for Modeling:\n",
    "   - Utilize the reduced-dimensional dataset for training our stock price prediction model.\n",
    "\n",
    "   ```python\n",
    "   # Train your model using data_reduced\n",
    "   ```\n",
    "\n",
    "Reducing the dimensionality of the dataset through PCA can help us to focus on the most significant patterns and relationships in the data, potentially improving the efficiency and interpretability of your stock price prediction model."
   ]
  },
  {
   "cell_type": "code",
   "execution_count": null,
   "id": "338cd1b5-7457-4198-a2c1-a330d78fe800",
   "metadata": {},
   "outputs": [],
   "source": [
    "Q7. For a dataset containing the following values: [1, 5, 10, 15, 20], perform Min-Max scaling to transform the \n",
    "values to a range of -1 to 1"
   ]
  },
  {
   "cell_type": "code",
   "execution_count": null,
   "id": "63842b21-82b0-42ae-b209-8a4cb3f0337e",
   "metadata": {},
   "outputs": [],
   "source": [
    "To perform Min-Max scaling and transform the values of a dataset to a range of -1 to 1, you can use the Min-Max scaling formula and adjust it to the desired range. The formula for Min-Max scaling is:\n",
    "\n",
    "\\[ X_{\\text{scaled}} = \\frac{{X - \\text{min}(X)}}{{\\text{max}(X) - \\text{min}(X)}} \\]\n",
    "\n",
    "For the desired range of -1 to 1, the formula becomes:\n",
    "\n",
    "\\[ X_{\\text{scaled}} = \\frac{{X - \\text{min}(X)}}{{\\text{max}(X) - \\text{min}(X)}} \\times (b - a) + a \\]\n",
    "\n",
    "Where:\n",
    "- \\( a \\) is the lower bound of the desired range (-1 in this case).\n",
    "- \\( b \\) is the upper bound of the desired range (1 in this case).\n",
    "\n",
    "Let's apply this formula to the given dataset [1, 5, 10, 15, 20]:\n"
   ]
  },
  {
   "cell_type": "code",
   "execution_count": 8,
   "id": "e60523be-5c63-4188-819d-26b48f4d7c7a",
   "metadata": {},
   "outputs": [
    {
     "name": "stdout",
     "output_type": "stream",
     "text": [
      "Original Data: [ 1  5 10 15 20]\n",
      "Scaled Data (in the range -1 to 1): [-1.         -0.57894737 -0.05263158  0.47368421  1.        ]\n"
     ]
    }
   ],
   "source": [
    "import numpy as np\n",
    "\n",
    "# Given dataset\n",
    "data = np.array([1, 5, 10, 15, 20])\n",
    "\n",
    "# Define the desired range\n",
    "a = -1\n",
    "b = 1\n",
    "\n",
    "# Apply Min-Max scaling\n",
    "min_val = np.min(data)\n",
    "max_val = np.max(data)\n",
    "\n",
    "scaled_data = ((data - min_val) / (max_val - min_val)) * (b - a) + a\n",
    "\n",
    "print(\"Original Data:\", data)\n",
    "print(\"Scaled Data (in the range -1 to 1):\", scaled_data)"
   ]
  },
  {
   "cell_type": "code",
   "execution_count": null,
   "id": "bbe3ad10-03cb-48aa-a93a-958a18099c78",
   "metadata": {},
   "outputs": [],
   "source": [
    "In this example, the values in the given dataset [1, 5, 10, 15, 20] have been Min-Max scaled to the range of -1 to 1."
   ]
  },
  {
   "cell_type": "code",
   "execution_count": null,
   "id": "d3b3558f-2f47-4d0b-bc21-4ff53f2ab73d",
   "metadata": {},
   "outputs": [],
   "source": [
    "Q8. For a dataset containing the following features: [height, weight, age, gender, blood pressure], perform \n",
    "Feature Extraction using PCA. How many principal components would you choose to retain, and why"
   ]
  },
  {
   "cell_type": "code",
   "execution_count": null,
   "id": "98076142-05b4-416d-aa41-c7c6970eadc7",
   "metadata": {},
   "outputs": [],
   "source": [
    "The choice of how many principal components to retain in PCA is typically based on the amount of variance they explain. Principal components are ordered by their corresponding eigenvalues, and higher eigenvalues correspond to principal components that capture more variance in the data. The cumulative explained variance can help you decide on the number of principal components to retain.\n",
    "\n",
    "1. Compute the Explained Variance:\n",
    "   - After applying PCA to your dataset, you'll have access to the explained variance ratio for each principal component. This is available through the `explained_variance_ratio_` attribute in scikit-learn.\n",
    "\n",
    "   ```python\n",
    "   from sklearn.decomposition import PCA\n",
    "\n",
    "   # Assuming 'data' is your dataset with features\n",
    "   pca = PCA()\n",
    "   pca.fit(data)\n",
    "\n",
    "   explained_variance_ratio = pca.explained_variance_ratio_\n",
    "   ```\n",
    "\n",
    "2. Plot the Cumulative Explained Variance:\n",
    "   - Create a scree plot or a cumulative explained variance plot. This plot shows the proportion of total variance explained by each principal component and the cumulative explained variance as you go along.\n",
    "\n",
    "   ```python\n",
    "   import matplotlib.pyplot as plt\n",
    "\n",
    "   cumulative_explained_variance = np.cumsum(explained_variance_ratio)\n",
    "\n",
    "   plt.plot(range(1, len(cumulative_explained_variance) + 1), cumulative_explained_variance, marker='o')\n",
    "   plt.xlabel('Number of Principal Components')\n",
    "   plt.ylabel('Cumulative Explained Variance')\n",
    "   plt.show()\n",
    "   ```\n",
    "\n",
    "3. Choose the Number of Components:\n",
    "   - Decide on the number of principal components to retain based on the elbow point in the cumulative explained variance plot. The elbow point is where adding more components provides diminishing returns in terms of explaining additional variance.\n",
    "\n",
    "In practice, a common threshold is to retain enough principal components to explain a certain percentage of the total variance, such as 95% or 99%. The choice may depend on the specific requirements of your application and the trade-off between dimensionality reduction and preserving information.\n",
    "\n",
    "Let's say you decide to retain 95% of the variance. You would choose the number of principal components (\\(k\\)) such that:\n",
    "\n",
    "\\[ \\frac{\\sum_{i=1}^{k} \\text{explained\\_variance\\_ratio}[i]}{\\sum_{i=1}^{N} \\text{explained\\_variance\\_ratio}[i]} \\geq 0.95 \\]\n",
    "\n",
    "Where \\(N\\) is the total number of features.\n",
    "\n",
    "Here's an example using Python:\n",
    "\n",
    "```python\n",
    "# Assuming you have computed explained_variance_ratio as shown above\n",
    "target_explained_variance = 0.95\n",
    "cumulative_explained_variance = np.cumsum(explained_variance_ratio)\n",
    "\n",
    "# Find the number of components to retain\n",
    "num_components_to_retain = np.argmax(cumulative_explained_variance >= target_explained_variance) + 1\n",
    "\n",
    "print(f\"Number of components to retain to explain {target_explained_variance * 100}% variance: {num_components_to_retain}\")\n",
    "```\n",
    "\n",
    "This way, we can determine how many principal components to retain based on the explained variance threshold that fits our needs."
   ]
  },
  {
   "cell_type": "code",
   "execution_count": null,
   "id": "27ab9b76-63e8-456d-9c0f-575c466fc80b",
   "metadata": {},
   "outputs": [],
   "source": []
  }
 ],
 "metadata": {
  "kernelspec": {
   "display_name": "Python 3 (ipykernel)",
   "language": "python",
   "name": "python3"
  },
  "language_info": {
   "codemirror_mode": {
    "name": "ipython",
    "version": 3
   },
   "file_extension": ".py",
   "mimetype": "text/x-python",
   "name": "python",
   "nbconvert_exporter": "python",
   "pygments_lexer": "ipython3",
   "version": "3.10.8"
  }
 },
 "nbformat": 4,
 "nbformat_minor": 5
}
