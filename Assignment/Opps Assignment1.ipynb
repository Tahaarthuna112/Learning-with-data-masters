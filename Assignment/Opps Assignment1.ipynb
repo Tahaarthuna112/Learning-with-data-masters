{
 "cells": [
  {
   "cell_type": "code",
   "execution_count": null,
   "id": "037916f5-d5d7-4491-86d2-79be8b8a5235",
   "metadata": {},
   "outputs": [],
   "source": [
    "#Q1. Explain Class and Object with respect to Object-Oriented Programming. Give a suitable example."
   ]
  },
  {
   "cell_type": "code",
   "execution_count": null,
   "id": "5013d741-ce27-4ca2-8732-b17944a44c8d",
   "metadata": {},
   "outputs": [],
   "source": [
    "In object-oriented programming (OOP), a class is a blueprint or template that defines the attributes (data) and behaviors (methods) that an object of that class will have. It serves as a blueprint for creating multiple objects with similar characteristics"
   ]
  },
  {
   "cell_type": "code",
   "execution_count": null,
   "id": "42c667a5-0c00-47b8-90cf-95ebf2dbfd6e",
   "metadata": {},
   "outputs": [],
   "source": [
    "An object, on the other hand, is an instance of a class. It is a runtime entity that represents a specific occurrence or occurrence of the class."
   ]
  },
  {
   "cell_type": "code",
   "execution_count": 1,
   "id": "bcecb643-6e03-4c2e-adc8-63b65931d388",
   "metadata": {},
   "outputs": [],
   "source": [
    "class pwskills : \n",
    "    \n",
    "    mobile_num = 912342424\n",
    "    \n",
    "    def __init__(self , name , email) :\n",
    "        \n",
    "        self.name = name \n",
    "        self.email = email\n",
    "    \n",
    "    @classmethod\n",
    "    def change_number(cls, mobile):\n",
    "        pwskills.mobile_num = mobile\n",
    "    \n",
    "    @classmethod\n",
    "    def details(cls ,name, email ):\n",
    "        return cls(name , email)\n",
    "        \n",
    "    def students_details(self):\n",
    "        print(self.name , self.email,pwskills.mobile_num)"
   ]
  },
  {
   "cell_type": "code",
   "execution_count": null,
   "id": "967ac906-5431-4a37-9ac0-a6ac7df6f880",
   "metadata": {},
   "outputs": [],
   "source": [
    "#Q2. Name the four pillars of OOPs."
   ]
  },
  {
   "cell_type": "code",
   "execution_count": null,
   "id": "dbefd22b-1c92-4d3a-9f82-65cbc5265472",
   "metadata": {},
   "outputs": [],
   "source": [
    "1.Encapsulation\n",
    "2.Inheritance\n",
    "3.Polymorphism\n",
    "4.Abstraction"
   ]
  },
  {
   "cell_type": "code",
   "execution_count": null,
   "id": "348656df-9274-4144-a46b-6323b560ccfb",
   "metadata": {},
   "outputs": [],
   "source": [
    "#Q3. Explain why the __init__() function is used. Give a suitable example."
   ]
  },
  {
   "cell_type": "code",
   "execution_count": null,
   "id": "4f8de971-70f9-4ee6-880e-55b13e31e596",
   "metadata": {},
   "outputs": [],
   "source": [
    "The __init__() function is a special method in Python that is automatically called when an object is created from a class. __init__() method allows us to define the initial values of the object's attributes at the time of object creation."
   ]
  },
  {
   "cell_type": "code",
   "execution_count": 2,
   "id": "2b548a49-7376-47d6-8f06-a8f163bc65b6",
   "metadata": {},
   "outputs": [],
   "source": [
    "class pwskills : \n",
    "    \n",
    "    def __init__(self , name , email) :\n",
    "        \n",
    "        self.name = name \n",
    "        self.email = email\n",
    "        \n",
    "    def students_details(self):\n",
    "        print(self.name , self.email)"
   ]
  },
  {
   "cell_type": "code",
   "execution_count": null,
   "id": "01f5d1f8-4cb1-461c-87a6-3167cdbbb4b5",
   "metadata": {},
   "outputs": [],
   "source": [
    "#Q4. Why self is used in OOPs?"
   ]
  },
  {
   "cell_type": "code",
   "execution_count": null,
   "id": "567caf4c-e265-4ad1-bed2-c7d3f5facc24",
   "metadata": {},
   "outputs": [],
   "source": [
    "self represents the instance of the class. By using the “self” we can access the attributes and methods of the class in python. It binds the attributes with the given arguments. The reason you need to use self. is because Python does not use the @ syntax to refer to instance attributes."
   ]
  },
  {
   "cell_type": "code",
   "execution_count": null,
   "id": "f14d9647-370a-43b0-b1ce-82c456f15f1d",
   "metadata": {},
   "outputs": [],
   "source": [
    "#Q5. What is inheritance? Give an example for each type of inheritance."
   ]
  },
  {
   "cell_type": "code",
   "execution_count": null,
   "id": "657ef844-eb79-45a2-bc3e-45277bc32992",
   "metadata": {},
   "outputs": [],
   "source": [
    "Inheritance is a fundamental concept in object-oriented programming (OOP) that allows a class to inherit properties and behaviors from another class."
   ]
  },
  {
   "cell_type": "code",
   "execution_count": 3,
   "id": "dc81ce2b-8b25-48ac-bd1c-2a4dde82472c",
   "metadata": {},
   "outputs": [],
   "source": [
    "class class1 :\n",
    "    def test_class1(self) : \n",
    "        print(\"this is my class1 \" )"
   ]
  },
  {
   "cell_type": "code",
   "execution_count": 4,
   "id": "5ea6069f-2db9-4d98-ba66-977e1662c120",
   "metadata": {},
   "outputs": [],
   "source": [
    "class class2(class1) : \n",
    "    def test_class2(self) : \n",
    "        print(\"this is my class2\" )"
   ]
  },
  {
   "cell_type": "code",
   "execution_count": 5,
   "id": "cf55ed7b-fee3-48da-9a02-b253c410c440",
   "metadata": {},
   "outputs": [],
   "source": [
    "class class3(class2) : \n",
    "    def test_class3(self) : \n",
    "        print(\"this is my class3 \")"
   ]
  },
  {
   "cell_type": "code",
   "execution_count": 6,
   "id": "d97c5a3b-0e99-4caf-bb75-7fe1d4558030",
   "metadata": {},
   "outputs": [],
   "source": [
    "obj_class3  = class3()"
   ]
  },
  {
   "cell_type": "code",
   "execution_count": 7,
   "id": "3699fac9-af1e-4d69-8b12-ee3f18edb4f9",
   "metadata": {},
   "outputs": [
    {
     "name": "stdout",
     "output_type": "stream",
     "text": [
      "this is my class1 \n"
     ]
    }
   ],
   "source": [
    "obj_class3.test_class1()"
   ]
  },
  {
   "cell_type": "code",
   "execution_count": 8,
   "id": "472c43cc-2d61-4e67-8811-333f78e740d7",
   "metadata": {},
   "outputs": [
    {
     "name": "stdout",
     "output_type": "stream",
     "text": [
      "this is my class2\n"
     ]
    }
   ],
   "source": [
    "obj_class3.test_class2()"
   ]
  },
  {
   "cell_type": "code",
   "execution_count": 9,
   "id": "9620b232-596d-4028-83bb-6a47d66d970b",
   "metadata": {},
   "outputs": [
    {
     "name": "stdout",
     "output_type": "stream",
     "text": [
      "this is my class3 \n"
     ]
    }
   ],
   "source": [
    "obj_class3.test_class3()"
   ]
  },
  {
   "cell_type": "code",
   "execution_count": null,
   "id": "ac4e1601-10bd-4c80-b0af-a72b73cbd057",
   "metadata": {},
   "outputs": [],
   "source": []
  }
 ],
 "metadata": {
  "kernelspec": {
   "display_name": "Python 3 (ipykernel)",
   "language": "python",
   "name": "python3"
  },
  "language_info": {
   "codemirror_mode": {
    "name": "ipython",
    "version": 3
   },
   "file_extension": ".py",
   "mimetype": "text/x-python",
   "name": "python",
   "nbconvert_exporter": "python",
   "pygments_lexer": "ipython3",
   "version": "3.10.8"
  }
 },
 "nbformat": 4,
 "nbformat_minor": 5
}
