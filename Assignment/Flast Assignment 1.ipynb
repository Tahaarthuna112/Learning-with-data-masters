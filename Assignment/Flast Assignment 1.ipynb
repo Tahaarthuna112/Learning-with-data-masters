{
 "cells": [
  {
   "cell_type": "code",
   "execution_count": null,
   "id": "e6a97f0d-36c6-4030-8ddd-2fdb82fc4814",
   "metadata": {},
   "outputs": [],
   "source": [
    "Q1. What is Flask Framework? What are the advantages of Flask Framework?"
   ]
  },
  {
   "cell_type": "code",
   "execution_count": null,
   "id": "26925970-4d30-4b50-91e4-7ba9dd5b423a",
   "metadata": {},
   "outputs": [],
   "source": [
    "Flask is a lightweight and micro web framework for Python that is designed to make it easy to build web applications quickly and with minimal code. It was created by Armin Ronacher and released in 2010. Flask is known for its simplicity and flexibility, making it a popular choice for developers, particularly those who prefer a minimalistic approach to web development.\n",
    "\n",
    "Advantages of Flask Framework:\n",
    "\n",
    "1.Lightweight and Minimalistic: Flask is a micro-framework, which means it provides only the essentials for building web applications. This minimalistic approach allows developers to add only the components they need, keeping the application lightweight and simple.\n",
    "\n",
    "2.Easy to Learn and Use: Flask's simplicity and clear documentation make it easy for developers, especially beginners, to pick up and start using quickly. It has a straightforward and intuitive API.\n",
    "\n",
    "3.Flexibility: Flask doesn't impose strict patterns or structures on your project. This flexibility allows you to choose your database, templating engine, and other components according to your preferences and project requirements.\n",
    "\n",
    "4.Extensible: Flask is designed to be extensible, allowing developers to add third-party extensions or build custom functionality when needed. There is a rich ecosystem of Flask extensions available for various tasks, such as authentication, database integration, and more.\n",
    "\n",
    "5.RESTful Support: Flask is well-suited for building RESTful APIs due to its simplicity and support for HTTP methods. It's a popular choice for creating backend APIs for web and mobile applications."
   ]
  },
  {
   "cell_type": "code",
   "execution_count": null,
   "id": "6bdb0bf7-a531-455d-bcab-765fdfa39ede",
   "metadata": {},
   "outputs": [],
   "source": [
    "Q2. Create a simple Flask application to display ‘Hello World!!’. Attach the screenshot of the output in\n",
    "Jupyter Notebook."
   ]
  },
  {
   "cell_type": "code",
   "execution_count": 1,
   "id": "b60ce381-3fd2-4916-85f8-4dc5f50e59ea",
   "metadata": {},
   "outputs": [
    {
     "ename": "ModuleNotFoundError",
     "evalue": "No module named 'flask'",
     "output_type": "error",
     "traceback": [
      "\u001b[0;31m---------------------------------------------------------------------------\u001b[0m",
      "\u001b[0;31mModuleNotFoundError\u001b[0m                       Traceback (most recent call last)",
      "Cell \u001b[0;32mIn[1], line 1\u001b[0m\n\u001b[0;32m----> 1\u001b[0m \u001b[38;5;28;01mfrom\u001b[39;00m \u001b[38;5;21;01mflask\u001b[39;00m \u001b[38;5;28;01mimport\u001b[39;00m Flask\n\u001b[1;32m      3\u001b[0m app \u001b[38;5;241m=\u001b[39m Flask(\u001b[38;5;18m__name__\u001b[39m)\n\u001b[1;32m      5\u001b[0m \u001b[38;5;129m@app\u001b[39m\u001b[38;5;241m.\u001b[39mroute(\u001b[38;5;124m\"\u001b[39m\u001b[38;5;124m/\u001b[39m\u001b[38;5;124m\"\u001b[39m)\n\u001b[1;32m      6\u001b[0m \u001b[38;5;28;01mdef\u001b[39;00m \u001b[38;5;21mhello_world\u001b[39m():\n",
      "\u001b[0;31mModuleNotFoundError\u001b[0m: No module named 'flask'"
     ]
    }
   ],
   "source": [
    "from flask import Flask\n",
    "\n",
    "app = Flask(__name__)\n",
    "\n",
    "@app.route(\"/\")\n",
    "def hello_world():\n",
    "    return \"<h1>Hello, World!!</h1>\"\n",
    "\n",
    "if __name__==\"__main__\":\n",
    "    app.run(host=\"0.0.0.0\")\n",
    "    "
   ]
  },
  {
   "cell_type": "markdown",
   "id": "dcf247cf-0f07-4b84-8c21-849258ea41ef",
   "metadata": {},
   "source": [
    "![](cameraman.ss)"
   ]
  },
  {
   "cell_type": "markdown",
   "id": "14416d33-ee4f-4b2b-961a-268d1c3fe590",
   "metadata": {},
   "source": [
    "Sir dont know how to paste a screen shot In Jupyter Notebook"
   ]
  },
  {
   "cell_type": "code",
   "execution_count": 3,
   "id": "9def586c-124a-467e-877c-d47b0435a9dd",
   "metadata": {},
   "outputs": [
    {
     "name": "stdout",
     "output_type": "stream",
     "text": [
      "/bin/bash: -c: line 1: syntax error near unexpected token `file:///C:/Users/User/Pictures/Screenshot.png'\n",
      "/bin/bash: -c: line 1: `[Screenshot](file:///C:/Users/User/Pictures/Screenshot.png)'\n"
     ]
    }
   ],
   "source": [
    "![Screenshot](file:///C:/Users/User/Pictures/Screenshot.png)"
   ]
  },
  {
   "cell_type": "markdown",
   "id": "8a5f4db9-eaf9-4a69-81f0-e761d385ef6e",
   "metadata": {},
   "source": [
    "![](Screenshot.png)"
   ]
  },
  {
   "cell_type": "code",
   "execution_count": null,
   "id": "e01d1ddb-4d36-45b6-9a0b-ee2b017d4144",
   "metadata": {},
   "outputs": [],
   "source": [
    "Q3. What is App routing in Flask? Why do we use app routes?"
   ]
  },
  {
   "cell_type": "code",
   "execution_count": null,
   "id": "ee078e8e-e64e-4318-98a1-27f19ccd3a0d",
   "metadata": {},
   "outputs": [],
   "source": [
    "In Flask, app routing refers to the process of defining URL routes for your web application. URL routes determine how your application responds to different URLs or paths requested by users in their web browsers. Flask uses the @app.route decorator to associate functions (view functions) with specific URLs, allowing you to create a mapping between URLs and the code that handles those URLs."
   ]
  },
  {
   "cell_type": "code",
   "execution_count": null,
   "id": "a38ed8d5-7939-4867-a0bf-3458664afb73",
   "metadata": {},
   "outputs": [],
   "source": [
    "Q4. Create a “/welcome” route to display the welcome message “Welcome to ABC Corporation” and a “/”\n",
    "route to show the following details:\n",
    "Company Name: ABC Corporation\n",
    "Location: India\n",
    "Contact Detail: 999-999-9999\n",
    "Attach the screenshot of the output in Jupyter Notebook."
   ]
  },
  {
   "cell_type": "code",
   "execution_count": 4,
   "id": "a98ba7dd-bc86-4fc3-81c4-e00fe08456e3",
   "metadata": {},
   "outputs": [
    {
     "name": "stdout",
     "output_type": "stream",
     "text": [
      "Collecting Flask\n",
      "  Downloading flask-2.3.3-py3-none-any.whl (96 kB)\n",
      "\u001b[2K     \u001b[90m━━━━━━━━━━━━━━━━━━━━━━━━━━━━━━━━━━━━━━━━\u001b[0m \u001b[32m96.1/96.1 kB\u001b[0m \u001b[31m12.7 MB/s\u001b[0m eta \u001b[36m0:00:00\u001b[0m\n",
      "\u001b[?25hRequirement already satisfied: Jinja2>=3.1.2 in /opt/conda/lib/python3.10/site-packages (from Flask) (3.1.2)\n",
      "Collecting blinker>=1.6.2\n",
      "  Downloading blinker-1.6.2-py3-none-any.whl (13 kB)\n",
      "Collecting Werkzeug>=2.3.7\n",
      "  Downloading werkzeug-2.3.7-py3-none-any.whl (242 kB)\n",
      "\u001b[2K     \u001b[90m━━━━━━━━━━━━━━━━━━━━━━━━━━━━━━━━━━━━━━\u001b[0m \u001b[32m242.2/242.2 kB\u001b[0m \u001b[31m34.0 MB/s\u001b[0m eta \u001b[36m0:00:00\u001b[0m\n",
      "\u001b[?25hCollecting itsdangerous>=2.1.2\n",
      "  Downloading itsdangerous-2.1.2-py3-none-any.whl (15 kB)\n",
      "Requirement already satisfied: click>=8.1.3 in /opt/conda/lib/python3.10/site-packages (from Flask) (8.1.3)\n",
      "Requirement already satisfied: MarkupSafe>=2.0 in /opt/conda/lib/python3.10/site-packages (from Jinja2>=3.1.2->Flask) (2.1.1)\n",
      "Installing collected packages: Werkzeug, itsdangerous, blinker, Flask\n",
      "  Attempting uninstall: blinker\n",
      "    Found existing installation: blinker 1.5\n",
      "    Uninstalling blinker-1.5:\n",
      "      Successfully uninstalled blinker-1.5\n",
      "Successfully installed Flask-2.3.3 Werkzeug-2.3.7 blinker-1.6.2 itsdangerous-2.1.2\n"
     ]
    }
   ],
   "source": [
    "!pip install Flask\n"
   ]
  },
  {
   "cell_type": "code",
   "execution_count": null,
   "id": "7a2b8a88-30ea-4499-8648-e1ddc1f5d142",
   "metadata": {},
   "outputs": [],
   "source": [
    "from flask import Flask\n",
    "\n",
    "app = Flask(__name__)\n",
    "\n",
    "@app.route('/welcome')\n",
    "def welcome():\n",
    "    return 'Welcome to ABC Corporation'\n",
    "\n",
    "@app.route('/')\n",
    "def company_info():\n",
    "    return '''\n",
    "    Company Name: ABC Corporation\n",
    "    Location: India\n",
    "    Contact Detail: 999-999-9999\n",
    "    '''\n",
    "if __name__==\"__main__\":\n",
    "    app.run(host=\"0.0.0.0\")"
   ]
  },
  {
   "cell_type": "code",
   "execution_count": null,
   "id": "9567d9b5-433e-414a-9eec-361349ffa558",
   "metadata": {},
   "outputs": [],
   "source": [
    "URL - https://green-carpenter-vgibb.pwskills.app:5000/"
   ]
  },
  {
   "cell_type": "code",
   "execution_count": null,
   "id": "9827b3db-9c60-4b71-bbcd-d6c3722a29a4",
   "metadata": {},
   "outputs": [],
   "source": [
    "Q5. What function is used in Flask for URL Building? Write a Python code to demonstrate the working of the\n",
    "url_for() function."
   ]
  },
  {
   "cell_type": "code",
   "execution_count": null,
   "id": "662ce3ff-bdbc-4bd9-83d0-7cff18eb8e61",
   "metadata": {},
   "outputs": [],
   "source": []
  }
 ],
 "metadata": {
  "kernelspec": {
   "display_name": "Python 3 (ipykernel)",
   "language": "python",
   "name": "python3"
  },
  "language_info": {
   "codemirror_mode": {
    "name": "ipython",
    "version": 3
   },
   "file_extension": ".py",
   "mimetype": "text/x-python",
   "name": "python",
   "nbconvert_exporter": "python",
   "pygments_lexer": "ipython3",
   "version": "3.10.8"
  }
 },
 "nbformat": 4,
 "nbformat_minor": 5
}
