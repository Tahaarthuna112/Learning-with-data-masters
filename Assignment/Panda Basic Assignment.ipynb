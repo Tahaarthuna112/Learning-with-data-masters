{
 "cells": [
  {
   "cell_type": "code",
   "execution_count": null,
   "id": "0cf9e7cc-c0a1-4a48-a35a-d2c05cdbdf7f",
   "metadata": {},
   "outputs": [],
   "source": [
    "Q1. Create a Pandas Series that contains the following data: 4, 8, 15, 16, 23, and 42. Then, print the series."
   ]
  },
  {
   "cell_type": "code",
   "execution_count": 2,
   "id": "4112bf4b-a4ff-4b60-ad6d-e45dd0fe860b",
   "metadata": {},
   "outputs": [
    {
     "name": "stdout",
     "output_type": "stream",
     "text": [
      "0     4\n",
      "1     8\n",
      "2    15\n",
      "3    16\n",
      "4    23\n",
      "5    42\n",
      "dtype: int64\n"
     ]
    }
   ],
   "source": [
    "import pandas as pd\n",
    "data = [4,8,15,16,23,42]\n",
    "series = pd.Series(data)\n",
    "print(series)"
   ]
  },
  {
   "cell_type": "code",
   "execution_count": null,
   "id": "959aafc2-aa03-4968-b791-bc15b6630cb6",
   "metadata": {},
   "outputs": [],
   "source": [
    "Q2. Create a variable of list type containing 10 elements in it, and apply pandas.Series function on the \n",
    "variable print it."
   ]
  },
  {
   "cell_type": "code",
   "execution_count": 3,
   "id": "198b8ddb-00ae-43ab-8ed3-b0e040009dc9",
   "metadata": {},
   "outputs": [
    {
     "name": "stdout",
     "output_type": "stream",
     "text": [
      "0    1\n",
      "1    2\n",
      "2    3\n",
      "3    4\n",
      "4    5\n",
      "5    6\n",
      "6    7\n",
      "7    8\n",
      "8    9\n",
      "dtype: int64\n"
     ]
    }
   ],
   "source": [
    "l1 = [1,2,3,4,5,6,7,8,9]\n",
    "series = pd.Series(l1)\n",
    "print(series)"
   ]
  },
  {
   "cell_type": "code",
   "execution_count": null,
   "id": "2747c6d2-cc76-4a50-b5ac-9810c78004ba",
   "metadata": {},
   "outputs": [],
   "source": [
    "Q3. Create a Pandas DataFrame that contains the following data:\n",
    "Name\tAge\tGender\n",
    "Alice\t25\tFemale\n",
    "Bob\t30\tMale\n",
    "Claire\t27\tFemale\n",
    "Then, print the DataFrame."
   ]
  },
  {
   "cell_type": "code",
   "execution_count": 4,
   "id": "3528ebbe-f4fe-4bed-9235-84b659911a11",
   "metadata": {},
   "outputs": [
    {
     "name": "stdout",
     "output_type": "stream",
     "text": [
      "     Name  Age  Gender\n",
      "0   Alice   25  Female\n",
      "1     Bob   30    Male\n",
      "2  Claire   27  Female\n"
     ]
    }
   ],
   "source": [
    "import pandas as pd\n",
    "\n",
    "data = {'Name': ['Alice', 'Bob', 'Claire'],\n",
    "    'Age': [25, 30, 27],\n",
    "    'Gender': ['Female', 'Male', 'Female']}\n",
    "\n",
    "df1 = pd.DataFrame(data)\n",
    "\n",
    "print(df1)\n"
   ]
  },
  {
   "cell_type": "code",
   "execution_count": null,
   "id": "08b87669-3989-43af-8a90-2817f30e4d7f",
   "metadata": {},
   "outputs": [],
   "source": [
    "Q4. What is ‘DataFrame’ in pandas and how is it different from pandas.series? Explain with an example."
   ]
  },
  {
   "cell_type": "code",
   "execution_count": null,
   "id": "f4414896-1423-40dc-8ebe-a9ac14324e24",
   "metadata": {},
   "outputs": [],
   "source": [
    "In Pandas, a DataFrame is a two-dimensional, size-mutable, and potentially heterogeneous tabular data structure with labeled axes (rows and columns). It can be thought of as a spreadsheet or SQL table where you have rows and columns, and each column can contain different types of data (e.g., numbers, text, dates). DataFrames are one of the most commonly used data structures in Pandas and are particularly useful for data manipulation, analysis, and cleaning.\n",
    "\n",
    "On the other hand, a Series is a one-dimensional labeled array in Pandas. It can be thought of as a single column of data from a DataFrame. A Series is similar to a Python list or NumPy array but comes with additional features like labeled indexes, making it more powerful and versatile for data analysis."
   ]
  },
  {
   "cell_type": "code",
   "execution_count": 5,
   "id": "03e600f5-9b01-4351-a085-ef91a79b0767",
   "metadata": {},
   "outputs": [
    {
     "name": "stdout",
     "output_type": "stream",
     "text": [
      "Fruits Series:\n",
      "0     Apple\n",
      "1    Banana\n",
      "2    Cherry\n",
      "3    Durian\n",
      "dtype: object\n",
      "\n",
      "DataFrame:\n",
      "    Fruit   Color  Price\n",
      "0   Apple     Red    1.0\n",
      "1  Banana  Yellow    0.5\n",
      "2  Cherry     Red    2.0\n",
      "3  Durian   Green    3.0\n"
     ]
    }
   ],
   "source": [
    "# Create a pandas Series object\n",
    "fruits = pd.Series(['Apple', 'Banana', 'Cherry', 'Durian'])\n",
    "\n",
    "# Create a pandas DataFrame object\n",
    "df = pd.DataFrame({'Fruit': fruits, 'Color': ['Red', 'Yellow', 'Red', 'Green'], 'Price': [1.0, 0.5, 2.0, 3.0]})\n",
    "\n",
    "print('Fruits Series:')\n",
    "print(fruits)\n",
    "print('\\nDataFrame:')\n",
    "print(df)"
   ]
  },
  {
   "cell_type": "code",
   "execution_count": null,
   "id": "ad19fcc6-cf20-4a8f-ae8b-770759a14b9d",
   "metadata": {},
   "outputs": [],
   "source": [
    "Q5. What are some common functions you can use to manipulate data in a Pandas DataFrame? Can \n",
    "you give an example of when you might use one of these functions?"
   ]
  },
  {
   "cell_type": "code",
   "execution_count": null,
   "id": "0d3ab2c5-53b4-4296-bb64-d9c4dff29bc4",
   "metadata": {},
   "outputs": [],
   "source": [
    "Pandas provides a wide range of functions and methods for manipulating data in a DataFrame. Here are some common functions and methods, along with examples of when you might use them:\n",
    "\n",
    "1. Selecting Columns:\n",
    "   - `DataFrame['ColumnName']` or `DataFrame.ColumnName`: You can use square brackets or dot notation to select a specific column from a DataFrame.\n",
    "\n",
    "   ```python\n",
    "   # Example: Selecting the 'Age' column\n",
    "   age_column = df['Age']\n",
    "   ```\n",
    "\n",
    "2. Filtering Data:\n",
    "   - `DataFrame.loc[]` or `DataFrame.iloc[]`: You can use these methods to filter rows based on conditions using label-based or integer-based indexing.\n",
    "\n",
    "   ```python\n",
    "   # Example: Selecting rows where 'Age' is greater than 25\n",
    "   filtered_data = df[df['Age'] > 25]\n",
    "   ```\n",
    "\n",
    "3. Sorting Data:\n",
    "   - `DataFrame.sort_values()`: This method allows you to sort the DataFrame based on one or more columns.\n",
    "\n",
    "   ```python\n",
    "   # Example: Sorting by 'Age' in ascending order\n",
    "   sorted_df = df.sort_values(by='Age', ascending=True)\n",
    "   ```\n",
    "\n",
    "4. Adding New Columns:\n",
    "   - You can create new columns by simply assigning values to them.\n",
    "\n",
    "   ```python\n",
    "   # Example: Adding a new column 'IsAdult' based on the 'Age' column\n",
    "   df['IsAdult'] = df['Age'] >= 18\n",
    "   ```\n",
    "\n",
    "5. Grouping and Aggregating Data:\n",
    "   - `DataFrame.groupby()` and various aggregation functions (e.g., `mean()`, `sum()`, `count()`): You can group data by one or more columns and compute summary statistics for each group.\n",
    "\n",
    "   ```python\n",
    "   # Example: Grouping by 'Gender' and calculating the mean age in each group\n",
    "   gender_groups = df.groupby('Gender')['Age'].mean()\n",
    "   ```\n",
    "\n",
    "6. Merging and Joining Data:\n",
    "   - `pd.concat()`, `DataFrame.merge()`: These functions allow you to combine multiple DataFrames based on common columns or indexes.\n",
    "\n",
    "   ```python\n",
    "   # Example: Merging two DataFrames based on a common column 'ID'\n",
    "   merged_df = df1.merge(df2, on='ID', how='inner')\n",
    "   ```\n",
    "\n",
    "7. Handling Missing Data:\n",
    "   - `DataFrame.dropna()`, `DataFrame.fillna()`: You can remove or fill in missing values in your DataFrame.\n",
    "\n",
    "   ```python\n",
    "   # Example: Dropping rows with missing values\n",
    "   df_cleaned = df.dropna()\n",
    "\n",
    "   # Example: Filling missing values in the 'Age' column with the mean age\n",
    "   df['Age'].fillna(df['Age'].mean(), inplace=True)\n",
    "   ```\n",
    "\n",
    "8. Pivoting and Reshaping Data:\n",
    "   - `DataFrame.pivot()` and `DataFrame.melt()`: These functions help in reshaping data for analysis.\n",
    "\n",
    "   ```python\n",
    "   # Example: Pivoting a DataFrame\n",
    "   pivoted_df = df.pivot(index='Name', columns='Gender', values='Age')\n",
    "   ```\n",
    "\n",
    "These are just some of the common functions and methods you can use to manipulate data in a Pandas DataFrame. The choice of function depends on the specific data manipulation or analysis task you need to perform."
   ]
  },
  {
   "cell_type": "code",
   "execution_count": null,
   "id": "294e9fce-1dc0-4cb0-95a9-2a5307d774f3",
   "metadata": {},
   "outputs": [],
   "source": [
    "Q6. Which of the following is mutable in nature Series, DataFrame, Panel"
   ]
  },
  {
   "cell_type": "code",
   "execution_count": null,
   "id": "cd75a50d-506a-4824-b0ee-2f95b4e621b4",
   "metadata": {},
   "outputs": [],
   "source": [
    "Series and DataFrame in Pandas are mutable, meaning you can modify their contents, add or remove rows and columns, and update values within them.\n",
    "\n",
    "However, it's important to note that while both Series and DataFrame are mutable, you should exercise caution when modifying them, especially if you are performing in-place modifications, as this can lead to unexpected behavior and potential data integrity issues.\n",
    "\n",
    "The term \"Panel\" is no longer a part of the core Pandas library as of version 0.25.0 and has been deprecated. It was used for three-dimensional data structures, but it was removed due to limited use and complexity. If you need to work with higher-dimensional data, you can typically use multi-index DataFrames or NumPy arrays."
   ]
  },
  {
   "cell_type": "code",
   "execution_count": null,
   "id": "68009d1d-7452-44c3-aaf7-15f891238864",
   "metadata": {},
   "outputs": [],
   "source": [
    "Q7. Create a DataFrame using multiple Series. Explain with an example."
   ]
  },
  {
   "cell_type": "code",
   "execution_count": 6,
   "id": "e951493c-da67-4027-8f6a-160e37343e68",
   "metadata": {},
   "outputs": [
    {
     "name": "stdout",
     "output_type": "stream",
     "text": [
      "     Name  Age  Gender\n",
      "0   Alice   25  Female\n",
      "1     Bob   30    Male\n",
      "2  Claire   27  Female\n"
     ]
    }
   ],
   "source": [
    "names = pd.Series(['Alice', 'Bob', 'Claire'])\n",
    "ages = pd.Series([25, 30, 27])\n",
    "genders = pd.Series(['Female', 'Male', 'Female'])\n",
    "\n",
    "df = pd.DataFrame({'Name': names,\n",
    "                'Age': ages,\n",
    "                'Gender': genders})\n",
    "print(df)"
   ]
  },
  {
   "cell_type": "code",
   "execution_count": 7,
   "id": "7eb56db1-ac86-4266-8076-526e3a730df8",
   "metadata": {},
   "outputs": [
    {
     "ename": "SyntaxError",
     "evalue": "invalid syntax (3407126883.py, line 1)",
     "output_type": "error",
     "traceback": [
      "\u001b[0;36m  Cell \u001b[0;32mIn[7], line 1\u001b[0;36m\u001b[0m\n\u001b[0;31m    In this example, we first create three Series: names, ages, and genders, each containing data for the \"Name,\" \"Age,\" and \"Gender\" columns, respectively.\u001b[0m\n\u001b[0m       ^\u001b[0m\n\u001b[0;31mSyntaxError\u001b[0m\u001b[0;31m:\u001b[0m invalid syntax\n"
     ]
    }
   ],
   "source": [
    "In this example, we first create three Series: names, ages, and genders, each containing data for the \"Name,\" \"Age,\" and \"Gender\" columns, respectively.\n",
    "\n",
    "Then, we use the pd.DataFrame() constructor to create a DataFrame, where each Series is specified as a column in the DataFrame. The keys in the dictionary passed to pd.DataFrame() represent the column names, and the corresponding Series are the column values."
   ]
  },
  {
   "cell_type": "code",
   "execution_count": null,
   "id": "52c2dc07-33fd-4226-a5bc-78eefc3dc959",
   "metadata": {},
   "outputs": [],
   "source": []
  }
 ],
 "metadata": {
  "kernelspec": {
   "display_name": "Python 3 (ipykernel)",
   "language": "python",
   "name": "python3"
  },
  "language_info": {
   "codemirror_mode": {
    "name": "ipython",
    "version": 3
   },
   "file_extension": ".py",
   "mimetype": "text/x-python",
   "name": "python",
   "nbconvert_exporter": "python",
   "pygments_lexer": "ipython3",
   "version": "3.10.8"
  }
 },
 "nbformat": 4,
 "nbformat_minor": 5
}
