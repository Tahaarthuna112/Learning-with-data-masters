{
 "cells": [
  {
   "cell_type": "code",
   "execution_count": null,
   "id": "950aef07-ca85-4975-b973-cfef8f2bdf09",
   "metadata": {},
   "outputs": [],
   "source": [
    "#Q1 Create one variable containing following type of data:\n",
    "\n",
    "(i)\tstring\n",
    "\n",
    "(ii)list\n",
    "\n",
    "(iii)float\n",
    "\n",
    "(iv)tuple"
   ]
  },
  {
   "cell_type": "code",
   "execution_count": null,
   "id": "e4cb4ce2-5d3b-4132-9fbe-834360d7ac4d",
   "metadata": {},
   "outputs": [],
   "source": [
    "#1) string\n",
    "a=\"PW SKills\"\n",
    "#2) list\n",
    "b=[1,2,3,4,5,6, \"PW\", \"skills\", 20.4, True, False]\n",
    "#3) float\n",
    "c=70.5\n",
    "#4) tuple\n",
    "d=(1,2,3, \"apple\", \"banana\")"
   ]
  },
  {
   "cell_type": "code",
   "execution_count": null,
   "id": "20e53737-eedb-4bb4-a560-f3f286b09241",
   "metadata": {},
   "outputs": [],
   "source": [
    "#Q2Q2. Given are some following variables containing data:\n",
    "\n",
    "(i)\tvar1 = ‘ ‘\n",
    "\n",
    "(ii)\tvar2 = ‘[ DS , ML , Python]’\n",
    "\n",
    "(iii)\tvar3 = [ ‘DS’ , ’ML’ , ‘Python’ ]\n",
    "\n",
    "(iv)\tvar4 = 1"
   ]
  },
  {
   "cell_type": "code",
   "execution_count": null,
   "id": "e48a7d14-0567-44a1-9f7b-54372895a8bf",
   "metadata": {},
   "outputs": [],
   "source": [
    "1) is string data type\n",
    "2) is list data type\n",
    "3) is list data type\n",
    "4) is integer data type"
   ]
  },
  {
   "cell_type": "code",
   "execution_count": null,
   "id": "4e860d70-5e3a-4129-960f-c0f3079c8030",
   "metadata": {},
   "outputs": [],
   "source": [
    "#Q3. Explain the use of the following operators using an example:\n",
    "\n",
    "(i)\t/\n",
    "\n",
    "(ii)\t% \n",
    "\n",
    "(iii)\t//\n",
    "\n",
    "(iv)\t**"
   ]
  },
  {
   "cell_type": "code",
   "execution_count": null,
   "id": "61009682-8ceb-42ce-b01f-ba01a04223e7",
   "metadata": {},
   "outputs": [],
   "source": [
    "1) / is the division operator"
   ]
  },
  {
   "cell_type": "code",
   "execution_count": 2,
   "id": "023fce9e-f61f-4cfa-9b4c-31f7a0a2a369",
   "metadata": {},
   "outputs": [
    {
     "data": {
      "text/plain": [
       "2.0"
      ]
     },
     "execution_count": 2,
     "metadata": {},
     "output_type": "execute_result"
    }
   ],
   "source": [
    "#example\n",
    "a=4\n",
    "b=2\n",
    "a/b"
   ]
  },
  {
   "cell_type": "code",
   "execution_count": null,
   "id": "f3eeef6e-a42c-4ca1-a7cc-80d89790424a",
   "metadata": {},
   "outputs": [],
   "source": [
    "2) % It returns the remainder "
   ]
  },
  {
   "cell_type": "code",
   "execution_count": 3,
   "id": "3edf7b95-8788-4979-a9a3-fbcf9de2cc56",
   "metadata": {},
   "outputs": [
    {
     "data": {
      "text/plain": [
       "6"
      ]
     },
     "execution_count": 3,
     "metadata": {},
     "output_type": "execute_result"
    }
   ],
   "source": [
    "#example\n",
    "a=6\n",
    "b=8\n",
    "a%b"
   ]
  },
  {
   "cell_type": "code",
   "execution_count": null,
   "id": "38bb9d04-6318-4225-93d4-bc13f0d211a3",
   "metadata": {},
   "outputs": [],
   "source": [
    "3) // is the floor division "
   ]
  },
  {
   "cell_type": "code",
   "execution_count": 4,
   "id": "87112c15-e214-493d-94ba-4712b0726798",
   "metadata": {},
   "outputs": [
    {
     "data": {
      "text/plain": [
       "2"
      ]
     },
     "execution_count": 4,
     "metadata": {},
     "output_type": "execute_result"
    }
   ],
   "source": [
    "#example\n",
    "a=11\n",
    "b=4\n",
    "a//b"
   ]
  },
  {
   "cell_type": "code",
   "execution_count": null,
   "id": "e0654736-8344-4085-b8eb-77a964dec915",
   "metadata": {},
   "outputs": [],
   "source": [
    "4) ** is the exponent powers"
   ]
  },
  {
   "cell_type": "code",
   "execution_count": 5,
   "id": "975faa36-8df1-40a2-9fa8-6c7e63a64b48",
   "metadata": {},
   "outputs": [
    {
     "data": {
      "text/plain": [
       "8"
      ]
     },
     "execution_count": 5,
     "metadata": {},
     "output_type": "execute_result"
    }
   ],
   "source": [
    "a=2\n",
    "b=3\n",
    "a**b"
   ]
  },
  {
   "cell_type": "code",
   "execution_count": null,
   "id": "3126a27d-a635-4c80-9371-a86a559cb9f7",
   "metadata": {},
   "outputs": [],
   "source": [
    "Q4. Create a list of length 10 of your choice containing multiple types of data. Using for loop print the \n",
    "element and its data type."
   ]
  },
  {
   "cell_type": "code",
   "execution_count": 7,
   "id": "58bf1aa0-017c-49c0-8fb4-21f58ae9a821",
   "metadata": {},
   "outputs": [
    {
     "name": "stdout",
     "output_type": "stream",
     "text": [
      "<class 'int'>\n",
      "<class 'float'>\n",
      "<class 'str'>\n",
      "<class 'bool'>\n",
      "<class 'list'>\n",
      "<class 'dict'>\n",
      "<class 'tuple'>\n",
      "<class 'NoneType'>\n",
      "<class 'float'>\n",
      "<class 'bool'>\n"
     ]
    }
   ],
   "source": [
    "l=[1, 2.5, \"hello\", True, [1, 2, 3], {\"name\": \"Saha\"}, (4, 5, 6), None, 9.99, False]\n",
    "for i in l:\n",
    "    print(type(i))"
   ]
  },
  {
   "cell_type": "code",
   "execution_count": null,
   "id": "76792111-5e09-4d61-a044-a905764bbfe3",
   "metadata": {},
   "outputs": [],
   "source": [
    "Q5. Using a while loop, verify if the number A is purely divisible by number B and if so then how many \n",
    "times it can be divisible."
   ]
  },
  {
   "cell_type": "code",
   "execution_count": 13,
   "id": "256eb993-00ea-4472-bf32-d5c362d6c1f2",
   "metadata": {},
   "outputs": [
    {
     "name": "stdout",
     "output_type": "stream",
     "text": [
      "Number A can be divided by number B 2 times.\n"
     ]
    }
   ],
   "source": [
    "A = 100\n",
    "B = 5\n",
    "\n",
    "count = 0\n",
    "\n",
    "while A % B == 0:\n",
    "    A = A // B\n",
    "    count += 1\n",
    "\n",
    "print(f\"Number A can be divided by number B {count} times.\")"
   ]
  },
  {
   "cell_type": "code",
   "execution_count": null,
   "id": "972cbc26-ffa5-4949-8d40-0a95d98ec333",
   "metadata": {},
   "outputs": [],
   "source": [
    "Create a list containing 25 int type data. Using for loop and if-else condition print if the element is \n",
    "divisible by 3 or not."
   ]
  },
  {
   "cell_type": "code",
   "execution_count": 14,
   "id": "11ca74d4-7a9b-4dab-a70c-5c5e98a06410",
   "metadata": {},
   "outputs": [
    {
     "name": "stdout",
     "output_type": "stream",
     "text": [
      "i is not divisible by 3\n",
      "i is divisible by 3\n",
      "i is divisible by 3\n",
      "i is divisible by 3\n",
      "i is divisible by 3\n",
      "i is divisible by 3\n",
      "i is divisible by 3\n",
      "i is divisible by 3\n",
      "i is divisible by 3\n",
      "i is divisible by 3\n",
      "i is divisible by 3\n",
      "i is divisible by 3\n",
      "i is divisible by 3\n",
      "i is divisible by 3\n",
      "i is divisible by 3\n",
      "i is divisible by 3\n",
      "i is divisible by 3\n",
      "i is divisible by 3\n",
      "i is divisible by 3\n",
      "i is divisible by 3\n",
      "i is divisible by 3\n",
      "i is divisible by 3\n",
      "i is divisible by 3\n",
      "i is divisible by 3\n",
      "i is divisible by 3\n"
     ]
    }
   ],
   "source": [
    "l = [5, 9, 12, 15, 18, 21, 24, 27, 30, 33, 36, 39, 42, 45, 48, 51, 54, 57, 60, 63, 66, 69, 72, 75, 78]\n",
    "\n",
    "for i in l:\n",
    "    if i % 3 == 0:\n",
    "        print(\"i is divisible by 3\")\n",
    "    else:\n",
    "        print(\"i is not divisible by 3\")\n"
   ]
  },
  {
   "cell_type": "code",
   "execution_count": null,
   "id": "be8bec06-b80d-4f6c-9d9b-c6709cda2996",
   "metadata": {},
   "outputs": [],
   "source": [
    "Q7. What do you understand about mutable and immutable data types? Give examples for both showing \n",
    "this property."
   ]
  },
  {
   "cell_type": "code",
   "execution_count": null,
   "id": "683442e2-f8d2-4a84-b93a-0e59e8df903c",
   "metadata": {},
   "outputs": [],
   "source": [
    "Mutable meaning it allows to do changing in a particular syntax.....List is mutable"
   ]
  },
  {
   "cell_type": "code",
   "execution_count": 16,
   "id": "08238c04-2002-4b9e-a2a1-a71ce800f85c",
   "metadata": {},
   "outputs": [],
   "source": [
    "#example\n",
    "l=[1,2,3,4,5,6]\n",
    "l[4]=2"
   ]
  },
  {
   "cell_type": "code",
   "execution_count": 17,
   "id": "1f40689d-818e-4be6-bcee-2f76772b8b0e",
   "metadata": {},
   "outputs": [
    {
     "data": {
      "text/plain": [
       "[1, 2, 3, 4, 2, 6]"
      ]
     },
     "execution_count": 17,
     "metadata": {},
     "output_type": "execute_result"
    }
   ],
   "source": [
    "l"
   ]
  },
  {
   "cell_type": "code",
   "execution_count": null,
   "id": "26561644-a390-45d8-90da-7f8c0e84403e",
   "metadata": {},
   "outputs": [],
   "source": [
    "Immutable meaning it doesnt allow to do changing in a particular syntax.....string is immutable"
   ]
  },
  {
   "cell_type": "code",
   "execution_count": 18,
   "id": "b58f8e2b-aedf-4112-a0b0-145818709de6",
   "metadata": {},
   "outputs": [
    {
     "ename": "SyntaxError",
     "evalue": "cannot assign to function call here. Maybe you meant '==' instead of '='? (4083832278.py, line 3)",
     "output_type": "error",
     "traceback": [
      "\u001b[0;36m  Cell \u001b[0;32mIn[18], line 3\u001b[0;36m\u001b[0m\n\u001b[0;31m    s(5)=v\u001b[0m\n\u001b[0m    ^\u001b[0m\n\u001b[0;31mSyntaxError\u001b[0m\u001b[0;31m:\u001b[0m cannot assign to function call here. Maybe you meant '==' instead of '='?\n"
     ]
    }
   ],
   "source": [
    "#example\n",
    "s=\"Hello World\"\n",
    "s(5)=v"
   ]
  },
  {
   "cell_type": "code",
   "execution_count": null,
   "id": "f3a9006e-fb39-4915-8fc9-afcd63351f6d",
   "metadata": {},
   "outputs": [],
   "source": []
  }
 ],
 "metadata": {
  "kernelspec": {
   "display_name": "Python 3 (ipykernel)",
   "language": "python",
   "name": "python3"
  },
  "language_info": {
   "codemirror_mode": {
    "name": "ipython",
    "version": 3
   },
   "file_extension": ".py",
   "mimetype": "text/x-python",
   "name": "python",
   "nbconvert_exporter": "python",
   "pygments_lexer": "ipython3",
   "version": "3.10.8"
  }
 },
 "nbformat": 4,
 "nbformat_minor": 5
}
