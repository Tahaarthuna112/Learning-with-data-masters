{
 "cells": [
  {
   "cell_type": "code",
   "execution_count": null,
   "id": "7314f245-fe7b-403f-a06f-78db4176a15f",
   "metadata": {},
   "outputs": [],
   "source": [
    "# Q1. Which keyword is used to create a function? Create a function to return a list of odd numbers in the \n",
    "range of 1 to 25"
   ]
  },
  {
   "cell_type": "code",
   "execution_count": null,
   "id": "afd7e391-96b8-479a-be5b-8c95b851c0a6",
   "metadata": {},
   "outputs": [],
   "source": [
    "Ans: Def keyword is used to create a function .."
   ]
  },
  {
   "cell_type": "code",
   "execution_count": 2,
   "id": "b4bdd98f-8dbe-47d7-93c6-0f13e2129afc",
   "metadata": {},
   "outputs": [
    {
     "name": "stdout",
     "output_type": "stream",
     "text": [
      "[1, 3, 5, 7, 9, 11, 13, 15, 17, 19, 21, 23, 25]\n"
     ]
    }
   ],
   "source": [
    "def odd_numbers():\n",
    "    odd_numbers = []\n",
    "    for num in range(1, 26):\n",
    "        if num % 2 != 0:\n",
    "            odd_numbers.append(num)\n",
    "    return odd_numbers\n",
    "\n",
    "result = odd_numbers()\n",
    "print(result)\n",
    "\n",
    "\n"
   ]
  },
  {
   "cell_type": "code",
   "execution_count": null,
   "id": "70c3c193-8efd-430a-8235-ea5d02892d29",
   "metadata": {},
   "outputs": [],
   "source": [
    "#Q2. Why *args and **kwargs is used in some functions? Create a function each for *args and **kwargs \n",
    "to demonstrate their use"
   ]
  },
  {
   "cell_type": "code",
   "execution_count": null,
   "id": "6ad10be1-9ce8-4505-a52e-b3604b30114f",
   "metadata": {},
   "outputs": [],
   "source": [
    "*args allows a function to accept any number of positional arguments. The args parameter, preceded by an asterisk (*), allows you to pass a variable number of arguments to the function as a tuple. Within the function, you can iterate over args or access individual elements by index"
   ]
  },
  {
   "cell_type": "code",
   "execution_count": 3,
   "id": "733cea52-6157-491a-85aa-0bb129c66f32",
   "metadata": {},
   "outputs": [
    {
     "name": "stdout",
     "output_type": "stream",
     "text": [
      "15\n"
     ]
    }
   ],
   "source": [
    "def sum_numbers(*args):\n",
    "    total = 0\n",
    "    for num in args:\n",
    "        total += num\n",
    "    return total\n",
    "\n",
    "result = sum_numbers(1, 2, 3, 4, 5)\n",
    "print(result)  \n",
    "\n"
   ]
  },
  {
   "cell_type": "code",
   "execution_count": null,
   "id": "29fd92b5-0bce-4868-a2be-9a17936b83b1",
   "metadata": {},
   "outputs": [],
   "source": [
    "*kwargs to display the values of various parameters:"
   ]
  },
  {
   "cell_type": "code",
   "execution_count": 6,
   "id": "cd9ef642-4179-4d9f-9467-89511c193b50",
   "metadata": {},
   "outputs": [
    {
     "name": "stdout",
     "output_type": "stream",
     "text": [
      "name: Taha\n",
      "age: 18\n",
      "city: Kuwait\n"
     ]
    }
   ],
   "source": [
    "def print_parameters(**kwargs):\n",
    "    for key, value in kwargs.items():\n",
    "        print(key + \": \" + str(value))\n",
    "\n",
    "print_parameters(name=\"Taha\", age=18, city=\"Kuwait\")\n"
   ]
  },
  {
   "cell_type": "code",
   "execution_count": null,
   "id": "b8dfd2c0-4dec-4b6c-9c89-03bceb1b5c7a",
   "metadata": {},
   "outputs": [],
   "source": [
    "#Q3.  What is an iterator in python? Name the method used to initialise the iterator object and the method \n",
    "used for iteration. Use these methods to print the first five elements of the given list [2, 4, 6, 8, 10, 12, 14, \n",
    "16, 18, 20]."
   ]
  },
  {
   "cell_type": "code",
   "execution_count": null,
   "id": "02c34116-6637-4463-b54f-1dbe3c4b4c14",
   "metadata": {},
   "outputs": [],
   "source": [
    "An iterator is an object that represents a stream of data and allows you to iterate over its elements one at a time."
   ]
  },
  {
   "cell_type": "code",
   "execution_count": 8,
   "id": "d6506542-7fb1-4434-a8a6-d504a4aa6871",
   "metadata": {},
   "outputs": [
    {
     "name": "stdout",
     "output_type": "stream",
     "text": [
      "2\n",
      "4\n",
      "6\n",
      "8\n",
      "10\n"
     ]
    }
   ],
   "source": [
    "l = [2, 4, 6, 8, 10, 12, 14, 16, 18, 20]\n",
    "my_iterator = iter(l)\n",
    "\n",
    "for _ in range(5):\n",
    "    element = next(my_iterator)\n",
    "    print(element)\n"
   ]
  },
  {
   "cell_type": "code",
   "execution_count": null,
   "id": "99c3f954-574d-4630-8245-522a02727d69",
   "metadata": {},
   "outputs": [],
   "source": [
    "#Q4.  What is a generator function in python? Why yield keyword is used? Give an example of a generator \n",
    "function."
   ]
  },
  {
   "cell_type": "code",
   "execution_count": null,
   "id": "54be57fb-84a1-4408-871c-2276be402409",
   "metadata": {},
   "outputs": [],
   "source": [
    "A generator function is a special type of function that generates a sequence of values using the yield keyword instead of return."
   ]
  },
  {
   "cell_type": "code",
   "execution_count": null,
   "id": "7a8e7aae-815f-42cc-b286-318fcf149dbc",
   "metadata": {},
   "outputs": [],
   "source": [
    "Yield keyword is used to create a generator function. A type of function that is memory efficient and can be used like an iterator object."
   ]
  },
  {
   "cell_type": "code",
   "execution_count": 13,
   "id": "fe71d521-ff92-4463-9eb1-0e82f7728c2f",
   "metadata": {},
   "outputs": [
    {
     "name": "stdout",
     "output_type": "stream",
     "text": [
      "<class 'generator'>\n",
      "Hello world!!\n",
      "Geeksforgeeks\n"
     ]
    }
   ],
   "source": [
    "def fun_generator():\n",
    "\tyield \"Hello world!!\"\n",
    "\tyield \"Geeksforgeeks\"\n",
    "\n",
    "\n",
    "obj = fun_generator()\n",
    "print(type(obj))\n",
    "print(next(obj))\n",
    "print(next(obj))\n"
   ]
  },
  {
   "cell_type": "code",
   "execution_count": null,
   "id": "0fa55e3a-9d80-4b9c-a8de-c39723e6a815",
   "metadata": {},
   "outputs": [],
   "source": [
    "#Q5. Create a generator function for prime numbers less than 1000. Use the next() method to print the \n",
    "first 20 prime numbers."
   ]
  },
  {
   "cell_type": "code",
   "execution_count": 14,
   "id": "1ac8d1ed-d4bc-4370-9ce8-0b3b59901edd",
   "metadata": {},
   "outputs": [
    {
     "name": "stdout",
     "output_type": "stream",
     "text": [
      "2\n",
      "3\n",
      "5\n",
      "7\n",
      "11\n",
      "13\n",
      "17\n",
      "19\n",
      "23\n",
      "29\n",
      "31\n",
      "37\n",
      "41\n",
      "43\n",
      "47\n",
      "53\n",
      "59\n",
      "61\n",
      "67\n",
      "71\n"
     ]
    }
   ],
   "source": [
    "def prime_generator():\n",
    "    primes = []\n",
    "    num = 2\n",
    "\n",
    "    while True:\n",
    "        is_prime = True\n",
    "\n",
    "        for prime in primes:\n",
    "            if num % prime == 0:\n",
    "                is_prime = False\n",
    "                break\n",
    "\n",
    "        if is_prime:\n",
    "            primes.append(num)\n",
    "            yield num\n",
    "\n",
    "        num += 1\n",
    "\n",
    "\n",
    "prime_gen = prime_generator()\n",
    "\n",
    "\n",
    "for _ in range(20):\n",
    "    prime_num = next(prime_gen)\n",
    "    print(prime_num)\n"
   ]
  },
  {
   "cell_type": "code",
   "execution_count": null,
   "id": "a22f7447-980f-4163-bf51-b9755fc0f856",
   "metadata": {},
   "outputs": [],
   "source": [
    "#Q6. Write a python program to print the first 10 Fibonacci numbers using a while loop."
   ]
  },
  {
   "cell_type": "code",
   "execution_count": 15,
   "id": "b035ca0c-49fd-4c70-a218-e2827ababfe5",
   "metadata": {},
   "outputs": [
    {
     "name": "stdout",
     "output_type": "stream",
     "text": [
      "0\n",
      "1\n",
      "1\n",
      "2\n",
      "3\n",
      "5\n",
      "8\n",
      "13\n",
      "21\n",
      "34\n"
     ]
    }
   ],
   "source": [
    "a, b = 0, 1\n",
    "count = 0\n",
    "\n",
    "while count < 10:\n",
    "    print(a)\n",
    "    a, b = b, a + b\n",
    "    count += 1\n"
   ]
  },
  {
   "cell_type": "code",
   "execution_count": null,
   "id": "d0ddbc3e-50ac-4cf8-bc54-a934b49b394b",
   "metadata": {},
   "outputs": [],
   "source": [
    "# Q7. Write a List Comprehension to iterate through the given string: ‘pwskills’.\n",
    "\n",
    "Expected output: ['p', 'w', 's', 'k', 'i', 'l', 'l', 's'] "
   ]
  },
  {
   "cell_type": "code",
   "execution_count": 29,
   "id": "326f7077-f37d-4536-bb5c-9ba6843219bb",
   "metadata": {},
   "outputs": [
    {
     "name": "stdout",
     "output_type": "stream",
     "text": [
      "['p', 'w', 's', 'k', 'i', 'l', 'l', 's']\n"
     ]
    }
   ],
   "source": [
    "string = 'pwskills'\n",
    "output = [char for char in string]\n",
    "print(output)\n",
    "\n"
   ]
  },
  {
   "cell_type": "code",
   "execution_count": null,
   "id": "ffd39c69-4d26-4c6a-a638-19f7e45030fd",
   "metadata": {},
   "outputs": [],
   "source": [
    "#Q8. Write a python program to check whether a given number is Palindrome or not using a while loop"
   ]
  },
  {
   "cell_type": "code",
   "execution_count": 30,
   "id": "37cdc16b-9881-4a29-89bd-ee5658b09bb2",
   "metadata": {},
   "outputs": [
    {
     "name": "stdin",
     "output_type": "stream",
     "text": [
      "Enter a number:  5\n"
     ]
    },
    {
     "name": "stdout",
     "output_type": "stream",
     "text": [
      "The number is a palindrome.\n"
     ]
    }
   ],
   "source": [
    "num = int(input(\"Enter a number: \"))\n",
    "original_num = num\n",
    "reverse_num = 0\n",
    "\n",
    "while num > 0:\n",
    "    digit = num % 10\n",
    "    reverse_num = (reverse_num * 10) + digit\n",
    "    num //= 10\n",
    "\n",
    "if original_num == reverse_num:\n",
    "    print(\"The number is a palindrome.\")\n",
    "else:\n",
    "    print(\"The number is not a palindrome.\")\n"
   ]
  },
  {
   "cell_type": "code",
   "execution_count": null,
   "id": "0d594250-18d7-46fb-bb49-7230ddcdb775",
   "metadata": {},
   "outputs": [],
   "source": [
    "#Q9. Write a code to print odd numbers from 1 to 100 using list comprehension.\n",
    "\n",
    "Note: Use a list comprehension to create a list from 1 to 100 and use another List comprehension to filter \n",
    "out odd numbers."
   ]
  },
  {
   "cell_type": "code",
   "execution_count": 31,
   "id": "7e1ca2e8-0546-4700-9dda-378b66993868",
   "metadata": {},
   "outputs": [
    {
     "ename": "SyntaxError",
     "evalue": "invalid syntax (3066630634.py, line 1)",
     "output_type": "error",
     "traceback": [
      "\u001b[0;36m  Cell \u001b[0;32mIn[31], line 1\u001b[0;36m\u001b[0m\n\u001b[0;31m    l = [1,2,3,4,5,6...100]\u001b[0m\n\u001b[0m                      ^\u001b[0m\n\u001b[0;31mSyntaxError\u001b[0m\u001b[0;31m:\u001b[0m invalid syntax\n"
     ]
    }
   ],
   "source": [
    "l = [1,2,3,4,5,6...100]\n",
    "list(filter(lambda x : x % 2 != 0, l ))"
   ]
  },
  {
   "cell_type": "code",
   "execution_count": null,
   "id": "83d9114a-c0c3-4c92-b3ea-01b60a304e53",
   "metadata": {},
   "outputs": [],
   "source": [
    "odd_numbers = [num for num in range(1, 101) if num % 2 != 0]\n",
    "print(odd_numbers)\n"
   ]
  }
 ],
 "metadata": {
  "kernelspec": {
   "display_name": "Python 3 (ipykernel)",
   "language": "python",
   "name": "python3"
  },
  "language_info": {
   "codemirror_mode": {
    "name": "ipython",
    "version": 3
   },
   "file_extension": ".py",
   "mimetype": "text/x-python",
   "name": "python",
   "nbconvert_exporter": "python",
   "pygments_lexer": "ipython3",
   "version": "3.10.8"
  }
 },
 "nbformat": 4,
 "nbformat_minor": 5
}
