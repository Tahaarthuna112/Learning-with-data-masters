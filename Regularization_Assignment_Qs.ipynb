{
  "nbformat": 4,
  "nbformat_minor": 0,
  "metadata": {
    "colab": {
      "provenance": [],
      "authorship_tag": "ABX9TyMSzpD9PgyUkdCTNYMIwa3J",
      "include_colab_link": true
    },
    "kernelspec": {
      "name": "python3",
      "display_name": "Python 3"
    },
    "language_info": {
      "name": "python"
    }
  },
  "cells": [
    {
      "cell_type": "markdown",
      "metadata": {
        "id": "view-in-github",
        "colab_type": "text"
      },
      "source": [
        "<a href=\"https://colab.research.google.com/github/Tahaarthuna112/Learning-with-data-masters/blob/main/Regularization_Assignment_Qs.ipynb\" target=\"_parent\"><img src=\"https://colab.research.google.com/assets/colab-badge.svg\" alt=\"Open In Colab\"/></a>"
      ]
    },
    {
      "cell_type": "code",
      "execution_count": null,
      "metadata": {
        "id": "fQjGT6R1mIZQ"
      },
      "outputs": [],
      "source": [
        "Part l: Upder_tapdipg Regularizatioo"
      ]
    },
    {
      "cell_type": "code",
      "source": [
        "1) What is regularization in the context of deep learningH Why is it importantG"
      ],
      "metadata": {
        "id": "jBK03RiSmgVL"
      },
      "execution_count": null,
      "outputs": []
    },
    {
      "cell_type": "code",
      "source": [
        "In the context of **deep learning**, **regularization** refers to a set of techniques used to prevent overfitting, which occurs when a model performs well on the training data but poorly on unseen data (i.e., test data). Regularization works by adding additional constraints or penalties to the loss function during the training process, which helps improve the model's generalization capability.\n",
        "\n",
        "### Common Types of Regularization:\n",
        "\n",
        "1. L1 Regularization (Lasso):\n",
        "   - Adds the sum of the absolute values of the weights to the loss function.\n",
        "   - Promotes sparsity by pushing less important weights toward zero, effectively selecting relevant features.\n",
        "\n",
        "2. L2 Regularization (Ridge):\n",
        "   - Adds the sum of the squared values of the weights to the loss function.\n",
        "   - Discourages large weights, which can help reduce model complexity and improve generalization.\n",
        "\n",
        "3. Dropout:\n",
        "   - Randomly drops (i.e., sets to zero) a fraction of the neurons during training, forcing the network to learn robust features.\n",
        "   - Prevents the network from relying too heavily on particular neurons and encourages distributed learning.\n",
        "\n",
        "4. Batch Normalization:\n",
        "   - Normalizes the inputs of each layer to have zero mean and unit variance, stabilizing and speeding up training.\n",
        "   - Acts as a regularizer by reducing internal covariate shift, helping the model to generalize better.\n",
        "\n",
        "5.Early Stopping:\n",
        "   - Stops the training process when the performance on a validation set starts to degrade, preventing overfitting to the training data.\n",
        "\n",
        "6. Data Augmentation:\n",
        "   - Artificially increases the size of the training dataset by applying random transformations (e.g., rotations, flips, scaling) to the input data.\n",
        "   - Reduces overfitting by forcing the model to learn more generalized patterns.\n",
        "\n",
        "### Why is Regularization Important?\n",
        "Regularization is crucial because deep learning models, with their large number of parameters, are prone to overfitting, especially when trained on relatively small datasets. By applying regularization techniques, models can learn patterns that generalize well to unseen data rather than memorizing noise or irrelevant details in the training data. This leads to better performance on real-world tasks where the model is expected to handle diverse inputs."
      ],
      "metadata": {
        "id": "XjHYCohfmrdY"
      },
      "execution_count": null,
      "outputs": []
    },
    {
      "cell_type": "code",
      "source": [
        "2) Explain the bias-variance tradeoff and how regularization helps in addressing this tradeoffk"
      ],
      "metadata": {
        "id": "6LEp4xe6m1kd"
      },
      "execution_count": null,
      "outputs": []
    },
    {
      "cell_type": "code",
      "source": [
        "The **bias-variance tradeoff** is a fundamental concept in machine learning that describes the tradeoff between two sources of error in a model's predictions:\n",
        "\n",
        "1. Bias:\n",
        "   - Bias refers to the error introduced by assuming a simplified model to make the learning process easier. High bias can cause the model to underfit the data, meaning it does not capture the underlying patterns well.\n",
        "   - For example, using a linear model to fit data that has a nonlinear relationship will result in high bias because the model is too simple to capture the complexities of the data.\n",
        "\n",
        "2. Variance:\n",
        "   - Variance refers to the error introduced by a model being too sensitive to the specific training data. A model with high variance may overfit the training data, capturing noise and fluctuations rather than the true underlying patterns.\n",
        "   - High-variance models perform well on the training data but poorly on unseen data because they have learned specific details that do not generalize.\n",
        "\n",
        "### Bias-Variance Tradeoff:\n",
        "\n",
        "- Low Bias, High Variance: The model is flexible enough to capture the training data well (low bias), but it is too complex and fits the noise in the data, leading to poor performance on new data (high variance).\n",
        "- High Bias, Low Variance: The model is too simple to capture the complexities of the data (high bias), but it is stable across different datasets (low variance).\n",
        "- The goal in model building is to find the right balance between bias and variance to minimize the total error on unseen data.\n",
        "\n",
        "### Total Error:\n",
        "\n",
        "The total error (expected error) is the sum of:\n",
        "1. Bias^2: Error due to simplifying assumptions made by the model.\n",
        "2. Variance: Error due to sensitivity to small fluctuations in the training set.\n",
        "3. Irreducible error: Noise inherent in the data that cannot be modeled.\n",
        "\n",
        "### How Regularization Helps with Bias-Variance Tradeoff:\n",
        "\n",
        "Regularization plays a key role in addressing the bias-variance tradeoff by **controlling model complexity**, thus reducing variance without introducing too much bias:\n",
        "\n",
        "- L1 and L2 Regularization: Both of these techniques add a penalty term to the loss function, discouraging large weight values in the model. This has the effect of **reducing variance** by making the model less sensitive to small fluctuations in the training data. It prevents overfitting (high variance) while not increasing the bias too much.\n",
        "\n",
        "  - L2 regularization smoothens the model by constraining the weights, which reduces its capacity to overfit (good for high-variance models).\n",
        "  - L1 regularization can even push certain weights to zero, effectively simplifying the model by performing feature selection, which balances complexity and bias.\n",
        "\n",
        "- Dropout: By randomly dropping out neurons during training, dropout forces the model to learn more general, robust features rather than memorizing the training data. This helps reduce variance without significantly increasing bias.\n",
        "\n",
        "- Early Stopping: This method prevents the model from overfitting to the training data by stopping the training process as soon as the validation error starts to increase, thereby reducing variance.\n",
        "\n",
        "Thus, regularization techniques help **smooth out the variance** in the model's predictions while keeping the bias at an acceptable level, resulting in a model that generalizes well to unseen data."
      ],
      "metadata": {
        "id": "nFNfeSYOm4cQ"
      },
      "execution_count": null,
      "outputs": []
    },
    {
      "cell_type": "code",
      "source": [
        "3) Describe the concept of =1 and =2 regularization. How do they differ in terms of penalty calculation and\n",
        "their effects on the modelG"
      ],
      "metadata": {
        "id": "21D8CoObnQla"
      },
      "execution_count": null,
      "outputs": []
    },
    {
      "cell_type": "code",
      "source": [
        "### L1 and L2 Regularization\n",
        "\n",
        "Both **L1** and **L2 regularization** are techniques used to add a penalty to the loss function during model training to prevent overfitting, but they differ in how the penalty is calculated and how they affect the model.\n",
        "\n",
        "### L1 Regularization (Lasso)\n",
        "\n",
        "- **Penalty Calculation**: In L1 regularization, the penalty added to the loss function is proportional to the **sum of the absolute values of the model's weights**. The regularized loss function is:\n",
        "\n",
        "  \\[\n",
        "  \\text{Loss} = \\text{Original Loss} + \\lambda \\sum_{i=1}^{n} |w_i|\n",
        "  \\]\n",
        "\n",
        "  where:\n",
        "  - \\(w_i\\) are the model's weights,\n",
        "  - \\(\\lambda\\) is the regularization parameter that controls the strength of the penalty.\n",
        "\n",
        "- **Effect on the Model**: L1 regularization tends to drive many weights to **exactly zero**, effectively performing **feature selection**. This means it simplifies the model by reducing the number of features used, keeping only the most important ones.\n",
        "\n",
        "  - Models with L1 regularization are **sparse**: many of the weights are zero.\n",
        "  - It is particularly useful when you expect that many input features are irrelevant or redundant.\n",
        "\n",
        "### L2 Regularization (Ridge)\n",
        "\n",
        "- **Penalty Calculation**: In L2 regularization, the penalty added to the loss function is proportional to the **sum of the squares of the model's weights**. The regularized loss function is:\n",
        "\n",
        "  \\[\n",
        "  \\text{Loss} = \\text{Original Loss} + \\lambda \\sum_{i=1}^{n} w_i^2\n",
        "  \\]\n",
        "\n",
        "  where the terms are similar to those in L1, but the weights are squared.\n",
        "\n",
        "- **Effect on the Model**: L2 regularization encourages smaller weight values, but unlike L1, it doesn't push them to exactly zero. Instead, it **shrinks** all weights uniformly.\n",
        "\n",
        "  - L2 regularization helps **smooth the model** by reducing the impact of less important features but still keeping all of them.\n",
        "  - It is particularly useful when all input features are thought to contribute to the prediction but need to be regularized to avoid overfitting.\n",
        "\n",
        "### Key Differences Between L1 and L2 Regularization:\n",
        "\n",
        "| **Aspect**                 | **L1 Regularization (Lasso)**                    | **L2 Regularization (Ridge)**               |\n",
        "|----------------------------|--------------------------------------------------|---------------------------------------------|\n",
        "| **Penalty Calculation**     | Sum of the absolute values of weights (\\(\\sum |w_i|\\))  | Sum of the squared weights (\\(\\sum w_i^2\\)) |\n",
        "| **Effect on Weights**       | Drives some weights to exactly zero (sparse)     | Shrinks all weights but none to zero        |\n",
        "| **Feature Selection**       | Performs implicit feature selection              | Retains all features but regularizes them   |\n",
        "| **Model Type**              | Useful for models where irrelevant features can be eliminated | Useful for models where all features have some importance |\n",
        "| **Handling of Outliers**    | More robust to outliers (because of absolute value) | Less robust to outliers (squares amplify the effect of large weights) |\n",
        "\n",
        "### Summary:\n",
        "- **L1 regularization** simplifies models by eliminating irrelevant features, making it ideal when you believe some features may not be useful.\n",
        "- **L2 regularization** reduces overfitting by shrinking the model’s weights, ensuring that no single feature dominates the prediction, making it ideal when all features are likely relevant but need to be controlled for overfitting."
      ],
      "metadata": {
        "id": "Z4QX-Ck9ncDw"
      },
      "execution_count": null,
      "outputs": []
    },
    {
      "cell_type": "code",
      "source": [
        "4) Discuss the role of regularization in preventing overfitting and improving the generalization of deep\n",
        "learning models."
      ],
      "metadata": {
        "id": "rX5cyXhEnf3P"
      },
      "execution_count": null,
      "outputs": []
    },
    {
      "cell_type": "code",
      "source": [
        "### Role of Regularization in Preventing Overfitting and Improving Generalization in Deep Learning Models\n",
        "\n",
        "In deep learning, **overfitting** occurs when a model learns not only the underlying patterns in the training data but also the noise and irrelevant details. This leads to poor performance on unseen data, as the model becomes highly specialized to the training data. **Regularization** techniques are designed to reduce this overfitting and improve the model's ability to generalize to new, unseen data.\n",
        "\n",
        "### How Regularization Helps Prevent Overfitting:\n",
        "\n",
        "1. **Controlling Model Complexity**:\n",
        "   - Deep learning models typically have a large number of parameters (weights), making them prone to overfitting, especially with limited training data.\n",
        "   - Regularization methods constrain the values of these parameters, making the model less likely to memorize the training data and more likely to capture general patterns.\n",
        "\n",
        "2. **Reducing Sensitivity to Noise**:\n",
        "   - When a model overfits, it becomes sensitive to minor fluctuations or noise in the training data. Regularization techniques help make the model less sensitive to these small, irrelevant variations by penalizing overly complex models.\n",
        "\n",
        "3. **Encouraging Generalization**:\n",
        "   - Regularization forces the model to find simpler representations of the data, which are more likely to generalize to new examples. It does this by controlling the flexibility of the model through constraints on the parameters or architecture.\n",
        "\n",
        "### Common Regularization Techniques in Deep Learning:\n",
        "\n",
        "1. **L1 and L2 Regularization**:\n",
        "   - As discussed earlier, both L1 (Lasso) and L2 (Ridge) regularization work by adding a penalty term to the loss function, discouraging large weight values.\n",
        "   - **L1 regularization** helps in performing **feature selection** by pushing some weights to zero, effectively removing less important features.\n",
        "   - **L2 regularization** encourages smaller weights across all features, smoothing the model and making it more robust to overfitting.\n",
        "\n",
        "2. **Dropout**:\n",
        "   - Dropout is a powerful regularization technique where, during each training iteration, a random subset of neurons is \"dropped out\" or turned off.\n",
        "   - This prevents the model from becoming overly reliant on any particular neurons and forces it to learn more robust and distributed representations.\n",
        "   - At test time, all neurons are used, but their outputs are scaled to account for the fact that they were dropped out during training.\n",
        "\n",
        "3. **Data Augmentation**:\n",
        "   - Data augmentation is a form of regularization that involves artificially increasing the size of the training dataset by applying random transformations (e.g., rotations, flips, scaling) to the input data.\n",
        "   - This forces the model to learn features that generalize across these variations, improving generalization on new data.\n",
        "\n",
        "4. **Batch Normalization**:\n",
        "   - Batch normalization normalizes the inputs of each layer to have zero mean and unit variance during training. This stabilizes and accelerates training while also acting as a form of regularization.\n",
        "   - It reduces internal covariate shift (changes in the distribution of layer inputs) and has a slight regularizing effect, improving generalization.\n",
        "\n",
        "5. **Early Stopping**:\n",
        "   - Early stopping monitors the model's performance on a validation set and stops the training process when the validation performance starts to degrade, preventing the model from overfitting to the training data.\n",
        "   - It is especially useful when the training data is limited and prone to overfitting.\n",
        "\n",
        "6. **Weight Sharing**:\n",
        "   - Techniques like **convolutional neural networks (CNNs)** use weight sharing, where the same weights are applied across different parts of the input (e.g., across different patches in an image). This reduces the total number of parameters and limits overfitting.\n",
        "\n",
        "### Benefits of Regularization for Generalization:\n",
        "\n",
        "- **Improved Generalization**: Regularization helps the model generalize better to unseen data by preventing it from fitting noise and irrelevant patterns in the training data.\n",
        "- **More Robust Models**: Regularized models are more robust to variations in the input data. For example, a model trained with dropout will be less sensitive to any individual neuron, leading to a more distributed learning pattern.\n",
        "- **Prevention of Overly Complex Models**: By penalizing large weights or certain complex structures, regularization prevents the model from becoming too complex and thus prone to overfitting.\n",
        "\n",
        "### Summary:\n",
        "Regularization is essential in deep learning to combat overfitting and enhance the generalization of models. By controlling model complexity, reducing sensitivity to noise, and encouraging simpler representations of data, regularization techniques ensure that deep learning models perform well not only on training data but also on new, unseen data. This leads to more reliable and robust models that are suitable for real-world applications."
      ],
      "metadata": {
        "id": "2AfGftpantxQ"
      },
      "execution_count": null,
      "outputs": []
    },
    {
      "cell_type": "code",
      "source": [
        "Part 2: Regularizatiop Tecpique"
      ],
      "metadata": {
        "id": "PRkaFus_nwtw"
      },
      "execution_count": null,
      "outputs": []
    },
    {
      "cell_type": "code",
      "source": [
        "5) Explain Dropout regularization and how it works to reduce overfitting. Discuss the impact of Dropout on\n",
        "model training and inferencek"
      ],
      "metadata": {
        "id": "tXvifp3mnzIE"
      },
      "execution_count": null,
      "outputs": []
    },
    {
      "cell_type": "code",
      "source": [
        "### Dropout Regularization: Explanation and How It Works\n",
        "\n",
        "**Dropout** is a popular regularization technique in deep learning that is used to reduce overfitting by randomly \"dropping out\" or deactivating a subset of neurons during each training iteration. This prevents the model from becoming overly dependent on specific neurons, thereby improving its ability to generalize to unseen data.\n",
        "\n",
        "### How Dropout Works:\n",
        "\n",
        "1. **Random Neuron Deactivation During Training**:\n",
        "   - During each forward pass in the training phase, a certain percentage (commonly 20%-50%) of neurons in a given layer are randomly deactivated (set to zero). This means they do not participate in the forward and backward pass for that particular iteration.\n",
        "   - The choice of which neurons to drop out is random for each batch, and different neurons are dropped out at each iteration.\n",
        "\n",
        "2. **Reduced Co-adaptation of Neurons**:\n",
        "   - By dropping out neurons randomly, the network is forced to learn more robust and distributed representations, as the remaining active neurons have to compensate for the dropped ones. This reduces the risk of any one neuron or small group of neurons becoming overly specialized for certain patterns in the training data (which could lead to overfitting).\n",
        "   - It encourages the network to learn redundant representations, which makes the model more resilient to noise and irrelevant patterns in the data.\n",
        "\n",
        "3. **Scaled Outputs at Test Time**:\n",
        "   - During inference (testing), all neurons are used, but their outputs are scaled down by the dropout rate (e.g., if 50% of neurons were dropped during training, the outputs are multiplied by 0.5). This compensates for the missing neurons during training, ensuring the model's predictions are properly scaled.\n",
        "   - This technique is known as **inverted dropout** and helps ensure that the model’s behavior during training and inference is consistent.\n",
        "\n",
        "### Impact of Dropout on Model Training:\n",
        "\n",
        "1. **Regularization Effect**:\n",
        "   - Dropout effectively serves as a form of **regularization** by preventing overfitting. It discourages the model from relying too heavily on any particular neurons or weights, thereby promoting more generalized learning.\n",
        "   - The regularization effect is strong because the model must learn to be robust to many possible subsets of neurons being active.\n",
        "\n",
        "2. **Slower Training**:\n",
        "   - Since a portion of the neurons is randomly dropped out during training, each forward and backward pass uses only a subset of the full model’s parameters. As a result, the model may take longer to converge, requiring more training iterations to achieve optimal performance.\n",
        "   - However, the slower convergence is typically a worthwhile tradeoff because the model becomes less prone to overfitting and generalizes better to unseen data.\n",
        "\n",
        "3. **Reduction in Model Overfitting**:\n",
        "   - The key benefit of dropout is that it substantially reduces overfitting by forcing the model to learn more robust features. It prevents the model from memorizing the training data and ensures that it generalizes better to new data.\n",
        "\n",
        "### Impact of Dropout on Model Inference:\n",
        "\n",
        "1. **No Dropout at Test Time**:\n",
        "   - During inference, dropout is not applied. All neurons remain active, meaning that the full model is used for making predictions.\n",
        "   - The use of all neurons improves the model’s predictive power during inference, but it still benefits from the regularization imposed during training.\n",
        "\n",
        "2. **Scaling of Neuron Outputs**:\n",
        "   - As mentioned earlier, the outputs of neurons are scaled down by the dropout rate during inference to account for the fact that only a fraction of neurons were active during training. This ensures that the activations during training and testing are consistent.\n",
        "   - For example, if a layer had a dropout rate of 50%, the outputs of the neurons in that layer during inference will be multiplied by 0.5.\n",
        "\n",
        "### Effects of Dropout on Model Behavior:\n",
        "\n",
        "1. **Reduces Overfitting**:\n",
        "   - Dropout helps prevent overfitting by making the model less reliant on specific features or patterns in the training data, which can often be noise. This results in better performance on unseen data.\n",
        "\n",
        "2. **Improves Generalization**:\n",
        "   - By forcing the model to learn more robust and distributed representations, dropout improves the model's ability to generalize to different datasets and unseen examples.\n",
        "\n",
        "3. **Encourages Model Simplicity**:\n",
        "   - Dropout adds noise to the learning process, which prevents the model from becoming too complex or memorizing irrelevant details in the training data.\n",
        "\n",
        "### Summary:\n",
        "- **Dropout** is a simple and effective regularization technique that randomly deactivates neurons during training to prevent overfitting.\n",
        "- During training, a fraction of neurons are randomly set to zero, forcing the model to learn redundant and robust representations, which improves generalization.\n",
        "- **At inference**, all neurons are used, and their outputs are scaled to account for the dropout that occurred during training.\n",
        "- The main effect of dropout is **reducing overfitting** and improving the model's performance on unseen data at the cost of slightly longer training times."
      ],
      "metadata": {
        "id": "8iBgLwwNoBIP"
      },
      "execution_count": null,
      "outputs": []
    },
    {
      "cell_type": "code",
      "source": [
        "6) Describe the concept of Early stopping as a form of regularization. How does it help prevent overfitting\n",
        "during the training processess?"
      ],
      "metadata": {
        "id": "sxE5UoXKoD_I"
      },
      "execution_count": null,
      "outputs": []
    },
    {
      "cell_type": "code",
      "source": [
        "### Early Stopping: Concept and Role in Preventing Overfitting\n",
        "\n",
        "**Early stopping** is a regularization technique used during the training of machine learning and deep learning models to prevent **overfitting**. It works by monitoring the model’s performance on a validation set and halting the training process when the performance starts to degrade. In other words, training is stopped before the model becomes overly specialized to the training data.\n",
        "\n",
        "### How Early Stopping Works:\n",
        "\n",
        "1. **Monitoring Performance on a Validation Set**:\n",
        "   - During training, the model's performance (e.g., accuracy or loss) is evaluated on both the **training data** and a separate **validation set** that is not used for training.\n",
        "   - While the training loss typically continues to decrease as the model learns, the **validation loss** will start to increase at a certain point if the model begins to overfit. This indicates that the model is learning patterns specific to the training data, rather than generalizable features.\n",
        "\n",
        "2. **Identifying the Optimal Stopping Point**:\n",
        "   - Early stopping halts training when the validation performance (typically validation loss) stops improving or starts to degrade after a certain number of training epochs (iterations). This point is often called the **\"optimal stopping point\"**.\n",
        "   - The rationale is that before this point, the model is learning useful features that generalize well to new data. After this point, the model is likely fitting to noise and irrelevant patterns in the training data (overfitting).\n",
        "\n",
        "3. **Patience Parameter**:\n",
        "   - To avoid stopping too early due to temporary fluctuations in the validation loss, early stopping often includes a **patience parameter**. This parameter allows the training to continue for a certain number of additional epochs after the validation loss has started to increase.\n",
        "   - If the validation loss does not improve during these additional epochs, training is stopped.\n",
        "\n",
        "### How Early Stopping Helps Prevent Overfitting:\n",
        "\n",
        "1. **Stops Training Before Overfitting Occurs**:\n",
        "   - Early stopping halts training before the model begins to overfit to the training data. It does this by detecting when the model's ability to generalize (as measured by validation performance) starts to decline.\n",
        "   - By preventing the model from learning irrelevant patterns or noise in the training data, early stopping ensures the model retains the ability to generalize well to new, unseen data.\n",
        "\n",
        "2. **Prevents Model from Becoming Too Complex**:\n",
        "   - Overfitting often occurs when the model becomes too complex and starts to memorize the training data. Early stopping effectively prevents the model from becoming overly complex by stopping the learning process at the point where the model is still generalizing well.\n",
        "\n",
        "3. **Reduces the Risk of Over-Optimization**:\n",
        "   - Training a model for too many epochs can result in \"over-optimization,\" where the model optimizes for the specific nuances of the training data, rather than finding a general solution. Early stopping prevents this by halting training when the validation performance indicates that further optimization will lead to overfitting.\n",
        "\n",
        "### Advantages of Early Stopping:\n",
        "\n",
        "1. **Simplicity**:\n",
        "   - Early stopping is easy to implement and does not require any modification to the model architecture or loss function. It is simply a matter of monitoring validation performance and stopping training at the right time.\n",
        "\n",
        "2. **Saves Computational Resources**:\n",
        "   - By stopping the training process when further epochs are unlikely to improve the model, early stopping saves computational resources (e.g., time and energy). This is especially useful when training deep neural networks that can take a long time to converge.\n",
        "\n",
        "3. **Reduces Overfitting**:\n",
        "   - The main benefit of early stopping is its ability to prevent overfitting. It ensures that the model stops learning from the training data before it starts memorizing noise, leading to better generalization on unseen data.\n",
        "\n",
        "### Limitations:\n",
        "\n",
        "1. **Determining the Patience Parameter**:\n",
        "   - Choosing the right patience parameter can be challenging. A patience value that is too small may stop training prematurely, while a value that is too large may allow the model to overfit before stopping.\n",
        "\n",
        "2. **Temporary Fluctuations in Validation Performance**:\n",
        "   - Early stopping may sometimes halt training due to temporary fluctuations in validation performance. In these cases, the model might have improved if training had continued for a few more epochs.\n",
        "\n",
        "### Summary:\n",
        "\n",
        "- **Early stopping** is a powerful and simple regularization technique that prevents overfitting by stopping training when the validation performance begins to degrade.\n",
        "- It helps models avoid learning noise and irrelevant patterns from the training data, ensuring better generalization to unseen data.\n",
        "- By monitoring validation performance and identifying the optimal stopping point, early stopping improves the efficiency of the training process and reduces computational costs.\n"
      ],
      "metadata": {
        "id": "mn5i2zFgo6X3"
      },
      "execution_count": null,
      "outputs": []
    },
    {
      "cell_type": "code",
      "source": [
        "7) Explain the concept of Batch Normalization and its role as a form of regularization. How does Batch\n",
        "Normalization help in preventing overfitting?"
      ],
      "metadata": {
        "id": "sQfLFEzZpBqn"
      },
      "execution_count": null,
      "outputs": []
    },
    {
      "cell_type": "code",
      "source": [
        "### Batch Normalization: Concept and Role in Regularization\n",
        "\n",
        "**Batch normalization** is a technique used to improve the training process of deep neural networks by normalizing the inputs to each layer. It helps address issues related to internal covariate shift, accelerates training, and provides a subtle form of **regularization**, which helps prevent overfitting.\n",
        "\n",
        "### How Batch Normalization Works:\n",
        "\n",
        "1. **Normalization of Inputs to Each Layer**:\n",
        "   - In a deep neural network, the inputs to each layer (called activations) can change during training as the model's parameters (weights and biases) are updated. This can cause instability and slow down the training process.\n",
        "   - Batch normalization normalizes the inputs to each layer by ensuring that their mean is close to 0 and their variance is close to 1, making the distribution of inputs more consistent across layers.\n",
        "   - For each mini-batch of data, the mean and variance of the layer’s inputs are computed, and the inputs are normalized:\n",
        "\n",
        "     \\[\n",
        "     \\hat{x} = \\frac{x - \\mu_B}{\\sqrt{\\sigma_B^2 + \\epsilon}}\n",
        "     \\]\n",
        "\n",
        "     where:\n",
        "     - \\(x\\) is the input to the layer,\n",
        "     - \\(\\mu_B\\) is the mean of the mini-batch,\n",
        "     - \\(\\sigma_B^2\\) is the variance of the mini-batch,\n",
        "     - \\(\\epsilon\\) is a small constant added for numerical stability.\n",
        "\n",
        "2. **Learnable Parameters**:\n",
        "   - After normalizing the inputs, batch normalization introduces two additional learnable parameters, **scale** (\\(\\gamma\\)) and **shift** (\\(\\beta\\)), which allow the network to adjust the normalized inputs if necessary:\n",
        "\n",
        "     \\[\n",
        "     y = \\gamma \\hat{x} + \\beta\n",
        "     \\]\n",
        "\n",
        "   - These parameters give the network flexibility by allowing it to learn the optimal scale and shift for the normalized inputs.\n",
        "\n",
        "### Benefits of Batch Normalization:\n",
        "\n",
        "1. **Mitigating Internal Covariate Shift**:\n",
        "   - Internal covariate shift refers to the phenomenon where the distribution of inputs to each layer changes as the network’s parameters are updated during training. This can make the optimization process slower and more difficult.\n",
        "   - By normalizing the inputs to each layer, batch normalization reduces internal covariate shift, making training faster and more stable. The network can learn more effectively because the inputs to each layer are more consistent.\n",
        "\n",
        "2. **Faster Convergence**:\n",
        "   - Batch normalization speeds up training by allowing the network to use **higher learning rates**. Since the activations are normalized, the gradients become more stable, enabling faster and more efficient learning.\n",
        "   - This reduces the training time and helps the model converge faster to a good solution.\n",
        "\n",
        "3. **Reduced Sensitivity to Initialization**:\n",
        "   - Neural networks can be sensitive to the initial values of their parameters (weights and biases). Batch normalization makes the network less sensitive to poor initialization, as the normalized inputs help the model learn even if the initial weights are not ideal.\n",
        "\n",
        "### Batch Normalization as a Form of Regularization:\n",
        "\n",
        "Although **batch normalization is not explicitly a regularization technique**, it has a **regularizing effect** on the model during training:\n",
        "\n",
        "1. **Noise Injection**:\n",
        "   - Since batch normalization uses statistics (mean and variance) calculated from mini-batches during training, it introduces some **noise** into the learning process. This is because the mean and variance of a mini-batch may not perfectly represent the entire dataset, so each mini-batch introduces slight variations.\n",
        "   - This noise acts similarly to **dropout**, where random perturbations during training prevent the model from becoming too reliant on any specific patterns in the data. It forces the model to generalize better.\n",
        "\n",
        "2. **Reduction of Overfitting**:\n",
        "   - While batch normalization doesn't explicitly remove neurons like dropout, the noise from mini-batch statistics has a **regularizing effect**. It prevents the model from overfitting by making it less sensitive to small changes in the input data.\n",
        "   - As a result, batch normalization can reduce the need for other regularization techniques, such as dropout, though they can still be used together.\n",
        "\n",
        "3. **Smoothing the Loss Landscape**:\n",
        "   - Batch normalization can make the **loss surface smoother**, making it easier for optimization algorithms (like gradient descent) to find a good solution. A smoother loss landscape reduces the likelihood of the model getting stuck in bad local minima, improving generalization.\n",
        "\n",
        "### Impact of Batch Normalization on Model Training:\n",
        "\n",
        "1. **Faster and More Stable Training**:\n",
        "   - By reducing internal covariate shift and stabilizing gradients, batch normalization enables faster and more stable training, allowing for higher learning rates and better optimization.\n",
        "\n",
        "2. **Implicit Regularization**:\n",
        "   - The noise introduced by batch normalization (due to the use of mini-batch statistics) acts as a form of implicit regularization, helping prevent overfitting without requiring the addition of explicit regularization terms in the loss function.\n",
        "\n",
        "3. **Compatibility with Other Regularization Techniques**:\n",
        "   - Batch normalization can be used alongside other regularization techniques like **dropout** and **L2 regularization** to further improve generalization. Although batch normalization already has a regularizing effect, combining it with other methods can lead to even better results in some cases.\n",
        "\n",
        "### Impact on Model Inference:\n",
        "\n",
        "- During **inference (testing)**, batch normalization uses the **global mean and variance** calculated over the entire training set rather than the statistics from a single mini-batch. This ensures that the model's behavior is consistent between training and inference.\n",
        "- The scaling (\\(\\gamma\\)) and shifting (\\(\\beta\\)) parameters learned during training are still applied during inference, allowing the model to adjust the normalized inputs if needed.\n",
        "\n",
        "### Summary:\n",
        "\n",
        "- **Batch normalization** normalizes the inputs to each layer of a neural network, making training faster and more stable by reducing internal covariate shift.\n",
        "- It has a **regularizing effect** because the noise introduced from mini-batch statistics prevents the model from overfitting, helping it generalize better to unseen data.\n",
        "- Batch normalization can reduce the need for other regularization techniques, though it can still be combined with them to improve overall model performance."
      ],
      "metadata": {
        "id": "hUnNH7UvpUmd"
      },
      "execution_count": null,
      "outputs": []
    },
    {
      "cell_type": "code",
      "source": [
        "Part 3: Applyipg Regularizatioo"
      ],
      "metadata": {
        "id": "f0adoSeYpX4G"
      },
      "execution_count": null,
      "outputs": []
    },
    {
      "cell_type": "code",
      "source": [
        "8) Implement Dropout regularization in a deep learning model using a framework of your choice. Evaluate\n",
        "its impact on model performance and compare it with a model without Dropoutk"
      ],
      "metadata": {
        "id": "bF7ayPfApa49"
      },
      "execution_count": null,
      "outputs": []
    },
    {
      "cell_type": "code",
      "source": [
        "# Create a dummy dataset\n",
        "from sklearn.datasets import make_classification\n",
        "X, Y = make_classification(n_samples=6000, n_classes=3, n_features=30, n_informative=15, random_state=42)"
      ],
      "metadata": {
        "id": "C0lZPykHpfES"
      },
      "execution_count": null,
      "outputs": []
    },
    {
      "cell_type": "code",
      "source": [
        "X"
      ],
      "metadata": {
        "colab": {
          "base_uri": "https://localhost:8080/"
        },
        "id": "6aQhq29-pmx2",
        "outputId": "5a023ab2-1289-4051-ae4c-fdf53249da65"
      },
      "execution_count": null,
      "outputs": [
        {
          "output_type": "execute_result",
          "data": {
            "text/plain": [
              "array([[-1.44143883,  0.99759432,  0.64881894, ...,  0.26075709,\n",
              "        -2.4917032 , -0.52457062],\n",
              "       [-5.14274116,  2.44379509,  0.59681357, ..., -0.67343933,\n",
              "         2.13880873, -1.34828698],\n",
              "       [ 0.65562953, -1.84153079,  0.80405201, ..., -1.45272723,\n",
              "        -3.46992694,  1.12992925],\n",
              "       ...,\n",
              "       [ 4.12653393, -4.34701772, -0.2590811 , ..., -0.28741425,\n",
              "         7.28922344, -1.18100918],\n",
              "       [-0.71009863,  3.94052935,  1.83897001, ...,  3.29290311,\n",
              "         6.91505595,  0.80226731],\n",
              "       [ 1.24909105,  3.92319056, -0.05696048, ..., -2.61261051,\n",
              "        -3.21501144, -0.04845804]])"
            ]
          },
          "metadata": {},
          "execution_count": 2
        }
      ]
    },
    {
      "cell_type": "code",
      "source": [
        "Y"
      ],
      "metadata": {
        "colab": {
          "base_uri": "https://localhost:8080/"
        },
        "id": "k1VCfzOEpxJB",
        "outputId": "8aa24f14-26cb-403b-94ce-bbe7c049a5ae"
      },
      "execution_count": null,
      "outputs": [
        {
          "output_type": "execute_result",
          "data": {
            "text/plain": [
              "array([2, 2, 0, ..., 1, 0, 2])"
            ]
          },
          "metadata": {},
          "execution_count": 3
        }
      ]
    },
    {
      "cell_type": "code",
      "source": [
        "from sklearn.model_selection import train_test_split\n",
        "xtrain, xtest, ytrain, ytest = train_test_split(X,Y, test_size=0.2, random_state=42)"
      ],
      "metadata": {
        "id": "qYc1vtUhpy1q"
      },
      "execution_count": null,
      "outputs": []
    },
    {
      "cell_type": "code",
      "source": [
        "xtrain.shape"
      ],
      "metadata": {
        "colab": {
          "base_uri": "https://localhost:8080/"
        },
        "id": "-4Eum5MAp1AN",
        "outputId": "0354e68d-8221-45d1-c889-a5d55945ddca"
      },
      "execution_count": null,
      "outputs": [
        {
          "output_type": "execute_result",
          "data": {
            "text/plain": [
              "(4800, 30)"
            ]
          },
          "metadata": {},
          "execution_count": 5
        }
      ]
    },
    {
      "cell_type": "code",
      "source": [
        "xtest.shape"
      ],
      "metadata": {
        "colab": {
          "base_uri": "https://localhost:8080/"
        },
        "id": "U_PoZ9NDp2eQ",
        "outputId": "0f036e6e-33ac-4de4-9b1b-f5037dfe3334"
      },
      "execution_count": null,
      "outputs": [
        {
          "output_type": "execute_result",
          "data": {
            "text/plain": [
              "(1200, 30)"
            ]
          },
          "metadata": {},
          "execution_count": 6
        }
      ]
    },
    {
      "cell_type": "code",
      "source": [
        "from sklearn.preprocessing import StandardScaler\n",
        "scaler =  StandardScaler()\n",
        "xtrain = scaler.fit_transform(xtrain)\n",
        "xtest = scaler.transform(xtest)"
      ],
      "metadata": {
        "id": "VAVUN3w3p4Zn"
      },
      "execution_count": null,
      "outputs": []
    },
    {
      "cell_type": "code",
      "source": [
        "from keras.utils import to_categorical\n",
        "ytrain_cat = to_categorical(ytrain)\n",
        "ytest_cat = to_categorical(ytest)"
      ],
      "metadata": {
        "id": "cGSzyMHnp7F7"
      },
      "execution_count": null,
      "outputs": []
    },
    {
      "cell_type": "code",
      "source": [
        "ytrain_cat"
      ],
      "metadata": {
        "colab": {
          "base_uri": "https://localhost:8080/"
        },
        "id": "HVKMYCgkp9Ff",
        "outputId": "3cf3a632-5a70-4208-e6f3-15460075fe85"
      },
      "execution_count": null,
      "outputs": [
        {
          "output_type": "execute_result",
          "data": {
            "text/plain": [
              "array([[0., 1., 0.],\n",
              "       [0., 0., 1.],\n",
              "       [1., 0., 0.],\n",
              "       ...,\n",
              "       [0., 0., 1.],\n",
              "       [1., 0., 0.],\n",
              "       [0., 0., 1.]])"
            ]
          },
          "metadata": {},
          "execution_count": 9
        }
      ]
    },
    {
      "cell_type": "code",
      "source": [
        "ytest_cat"
      ],
      "metadata": {
        "colab": {
          "base_uri": "https://localhost:8080/"
        },
        "id": "LSXLVHzmp_ye",
        "outputId": "c5de90f4-0b57-4ee4-a946-ee9a67ccf7de"
      },
      "execution_count": null,
      "outputs": [
        {
          "output_type": "execute_result",
          "data": {
            "text/plain": [
              "array([[1., 0., 0.],\n",
              "       [0., 0., 1.],\n",
              "       [0., 0., 1.],\n",
              "       ...,\n",
              "       [0., 0., 1.],\n",
              "       [1., 0., 0.],\n",
              "       [1., 0., 0.]])"
            ]
          },
          "metadata": {},
          "execution_count": 10
        }
      ]
    },
    {
      "cell_type": "code",
      "source": [
        "from keras.models import Sequential\n",
        "from keras.layers import Dense, Dropout"
      ],
      "metadata": {
        "id": "MBQZ73GTqB5K"
      },
      "execution_count": null,
      "outputs": []
    },
    {
      "cell_type": "code",
      "source": [
        "# Initialize the model\n",
        "model1 = Sequential()\n",
        "\n",
        "# Dense Layer 1\n",
        "model1.add(Dense(64, activation='relu',input_dim = xtrain.shape[1]))\n",
        "\n",
        "# Dense Layer 2\n",
        "model1.add(Dense(32,activation='relu'))\n",
        "\n",
        "# Output Layer\n",
        "model1.add(Dense(3,activation='softmax'))"
      ],
      "metadata": {
        "colab": {
          "base_uri": "https://localhost:8080/"
        },
        "id": "QyLnO_8CqEBf",
        "outputId": "aaac8da9-f476-44fd-eefc-b708a59d0077"
      },
      "execution_count": null,
      "outputs": [
        {
          "output_type": "stream",
          "name": "stderr",
          "text": [
            "/usr/local/lib/python3.10/dist-packages/keras/src/layers/core/dense.py:87: UserWarning: Do not pass an `input_shape`/`input_dim` argument to a layer. When using Sequential models, prefer using an `Input(shape)` object as the first layer in the model instead.\n",
            "  super().__init__(activity_regularizer=activity_regularizer, **kwargs)\n"
          ]
        }
      ]
    },
    {
      "cell_type": "code",
      "source": [
        "model1.summary()"
      ],
      "metadata": {
        "colab": {
          "base_uri": "https://localhost:8080/",
          "height": 240
        },
        "id": "S5IU-sp2qGZw",
        "outputId": "71b2ddc6-578c-4287-d1a1-0a3abfce9a06"
      },
      "execution_count": null,
      "outputs": [
        {
          "output_type": "display_data",
          "data": {
            "text/plain": [
              "\u001b[1mModel: \"sequential\"\u001b[0m\n"
            ],
            "text/html": [
              "<pre style=\"white-space:pre;overflow-x:auto;line-height:normal;font-family:Menlo,'DejaVu Sans Mono',consolas,'Courier New',monospace\"><span style=\"font-weight: bold\">Model: \"sequential\"</span>\n",
              "</pre>\n"
            ]
          },
          "metadata": {}
        },
        {
          "output_type": "display_data",
          "data": {
            "text/plain": [
              "┏━━━━━━━━━━━━━━━━━━━━━━━━━━━━━━━━━━━━━━┳━━━━━━━━━━━━━━━━━━━━━━━━━━━━━┳━━━━━━━━━━━━━━━━━┓\n",
              "┃\u001b[1m \u001b[0m\u001b[1mLayer (type)                        \u001b[0m\u001b[1m \u001b[0m┃\u001b[1m \u001b[0m\u001b[1mOutput Shape               \u001b[0m\u001b[1m \u001b[0m┃\u001b[1m \u001b[0m\u001b[1m        Param #\u001b[0m\u001b[1m \u001b[0m┃\n",
              "┡━━━━━━━━━━━━━━━━━━━━━━━━━━━━━━━━━━━━━━╇━━━━━━━━━━━━━━━━━━━━━━━━━━━━━╇━━━━━━━━━━━━━━━━━┩\n",
              "│ dense (\u001b[38;5;33mDense\u001b[0m)                        │ (\u001b[38;5;45mNone\u001b[0m, \u001b[38;5;34m64\u001b[0m)                  │           \u001b[38;5;34m1,984\u001b[0m │\n",
              "├──────────────────────────────────────┼─────────────────────────────┼─────────────────┤\n",
              "│ dense_1 (\u001b[38;5;33mDense\u001b[0m)                      │ (\u001b[38;5;45mNone\u001b[0m, \u001b[38;5;34m32\u001b[0m)                  │           \u001b[38;5;34m2,080\u001b[0m │\n",
              "├──────────────────────────────────────┼─────────────────────────────┼─────────────────┤\n",
              "│ dense_2 (\u001b[38;5;33mDense\u001b[0m)                      │ (\u001b[38;5;45mNone\u001b[0m, \u001b[38;5;34m3\u001b[0m)                   │              \u001b[38;5;34m99\u001b[0m │\n",
              "└──────────────────────────────────────┴─────────────────────────────┴─────────────────┘\n"
            ],
            "text/html": [
              "<pre style=\"white-space:pre;overflow-x:auto;line-height:normal;font-family:Menlo,'DejaVu Sans Mono',consolas,'Courier New',monospace\">┏━━━━━━━━━━━━━━━━━━━━━━━━━━━━━━━━━━━━━━┳━━━━━━━━━━━━━━━━━━━━━━━━━━━━━┳━━━━━━━━━━━━━━━━━┓\n",
              "┃<span style=\"font-weight: bold\"> Layer (type)                         </span>┃<span style=\"font-weight: bold\"> Output Shape                </span>┃<span style=\"font-weight: bold\">         Param # </span>┃\n",
              "┡━━━━━━━━━━━━━━━━━━━━━━━━━━━━━━━━━━━━━━╇━━━━━━━━━━━━━━━━━━━━━━━━━━━━━╇━━━━━━━━━━━━━━━━━┩\n",
              "│ dense (<span style=\"color: #0087ff; text-decoration-color: #0087ff\">Dense</span>)                        │ (<span style=\"color: #00d7ff; text-decoration-color: #00d7ff\">None</span>, <span style=\"color: #00af00; text-decoration-color: #00af00\">64</span>)                  │           <span style=\"color: #00af00; text-decoration-color: #00af00\">1,984</span> │\n",
              "├──────────────────────────────────────┼─────────────────────────────┼─────────────────┤\n",
              "│ dense_1 (<span style=\"color: #0087ff; text-decoration-color: #0087ff\">Dense</span>)                      │ (<span style=\"color: #00d7ff; text-decoration-color: #00d7ff\">None</span>, <span style=\"color: #00af00; text-decoration-color: #00af00\">32</span>)                  │           <span style=\"color: #00af00; text-decoration-color: #00af00\">2,080</span> │\n",
              "├──────────────────────────────────────┼─────────────────────────────┼─────────────────┤\n",
              "│ dense_2 (<span style=\"color: #0087ff; text-decoration-color: #0087ff\">Dense</span>)                      │ (<span style=\"color: #00d7ff; text-decoration-color: #00d7ff\">None</span>, <span style=\"color: #00af00; text-decoration-color: #00af00\">3</span>)                   │              <span style=\"color: #00af00; text-decoration-color: #00af00\">99</span> │\n",
              "└──────────────────────────────────────┴─────────────────────────────┴─────────────────┘\n",
              "</pre>\n"
            ]
          },
          "metadata": {}
        },
        {
          "output_type": "display_data",
          "data": {
            "text/plain": [
              "\u001b[1m Total params: \u001b[0m\u001b[38;5;34m4,163\u001b[0m (16.26 KB)\n"
            ],
            "text/html": [
              "<pre style=\"white-space:pre;overflow-x:auto;line-height:normal;font-family:Menlo,'DejaVu Sans Mono',consolas,'Courier New',monospace\"><span style=\"font-weight: bold\"> Total params: </span><span style=\"color: #00af00; text-decoration-color: #00af00\">4,163</span> (16.26 KB)\n",
              "</pre>\n"
            ]
          },
          "metadata": {}
        },
        {
          "output_type": "display_data",
          "data": {
            "text/plain": [
              "\u001b[1m Trainable params: \u001b[0m\u001b[38;5;34m4,163\u001b[0m (16.26 KB)\n"
            ],
            "text/html": [
              "<pre style=\"white-space:pre;overflow-x:auto;line-height:normal;font-family:Menlo,'DejaVu Sans Mono',consolas,'Courier New',monospace\"><span style=\"font-weight: bold\"> Trainable params: </span><span style=\"color: #00af00; text-decoration-color: #00af00\">4,163</span> (16.26 KB)\n",
              "</pre>\n"
            ]
          },
          "metadata": {}
        },
        {
          "output_type": "display_data",
          "data": {
            "text/plain": [
              "\u001b[1m Non-trainable params: \u001b[0m\u001b[38;5;34m0\u001b[0m (0.00 B)\n"
            ],
            "text/html": [
              "<pre style=\"white-space:pre;overflow-x:auto;line-height:normal;font-family:Menlo,'DejaVu Sans Mono',consolas,'Courier New',monospace\"><span style=\"font-weight: bold\"> Non-trainable params: </span><span style=\"color: #00af00; text-decoration-color: #00af00\">0</span> (0.00 B)\n",
              "</pre>\n"
            ]
          },
          "metadata": {}
        }
      ]
    },
    {
      "cell_type": "code",
      "source": [
        "model1.compile(optimizer='adam',loss='categorical_crossentropy',metrics=['accuracy'])"
      ],
      "metadata": {
        "id": "MEJtXcHsqIVr"
      },
      "execution_count": null,
      "outputs": []
    },
    {
      "cell_type": "code",
      "source": [
        "hist1 = model1.fit(xtrain, ytrain_cat, epochs=100, validation_split=0.2)"
      ],
      "metadata": {
        "colab": {
          "base_uri": "https://localhost:8080/"
        },
        "id": "6Bb-UCvXqLKI",
        "outputId": "a6f6f098-5e93-4a8c-ec84-4169e67f93ff"
      },
      "execution_count": null,
      "outputs": [
        {
          "output_type": "stream",
          "name": "stdout",
          "text": [
            "Epoch 1/100\n",
            "\u001b[1m120/120\u001b[0m \u001b[32m━━━━━━━━━━━━━━━━━━━━\u001b[0m\u001b[37m\u001b[0m \u001b[1m2s\u001b[0m 3ms/step - accuracy: 0.4879 - loss: 0.9960 - val_accuracy: 0.7021 - val_loss: 0.7301\n",
            "Epoch 2/100\n",
            "\u001b[1m120/120\u001b[0m \u001b[32m━━━━━━━━━━━━━━━━━━━━\u001b[0m\u001b[37m\u001b[0m \u001b[1m0s\u001b[0m 2ms/step - accuracy: 0.7300 - loss: 0.6684 - val_accuracy: 0.7594 - val_loss: 0.5873\n",
            "Epoch 3/100\n",
            "\u001b[1m120/120\u001b[0m \u001b[32m━━━━━━━━━━━━━━━━━━━━\u001b[0m\u001b[37m\u001b[0m \u001b[1m0s\u001b[0m 2ms/step - accuracy: 0.7941 - loss: 0.5394 - val_accuracy: 0.8042 - val_loss: 0.5041\n",
            "Epoch 4/100\n",
            "\u001b[1m120/120\u001b[0m \u001b[32m━━━━━━━━━━━━━━━━━━━━\u001b[0m\u001b[37m\u001b[0m \u001b[1m0s\u001b[0m 2ms/step - accuracy: 0.8298 - loss: 0.4485 - val_accuracy: 0.8260 - val_loss: 0.4393\n",
            "Epoch 5/100\n",
            "\u001b[1m120/120\u001b[0m \u001b[32m━━━━━━━━━━━━━━━━━━━━\u001b[0m\u001b[37m\u001b[0m \u001b[1m0s\u001b[0m 2ms/step - accuracy: 0.8554 - loss: 0.4003 - val_accuracy: 0.8500 - val_loss: 0.3873\n",
            "Epoch 6/100\n",
            "\u001b[1m120/120\u001b[0m \u001b[32m━━━━━━━━━━━━━━━━━━━━\u001b[0m\u001b[37m\u001b[0m \u001b[1m0s\u001b[0m 2ms/step - accuracy: 0.8806 - loss: 0.3383 - val_accuracy: 0.8573 - val_loss: 0.3517\n",
            "Epoch 7/100\n",
            "\u001b[1m120/120\u001b[0m \u001b[32m━━━━━━━━━━━━━━━━━━━━\u001b[0m\u001b[37m\u001b[0m \u001b[1m0s\u001b[0m 2ms/step - accuracy: 0.9027 - loss: 0.3019 - val_accuracy: 0.8687 - val_loss: 0.3255\n",
            "Epoch 8/100\n",
            "\u001b[1m120/120\u001b[0m \u001b[32m━━━━━━━━━━━━━━━━━━━━\u001b[0m\u001b[37m\u001b[0m \u001b[1m0s\u001b[0m 2ms/step - accuracy: 0.9130 - loss: 0.2628 - val_accuracy: 0.8750 - val_loss: 0.3077\n",
            "Epoch 9/100\n",
            "\u001b[1m120/120\u001b[0m \u001b[32m━━━━━━━━━━━━━━━━━━━━\u001b[0m\u001b[37m\u001b[0m \u001b[1m1s\u001b[0m 2ms/step - accuracy: 0.9330 - loss: 0.2286 - val_accuracy: 0.8969 - val_loss: 0.2885\n",
            "Epoch 10/100\n",
            "\u001b[1m120/120\u001b[0m \u001b[32m━━━━━━━━━━━━━━━━━━━━\u001b[0m\u001b[37m\u001b[0m \u001b[1m0s\u001b[0m 2ms/step - accuracy: 0.9427 - loss: 0.2021 - val_accuracy: 0.8896 - val_loss: 0.2792\n",
            "Epoch 11/100\n",
            "\u001b[1m120/120\u001b[0m \u001b[32m━━━━━━━━━━━━━━━━━━━━\u001b[0m\u001b[37m\u001b[0m \u001b[1m0s\u001b[0m 2ms/step - accuracy: 0.9447 - loss: 0.1894 - val_accuracy: 0.8885 - val_loss: 0.2782\n",
            "Epoch 12/100\n",
            "\u001b[1m120/120\u001b[0m \u001b[32m━━━━━━━━━━━━━━━━━━━━\u001b[0m\u001b[37m\u001b[0m \u001b[1m0s\u001b[0m 2ms/step - accuracy: 0.9559 - loss: 0.1697 - val_accuracy: 0.8958 - val_loss: 0.2701\n",
            "Epoch 13/100\n",
            "\u001b[1m120/120\u001b[0m \u001b[32m━━━━━━━━━━━━━━━━━━━━\u001b[0m\u001b[37m\u001b[0m \u001b[1m0s\u001b[0m 2ms/step - accuracy: 0.9603 - loss: 0.1541 - val_accuracy: 0.9052 - val_loss: 0.2644\n",
            "Epoch 14/100\n",
            "\u001b[1m120/120\u001b[0m \u001b[32m━━━━━━━━━━━━━━━━━━━━\u001b[0m\u001b[37m\u001b[0m \u001b[1m0s\u001b[0m 2ms/step - accuracy: 0.9637 - loss: 0.1418 - val_accuracy: 0.8958 - val_loss: 0.2602\n",
            "Epoch 15/100\n",
            "\u001b[1m120/120\u001b[0m \u001b[32m━━━━━━━━━━━━━━━━━━━━\u001b[0m\u001b[37m\u001b[0m \u001b[1m0s\u001b[0m 2ms/step - accuracy: 0.9724 - loss: 0.1165 - val_accuracy: 0.8990 - val_loss: 0.2540\n",
            "Epoch 16/100\n",
            "\u001b[1m120/120\u001b[0m \u001b[32m━━━━━━━━━━━━━━━━━━━━\u001b[0m\u001b[37m\u001b[0m \u001b[1m0s\u001b[0m 2ms/step - accuracy: 0.9736 - loss: 0.1118 - val_accuracy: 0.9000 - val_loss: 0.2615\n",
            "Epoch 17/100\n",
            "\u001b[1m120/120\u001b[0m \u001b[32m━━━━━━━━━━━━━━━━━━━━\u001b[0m\u001b[37m\u001b[0m \u001b[1m0s\u001b[0m 2ms/step - accuracy: 0.9825 - loss: 0.1076 - val_accuracy: 0.9010 - val_loss: 0.2632\n",
            "Epoch 18/100\n",
            "\u001b[1m120/120\u001b[0m \u001b[32m━━━━━━━━━━━━━━━━━━━━\u001b[0m\u001b[37m\u001b[0m \u001b[1m0s\u001b[0m 2ms/step - accuracy: 0.9786 - loss: 0.1012 - val_accuracy: 0.9010 - val_loss: 0.2583\n",
            "Epoch 19/100\n",
            "\u001b[1m120/120\u001b[0m \u001b[32m━━━━━━━━━━━━━━━━━━━━\u001b[0m\u001b[37m\u001b[0m \u001b[1m0s\u001b[0m 2ms/step - accuracy: 0.9781 - loss: 0.0949 - val_accuracy: 0.8948 - val_loss: 0.2819\n",
            "Epoch 20/100\n",
            "\u001b[1m120/120\u001b[0m \u001b[32m━━━━━━━━━━━━━━━━━━━━\u001b[0m\u001b[37m\u001b[0m \u001b[1m1s\u001b[0m 4ms/step - accuracy: 0.9841 - loss: 0.0958 - val_accuracy: 0.9062 - val_loss: 0.2617\n",
            "Epoch 21/100\n",
            "\u001b[1m120/120\u001b[0m \u001b[32m━━━━━━━━━━━━━━━━━━━━\u001b[0m\u001b[37m\u001b[0m \u001b[1m1s\u001b[0m 3ms/step - accuracy: 0.9801 - loss: 0.0967 - val_accuracy: 0.9052 - val_loss: 0.2651\n",
            "Epoch 22/100\n",
            "\u001b[1m120/120\u001b[0m \u001b[32m━━━━━━━━━━━━━━━━━━━━\u001b[0m\u001b[37m\u001b[0m \u001b[1m1s\u001b[0m 4ms/step - accuracy: 0.9869 - loss: 0.0830 - val_accuracy: 0.9031 - val_loss: 0.2699\n",
            "Epoch 23/100\n",
            "\u001b[1m120/120\u001b[0m \u001b[32m━━━━━━━━━━━━━━━━━━━━\u001b[0m\u001b[37m\u001b[0m \u001b[1m1s\u001b[0m 3ms/step - accuracy: 0.9885 - loss: 0.0770 - val_accuracy: 0.9052 - val_loss: 0.2744\n",
            "Epoch 24/100\n",
            "\u001b[1m120/120\u001b[0m \u001b[32m━━━━━━━━━━━━━━━━━━━━\u001b[0m\u001b[37m\u001b[0m \u001b[1m1s\u001b[0m 3ms/step - accuracy: 0.9900 - loss: 0.0628 - val_accuracy: 0.8990 - val_loss: 0.2782\n",
            "Epoch 25/100\n",
            "\u001b[1m120/120\u001b[0m \u001b[32m━━━━━━━━━━━━━━━━━━━━\u001b[0m\u001b[37m\u001b[0m \u001b[1m1s\u001b[0m 2ms/step - accuracy: 0.9918 - loss: 0.0678 - val_accuracy: 0.8990 - val_loss: 0.2876\n",
            "Epoch 26/100\n",
            "\u001b[1m120/120\u001b[0m \u001b[32m━━━━━━━━━━━━━━━━━━━━\u001b[0m\u001b[37m\u001b[0m \u001b[1m0s\u001b[0m 2ms/step - accuracy: 0.9893 - loss: 0.0647 - val_accuracy: 0.9010 - val_loss: 0.2826\n",
            "Epoch 27/100\n",
            "\u001b[1m120/120\u001b[0m \u001b[32m━━━━━━━━━━━━━━━━━━━━\u001b[0m\u001b[37m\u001b[0m \u001b[1m0s\u001b[0m 2ms/step - accuracy: 0.9917 - loss: 0.0544 - val_accuracy: 0.9073 - val_loss: 0.2898\n",
            "Epoch 28/100\n",
            "\u001b[1m120/120\u001b[0m \u001b[32m━━━━━━━━━━━━━━━━━━━━\u001b[0m\u001b[37m\u001b[0m \u001b[1m0s\u001b[0m 2ms/step - accuracy: 0.9936 - loss: 0.0495 - val_accuracy: 0.9000 - val_loss: 0.2889\n",
            "Epoch 29/100\n",
            "\u001b[1m120/120\u001b[0m \u001b[32m━━━━━━━━━━━━━━━━━━━━\u001b[0m\u001b[37m\u001b[0m \u001b[1m1s\u001b[0m 2ms/step - accuracy: 0.9944 - loss: 0.0428 - val_accuracy: 0.8969 - val_loss: 0.3005\n",
            "Epoch 30/100\n",
            "\u001b[1m120/120\u001b[0m \u001b[32m━━━━━━━━━━━━━━━━━━━━\u001b[0m\u001b[37m\u001b[0m \u001b[1m0s\u001b[0m 2ms/step - accuracy: 0.9938 - loss: 0.0473 - val_accuracy: 0.9010 - val_loss: 0.3123\n",
            "Epoch 31/100\n",
            "\u001b[1m120/120\u001b[0m \u001b[32m━━━━━━━━━━━━━━━━━━━━\u001b[0m\u001b[37m\u001b[0m \u001b[1m0s\u001b[0m 2ms/step - accuracy: 0.9931 - loss: 0.0423 - val_accuracy: 0.9031 - val_loss: 0.3138\n",
            "Epoch 32/100\n",
            "\u001b[1m120/120\u001b[0m \u001b[32m━━━━━━━━━━━━━━━━━━━━\u001b[0m\u001b[37m\u001b[0m \u001b[1m0s\u001b[0m 2ms/step - accuracy: 0.9954 - loss: 0.0381 - val_accuracy: 0.9062 - val_loss: 0.3121\n",
            "Epoch 33/100\n",
            "\u001b[1m120/120\u001b[0m \u001b[32m━━━━━━━━━━━━━━━━━━━━\u001b[0m\u001b[37m\u001b[0m \u001b[1m0s\u001b[0m 2ms/step - accuracy: 0.9971 - loss: 0.0323 - val_accuracy: 0.9010 - val_loss: 0.3213\n",
            "Epoch 34/100\n",
            "\u001b[1m120/120\u001b[0m \u001b[32m━━━━━━━━━━━━━━━━━━━━\u001b[0m\u001b[37m\u001b[0m \u001b[1m0s\u001b[0m 2ms/step - accuracy: 0.9965 - loss: 0.0355 - val_accuracy: 0.9000 - val_loss: 0.3184\n",
            "Epoch 35/100\n",
            "\u001b[1m120/120\u001b[0m \u001b[32m━━━━━━━━━━━━━━━━━━━━\u001b[0m\u001b[37m\u001b[0m \u001b[1m0s\u001b[0m 2ms/step - accuracy: 0.9985 - loss: 0.0240 - val_accuracy: 0.8979 - val_loss: 0.3389\n",
            "Epoch 36/100\n",
            "\u001b[1m120/120\u001b[0m \u001b[32m━━━━━━━━━━━━━━━━━━━━\u001b[0m\u001b[37m\u001b[0m \u001b[1m0s\u001b[0m 2ms/step - accuracy: 0.9974 - loss: 0.0246 - val_accuracy: 0.8979 - val_loss: 0.3448\n",
            "Epoch 37/100\n",
            "\u001b[1m120/120\u001b[0m \u001b[32m━━━━━━━━━━━━━━━━━━━━\u001b[0m\u001b[37m\u001b[0m \u001b[1m0s\u001b[0m 2ms/step - accuracy: 0.9984 - loss: 0.0204 - val_accuracy: 0.8979 - val_loss: 0.3412\n",
            "Epoch 38/100\n",
            "\u001b[1m120/120\u001b[0m \u001b[32m━━━━━━━━━━━━━━━━━━━━\u001b[0m\u001b[37m\u001b[0m \u001b[1m0s\u001b[0m 3ms/step - accuracy: 0.9984 - loss: 0.0202 - val_accuracy: 0.8927 - val_loss: 0.3584\n",
            "Epoch 39/100\n",
            "\u001b[1m120/120\u001b[0m \u001b[32m━━━━━━━━━━━━━━━━━━━━\u001b[0m\u001b[37m\u001b[0m \u001b[1m1s\u001b[0m 3ms/step - accuracy: 0.9996 - loss: 0.0192 - val_accuracy: 0.8990 - val_loss: 0.3490\n",
            "Epoch 40/100\n",
            "\u001b[1m120/120\u001b[0m \u001b[32m━━━━━━━━━━━━━━━━━━━━\u001b[0m\u001b[37m\u001b[0m \u001b[1m0s\u001b[0m 2ms/step - accuracy: 0.9991 - loss: 0.0144 - val_accuracy: 0.8990 - val_loss: 0.3597\n",
            "Epoch 41/100\n",
            "\u001b[1m120/120\u001b[0m \u001b[32m━━━━━━━━━━━━━━━━━━━━\u001b[0m\u001b[37m\u001b[0m \u001b[1m0s\u001b[0m 2ms/step - accuracy: 0.9995 - loss: 0.0142 - val_accuracy: 0.8938 - val_loss: 0.3775\n",
            "Epoch 42/100\n",
            "\u001b[1m120/120\u001b[0m \u001b[32m━━━━━━━━━━━━━━━━━━━━\u001b[0m\u001b[37m\u001b[0m \u001b[1m0s\u001b[0m 2ms/step - accuracy: 0.9997 - loss: 0.0133 - val_accuracy: 0.9000 - val_loss: 0.3697\n",
            "Epoch 43/100\n",
            "\u001b[1m120/120\u001b[0m \u001b[32m━━━━━━━━━━━━━━━━━━━━\u001b[0m\u001b[37m\u001b[0m \u001b[1m0s\u001b[0m 2ms/step - accuracy: 0.9999 - loss: 0.0117 - val_accuracy: 0.8990 - val_loss: 0.3715\n",
            "Epoch 44/100\n",
            "\u001b[1m120/120\u001b[0m \u001b[32m━━━━━━━━━━━━━━━━━━━━\u001b[0m\u001b[37m\u001b[0m \u001b[1m0s\u001b[0m 2ms/step - accuracy: 0.9999 - loss: 0.0102 - val_accuracy: 0.8948 - val_loss: 0.3835\n",
            "Epoch 45/100\n",
            "\u001b[1m120/120\u001b[0m \u001b[32m━━━━━━━━━━━━━━━━━━━━\u001b[0m\u001b[37m\u001b[0m \u001b[1m0s\u001b[0m 2ms/step - accuracy: 1.0000 - loss: 0.0096 - val_accuracy: 0.8979 - val_loss: 0.3838\n",
            "Epoch 46/100\n",
            "\u001b[1m120/120\u001b[0m \u001b[32m━━━━━━━━━━━━━━━━━━━━\u001b[0m\u001b[37m\u001b[0m \u001b[1m0s\u001b[0m 2ms/step - accuracy: 1.0000 - loss: 0.0097 - val_accuracy: 0.8990 - val_loss: 0.3936\n",
            "Epoch 47/100\n",
            "\u001b[1m120/120\u001b[0m \u001b[32m━━━━━━━━━━━━━━━━━━━━\u001b[0m\u001b[37m\u001b[0m \u001b[1m0s\u001b[0m 2ms/step - accuracy: 1.0000 - loss: 0.0079 - val_accuracy: 0.8938 - val_loss: 0.3987\n",
            "Epoch 48/100\n",
            "\u001b[1m120/120\u001b[0m \u001b[32m━━━━━━━━━━━━━━━━━━━━\u001b[0m\u001b[37m\u001b[0m \u001b[1m0s\u001b[0m 2ms/step - accuracy: 1.0000 - loss: 0.0071 - val_accuracy: 0.8969 - val_loss: 0.4024\n",
            "Epoch 49/100\n",
            "\u001b[1m120/120\u001b[0m \u001b[32m━━━━━━━━━━━━━━━━━━━━\u001b[0m\u001b[37m\u001b[0m \u001b[1m0s\u001b[0m 2ms/step - accuracy: 1.0000 - loss: 0.0062 - val_accuracy: 0.8927 - val_loss: 0.4138\n",
            "Epoch 50/100\n",
            "\u001b[1m120/120\u001b[0m \u001b[32m━━━━━━━━━━━━━━━━━━━━\u001b[0m\u001b[37m\u001b[0m \u001b[1m1s\u001b[0m 2ms/step - accuracy: 1.0000 - loss: 0.0062 - val_accuracy: 0.8979 - val_loss: 0.4149\n",
            "Epoch 51/100\n",
            "\u001b[1m120/120\u001b[0m \u001b[32m━━━━━━━━━━━━━━━━━━━━\u001b[0m\u001b[37m\u001b[0m \u001b[1m0s\u001b[0m 2ms/step - accuracy: 1.0000 - loss: 0.0054 - val_accuracy: 0.8958 - val_loss: 0.4231\n",
            "Epoch 52/100\n",
            "\u001b[1m120/120\u001b[0m \u001b[32m━━━━━━━━━━━━━━━━━━━━\u001b[0m\u001b[37m\u001b[0m \u001b[1m0s\u001b[0m 2ms/step - accuracy: 1.0000 - loss: 0.0052 - val_accuracy: 0.9000 - val_loss: 0.4320\n",
            "Epoch 53/100\n",
            "\u001b[1m120/120\u001b[0m \u001b[32m━━━━━━━━━━━━━━━━━━━━\u001b[0m\u001b[37m\u001b[0m \u001b[1m0s\u001b[0m 2ms/step - accuracy: 0.9997 - loss: 0.0054 - val_accuracy: 0.8917 - val_loss: 0.4358\n",
            "Epoch 54/100\n",
            "\u001b[1m120/120\u001b[0m \u001b[32m━━━━━━━━━━━━━━━━━━━━\u001b[0m\u001b[37m\u001b[0m \u001b[1m1s\u001b[0m 4ms/step - accuracy: 1.0000 - loss: 0.0047 - val_accuracy: 0.8948 - val_loss: 0.4546\n",
            "Epoch 55/100\n",
            "\u001b[1m120/120\u001b[0m \u001b[32m━━━━━━━━━━━━━━━━━━━━\u001b[0m\u001b[37m\u001b[0m \u001b[1m1s\u001b[0m 3ms/step - accuracy: 1.0000 - loss: 0.0037 - val_accuracy: 0.8938 - val_loss: 0.4435\n",
            "Epoch 56/100\n",
            "\u001b[1m120/120\u001b[0m \u001b[32m━━━━━━━━━━━━━━━━━━━━\u001b[0m\u001b[37m\u001b[0m \u001b[1m0s\u001b[0m 4ms/step - accuracy: 1.0000 - loss: 0.0033 - val_accuracy: 0.8958 - val_loss: 0.4527\n",
            "Epoch 57/100\n",
            "\u001b[1m120/120\u001b[0m \u001b[32m━━━━━━━━━━━━━━━━━━━━\u001b[0m\u001b[37m\u001b[0m \u001b[1m0s\u001b[0m 3ms/step - accuracy: 1.0000 - loss: 0.0029 - val_accuracy: 0.8969 - val_loss: 0.4509\n",
            "Epoch 58/100\n",
            "\u001b[1m120/120\u001b[0m \u001b[32m━━━━━━━━━━━━━━━━━━━━\u001b[0m\u001b[37m\u001b[0m \u001b[1m1s\u001b[0m 3ms/step - accuracy: 1.0000 - loss: 0.0027 - val_accuracy: 0.8958 - val_loss: 0.4659\n",
            "Epoch 59/100\n",
            "\u001b[1m120/120\u001b[0m \u001b[32m━━━━━━━━━━━━━━━━━━━━\u001b[0m\u001b[37m\u001b[0m \u001b[1m0s\u001b[0m 2ms/step - accuracy: 1.0000 - loss: 0.0027 - val_accuracy: 0.8948 - val_loss: 0.4696\n",
            "Epoch 60/100\n",
            "\u001b[1m120/120\u001b[0m \u001b[32m━━━━━━━━━━━━━━━━━━━━\u001b[0m\u001b[37m\u001b[0m \u001b[1m0s\u001b[0m 2ms/step - accuracy: 1.0000 - loss: 0.0023 - val_accuracy: 0.8958 - val_loss: 0.4708\n",
            "Epoch 61/100\n",
            "\u001b[1m120/120\u001b[0m \u001b[32m━━━━━━━━━━━━━━━━━━━━\u001b[0m\u001b[37m\u001b[0m \u001b[1m0s\u001b[0m 2ms/step - accuracy: 1.0000 - loss: 0.0022 - val_accuracy: 0.8979 - val_loss: 0.4750\n",
            "Epoch 62/100\n",
            "\u001b[1m120/120\u001b[0m \u001b[32m━━━━━━━━━━━━━━━━━━━━\u001b[0m\u001b[37m\u001b[0m \u001b[1m0s\u001b[0m 2ms/step - accuracy: 1.0000 - loss: 0.0020 - val_accuracy: 0.8969 - val_loss: 0.4818\n",
            "Epoch 63/100\n",
            "\u001b[1m120/120\u001b[0m \u001b[32m━━━━━━━━━━━━━━━━━━━━\u001b[0m\u001b[37m\u001b[0m \u001b[1m0s\u001b[0m 2ms/step - accuracy: 1.0000 - loss: 0.0019 - val_accuracy: 0.8958 - val_loss: 0.4872\n",
            "Epoch 64/100\n",
            "\u001b[1m120/120\u001b[0m \u001b[32m━━━━━━━━━━━━━━━━━━━━\u001b[0m\u001b[37m\u001b[0m \u001b[1m0s\u001b[0m 2ms/step - accuracy: 1.0000 - loss: 0.0017 - val_accuracy: 0.8990 - val_loss: 0.4919\n",
            "Epoch 65/100\n",
            "\u001b[1m120/120\u001b[0m \u001b[32m━━━━━━━━━━━━━━━━━━━━\u001b[0m\u001b[37m\u001b[0m \u001b[1m0s\u001b[0m 2ms/step - accuracy: 1.0000 - loss: 0.0015 - val_accuracy: 0.8938 - val_loss: 0.5028\n",
            "Epoch 66/100\n",
            "\u001b[1m120/120\u001b[0m \u001b[32m━━━━━━━━━━━━━━━━━━━━\u001b[0m\u001b[37m\u001b[0m \u001b[1m0s\u001b[0m 2ms/step - accuracy: 1.0000 - loss: 0.0013 - val_accuracy: 0.8948 - val_loss: 0.4976\n",
            "Epoch 67/100\n",
            "\u001b[1m120/120\u001b[0m \u001b[32m━━━━━━━━━━━━━━━━━━━━\u001b[0m\u001b[37m\u001b[0m \u001b[1m0s\u001b[0m 2ms/step - accuracy: 1.0000 - loss: 0.0014 - val_accuracy: 0.8948 - val_loss: 0.5098\n",
            "Epoch 68/100\n",
            "\u001b[1m120/120\u001b[0m \u001b[32m━━━━━━━━━━━━━━━━━━━━\u001b[0m\u001b[37m\u001b[0m \u001b[1m1s\u001b[0m 2ms/step - accuracy: 1.0000 - loss: 0.0012 - val_accuracy: 0.8990 - val_loss: 0.5138\n",
            "Epoch 69/100\n",
            "\u001b[1m120/120\u001b[0m \u001b[32m━━━━━━━━━━━━━━━━━━━━\u001b[0m\u001b[37m\u001b[0m \u001b[1m0s\u001b[0m 2ms/step - accuracy: 1.0000 - loss: 0.0012 - val_accuracy: 0.9000 - val_loss: 0.5183\n",
            "Epoch 70/100\n",
            "\u001b[1m120/120\u001b[0m \u001b[32m━━━━━━━━━━━━━━━━━━━━\u001b[0m\u001b[37m\u001b[0m \u001b[1m0s\u001b[0m 2ms/step - accuracy: 1.0000 - loss: 0.0011 - val_accuracy: 0.8990 - val_loss: 0.5181\n",
            "Epoch 71/100\n",
            "\u001b[1m120/120\u001b[0m \u001b[32m━━━━━━━━━━━━━━━━━━━━\u001b[0m\u001b[37m\u001b[0m \u001b[1m0s\u001b[0m 2ms/step - accuracy: 1.0000 - loss: 9.2759e-04 - val_accuracy: 0.8938 - val_loss: 0.5305\n",
            "Epoch 72/100\n",
            "\u001b[1m120/120\u001b[0m \u001b[32m━━━━━━━━━━━━━━━━━━━━\u001b[0m\u001b[37m\u001b[0m \u001b[1m0s\u001b[0m 2ms/step - accuracy: 1.0000 - loss: 9.4979e-04 - val_accuracy: 0.8948 - val_loss: 0.5376\n",
            "Epoch 73/100\n",
            "\u001b[1m120/120\u001b[0m \u001b[32m━━━━━━━━━━━━━━━━━━━━\u001b[0m\u001b[37m\u001b[0m \u001b[1m0s\u001b[0m 2ms/step - accuracy: 1.0000 - loss: 8.7599e-04 - val_accuracy: 0.8990 - val_loss: 0.5376\n",
            "Epoch 74/100\n",
            "\u001b[1m120/120\u001b[0m \u001b[32m━━━━━━━━━━━━━━━━━━━━\u001b[0m\u001b[37m\u001b[0m \u001b[1m0s\u001b[0m 2ms/step - accuracy: 1.0000 - loss: 7.5386e-04 - val_accuracy: 0.9000 - val_loss: 0.5443\n",
            "Epoch 75/100\n",
            "\u001b[1m120/120\u001b[0m \u001b[32m━━━━━━━━━━━━━━━━━━━━\u001b[0m\u001b[37m\u001b[0m \u001b[1m1s\u001b[0m 2ms/step - accuracy: 1.0000 - loss: 6.9958e-04 - val_accuracy: 0.9000 - val_loss: 0.5415\n",
            "Epoch 76/100\n",
            "\u001b[1m120/120\u001b[0m \u001b[32m━━━━━━━━━━━━━━━━━━━━\u001b[0m\u001b[37m\u001b[0m \u001b[1m0s\u001b[0m 2ms/step - accuracy: 1.0000 - loss: 6.4736e-04 - val_accuracy: 0.8969 - val_loss: 0.5588\n",
            "Epoch 77/100\n",
            "\u001b[1m120/120\u001b[0m \u001b[32m━━━━━━━━━━━━━━━━━━━━\u001b[0m\u001b[37m\u001b[0m \u001b[1m0s\u001b[0m 2ms/step - accuracy: 1.0000 - loss: 6.1011e-04 - val_accuracy: 0.9000 - val_loss: 0.5581\n",
            "Epoch 78/100\n",
            "\u001b[1m120/120\u001b[0m \u001b[32m━━━━━━━━━━━━━━━━━━━━\u001b[0m\u001b[37m\u001b[0m \u001b[1m0s\u001b[0m 2ms/step - accuracy: 1.0000 - loss: 5.4750e-04 - val_accuracy: 0.9021 - val_loss: 0.5611\n",
            "Epoch 79/100\n",
            "\u001b[1m120/120\u001b[0m \u001b[32m━━━━━━━━━━━━━━━━━━━━\u001b[0m\u001b[37m\u001b[0m \u001b[1m0s\u001b[0m 2ms/step - accuracy: 1.0000 - loss: 5.6653e-04 - val_accuracy: 0.9000 - val_loss: 0.5693\n",
            "Epoch 80/100\n",
            "\u001b[1m120/120\u001b[0m \u001b[32m━━━━━━━━━━━━━━━━━━━━\u001b[0m\u001b[37m\u001b[0m \u001b[1m0s\u001b[0m 2ms/step - accuracy: 1.0000 - loss: 5.0024e-04 - val_accuracy: 0.8979 - val_loss: 0.5732\n",
            "Epoch 81/100\n",
            "\u001b[1m120/120\u001b[0m \u001b[32m━━━━━━━━━━━━━━━━━━━━\u001b[0m\u001b[37m\u001b[0m \u001b[1m0s\u001b[0m 2ms/step - accuracy: 1.0000 - loss: 4.4679e-04 - val_accuracy: 0.8990 - val_loss: 0.5816\n",
            "Epoch 82/100\n",
            "\u001b[1m120/120\u001b[0m \u001b[32m━━━━━━━━━━━━━━━━━━━━\u001b[0m\u001b[37m\u001b[0m \u001b[1m0s\u001b[0m 2ms/step - accuracy: 1.0000 - loss: 4.2992e-04 - val_accuracy: 0.9000 - val_loss: 0.5825\n",
            "Epoch 83/100\n",
            "\u001b[1m120/120\u001b[0m \u001b[32m━━━━━━━━━━━━━━━━━━━━\u001b[0m\u001b[37m\u001b[0m \u001b[1m0s\u001b[0m 2ms/step - accuracy: 1.0000 - loss: 4.2638e-04 - val_accuracy: 0.8979 - val_loss: 0.5916\n",
            "Epoch 84/100\n",
            "\u001b[1m120/120\u001b[0m \u001b[32m━━━━━━━━━━━━━━━━━━━━\u001b[0m\u001b[37m\u001b[0m \u001b[1m0s\u001b[0m 2ms/step - accuracy: 1.0000 - loss: 3.7802e-04 - val_accuracy: 0.8990 - val_loss: 0.5962\n",
            "Epoch 85/100\n",
            "\u001b[1m120/120\u001b[0m \u001b[32m━━━━━━━━━━━━━━━━━━━━\u001b[0m\u001b[37m\u001b[0m \u001b[1m0s\u001b[0m 2ms/step - accuracy: 1.0000 - loss: 3.6618e-04 - val_accuracy: 0.9021 - val_loss: 0.5957\n",
            "Epoch 86/100\n",
            "\u001b[1m120/120\u001b[0m \u001b[32m━━━━━━━━━━━━━━━━━━━━\u001b[0m\u001b[37m\u001b[0m \u001b[1m0s\u001b[0m 2ms/step - accuracy: 1.0000 - loss: 3.3998e-04 - val_accuracy: 0.9000 - val_loss: 0.6083\n",
            "Epoch 87/100\n",
            "\u001b[1m120/120\u001b[0m \u001b[32m━━━━━━━━━━━━━━━━━━━━\u001b[0m\u001b[37m\u001b[0m \u001b[1m0s\u001b[0m 2ms/step - accuracy: 1.0000 - loss: 3.4563e-04 - val_accuracy: 0.9010 - val_loss: 0.6047\n",
            "Epoch 88/100\n",
            "\u001b[1m120/120\u001b[0m \u001b[32m━━━━━━━━━━━━━━━━━━━━\u001b[0m\u001b[37m\u001b[0m \u001b[1m0s\u001b[0m 2ms/step - accuracy: 1.0000 - loss: 2.8364e-04 - val_accuracy: 0.9000 - val_loss: 0.6188\n",
            "Epoch 89/100\n",
            "\u001b[1m120/120\u001b[0m \u001b[32m━━━━━━━━━━━━━━━━━━━━\u001b[0m\u001b[37m\u001b[0m \u001b[1m0s\u001b[0m 3ms/step - accuracy: 1.0000 - loss: 2.5865e-04 - val_accuracy: 0.9010 - val_loss: 0.6298\n",
            "Epoch 90/100\n",
            "\u001b[1m120/120\u001b[0m \u001b[32m━━━━━━━━━━━━━━━━━━━━\u001b[0m\u001b[37m\u001b[0m \u001b[1m1s\u001b[0m 3ms/step - accuracy: 1.0000 - loss: 2.5595e-04 - val_accuracy: 0.8969 - val_loss: 0.6252\n",
            "Epoch 91/100\n",
            "\u001b[1m120/120\u001b[0m \u001b[32m━━━━━━━━━━━━━━━━━━━━\u001b[0m\u001b[37m\u001b[0m \u001b[1m1s\u001b[0m 4ms/step - accuracy: 1.0000 - loss: 2.2521e-04 - val_accuracy: 0.9021 - val_loss: 0.6263\n",
            "Epoch 92/100\n",
            "\u001b[1m120/120\u001b[0m \u001b[32m━━━━━━━━━━━━━━━━━━━━\u001b[0m\u001b[37m\u001b[0m \u001b[1m1s\u001b[0m 3ms/step - accuracy: 1.0000 - loss: 2.2141e-04 - val_accuracy: 0.9010 - val_loss: 0.6386\n",
            "Epoch 93/100\n",
            "\u001b[1m120/120\u001b[0m \u001b[32m━━━━━━━━━━━━━━━━━━━━\u001b[0m\u001b[37m\u001b[0m \u001b[1m1s\u001b[0m 4ms/step - accuracy: 1.0000 - loss: 1.8488e-04 - val_accuracy: 0.9010 - val_loss: 0.6391\n",
            "Epoch 94/100\n",
            "\u001b[1m120/120\u001b[0m \u001b[32m━━━━━━━━━━━━━━━━━━━━\u001b[0m\u001b[37m\u001b[0m \u001b[1m0s\u001b[0m 2ms/step - accuracy: 1.0000 - loss: 1.6673e-04 - val_accuracy: 0.9021 - val_loss: 0.6459\n",
            "Epoch 95/100\n",
            "\u001b[1m120/120\u001b[0m \u001b[32m━━━━━━━━━━━━━━━━━━━━\u001b[0m\u001b[37m\u001b[0m \u001b[1m0s\u001b[0m 2ms/step - accuracy: 1.0000 - loss: 1.7474e-04 - val_accuracy: 0.8990 - val_loss: 0.6553\n",
            "Epoch 96/100\n",
            "\u001b[1m120/120\u001b[0m \u001b[32m━━━━━━━━━━━━━━━━━━━━\u001b[0m\u001b[37m\u001b[0m \u001b[1m0s\u001b[0m 2ms/step - accuracy: 1.0000 - loss: 1.4866e-04 - val_accuracy: 0.9000 - val_loss: 0.6576\n",
            "Epoch 97/100\n",
            "\u001b[1m120/120\u001b[0m \u001b[32m━━━━━━━━━━━━━━━━━━━━\u001b[0m\u001b[37m\u001b[0m \u001b[1m0s\u001b[0m 2ms/step - accuracy: 1.0000 - loss: 1.3927e-04 - val_accuracy: 0.9021 - val_loss: 0.6637\n",
            "Epoch 98/100\n",
            "\u001b[1m120/120\u001b[0m \u001b[32m━━━━━━━━━━━━━━━━━━━━\u001b[0m\u001b[37m\u001b[0m \u001b[1m0s\u001b[0m 2ms/step - accuracy: 1.0000 - loss: 1.4603e-04 - val_accuracy: 0.9031 - val_loss: 0.6680\n",
            "Epoch 99/100\n",
            "\u001b[1m120/120\u001b[0m \u001b[32m━━━━━━━━━━━━━━━━━━━━\u001b[0m\u001b[37m\u001b[0m \u001b[1m0s\u001b[0m 3ms/step - accuracy: 1.0000 - loss: 1.3962e-04 - val_accuracy: 0.8969 - val_loss: 0.6782\n",
            "Epoch 100/100\n",
            "\u001b[1m120/120\u001b[0m \u001b[32m━━━━━━━━━━━━━━━━━━━━\u001b[0m\u001b[37m\u001b[0m \u001b[1m1s\u001b[0m 2ms/step - accuracy: 1.0000 - loss: 1.2798e-04 - val_accuracy: 0.8969 - val_loss: 0.6812\n"
          ]
        }
      ]
    },
    {
      "cell_type": "code",
      "source": [
        "import matplotlib.pyplot as plt\n",
        "def plot_learning_curve(hist):\n",
        "    plt.figure(figsize=(16,8))\n",
        "    plt.plot(hist.history['loss'],label='Training Loss')\n",
        "    plt.plot(hist.history['val_loss'],label='Validation Loss')\n",
        "    plt.xlabel('Epochs')\n",
        "    plt.ylabel('Categorical Crossentropy Loss')\n",
        "    plt.title('Learning Curve')\n",
        "    plt.legend()\n",
        "    plt.show()"
      ],
      "metadata": {
        "id": "vHKmPHIqqNTz"
      },
      "execution_count": null,
      "outputs": []
    },
    {
      "cell_type": "code",
      "source": [
        "plot_learning_curve(hist1)"
      ],
      "metadata": {
        "colab": {
          "base_uri": "https://localhost:8080/",
          "height": 361
        },
        "id": "sOXU3lcwqbCL",
        "outputId": "9959a020-7e3d-4cb9-dd2e-403b05606436"
      },
      "execution_count": null,
      "outputs": [
        {
          "output_type": "display_data",
          "data": {
            "text/plain": [
              "<Figure size 1600x800 with 1 Axes>"
            ],
            "image/png": "[encoded data removed]"
          },
          "metadata": {}
        }
      ]
    },
    {
      "cell_type": "code",
      "source": [
        "# Training Evaluate\n",
        "tr_err1, tr_acc1 = model1.evaluate(xtrain, ytrain_cat)"
      ],
      "metadata": {
        "colab": {
          "base_uri": "https://localhost:8080/"
        },
        "id": "qJdK4jGhqefh",
        "outputId": "9bee73ab-aa16-483a-d7a7-b78e9be94196"
      },
      "execution_count": null,
      "outputs": [
        {
          "output_type": "stream",
          "name": "stdout",
          "text": [
            "\u001b[1m150/150\u001b[0m \u001b[32m━━━━━━━━━━━━━━━━━━━━\u001b[0m\u001b[37m\u001b[0m \u001b[1m0s\u001b[0m 2ms/step - accuracy: 0.9975 - loss: 0.0169    \n"
          ]
        }
      ]
    },
    {
      "cell_type": "code",
      "source": [
        "# Testing evaluation\n",
        "ts_err1, ts_acc1 = model1.evaluate(xtest, ytest_cat)"
      ],
      "metadata": {
        "colab": {
          "base_uri": "https://localhost:8080/"
        },
        "id": "KaNuspieqjww",
        "outputId": "853c6ab4-e42f-408c-d630-5af19b371068"
      },
      "execution_count": null,
      "outputs": [
        {
          "output_type": "stream",
          "name": "stdout",
          "text": [
            "\u001b[1m38/38\u001b[0m \u001b[32m━━━━━━━━━━━━━━━━━━━━\u001b[0m\u001b[37m\u001b[0m \u001b[1m0s\u001b[0m 1ms/step - accuracy: 0.8914 - loss: 0.8803  \n"
          ]
        }
      ]
    },
    {
      "cell_type": "code",
      "source": [
        "# Model 2 Initialize\n",
        "model2 = Sequential()\n",
        "\n",
        "# Dense Layer 1\n",
        "model2.add(Dense(64, activation='relu', input_dim=xtrain.shape[1]))\n",
        "\n",
        "# Dropout Layer 1\n",
        "model2.add(Dropout(0.3))\n",
        "\n",
        "# Dense Layer 2\n",
        "model2.add(Dense(32, activation='relu'))\n",
        "\n",
        "# Dropout Layer 2\n",
        "model2.add(Dropout(0.3))\n",
        "\n",
        "# Output Layer\n",
        "model2.add(Dense(3, activation='softmax'))"
      ],
      "metadata": {
        "id": "ubFrdNtYqmcU"
      },
      "execution_count": null,
      "outputs": []
    },
    {
      "cell_type": "code",
      "source": [
        "model2.summary()"
      ],
      "metadata": {
        "colab": {
          "base_uri": "https://localhost:8080/",
          "height": 304
        },
        "id": "lJ_YxSGIqpn5",
        "outputId": "367a6763-6941-4344-b015-f31ab5665b0b"
      },
      "execution_count": null,
      "outputs": [
        {
          "output_type": "display_data",
          "data": {
            "text/plain": [
              "\u001b[1mModel: \"sequential_1\"\u001b[0m\n"
            ],
            "text/html": [
              "<pre style=\"white-space:pre;overflow-x:auto;line-height:normal;font-family:Menlo,'DejaVu Sans Mono',consolas,'Courier New',monospace\"><span style=\"font-weight: bold\">Model: \"sequential_1\"</span>\n",
              "</pre>\n"
            ]
          },
          "metadata": {}
        },
        {
          "output_type": "display_data",
          "data": {
            "text/plain": [
              "┏━━━━━━━━━━━━━━━━━━━━━━━━━━━━━━━━━━━━━━┳━━━━━━━━━━━━━━━━━━━━━━━━━━━━━┳━━━━━━━━━━━━━━━━━┓\n",
              "┃\u001b[1m \u001b[0m\u001b[1mLayer (type)                        \u001b[0m\u001b[1m \u001b[0m┃\u001b[1m \u001b[0m\u001b[1mOutput Shape               \u001b[0m\u001b[1m \u001b[0m┃\u001b[1m \u001b[0m\u001b[1m        Param #\u001b[0m\u001b[1m \u001b[0m┃\n",
              "┡━━━━━━━━━━━━━━━━━━━━━━━━━━━━━━━━━━━━━━╇━━━━━━━━━━━━━━━━━━━━━━━━━━━━━╇━━━━━━━━━━━━━━━━━┩\n",
              "│ dense_3 (\u001b[38;5;33mDense\u001b[0m)                      │ (\u001b[38;5;45mNone\u001b[0m, \u001b[38;5;34m64\u001b[0m)                  │           \u001b[38;5;34m1,984\u001b[0m │\n",
              "├──────────────────────────────────────┼─────────────────────────────┼─────────────────┤\n",
              "│ dropout (\u001b[38;5;33mDropout\u001b[0m)                    │ (\u001b[38;5;45mNone\u001b[0m, \u001b[38;5;34m64\u001b[0m)                  │               \u001b[38;5;34m0\u001b[0m │\n",
              "├──────────────────────────────────────┼─────────────────────────────┼─────────────────┤\n",
              "│ dense_4 (\u001b[38;5;33mDense\u001b[0m)                      │ (\u001b[38;5;45mNone\u001b[0m, \u001b[38;5;34m32\u001b[0m)                  │           \u001b[38;5;34m2,080\u001b[0m │\n",
              "├──────────────────────────────────────┼─────────────────────────────┼─────────────────┤\n",
              "│ dropout_1 (\u001b[38;5;33mDropout\u001b[0m)                  │ (\u001b[38;5;45mNone\u001b[0m, \u001b[38;5;34m32\u001b[0m)                  │               \u001b[38;5;34m0\u001b[0m │\n",
              "├──────────────────────────────────────┼─────────────────────────────┼─────────────────┤\n",
              "│ dense_5 (\u001b[38;5;33mDense\u001b[0m)                      │ (\u001b[38;5;45mNone\u001b[0m, \u001b[38;5;34m3\u001b[0m)                   │              \u001b[38;5;34m99\u001b[0m │\n",
              "└──────────────────────────────────────┴─────────────────────────────┴─────────────────┘\n"
            ],
            "text/html": [
              "<pre style=\"white-space:pre;overflow-x:auto;line-height:normal;font-family:Menlo,'DejaVu Sans Mono',consolas,'Courier New',monospace\">┏━━━━━━━━━━━━━━━━━━━━━━━━━━━━━━━━━━━━━━┳━━━━━━━━━━━━━━━━━━━━━━━━━━━━━┳━━━━━━━━━━━━━━━━━┓\n",
              "┃<span style=\"font-weight: bold\"> Layer (type)                         </span>┃<span style=\"font-weight: bold\"> Output Shape                </span>┃<span style=\"font-weight: bold\">         Param # </span>┃\n",
              "┡━━━━━━━━━━━━━━━━━━━━━━━━━━━━━━━━━━━━━━╇━━━━━━━━━━━━━━━━━━━━━━━━━━━━━╇━━━━━━━━━━━━━━━━━┩\n",
              "│ dense_3 (<span style=\"color: #0087ff; text-decoration-color: #0087ff\">Dense</span>)                      │ (<span style=\"color: #00d7ff; text-decoration-color: #00d7ff\">None</span>, <span style=\"color: #00af00; text-decoration-color: #00af00\">64</span>)                  │           <span style=\"color: #00af00; text-decoration-color: #00af00\">1,984</span> │\n",
              "├──────────────────────────────────────┼─────────────────────────────┼─────────────────┤\n",
              "│ dropout (<span style=\"color: #0087ff; text-decoration-color: #0087ff\">Dropout</span>)                    │ (<span style=\"color: #00d7ff; text-decoration-color: #00d7ff\">None</span>, <span style=\"color: #00af00; text-decoration-color: #00af00\">64</span>)                  │               <span style=\"color: #00af00; text-decoration-color: #00af00\">0</span> │\n",
              "├──────────────────────────────────────┼─────────────────────────────┼─────────────────┤\n",
              "│ dense_4 (<span style=\"color: #0087ff; text-decoration-color: #0087ff\">Dense</span>)                      │ (<span style=\"color: #00d7ff; text-decoration-color: #00d7ff\">None</span>, <span style=\"color: #00af00; text-decoration-color: #00af00\">32</span>)                  │           <span style=\"color: #00af00; text-decoration-color: #00af00\">2,080</span> │\n",
              "├──────────────────────────────────────┼─────────────────────────────┼─────────────────┤\n",
              "│ dropout_1 (<span style=\"color: #0087ff; text-decoration-color: #0087ff\">Dropout</span>)                  │ (<span style=\"color: #00d7ff; text-decoration-color: #00d7ff\">None</span>, <span style=\"color: #00af00; text-decoration-color: #00af00\">32</span>)                  │               <span style=\"color: #00af00; text-decoration-color: #00af00\">0</span> │\n",
              "├──────────────────────────────────────┼─────────────────────────────┼─────────────────┤\n",
              "│ dense_5 (<span style=\"color: #0087ff; text-decoration-color: #0087ff\">Dense</span>)                      │ (<span style=\"color: #00d7ff; text-decoration-color: #00d7ff\">None</span>, <span style=\"color: #00af00; text-decoration-color: #00af00\">3</span>)                   │              <span style=\"color: #00af00; text-decoration-color: #00af00\">99</span> │\n",
              "└──────────────────────────────────────┴─────────────────────────────┴─────────────────┘\n",
              "</pre>\n"
            ]
          },
          "metadata": {}
        },
        {
          "output_type": "display_data",
          "data": {
            "text/plain": [
              "\u001b[1m Total params: \u001b[0m\u001b[38;5;34m4,163\u001b[0m (16.26 KB)\n"
            ],
            "text/html": [
              "<pre style=\"white-space:pre;overflow-x:auto;line-height:normal;font-family:Menlo,'DejaVu Sans Mono',consolas,'Courier New',monospace\"><span style=\"font-weight: bold\"> Total params: </span><span style=\"color: #00af00; text-decoration-color: #00af00\">4,163</span> (16.26 KB)\n",
              "</pre>\n"
            ]
          },
          "metadata": {}
        },
        {
          "output_type": "display_data",
          "data": {
            "text/plain": [
              "\u001b[1m Trainable params: \u001b[0m\u001b[38;5;34m4,163\u001b[0m (16.26 KB)\n"
            ],
            "text/html": [
              "<pre style=\"white-space:pre;overflow-x:auto;line-height:normal;font-family:Menlo,'DejaVu Sans Mono',consolas,'Courier New',monospace\"><span style=\"font-weight: bold\"> Trainable params: </span><span style=\"color: #00af00; text-decoration-color: #00af00\">4,163</span> (16.26 KB)\n",
              "</pre>\n"
            ]
          },
          "metadata": {}
        },
        {
          "output_type": "display_data",
          "data": {
            "text/plain": [
              "\u001b[1m Non-trainable params: \u001b[0m\u001b[38;5;34m0\u001b[0m (0.00 B)\n"
            ],
            "text/html": [
              "<pre style=\"white-space:pre;overflow-x:auto;line-height:normal;font-family:Menlo,'DejaVu Sans Mono',consolas,'Courier New',monospace\"><span style=\"font-weight: bold\"> Non-trainable params: </span><span style=\"color: #00af00; text-decoration-color: #00af00\">0</span> (0.00 B)\n",
              "</pre>\n"
            ]
          },
          "metadata": {}
        }
      ]
    },
    {
      "cell_type": "code",
      "source": [
        "model2.compile(optimizer='adam', loss='binary_crossentropy', metrics=['accuracy'])"
      ],
      "metadata": {
        "id": "Xj7eFCKFqseJ"
      },
      "execution_count": null,
      "outputs": []
    },
    {
      "cell_type": "code",
      "source": [
        "hist2 = model2.fit(xtrain, ytrain_cat, validation_split=0.2, epochs=100)"
      ],
      "metadata": {
        "colab": {
          "base_uri": "https://localhost:8080/"
        },
        "id": "d194eO08q6Eq",
        "outputId": "10deb6f2-93b5-4aef-d536-297c6bd03204"
      },
      "execution_count": null,
      "outputs": [
        {
          "output_type": "stream",
          "name": "stdout",
          "text": [
            "Epoch 1/100\n",
            "\u001b[1m120/120\u001b[0m \u001b[32m━━━━━━━━━━━━━━━━━━━━\u001b[0m\u001b[37m\u001b[0m \u001b[1m2s\u001b[0m 4ms/step - accuracy: 0.4016 - loss: 0.6865 - val_accuracy: 0.6479 - val_loss: 0.5291\n",
            "Epoch 2/100\n",
            "\u001b[1m120/120\u001b[0m \u001b[32m━━━━━━━━━━━━━━━━━━━━\u001b[0m\u001b[37m\u001b[0m \u001b[1m0s\u001b[0m 2ms/step - accuracy: 0.5915 - loss: 0.5459 - val_accuracy: 0.7167 - val_loss: 0.4348\n",
            "Epoch 3/100\n",
            "\u001b[1m120/120\u001b[0m \u001b[32m━━━━━━━━━━━━━━━━━━━━\u001b[0m\u001b[37m\u001b[0m \u001b[1m1s\u001b[0m 2ms/step - accuracy: 0.6633 - loss: 0.4790 - val_accuracy: 0.7604 - val_loss: 0.3799\n",
            "Epoch 4/100\n",
            "\u001b[1m120/120\u001b[0m \u001b[32m━━━━━━━━━━━━━━━━━━━━\u001b[0m\u001b[37m\u001b[0m \u001b[1m0s\u001b[0m 2ms/step - accuracy: 0.7116 - loss: 0.4303 - val_accuracy: 0.7781 - val_loss: 0.3470\n",
            "Epoch 5/100\n",
            "\u001b[1m120/120\u001b[0m \u001b[32m━━━━━━━━━━━━━━━━━━━━\u001b[0m\u001b[37m\u001b[0m \u001b[1m0s\u001b[0m 2ms/step - accuracy: 0.7365 - loss: 0.3988 - val_accuracy: 0.7958 - val_loss: 0.3216\n",
            "Epoch 6/100\n",
            "\u001b[1m120/120\u001b[0m \u001b[32m━━━━━━━━━━━━━━━━━━━━\u001b[0m\u001b[37m\u001b[0m \u001b[1m1s\u001b[0m 2ms/step - accuracy: 0.7575 - loss: 0.3725 - val_accuracy: 0.8198 - val_loss: 0.2958\n",
            "Epoch 7/100\n",
            "\u001b[1m120/120\u001b[0m \u001b[32m━━━━━━━━━━━━━━━━━━━━\u001b[0m\u001b[37m\u001b[0m \u001b[1m0s\u001b[0m 4ms/step - accuracy: 0.7726 - loss: 0.3458 - val_accuracy: 0.8313 - val_loss: 0.2756\n",
            "Epoch 8/100\n",
            "\u001b[1m120/120\u001b[0m \u001b[32m━━━━━━━━━━━━━━━━━━━━\u001b[0m\u001b[37m\u001b[0m \u001b[1m1s\u001b[0m 3ms/step - accuracy: 0.7811 - loss: 0.3318 - val_accuracy: 0.8417 - val_loss: 0.2585\n",
            "Epoch 9/100\n",
            "\u001b[1m120/120\u001b[0m \u001b[32m━━━━━━━━━━━━━━━━━━━━\u001b[0m\u001b[37m\u001b[0m \u001b[1m1s\u001b[0m 4ms/step - accuracy: 0.7896 - loss: 0.3198 - val_accuracy: 0.8500 - val_loss: 0.2434\n",
            "Epoch 10/100\n",
            "\u001b[1m120/120\u001b[0m \u001b[32m━━━━━━━━━━━━━━━━━━━━\u001b[0m\u001b[37m\u001b[0m \u001b[1m1s\u001b[0m 4ms/step - accuracy: 0.8184 - loss: 0.2932 - val_accuracy: 0.8625 - val_loss: 0.2290\n",
            "Epoch 11/100\n",
            "\u001b[1m120/120\u001b[0m \u001b[32m━━━━━━━━━━━━━━━━━━━━\u001b[0m\u001b[37m\u001b[0m \u001b[1m1s\u001b[0m 4ms/step - accuracy: 0.8290 - loss: 0.2789 - val_accuracy: 0.8719 - val_loss: 0.2155\n",
            "Epoch 12/100\n",
            "\u001b[1m120/120\u001b[0m \u001b[32m━━━━━━━━━━━━━━━━━━━━\u001b[0m\u001b[37m\u001b[0m \u001b[1m0s\u001b[0m 2ms/step - accuracy: 0.8311 - loss: 0.2720 - val_accuracy: 0.8813 - val_loss: 0.2030\n",
            "Epoch 13/100\n",
            "\u001b[1m120/120\u001b[0m \u001b[32m━━━━━━━━━━━━━━━━━━━━\u001b[0m\u001b[37m\u001b[0m \u001b[1m1s\u001b[0m 2ms/step - accuracy: 0.8415 - loss: 0.2576 - val_accuracy: 0.8844 - val_loss: 0.1975\n",
            "Epoch 14/100\n",
            "\u001b[1m120/120\u001b[0m \u001b[32m━━━━━━━━━━━━━━━━━━━━\u001b[0m\u001b[37m\u001b[0m \u001b[1m0s\u001b[0m 2ms/step - accuracy: 0.8531 - loss: 0.2608 - val_accuracy: 0.8906 - val_loss: 0.1929\n",
            "Epoch 15/100\n",
            "\u001b[1m120/120\u001b[0m \u001b[32m━━━━━━━━━━━━━━━━━━━━\u001b[0m\u001b[37m\u001b[0m \u001b[1m1s\u001b[0m 2ms/step - accuracy: 0.8668 - loss: 0.2290 - val_accuracy: 0.8885 - val_loss: 0.1816\n",
            "Epoch 16/100\n",
            "\u001b[1m120/120\u001b[0m \u001b[32m━━━━━━━━━━━━━━━━━━━━\u001b[0m\u001b[37m\u001b[0m \u001b[1m1s\u001b[0m 2ms/step - accuracy: 0.8631 - loss: 0.2182 - val_accuracy: 0.8979 - val_loss: 0.1756\n",
            "Epoch 17/100\n",
            "\u001b[1m120/120\u001b[0m \u001b[32m━━━━━━━━━━━━━━━━━━━━\u001b[0m\u001b[37m\u001b[0m \u001b[1m0s\u001b[0m 2ms/step - accuracy: 0.8591 - loss: 0.2299 - val_accuracy: 0.9000 - val_loss: 0.1743\n",
            "Epoch 18/100\n",
            "\u001b[1m120/120\u001b[0m \u001b[32m━━━━━━━━━━━━━━━━━━━━\u001b[0m\u001b[37m\u001b[0m \u001b[1m0s\u001b[0m 2ms/step - accuracy: 0.8657 - loss: 0.2198 - val_accuracy: 0.9010 - val_loss: 0.1688\n",
            "Epoch 19/100\n",
            "\u001b[1m120/120\u001b[0m \u001b[32m━━━━━━━━━━━━━━━━━━━━\u001b[0m\u001b[37m\u001b[0m \u001b[1m0s\u001b[0m 2ms/step - accuracy: 0.8853 - loss: 0.1992 - val_accuracy: 0.9000 - val_loss: 0.1631\n",
            "Epoch 20/100\n",
            "\u001b[1m120/120\u001b[0m \u001b[32m━━━━━━━━━━━━━━━━━━━━\u001b[0m\u001b[37m\u001b[0m \u001b[1m0s\u001b[0m 2ms/step - accuracy: 0.8829 - loss: 0.2037 - val_accuracy: 0.9021 - val_loss: 0.1599\n",
            "Epoch 21/100\n",
            "\u001b[1m120/120\u001b[0m \u001b[32m━━━━━━━━━━━━━━━━━━━━\u001b[0m\u001b[37m\u001b[0m \u001b[1m0s\u001b[0m 2ms/step - accuracy: 0.8985 - loss: 0.1877 - val_accuracy: 0.9062 - val_loss: 0.1553\n",
            "Epoch 22/100\n",
            "\u001b[1m120/120\u001b[0m \u001b[32m━━━━━━━━━━━━━━━━━━━━\u001b[0m\u001b[37m\u001b[0m \u001b[1m0s\u001b[0m 2ms/step - accuracy: 0.8904 - loss: 0.1956 - val_accuracy: 0.9094 - val_loss: 0.1546\n",
            "Epoch 23/100\n",
            "\u001b[1m120/120\u001b[0m \u001b[32m━━━━━━━━━━━━━━━━━━━━\u001b[0m\u001b[37m\u001b[0m \u001b[1m0s\u001b[0m 3ms/step - accuracy: 0.8878 - loss: 0.1955 - val_accuracy: 0.9021 - val_loss: 0.1524\n",
            "Epoch 24/100\n",
            "\u001b[1m120/120\u001b[0m \u001b[32m━━━━━━━━━━━━━━━━━━━━\u001b[0m\u001b[37m\u001b[0m \u001b[1m0s\u001b[0m 2ms/step - accuracy: 0.8891 - loss: 0.1890 - val_accuracy: 0.9073 - val_loss: 0.1487\n",
            "Epoch 25/100\n",
            "\u001b[1m120/120\u001b[0m \u001b[32m━━━━━━━━━━━━━━━━━━━━\u001b[0m\u001b[37m\u001b[0m \u001b[1m0s\u001b[0m 2ms/step - accuracy: 0.8854 - loss: 0.1813 - val_accuracy: 0.9083 - val_loss: 0.1482\n",
            "Epoch 26/100\n",
            "\u001b[1m120/120\u001b[0m \u001b[32m━━━━━━━━━━━━━━━━━━━━\u001b[0m\u001b[37m\u001b[0m \u001b[1m0s\u001b[0m 2ms/step - accuracy: 0.8970 - loss: 0.1834 - val_accuracy: 0.9146 - val_loss: 0.1477\n",
            "Epoch 27/100\n",
            "\u001b[1m120/120\u001b[0m \u001b[32m━━━━━━━━━━━━━━━━━━━━\u001b[0m\u001b[37m\u001b[0m \u001b[1m0s\u001b[0m 2ms/step - accuracy: 0.9004 - loss: 0.1768 - val_accuracy: 0.9104 - val_loss: 0.1473\n",
            "Epoch 28/100\n",
            "\u001b[1m120/120\u001b[0m \u001b[32m━━━━━━━━━━━━━━━━━━━━\u001b[0m\u001b[37m\u001b[0m \u001b[1m0s\u001b[0m 3ms/step - accuracy: 0.9135 - loss: 0.1673 - val_accuracy: 0.9115 - val_loss: 0.1452\n",
            "Epoch 29/100\n",
            "\u001b[1m120/120\u001b[0m \u001b[32m━━━━━━━━━━━━━━━━━━━━\u001b[0m\u001b[37m\u001b[0m \u001b[1m1s\u001b[0m 2ms/step - accuracy: 0.9079 - loss: 0.1584 - val_accuracy: 0.9177 - val_loss: 0.1423\n",
            "Epoch 30/100\n",
            "\u001b[1m120/120\u001b[0m \u001b[32m━━━━━━━━━━━━━━━━━━━━\u001b[0m\u001b[37m\u001b[0m \u001b[1m0s\u001b[0m 2ms/step - accuracy: 0.9116 - loss: 0.1642 - val_accuracy: 0.9146 - val_loss: 0.1470\n",
            "Epoch 31/100\n",
            "\u001b[1m120/120\u001b[0m \u001b[32m━━━━━━━━━━━━━━━━━━━━\u001b[0m\u001b[37m\u001b[0m \u001b[1m0s\u001b[0m 2ms/step - accuracy: 0.9104 - loss: 0.1662 - val_accuracy: 0.9146 - val_loss: 0.1455\n",
            "Epoch 32/100\n",
            "\u001b[1m120/120\u001b[0m \u001b[32m━━━━━━━━━━━━━━━━━━━━\u001b[0m\u001b[37m\u001b[0m \u001b[1m0s\u001b[0m 2ms/step - accuracy: 0.8999 - loss: 0.1693 - val_accuracy: 0.9167 - val_loss: 0.1445\n",
            "Epoch 33/100\n",
            "\u001b[1m120/120\u001b[0m \u001b[32m━━━━━━━━━━━━━━━━━━━━\u001b[0m\u001b[37m\u001b[0m \u001b[1m0s\u001b[0m 2ms/step - accuracy: 0.9200 - loss: 0.1500 - val_accuracy: 0.9177 - val_loss: 0.1446\n",
            "Epoch 34/100\n",
            "\u001b[1m120/120\u001b[0m \u001b[32m━━━━━━━━━━━━━━━━━━━━\u001b[0m\u001b[37m\u001b[0m \u001b[1m0s\u001b[0m 2ms/step - accuracy: 0.9202 - loss: 0.1489 - val_accuracy: 0.9260 - val_loss: 0.1424\n",
            "Epoch 35/100\n",
            "\u001b[1m120/120\u001b[0m \u001b[32m━━━━━━━━━━━━━━━━━━━━\u001b[0m\u001b[37m\u001b[0m \u001b[1m0s\u001b[0m 2ms/step - accuracy: 0.9090 - loss: 0.1515 - val_accuracy: 0.9187 - val_loss: 0.1434\n",
            "Epoch 36/100\n",
            "\u001b[1m120/120\u001b[0m \u001b[32m━━━━━━━━━━━━━━━━━━━━\u001b[0m\u001b[37m\u001b[0m \u001b[1m0s\u001b[0m 2ms/step - accuracy: 0.9187 - loss: 0.1571 - val_accuracy: 0.9229 - val_loss: 0.1402\n",
            "Epoch 37/100\n",
            "\u001b[1m120/120\u001b[0m \u001b[32m━━━━━━━━━━━━━━━━━━━━\u001b[0m\u001b[37m\u001b[0m \u001b[1m0s\u001b[0m 2ms/step - accuracy: 0.9157 - loss: 0.1565 - val_accuracy: 0.9271 - val_loss: 0.1384\n",
            "Epoch 38/100\n",
            "\u001b[1m120/120\u001b[0m \u001b[32m━━━━━━━━━━━━━━━━━━━━\u001b[0m\u001b[37m\u001b[0m \u001b[1m0s\u001b[0m 2ms/step - accuracy: 0.9187 - loss: 0.1616 - val_accuracy: 0.9240 - val_loss: 0.1412\n",
            "Epoch 39/100\n",
            "\u001b[1m120/120\u001b[0m \u001b[32m━━━━━━━━━━━━━━━━━━━━\u001b[0m\u001b[37m\u001b[0m \u001b[1m0s\u001b[0m 3ms/step - accuracy: 0.9177 - loss: 0.1520 - val_accuracy: 0.9177 - val_loss: 0.1409\n",
            "Epoch 40/100\n",
            "\u001b[1m120/120\u001b[0m \u001b[32m━━━━━━━━━━━━━━━━━━━━\u001b[0m\u001b[37m\u001b[0m \u001b[1m0s\u001b[0m 3ms/step - accuracy: 0.9212 - loss: 0.1499 - val_accuracy: 0.9187 - val_loss: 0.1396\n",
            "Epoch 41/100\n",
            "\u001b[1m120/120\u001b[0m \u001b[32m━━━━━━━━━━━━━━━━━━━━\u001b[0m\u001b[37m\u001b[0m \u001b[1m0s\u001b[0m 4ms/step - accuracy: 0.9280 - loss: 0.1426 - val_accuracy: 0.9292 - val_loss: 0.1414\n",
            "Epoch 42/100\n",
            "\u001b[1m120/120\u001b[0m \u001b[32m━━━━━━━━━━━━━━━━━━━━\u001b[0m\u001b[37m\u001b[0m \u001b[1m1s\u001b[0m 4ms/step - accuracy: 0.9303 - loss: 0.1330 - val_accuracy: 0.9219 - val_loss: 0.1360\n",
            "Epoch 43/100\n",
            "\u001b[1m120/120\u001b[0m \u001b[32m━━━━━━━━━━━━━━━━━━━━\u001b[0m\u001b[37m\u001b[0m \u001b[1m1s\u001b[0m 4ms/step - accuracy: 0.9230 - loss: 0.1493 - val_accuracy: 0.9187 - val_loss: 0.1385\n",
            "Epoch 44/100\n",
            "\u001b[1m120/120\u001b[0m \u001b[32m━━━━━━━━━━━━━━━━━━━━\u001b[0m\u001b[37m\u001b[0m \u001b[1m1s\u001b[0m 4ms/step - accuracy: 0.9323 - loss: 0.1306 - val_accuracy: 0.9292 - val_loss: 0.1324\n",
            "Epoch 45/100\n",
            "\u001b[1m120/120\u001b[0m \u001b[32m━━━━━━━━━━━━━━━━━━━━\u001b[0m\u001b[37m\u001b[0m \u001b[1m0s\u001b[0m 2ms/step - accuracy: 0.9197 - loss: 0.1499 - val_accuracy: 0.9271 - val_loss: 0.1326\n",
            "Epoch 46/100\n",
            "\u001b[1m120/120\u001b[0m \u001b[32m━━━━━━━━━━━━━━━━━━━━\u001b[0m\u001b[37m\u001b[0m \u001b[1m0s\u001b[0m 2ms/step - accuracy: 0.9324 - loss: 0.1265 - val_accuracy: 0.9250 - val_loss: 0.1338\n",
            "Epoch 47/100\n",
            "\u001b[1m120/120\u001b[0m \u001b[32m━━━━━━━━━━━━━━━━━━━━\u001b[0m\u001b[37m\u001b[0m \u001b[1m1s\u001b[0m 2ms/step - accuracy: 0.9249 - loss: 0.1405 - val_accuracy: 0.9281 - val_loss: 0.1363\n",
            "Epoch 48/100\n",
            "\u001b[1m120/120\u001b[0m \u001b[32m━━━━━━━━━━━━━━━━━━━━\u001b[0m\u001b[37m\u001b[0m \u001b[1m0s\u001b[0m 2ms/step - accuracy: 0.9264 - loss: 0.1271 - val_accuracy: 0.9219 - val_loss: 0.1421\n",
            "Epoch 49/100\n",
            "\u001b[1m120/120\u001b[0m \u001b[32m━━━━━━━━━━━━━━━━━━━━\u001b[0m\u001b[37m\u001b[0m \u001b[1m0s\u001b[0m 2ms/step - accuracy: 0.9149 - loss: 0.1516 - val_accuracy: 0.9260 - val_loss: 0.1332\n",
            "Epoch 50/100\n",
            "\u001b[1m120/120\u001b[0m \u001b[32m━━━━━━━━━━━━━━━━━━━━\u001b[0m\u001b[37m\u001b[0m \u001b[1m0s\u001b[0m 2ms/step - accuracy: 0.9259 - loss: 0.1300 - val_accuracy: 0.9302 - val_loss: 0.1338\n",
            "Epoch 51/100\n",
            "\u001b[1m120/120\u001b[0m \u001b[32m━━━━━━━━━━━━━━━━━━━━\u001b[0m\u001b[37m\u001b[0m \u001b[1m0s\u001b[0m 2ms/step - accuracy: 0.9284 - loss: 0.1289 - val_accuracy: 0.9292 - val_loss: 0.1339\n",
            "Epoch 52/100\n",
            "\u001b[1m120/120\u001b[0m \u001b[32m━━━━━━━━━━━━━━━━━━━━\u001b[0m\u001b[37m\u001b[0m \u001b[1m0s\u001b[0m 2ms/step - accuracy: 0.9283 - loss: 0.1345 - val_accuracy: 0.9229 - val_loss: 0.1384\n",
            "Epoch 53/100\n",
            "\u001b[1m120/120\u001b[0m \u001b[32m━━━━━━━━━━━━━━━━━━━━\u001b[0m\u001b[37m\u001b[0m \u001b[1m0s\u001b[0m 3ms/step - accuracy: 0.9286 - loss: 0.1320 - val_accuracy: 0.9292 - val_loss: 0.1407\n",
            "Epoch 54/100\n",
            "\u001b[1m120/120\u001b[0m \u001b[32m━━━━━━━━━━━━━━━━━━━━\u001b[0m\u001b[37m\u001b[0m \u001b[1m1s\u001b[0m 2ms/step - accuracy: 0.9262 - loss: 0.1367 - val_accuracy: 0.9292 - val_loss: 0.1399\n",
            "Epoch 55/100\n",
            "\u001b[1m120/120\u001b[0m \u001b[32m━━━━━━━━━━━━━━━━━━━━\u001b[0m\u001b[37m\u001b[0m \u001b[1m1s\u001b[0m 2ms/step - accuracy: 0.9359 - loss: 0.1202 - val_accuracy: 0.9271 - val_loss: 0.1382\n",
            "Epoch 56/100\n",
            "\u001b[1m120/120\u001b[0m \u001b[32m━━━━━━━━━━━━━━━━━━━━\u001b[0m\u001b[37m\u001b[0m \u001b[1m0s\u001b[0m 2ms/step - accuracy: 0.9461 - loss: 0.1148 - val_accuracy: 0.9250 - val_loss: 0.1392\n",
            "Epoch 57/100\n",
            "\u001b[1m120/120\u001b[0m \u001b[32m━━━━━━━━━━━━━━━━━━━━\u001b[0m\u001b[37m\u001b[0m \u001b[1m0s\u001b[0m 2ms/step - accuracy: 0.9353 - loss: 0.1309 - val_accuracy: 0.9302 - val_loss: 0.1426\n",
            "Epoch 58/100\n",
            "\u001b[1m120/120\u001b[0m \u001b[32m━━━━━━━━━━━━━━━━━━━━\u001b[0m\u001b[37m\u001b[0m \u001b[1m1s\u001b[0m 2ms/step - accuracy: 0.9256 - loss: 0.1296 - val_accuracy: 0.9302 - val_loss: 0.1450\n",
            "Epoch 59/100\n",
            "\u001b[1m120/120\u001b[0m \u001b[32m━━━━━━━━━━━━━━━━━━━━\u001b[0m\u001b[37m\u001b[0m \u001b[1m0s\u001b[0m 2ms/step - accuracy: 0.9432 - loss: 0.1124 - val_accuracy: 0.9271 - val_loss: 0.1447\n",
            "Epoch 60/100\n",
            "\u001b[1m120/120\u001b[0m \u001b[32m━━━━━━━━━━━━━━━━━━━━\u001b[0m\u001b[37m\u001b[0m \u001b[1m0s\u001b[0m 2ms/step - accuracy: 0.9440 - loss: 0.1158 - val_accuracy: 0.9323 - val_loss: 0.1381\n",
            "Epoch 61/100\n",
            "\u001b[1m120/120\u001b[0m \u001b[32m━━━━━━━━━━━━━━━━━━━━\u001b[0m\u001b[37m\u001b[0m \u001b[1m0s\u001b[0m 2ms/step - accuracy: 0.9363 - loss: 0.1234 - val_accuracy: 0.9333 - val_loss: 0.1410\n",
            "Epoch 62/100\n",
            "\u001b[1m120/120\u001b[0m \u001b[32m━━━━━━━━━━━━━━━━━━━━\u001b[0m\u001b[37m\u001b[0m \u001b[1m0s\u001b[0m 2ms/step - accuracy: 0.9414 - loss: 0.1174 - val_accuracy: 0.9292 - val_loss: 0.1432\n",
            "Epoch 63/100\n",
            "\u001b[1m120/120\u001b[0m \u001b[32m━━━━━━━━━━━━━━━━━━━━\u001b[0m\u001b[37m\u001b[0m \u001b[1m0s\u001b[0m 3ms/step - accuracy: 0.9358 - loss: 0.1203 - val_accuracy: 0.9281 - val_loss: 0.1413\n",
            "Epoch 64/100\n",
            "\u001b[1m120/120\u001b[0m \u001b[32m━━━━━━━━━━━━━━━━━━━━\u001b[0m\u001b[37m\u001b[0m \u001b[1m0s\u001b[0m 2ms/step - accuracy: 0.9381 - loss: 0.1205 - val_accuracy: 0.9354 - val_loss: 0.1357\n",
            "Epoch 65/100\n",
            "\u001b[1m120/120\u001b[0m \u001b[32m━━━━━━━━━━━━━━━━━━━━\u001b[0m\u001b[37m\u001b[0m \u001b[1m0s\u001b[0m 2ms/step - accuracy: 0.9459 - loss: 0.1053 - val_accuracy: 0.9312 - val_loss: 0.1398\n",
            "Epoch 66/100\n",
            "\u001b[1m120/120\u001b[0m \u001b[32m━━━━━━━━━━━━━━━━━━━━\u001b[0m\u001b[37m\u001b[0m \u001b[1m0s\u001b[0m 2ms/step - accuracy: 0.9409 - loss: 0.1232 - val_accuracy: 0.9312 - val_loss: 0.1403\n",
            "Epoch 67/100\n",
            "\u001b[1m120/120\u001b[0m \u001b[32m━━━━━━━━━━━━━━━━━━━━\u001b[0m\u001b[37m\u001b[0m \u001b[1m0s\u001b[0m 2ms/step - accuracy: 0.9380 - loss: 0.1215 - val_accuracy: 0.9281 - val_loss: 0.1434\n",
            "Epoch 68/100\n",
            "\u001b[1m120/120\u001b[0m \u001b[32m━━━━━━━━━━━━━━━━━━━━\u001b[0m\u001b[37m\u001b[0m \u001b[1m0s\u001b[0m 2ms/step - accuracy: 0.9388 - loss: 0.1189 - val_accuracy: 0.9323 - val_loss: 0.1397\n",
            "Epoch 69/100\n",
            "\u001b[1m120/120\u001b[0m \u001b[32m━━━━━━━━━━━━━━━━━━━━\u001b[0m\u001b[37m\u001b[0m \u001b[1m0s\u001b[0m 2ms/step - accuracy: 0.9329 - loss: 0.1178 - val_accuracy: 0.9323 - val_loss: 0.1361\n",
            "Epoch 70/100\n",
            "\u001b[1m120/120\u001b[0m \u001b[32m━━━━━━━━━━━━━━━━━━━━\u001b[0m\u001b[37m\u001b[0m \u001b[1m0s\u001b[0m 3ms/step - accuracy: 0.9431 - loss: 0.1110 - val_accuracy: 0.9260 - val_loss: 0.1416\n",
            "Epoch 71/100\n",
            "\u001b[1m120/120\u001b[0m \u001b[32m━━━━━━━━━━━━━━━━━━━━\u001b[0m\u001b[37m\u001b[0m \u001b[1m1s\u001b[0m 2ms/step - accuracy: 0.9309 - loss: 0.1247 - val_accuracy: 0.9333 - val_loss: 0.1399\n",
            "Epoch 72/100\n",
            "\u001b[1m120/120\u001b[0m \u001b[32m━━━━━━━━━━━━━━━━━━━━\u001b[0m\u001b[37m\u001b[0m \u001b[1m0s\u001b[0m 4ms/step - accuracy: 0.9415 - loss: 0.1182 - val_accuracy: 0.9354 - val_loss: 0.1440\n",
            "Epoch 73/100\n",
            "\u001b[1m120/120\u001b[0m \u001b[32m━━━━━━━━━━━━━━━━━━━━\u001b[0m\u001b[37m\u001b[0m \u001b[1m0s\u001b[0m 3ms/step - accuracy: 0.9456 - loss: 0.1105 - val_accuracy: 0.9344 - val_loss: 0.1407\n",
            "Epoch 74/100\n",
            "\u001b[1m120/120\u001b[0m \u001b[32m━━━━━━━━━━━━━━━━━━━━\u001b[0m\u001b[37m\u001b[0m \u001b[1m1s\u001b[0m 4ms/step - accuracy: 0.9404 - loss: 0.1197 - val_accuracy: 0.9333 - val_loss: 0.1419\n",
            "Epoch 75/100\n",
            "\u001b[1m120/120\u001b[0m \u001b[32m━━━━━━━━━━━━━━━━━━━━\u001b[0m\u001b[37m\u001b[0m \u001b[1m1s\u001b[0m 4ms/step - accuracy: 0.9414 - loss: 0.1107 - val_accuracy: 0.9365 - val_loss: 0.1432\n",
            "Epoch 76/100\n",
            "\u001b[1m120/120\u001b[0m \u001b[32m━━━━━━━━━━━━━━━━━━━━\u001b[0m\u001b[37m\u001b[0m \u001b[1m1s\u001b[0m 4ms/step - accuracy: 0.9431 - loss: 0.1080 - val_accuracy: 0.9302 - val_loss: 0.1375\n",
            "Epoch 77/100\n",
            "\u001b[1m120/120\u001b[0m \u001b[32m━━━━━━━━━━━━━━━━━━━━\u001b[0m\u001b[37m\u001b[0m \u001b[1m1s\u001b[0m 3ms/step - accuracy: 0.9458 - loss: 0.1086 - val_accuracy: 0.9333 - val_loss: 0.1411\n",
            "Epoch 78/100\n",
            "\u001b[1m120/120\u001b[0m \u001b[32m━━━━━━━━━━━━━━━━━━━━\u001b[0m\u001b[37m\u001b[0m \u001b[1m1s\u001b[0m 2ms/step - accuracy: 0.9351 - loss: 0.1118 - val_accuracy: 0.9344 - val_loss: 0.1357\n",
            "Epoch 79/100\n",
            "\u001b[1m120/120\u001b[0m \u001b[32m━━━━━━━━━━━━━━━━━━━━\u001b[0m\u001b[37m\u001b[0m \u001b[1m1s\u001b[0m 2ms/step - accuracy: 0.9439 - loss: 0.1069 - val_accuracy: 0.9260 - val_loss: 0.1407\n",
            "Epoch 80/100\n",
            "\u001b[1m120/120\u001b[0m \u001b[32m━━━━━━━━━━━━━━━━━━━━\u001b[0m\u001b[37m\u001b[0m \u001b[1m1s\u001b[0m 2ms/step - accuracy: 0.9352 - loss: 0.1191 - val_accuracy: 0.9312 - val_loss: 0.1423\n",
            "Epoch 81/100\n",
            "\u001b[1m120/120\u001b[0m \u001b[32m━━━━━━━━━━━━━━━━━━━━\u001b[0m\u001b[37m\u001b[0m \u001b[1m0s\u001b[0m 3ms/step - accuracy: 0.9404 - loss: 0.1140 - val_accuracy: 0.9333 - val_loss: 0.1441\n",
            "Epoch 82/100\n",
            "\u001b[1m120/120\u001b[0m \u001b[32m━━━━━━━━━━━━━━━━━━━━\u001b[0m\u001b[37m\u001b[0m \u001b[1m0s\u001b[0m 2ms/step - accuracy: 0.9392 - loss: 0.1056 - val_accuracy: 0.9312 - val_loss: 0.1459\n",
            "Epoch 83/100\n",
            "\u001b[1m120/120\u001b[0m \u001b[32m━━━━━━━━━━━━━━━━━━━━\u001b[0m\u001b[37m\u001b[0m \u001b[1m0s\u001b[0m 2ms/step - accuracy: 0.9510 - loss: 0.1063 - val_accuracy: 0.9302 - val_loss: 0.1494\n",
            "Epoch 84/100\n",
            "\u001b[1m120/120\u001b[0m \u001b[32m━━━━━━━━━━━━━━━━━━━━\u001b[0m\u001b[37m\u001b[0m \u001b[1m0s\u001b[0m 3ms/step - accuracy: 0.9483 - loss: 0.1004 - val_accuracy: 0.9323 - val_loss: 0.1431\n",
            "Epoch 85/100\n",
            "\u001b[1m120/120\u001b[0m \u001b[32m━━━━━━━━━━━━━━━━━━━━\u001b[0m\u001b[37m\u001b[0m \u001b[1m0s\u001b[0m 2ms/step - accuracy: 0.9489 - loss: 0.1080 - val_accuracy: 0.9302 - val_loss: 0.1450\n",
            "Epoch 86/100\n",
            "\u001b[1m120/120\u001b[0m \u001b[32m━━━━━━━━━━━━━━━━━━━━\u001b[0m\u001b[37m\u001b[0m \u001b[1m0s\u001b[0m 2ms/step - accuracy: 0.9446 - loss: 0.1041 - val_accuracy: 0.9281 - val_loss: 0.1440\n",
            "Epoch 87/100\n",
            "\u001b[1m120/120\u001b[0m \u001b[32m━━━━━━━━━━━━━━━━━━━━\u001b[0m\u001b[37m\u001b[0m \u001b[1m0s\u001b[0m 3ms/step - accuracy: 0.9513 - loss: 0.1009 - val_accuracy: 0.9333 - val_loss: 0.1448\n",
            "Epoch 88/100\n",
            "\u001b[1m120/120\u001b[0m \u001b[32m━━━━━━━━━━━━━━━━━━━━\u001b[0m\u001b[37m\u001b[0m \u001b[1m0s\u001b[0m 2ms/step - accuracy: 0.9480 - loss: 0.1047 - val_accuracy: 0.9333 - val_loss: 0.1399\n",
            "Epoch 89/100\n",
            "\u001b[1m120/120\u001b[0m \u001b[32m━━━━━━━━━━━━━━━━━━━━\u001b[0m\u001b[37m\u001b[0m \u001b[1m0s\u001b[0m 3ms/step - accuracy: 0.9429 - loss: 0.1071 - val_accuracy: 0.9333 - val_loss: 0.1420\n",
            "Epoch 90/100\n",
            "\u001b[1m120/120\u001b[0m \u001b[32m━━━━━━━━━━━━━━━━━━━━\u001b[0m\u001b[37m\u001b[0m \u001b[1m1s\u001b[0m 2ms/step - accuracy: 0.9398 - loss: 0.1084 - val_accuracy: 0.9312 - val_loss: 0.1444\n",
            "Epoch 91/100\n",
            "\u001b[1m120/120\u001b[0m \u001b[32m━━━━━━━━━━━━━━━━━━━━\u001b[0m\u001b[37m\u001b[0m \u001b[1m0s\u001b[0m 2ms/step - accuracy: 0.9482 - loss: 0.1077 - val_accuracy: 0.9333 - val_loss: 0.1447\n",
            "Epoch 92/100\n",
            "\u001b[1m120/120\u001b[0m \u001b[32m━━━━━━━━━━━━━━━━━━━━\u001b[0m\u001b[37m\u001b[0m \u001b[1m1s\u001b[0m 2ms/step - accuracy: 0.9478 - loss: 0.1112 - val_accuracy: 0.9292 - val_loss: 0.1515\n",
            "Epoch 93/100\n",
            "\u001b[1m120/120\u001b[0m \u001b[32m━━━━━━━━━━━━━━━━━━━━\u001b[0m\u001b[37m\u001b[0m \u001b[1m0s\u001b[0m 2ms/step - accuracy: 0.9575 - loss: 0.0944 - val_accuracy: 0.9281 - val_loss: 0.1513\n",
            "Epoch 94/100\n",
            "\u001b[1m120/120\u001b[0m \u001b[32m━━━━━━━━━━━━━━━━━━━━\u001b[0m\u001b[37m\u001b[0m \u001b[1m0s\u001b[0m 2ms/step - accuracy: 0.9445 - loss: 0.1051 - val_accuracy: 0.9365 - val_loss: 0.1512\n",
            "Epoch 95/100\n",
            "\u001b[1m120/120\u001b[0m \u001b[32m━━━━━━━━━━━━━━━━━━━━\u001b[0m\u001b[37m\u001b[0m \u001b[1m0s\u001b[0m 3ms/step - accuracy: 0.9469 - loss: 0.1055 - val_accuracy: 0.9333 - val_loss: 0.1500\n",
            "Epoch 96/100\n",
            "\u001b[1m120/120\u001b[0m \u001b[32m━━━━━━━━━━━━━━━━━━━━\u001b[0m\u001b[37m\u001b[0m \u001b[1m0s\u001b[0m 2ms/step - accuracy: 0.9408 - loss: 0.1079 - val_accuracy: 0.9323 - val_loss: 0.1526\n",
            "Epoch 97/100\n",
            "\u001b[1m120/120\u001b[0m \u001b[32m━━━━━━━━━━━━━━━━━━━━\u001b[0m\u001b[37m\u001b[0m \u001b[1m0s\u001b[0m 2ms/step - accuracy: 0.9381 - loss: 0.1079 - val_accuracy: 0.9302 - val_loss: 0.1499\n",
            "Epoch 98/100\n",
            "\u001b[1m120/120\u001b[0m \u001b[32m━━━━━━━━━━━━━━━━━━━━\u001b[0m\u001b[37m\u001b[0m \u001b[1m0s\u001b[0m 3ms/step - accuracy: 0.9527 - loss: 0.0892 - val_accuracy: 0.9312 - val_loss: 0.1475\n",
            "Epoch 99/100\n",
            "\u001b[1m120/120\u001b[0m \u001b[32m━━━━━━━━━━━━━━━━━━━━\u001b[0m\u001b[37m\u001b[0m \u001b[1m1s\u001b[0m 3ms/step - accuracy: 0.9464 - loss: 0.1069 - val_accuracy: 0.9312 - val_loss: 0.1476\n",
            "Epoch 100/100\n",
            "\u001b[1m120/120\u001b[0m \u001b[32m━━━━━━━━━━━━━━━━━━━━\u001b[0m\u001b[37m\u001b[0m \u001b[1m0s\u001b[0m 2ms/step - accuracy: 0.9468 - loss: 0.1062 - val_accuracy: 0.9302 - val_loss: 0.1536\n"
          ]
        }
      ]
    },
    {
      "cell_type": "code",
      "source": [
        "plot_learning_curve(hist2)"
      ],
      "metadata": {
        "colab": {
          "base_uri": "https://localhost:8080/",
          "height": 361
        },
        "id": "lnm6z-UMq9YW",
        "outputId": "1de03577-92d2-41f2-e138-7a66a6451436"
      },
      "execution_count": null,
      "outputs": [
        {
          "output_type": "display_data",
          "data": {
            "text/plain": [
              "<Figure size 1600x800 with 1 Axes>"
            ],
            "image/png": "[encoded data removed]"
          },
          "metadata": {}
        }
      ]
    },
    {
      "cell_type": "code",
      "source": [
        "tr_err2, tr_acc2 = model2.evaluate(xtrain, ytrain_cat)"
      ],
      "metadata": {
        "colab": {
          "base_uri": "https://localhost:8080/"
        },
        "id": "sjWJtN2ArLm1",
        "outputId": "e3dec9be-94d5-4dc6-98e5-f825f0f40b98"
      },
      "execution_count": null,
      "outputs": [
        {
          "output_type": "stream",
          "name": "stdout",
          "text": [
            "\u001b[1m150/150\u001b[0m \u001b[32m━━━━━━━━━━━━━━━━━━━━\u001b[0m\u001b[37m\u001b[0m \u001b[1m0s\u001b[0m 2ms/step - accuracy: 0.9849 - loss: 0.0468\n"
          ]
        }
      ]
    },
    {
      "cell_type": "code",
      "source": [
        "ts_err2, ts_acc2 = model2.evaluate(xtest, ytest_cat)"
      ],
      "metadata": {
        "colab": {
          "base_uri": "https://localhost:8080/"
        },
        "id": "gRBfHeuArQYX",
        "outputId": "fb707b7e-5bbc-46e1-a6bc-4b4958ba72cb"
      },
      "execution_count": null,
      "outputs": [
        {
          "output_type": "stream",
          "name": "stdout",
          "text": [
            "\u001b[1m38/38\u001b[0m \u001b[32m━━━━━━━━━━━━━━━━━━━━\u001b[0m\u001b[37m\u001b[0m \u001b[1m0s\u001b[0m 1ms/step - accuracy: 0.9217 - loss: 0.1677  \n"
          ]
        }
      ]
    },
    {
      "cell_type": "code",
      "source": [
        "yprob_tr = model2.predict(xtrain)\n",
        "yprob_ts = model2.predict(xtest)"
      ],
      "metadata": {
        "colab": {
          "base_uri": "https://localhost:8080/"
        },
        "id": "xo1ymKk-rS83",
        "outputId": "461dca94-e5a7-44a7-acd7-8a74fb4b102f"
      },
      "execution_count": null,
      "outputs": [
        {
          "output_type": "stream",
          "name": "stdout",
          "text": [
            "\u001b[1m150/150\u001b[0m \u001b[32m━━━━━━━━━━━━━━━━━━━━\u001b[0m\u001b[37m\u001b[0m \u001b[1m0s\u001b[0m 1ms/step\n",
            "\u001b[1m38/38\u001b[0m \u001b[32m━━━━━━━━━━━━━━━━━━━━\u001b[0m\u001b[37m\u001b[0m \u001b[1m0s\u001b[0m 2ms/step\n"
          ]
        }
      ]
    },
    {
      "cell_type": "code",
      "source": [
        "import numpy as np\n",
        "ypred_tr = np.argmax(yprob_tr, axis=-1)\n",
        "ypred_ts = np.argmax(yprob_ts, axis=-1)"
      ],
      "metadata": {
        "id": "hWVz0AyOrXPq"
      },
      "execution_count": null,
      "outputs": []
    },
    {
      "cell_type": "code",
      "source": [
        "ypred_tr[0:5]"
      ],
      "metadata": {
        "colab": {
          "base_uri": "https://localhost:8080/"
        },
        "id": "h-aeyP4arZ92",
        "outputId": "303cbdb1-6c6e-4503-e586-f4dc10f5d63b"
      },
      "execution_count": null,
      "outputs": [
        {
          "output_type": "execute_result",
          "data": {
            "text/plain": [
              "array([1, 2, 0, 1, 1])"
            ]
          },
          "metadata": {},
          "execution_count": 29
        }
      ]
    },
    {
      "cell_type": "code",
      "source": [
        "ytrain[0:5]"
      ],
      "metadata": {
        "colab": {
          "base_uri": "https://localhost:8080/"
        },
        "id": "L6I-9t6Nre8o",
        "outputId": "a1578c9b-ba28-4394-864f-50b062a9613d"
      },
      "execution_count": null,
      "outputs": [
        {
          "output_type": "execute_result",
          "data": {
            "text/plain": [
              "array([1, 2, 0, 1, 1])"
            ]
          },
          "metadata": {},
          "execution_count": 30
        }
      ]
    },
    {
      "cell_type": "code",
      "source": [
        "ypred_ts[0:5]"
      ],
      "metadata": {
        "colab": {
          "base_uri": "https://localhost:8080/"
        },
        "id": "v-uIdrWLrhz8",
        "outputId": "cfb0d948-5493-4ac2-ecfd-04e1c6db9e5d"
      },
      "execution_count": null,
      "outputs": [
        {
          "output_type": "execute_result",
          "data": {
            "text/plain": [
              "array([0, 2, 2, 2, 0])"
            ]
          },
          "metadata": {},
          "execution_count": 31
        }
      ]
    },
    {
      "cell_type": "code",
      "source": [
        "ytest[0:5]"
      ],
      "metadata": {
        "colab": {
          "base_uri": "https://localhost:8080/"
        },
        "id": "okRRPbCprkg0",
        "outputId": "a2b77ebf-c2fd-4b78-bb9a-1b089ccf2abc"
      },
      "execution_count": null,
      "outputs": [
        {
          "output_type": "execute_result",
          "data": {
            "text/plain": [
              "array([0, 2, 2, 2, 2])"
            ]
          },
          "metadata": {},
          "execution_count": 32
        }
      ]
    },
    {
      "cell_type": "code",
      "source": [
        "from sklearn.metrics import confusion_matrix, ConfusionMatrixDisplay\n",
        "cf = confusion_matrix(ytest, ypred_ts)\n",
        "cfd = ConfusionMatrixDisplay(cf, display_labels=[0,1,2])\n",
        "cfd.plot()"
      ],
      "metadata": {
        "colab": {
          "base_uri": "https://localhost:8080/",
          "height": 467
        },
        "id": "ZBhn-L9BroZC",
        "outputId": "f6748f4c-a4ba-4b56-9f0e-bda9b0a3cffd"
      },
      "execution_count": null,
      "outputs": [
        {
          "output_type": "execute_result",
          "data": {
            "text/plain": [
              "<sklearn.metrics._plot.confusion_matrix.ConfusionMatrixDisplay at 0x7a1d49e68070>"
            ]
          },
          "metadata": {},
          "execution_count": 33
        },
        {
          "output_type": "display_data",
          "data": {
            "text/plain": [
              "<Figure size 640x480 with 2 Axes>"
            ],
            "image/png": "[encoded data removed]"
          },
          "metadata": {}
        }
      ]
    },
    {
      "cell_type": "code",
      "source": [
        "from sklearn.metrics import classification_report\n",
        "print(classification_report(ytest, ypred_ts))"
      ],
      "metadata": {
        "colab": {
          "base_uri": "https://localhost:8080/"
        },
        "id": "UX0bhRrMrrUe",
        "outputId": "52a5bdd2-891a-47cc-b766-3c706559adef"
      },
      "execution_count": null,
      "outputs": [
        {
          "output_type": "stream",
          "name": "stdout",
          "text": [
            "              precision    recall  f1-score   support\n",
            "\n",
            "           0       0.92      0.90      0.91       405\n",
            "           1       0.95      0.95      0.95       403\n",
            "           2       0.90      0.92      0.91       392\n",
            "\n",
            "    accuracy                           0.92      1200\n",
            "   macro avg       0.92      0.92      0.92      1200\n",
            "weighted avg       0.92      0.92      0.92      1200\n",
            "\n"
          ]
        }
      ]
    },
    {
      "cell_type": "code",
      "source": [
        "dct = {'Model':['Simple ANN', 'Dropout ANN'],\n",
        "       'train_loss':[tr_err1, tr_err2],\n",
        "       'test_loss':[ts_err1, ts_err2],\n",
        "       'train_accuracy':[tr_acc1, tr_acc2],\n",
        "       'test_accuracy':[ts_acc1, ts_acc2]}"
      ],
      "metadata": {
        "id": "-twHw_Qhrvjh"
      },
      "execution_count": null,
      "outputs": []
    },
    {
      "cell_type": "code",
      "source": [
        "import pandas as pd\n",
        "eval_df = pd.DataFrame(dct)\n",
        "eval_df"
      ],
      "metadata": {
        "colab": {
          "base_uri": "https://localhost:8080/",
          "height": 125
        },
        "id": "EDwVah6kr3ew",
        "outputId": "5ea74315-02de-4b2b-d182-f4680d02b57d"
      },
      "execution_count": null,
      "outputs": [
        {
          "output_type": "execute_result",
          "data": {
            "text/plain": [
              "         Model  train_loss  test_loss  train_accuracy  test_accuracy\n",
              "0   Simple ANN    0.136318   0.800009        0.979375         0.8950\n",
              "1  Dropout ANN    0.065256   0.150294        0.976250         0.9225"
            ],
            "text/html": [
              "\n",
              "  <div id=\"df-87a6586c-6d3d-4d5b-8d7f-011642f7a220\" class=\"colab-df-container\">\n",
              "    <div>\n",
              "<style scoped>\n",
              "    .dataframe tbody tr th:only-of-type {\n",
              "        vertical-align: middle;\n",
              "    }\n",
              "\n",
              "    .dataframe tbody tr th {\n",
              "        vertical-align: top;\n",
              "    }\n",
              "\n",
              "    .dataframe thead th {\n",
              "        text-align: right;\n",
              "    }\n",
              "</style>\n",
              "<table border=\"1\" class=\"dataframe\">\n",
              "  <thead>\n",
              "    <tr style=\"text-align: right;\">\n",
              "      <th></th>\n",
              "      <th>Model</th>\n",
              "      <th>train_loss</th>\n",
              "      <th>test_loss</th>\n",
              "      <th>train_accuracy</th>\n",
              "      <th>test_accuracy</th>\n",
              "    </tr>\n",
              "  </thead>\n",
              "  <tbody>\n",
              "    <tr>\n",
              "      <th>0</th>\n",
              "      <td>Simple ANN</td>\n",
              "      <td>0.136318</td>\n",
              "      <td>0.800009</td>\n",
              "      <td>0.979375</td>\n",
              "      <td>0.8950</td>\n",
              "    </tr>\n",
              "    <tr>\n",
              "      <th>1</th>\n",
              "      <td>Dropout ANN</td>\n",
              "      <td>0.065256</td>\n",
              "      <td>0.150294</td>\n",
              "      <td>0.976250</td>\n",
              "      <td>0.9225</td>\n",
              "    </tr>\n",
              "  </tbody>\n",
              "</table>\n",
              "</div>\n",
              "    <div class=\"colab-df-buttons\">\n",
              "\n",
              "  <div class=\"colab-df-container\">\n",
              "    <button class=\"colab-df-convert\" onclick=\"convertToInteractive('df-87a6586c-6d3d-4d5b-8d7f-011642f7a220')\"\n",
              "            title=\"Convert this dataframe to an interactive table.\"\n",
              "            style=\"display:none;\">\n",
              "\n",
              "  <svg xmlns=\"http://www.w3.org/2000/svg\" height=\"24px\" viewBox=\"0 -960 960 960\">\n",
              "    <path d=\"M120-120v-720h720v720H120Zm60-500h600v-160H180v160Zm220 220h160v-160H400v160Zm0 220h160v-160H400v160ZM180-400h160v-160H180v160Zm440 0h160v-160H620v160ZM180-180h160v-160H180v160Zm440 0h160v-160H620v160Z\"/>\n",
              "  </svg>\n",
              "    </button>\n",
              "\n",
              "  <style>\n",
              "    .colab-df-container {\n",
              "      display:flex;\n",
              "      gap: 12px;\n",
              "    }\n",
              "\n",
              "    .colab-df-convert {\n",
              "      background-color: #E8F0FE;\n",
              "      border: none;\n",
              "      border-radius: 50%;\n",
              "      cursor: pointer;\n",
              "      display: none;\n",
              "      fill: #1967D2;\n",
              "      height: 32px;\n",
              "      padding: 0 0 0 0;\n",
              "      width: 32px;\n",
              "    }\n",
              "\n",
              "    .colab-df-convert:hover {\n",
              "      background-color: #E2EBFA;\n",
              "      box-shadow: 0px 1px 2px rgba(60, 64, 67, 0.3), 0px 1px 3px 1px rgba(60, 64, 67, 0.15);\n",
              "      fill: #174EA6;\n",
              "    }\n",
              "\n",
              "    .colab-df-buttons div {\n",
              "      margin-bottom: 4px;\n",
              "    }\n",
              "\n",
              "    [theme=dark] .colab-df-convert {\n",
              "      background-color: #3B4455;\n",
              "      fill: #D2E3FC;\n",
              "    }\n",
              "\n",
              "    [theme=dark] .colab-df-convert:hover {\n",
              "      background-color: #434B5C;\n",
              "      box-shadow: 0px 1px 3px 1px rgba(0, 0, 0, 0.15);\n",
              "      filter: drop-shadow(0px 1px 2px rgba(0, 0, 0, 0.3));\n",
              "      fill: #FFFFFF;\n",
              "    }\n",
              "  </style>\n",
              "\n",
              "    <script>\n",
              "      const buttonEl =\n",
              "        document.querySelector('#df-87a6586c-6d3d-4d5b-8d7f-011642f7a220 button.colab-df-convert');\n",
              "      buttonEl.style.display =\n",
              "        google.colab.kernel.accessAllowed ? 'block' : 'none';\n",
              "\n",
              "      async function convertToInteractive(key) {\n",
              "        const element = document.querySelector('#df-87a6586c-6d3d-4d5b-8d7f-011642f7a220');\n",
              "        const dataTable =\n",
              "          await google.colab.kernel.invokeFunction('convertToInteractive',\n",
              "                                                    [key], {});\n",
              "        if (!dataTable) return;\n",
              "\n",
              "        const docLinkHtml = 'Like what you see? Visit the ' +\n",
              "          '<a target=\"_blank\" href=https://colab.research.google.com/notebooks/data_table.ipynb>data table notebook</a>'\n",
              "          + ' to learn more about interactive tables.';\n",
              "        element.innerHTML = '';\n",
              "        dataTable['output_type'] = 'display_data';\n",
              "        await google.colab.output.renderOutput(dataTable, element);\n",
              "        const docLink = document.createElement('div');\n",
              "        docLink.innerHTML = docLinkHtml;\n",
              "        element.appendChild(docLink);\n",
              "      }\n",
              "    </script>\n",
              "  </div>\n",
              "\n",
              "\n",
              "<div id=\"df-9be3edeb-6e7a-44ad-96e5-8d167bd78965\">\n",
              "  <button class=\"colab-df-quickchart\" onclick=\"quickchart('df-9be3edeb-6e7a-44ad-96e5-8d167bd78965')\"\n",
              "            title=\"Suggest charts\"\n",
              "            style=\"display:none;\">\n",
              "\n",
              "<svg xmlns=\"http://www.w3.org/2000/svg\" height=\"24px\"viewBox=\"0 0 24 24\"\n",
              "     width=\"24px\">\n",
              "    <g>\n",
              "        <path d=\"M19 3H5c-1.1 0-2 .9-2 2v14c0 1.1.9 2 2 2h14c1.1 0 2-.9 2-2V5c0-1.1-.9-2-2-2zM9 17H7v-7h2v7zm4 0h-2V7h2v10zm4 0h-2v-4h2v4z\"/>\n",
              "    </g>\n",
              "</svg>\n",
              "  </button>\n",
              "\n",
              "<style>\n",
              "  .colab-df-quickchart {\n",
              "      --bg-color: #E8F0FE;\n",
              "      --fill-color: #1967D2;\n",
              "      --hover-bg-color: #E2EBFA;\n",
              "      --hover-fill-color: #174EA6;\n",
              "      --disabled-fill-color: #AAA;\n",
              "      --disabled-bg-color: #DDD;\n",
              "  }\n",
              "\n",
              "  [theme=dark] .colab-df-quickchart {\n",
              "      --bg-color: #3B4455;\n",
              "      --fill-color: #D2E3FC;\n",
              "      --hover-bg-color: #434B5C;\n",
              "      --hover-fill-color: #FFFFFF;\n",
              "      --disabled-bg-color: #3B4455;\n",
              "      --disabled-fill-color: #666;\n",
              "  }\n",
              "\n",
              "  .colab-df-quickchart {\n",
              "    background-color: var(--bg-color);\n",
              "    border: none;\n",
              "    border-radius: 50%;\n",
              "    cursor: pointer;\n",
              "    display: none;\n",
              "    fill: var(--fill-color);\n",
              "    height: 32px;\n",
              "    padding: 0;\n",
              "    width: 32px;\n",
              "  }\n",
              "\n",
              "  .colab-df-quickchart:hover {\n",
              "    background-color: var(--hover-bg-color);\n",
              "    box-shadow: 0 1px 2px rgba(60, 64, 67, 0.3), 0 1px 3px 1px rgba(60, 64, 67, 0.15);\n",
              "    fill: var(--button-hover-fill-color);\n",
              "  }\n",
              "\n",
              "  .colab-df-quickchart-complete:disabled,\n",
              "  .colab-df-quickchart-complete:disabled:hover {\n",
              "    background-color: var(--disabled-bg-color);\n",
              "    fill: var(--disabled-fill-color);\n",
              "    box-shadow: none;\n",
              "  }\n",
              "\n",
              "  .colab-df-spinner {\n",
              "    border: 2px solid var(--fill-color);\n",
              "    border-color: transparent;\n",
              "    border-bottom-color: var(--fill-color);\n",
              "    animation:\n",
              "      spin 1s steps(1) infinite;\n",
              "  }\n",
              "\n",
              "  @keyframes spin {\n",
              "    0% {\n",
              "      border-color: transparent;\n",
              "      border-bottom-color: var(--fill-color);\n",
              "      border-left-color: var(--fill-color);\n",
              "    }\n",
              "    20% {\n",
              "      border-color: transparent;\n",
              "      border-left-color: var(--fill-color);\n",
              "      border-top-color: var(--fill-color);\n",
              "    }\n",
              "    30% {\n",
              "      border-color: transparent;\n",
              "      border-left-color: var(--fill-color);\n",
              "      border-top-color: var(--fill-color);\n",
              "      border-right-color: var(--fill-color);\n",
              "    }\n",
              "    40% {\n",
              "      border-color: transparent;\n",
              "      border-right-color: var(--fill-color);\n",
              "      border-top-color: var(--fill-color);\n",
              "    }\n",
              "    60% {\n",
              "      border-color: transparent;\n",
              "      border-right-color: var(--fill-color);\n",
              "    }\n",
              "    80% {\n",
              "      border-color: transparent;\n",
              "      border-right-color: var(--fill-color);\n",
              "      border-bottom-color: var(--fill-color);\n",
              "    }\n",
              "    90% {\n",
              "      border-color: transparent;\n",
              "      border-bottom-color: var(--fill-color);\n",
              "    }\n",
              "  }\n",
              "</style>\n",
              "\n",
              "  <script>\n",
              "    async function quickchart(key) {\n",
              "      const quickchartButtonEl =\n",
              "        document.querySelector('#' + key + ' button');\n",
              "      quickchartButtonEl.disabled = true;  // To prevent multiple clicks.\n",
              "      quickchartButtonEl.classList.add('colab-df-spinner');\n",
              "      try {\n",
              "        const charts = await google.colab.kernel.invokeFunction(\n",
              "            'suggestCharts', [key], {});\n",
              "      } catch (error) {\n",
              "        console.error('Error during call to suggestCharts:', error);\n",
              "      }\n",
              "      quickchartButtonEl.classList.remove('colab-df-spinner');\n",
              "      quickchartButtonEl.classList.add('colab-df-quickchart-complete');\n",
              "    }\n",
              "    (() => {\n",
              "      let quickchartButtonEl =\n",
              "        document.querySelector('#df-9be3edeb-6e7a-44ad-96e5-8d167bd78965 button');\n",
              "      quickchartButtonEl.style.display =\n",
              "        google.colab.kernel.accessAllowed ? 'block' : 'none';\n",
              "    })();\n",
              "  </script>\n",
              "</div>\n",
              "\n",
              "  <div id=\"id_d617ab29-b07f-45a3-b621-5eb8446ff246\">\n",
              "    <style>\n",
              "      .colab-df-generate {\n",
              "        background-color: #E8F0FE;\n",
              "        border: none;\n",
              "        border-radius: 50%;\n",
              "        cursor: pointer;\n",
              "        display: none;\n",
              "        fill: #1967D2;\n",
              "        height: 32px;\n",
              "        padding: 0 0 0 0;\n",
              "        width: 32px;\n",
              "      }\n",
              "\n",
              "      .colab-df-generate:hover {\n",
              "        background-color: #E2EBFA;\n",
              "        box-shadow: 0px 1px 2px rgba(60, 64, 67, 0.3), 0px 1px 3px 1px rgba(60, 64, 67, 0.15);\n",
              "        fill: #174EA6;\n",
              "      }\n",
              "\n",
              "      [theme=dark] .colab-df-generate {\n",
              "        background-color: #3B4455;\n",
              "        fill: #D2E3FC;\n",
              "      }\n",
              "\n",
              "      [theme=dark] .colab-df-generate:hover {\n",
              "        background-color: #434B5C;\n",
              "        box-shadow: 0px 1px 3px 1px rgba(0, 0, 0, 0.15);\n",
              "        filter: drop-shadow(0px 1px 2px rgba(0, 0, 0, 0.3));\n",
              "        fill: #FFFFFF;\n",
              "      }\n",
              "    </style>\n",
              "    <button class=\"colab-df-generate\" onclick=\"generateWithVariable('eval_df')\"\n",
              "            title=\"Generate code using this dataframe.\"\n",
              "            style=\"display:none;\">\n",
              "\n",
              "  <svg xmlns=\"http://www.w3.org/2000/svg\" height=\"24px\"viewBox=\"0 0 24 24\"\n",
              "       width=\"24px\">\n",
              "    <path d=\"M7,19H8.4L18.45,9,17,7.55,7,17.6ZM5,21V16.75L18.45,3.32a2,2,0,0,1,2.83,0l1.4,1.43a1.91,1.91,0,0,1,.58,1.4,1.91,1.91,0,0,1-.58,1.4L9.25,21ZM18.45,9,17,7.55Zm-12,3A5.31,5.31,0,0,0,4.9,8.1,5.31,5.31,0,0,0,1,6.5,5.31,5.31,0,0,0,4.9,4.9,5.31,5.31,0,0,0,6.5,1,5.31,5.31,0,0,0,8.1,4.9,5.31,5.31,0,0,0,12,6.5,5.46,5.46,0,0,0,6.5,12Z\"/>\n",
              "  </svg>\n",
              "    </button>\n",
              "    <script>\n",
              "      (() => {\n",
              "      const buttonEl =\n",
              "        document.querySelector('#id_d617ab29-b07f-45a3-b621-5eb8446ff246 button.colab-df-generate');\n",
              "      buttonEl.style.display =\n",
              "        google.colab.kernel.accessAllowed ? 'block' : 'none';\n",
              "\n",
              "      buttonEl.onclick = () => {\n",
              "        google.colab.notebook.generateWithVariable('eval_df');\n",
              "      }\n",
              "      })();\n",
              "    </script>\n",
              "  </div>\n",
              "\n",
              "    </div>\n",
              "  </div>\n"
            ],
            "application/vnd.google.colaboratory.intrinsic+json": {
              "type": "dataframe",
              "variable_name": "eval_df",
              "summary": "{\n  \"name\": \"eval_df\",\n  \"rows\": 2,\n  \"fields\": [\n    {\n      \"column\": \"Model\",\n      \"properties\": {\n        \"dtype\": \"string\",\n        \"num_unique_values\": 2,\n        \"samples\": [\n          \"Dropout ANN\",\n          \"Simple ANN\"\n        ],\n        \"semantic_type\": \"\",\n        \"description\": \"\"\n      }\n    },\n    {\n      \"column\": \"train_loss\",\n      \"properties\": {\n        \"dtype\": \"number\",\n        \"std\": 0.050248990081234256,\n        \"min\": 0.0652555525302887,\n        \"max\": 0.1363183557987213,\n        \"num_unique_values\": 2,\n        \"samples\": [\n          0.0652555525302887,\n          0.1363183557987213\n        ],\n        \"semantic_type\": \"\",\n        \"description\": \"\"\n      }\n    },\n    {\n      \"column\": \"test_loss\",\n      \"properties\": {\n        \"dtype\": \"number\",\n        \"std\": 0.4594179289766344,\n        \"min\": 0.15029364824295044,\n        \"max\": 0.8000087141990662,\n        \"num_unique_values\": 2,\n        \"samples\": [\n          0.15029364824295044,\n          0.8000087141990662\n        ],\n        \"semantic_type\": \"\",\n        \"description\": \"\"\n      }\n    },\n    {\n      \"column\": \"train_accuracy\",\n      \"properties\": {\n        \"dtype\": \"number\",\n        \"std\": 0.0022097171205776632,\n        \"min\": 0.9762499928474426,\n        \"max\": 0.9793750047683716,\n        \"num_unique_values\": 2,\n        \"samples\": [\n          0.9762499928474426,\n          0.9793750047683716\n        ],\n        \"semantic_type\": \"\",\n        \"description\": \"\"\n      }\n    },\n    {\n      \"column\": \"test_accuracy\",\n      \"properties\": {\n        \"dtype\": \"number\",\n        \"std\": 0.019445460084865224,\n        \"min\": 0.8949999809265137,\n        \"max\": 0.9225000143051147,\n        \"num_unique_values\": 2,\n        \"samples\": [\n          0.9225000143051147,\n          0.8949999809265137\n        ],\n        \"semantic_type\": \"\",\n        \"description\": \"\"\n      }\n    }\n  ]\n}"
            }
          },
          "metadata": {},
          "execution_count": 36
        }
      ]
    },
    {
      "cell_type": "code",
      "source": [
        "### Above results clearly show that Dropout Layer helps in regularization\n"
      ],
      "metadata": {
        "id": "vD957WEOr7K8"
      },
      "execution_count": null,
      "outputs": []
    },
    {
      "cell_type": "code",
      "source": [
        "9) Discuss the considerations and tradeoffs when choosing the appropriate regularization technique for a\n",
        "given deep learning task."
      ],
      "metadata": {
        "id": "eg89knHJr-0u"
      },
      "execution_count": null,
      "outputs": []
    },
    {
      "cell_type": "code",
      "source": [
        "### Choosing the right regularization technique for a deep learning task requires careful consideration of various factors and trade-offs. Different regularization techniques have different effects on the model's performance, training speed, and generalization ability. Here are some key considerations and trade-offs to keep in mind when choosing an appropriate regularization technique:\n",
        "\n",
        "1. `Dataset Size:`\n",
        "   - `Small Dataset:` In cases of small datasets, regularization techniques that introduce additional constraints to the model, such as L1 or L2 regularization, can help prevent overfitting by reducing the model's complexity.\n",
        "   - `Large Dataset:` With larger datasets, more complex models might be suitable, and techniques like dropout and data augmentation can provide effective regularization.\n",
        "\n",
        "2. `Model Complexity:`\n",
        "   - `Complex Models:` Highly complex models with a large number of parameters are more prone to overfitting. Regularization techniques like dropout, batch normalization, and early stopping can help control their complexity.\n",
        "   - `Simpler Models:` Simpler models might not need aggressive regularization and could benefit from techniques that don't overly constrain the model, such as early stopping or using larger learning rates.\n",
        "\n",
        "3. `Type of Overfitting:`\n",
        "   - `Bias-Variance Trade-off:` If the model is experiencing high bias (underfitting), adding regularization might not be necessary. If it's experiencing high variance (overfitting), regularization techniques can help reduce this variance.\n",
        "\n",
        "4. `Model Architecture:`\n",
        "   - `Convolutional Neural Networks (CNNs):` Techniques like dropout and batch normalization are commonly used in CNNs to regularize activations and improve convergence.\n",
        "   - `Recurrent Neural Networks (RNNs):` Gradient clipping, recurrent dropout, and weight tying are techniques often used to regulate RNNs.\n",
        "\n",
        "5. `Training Speed and Convergence:`\n",
        "   - `Faster Convergence:` Techniques like batch normalization can accelerate convergence and stabilize training, allowing for faster model development.\n",
        "   - `Slower Convergence:` Techniques like dropout and weight decay might slow down training due to their stochastic nature or the additional constraints they impose.\n",
        "\n",
        "6. `Interpretability:`\n",
        "   - `Interpretability Required:` Regularization techniques like L1 regularization (Lasso) can lead to sparse models, which might be easier to interpret in some cases.\n",
        "   - `Not High Priority:` If interpretability is not a concern, other regularization techniques can be considered.\n",
        "\n",
        "7. `Domain Knowledge:`\n",
        "   - `Prior Knowledge:` Depending on domain knowledge, specific regularization techniques might be more suitable. For example, if you know certain features are less relevant, L1 regularization could be applied to encourage feature selection.\n",
        "\n",
        "8. `Hyperparameter Tuning:`\n",
        "   - `Sensitivity to Hyperparameters:` Some regularization techniques have hyperparameters that need to be tuned, such as the strength of regularization in L1 or L2 regularization. This requires additional tuning efforts.\n",
        "\n",
        "9. `Computational Resources:`\n",
        "   - `Resource Constraints:` Techniques like dropout and data augmentation might be more resource-intensive, as they involve modifications during training.\n",
        "\n",
        "10. `Ensemble Methods:`\n",
        "    - `Ensemble Regularization:` Techniques like dropout can be seen as a form of ensemble regularization, where the model is trained with multiple variations of itself.\n",
        "\n",
        "11. `Combining Techniques:`\n",
        "    - `Combining Regularization Techniques:` It's possible to use multiple regularization techniques simultaneously to achieve a stronger regularization effect, but this might require careful tuning and understanding of their interactions.\n",
        "\n",
        "### In conclusion, the choice of regularization technique depends on the specifics of the problem, dataset, model architecture, and resources available. Experimentation and thorough understanding of the trade-offs involved are crucial for selecting the most appropriate regularization strategy to achieve better generalization and prevent overfitting."
      ],
      "metadata": {
        "id": "odVBG59RsD3N"
      },
      "execution_count": null,
      "outputs": []
    }
  ]
}