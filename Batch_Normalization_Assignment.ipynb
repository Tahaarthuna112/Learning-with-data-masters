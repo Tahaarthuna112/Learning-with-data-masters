{
  "cells": [
    {
      "cell_type": "markdown",
      "metadata": {
        "id": "view-in-github",
        "colab_type": "text"
      },
      "source": [
        "<a href=\"https://colab.research.google.com/github/Tahaarthuna112/Learning-with-data-masters/blob/main/Batch_Normalization_Assignment.ipynb\" target=\"_parent\"><img src=\"https://colab.research.google.com/assets/colab-badge.svg\" alt=\"Open In Colab\"/></a>"
      ]
    },
    {
      "cell_type": "code",
      "execution_count": null,
      "id": "baa34796-4993-4716-8eeb-d59ac04e4bc4",
      "metadata": {
        "id": "baa34796-4993-4716-8eeb-d59ac04e4bc4",
        "outputId": "c2c5d085-daf9-461e-8d87-bb421fb3e62c"
      },
      "outputs": [
        {
          "ename": "SyntaxError",
          "evalue": "invalid syntax (2939194462.py, line 1)",
          "output_type": "error",
          "traceback": [
            "\u001b[0;36m  Cell \u001b[0;32mIn[1], line 1\u001b[0;36m\u001b[0m\n\u001b[0;31m    1. Explain the concepts of batch normalization in context of Artificial Neural Networks.\u001b[0m\n\u001b[0m       ^\u001b[0m\n\u001b[0;31mSyntaxError\u001b[0m\u001b[0;31m:\u001b[0m invalid syntax\n"
          ]
        }
      ],
      "source": [
        "1. Explain the concepts of batch normalization in context of Artificial Neural Networks."
      ]
    },
    {
      "cell_type": "code",
      "execution_count": null,
      "id": "7d1791c4-130c-4a0c-af36-cb36d8d2177f",
      "metadata": {
        "id": "7d1791c4-130c-4a0c-af36-cb36d8d2177f",
        "outputId": "8b0f904e-cb97-4436-dc79-5117b6786a6c"
      },
      "outputs": [
        {
          "ename": "SyntaxError",
          "evalue": "invalid syntax (1020196775.py, line 1)",
          "output_type": "error",
          "traceback": [
            "\u001b[0;36m  Cell \u001b[0;32mIn[2], line 1\u001b[0;36m\u001b[0m\n\u001b[0;31m    Batch normalization is a technique used in artificial neural networks (ANNs) to improve training speed, stability, and performance. It addresses the issue of internal covariate shift, where the distribution of inputs to each layer changes during training, making it difficult for the network to converge.\u001b[0m\n\u001b[0m          ^\u001b[0m\n\u001b[0;31mSyntaxError\u001b[0m\u001b[0;31m:\u001b[0m invalid syntax\n"
          ]
        }
      ],
      "source": [
        "Batch normalization is a technique used in artificial neural networks (ANNs) to improve training speed, stability, and performance. It addresses the issue of internal covariate shift, where the distribution of inputs to each layer changes during training, making it difficult for the network to converge.\n",
        "\n",
        "Key Concepts of Batch Normalization:\n",
        "\n",
        "1. Normalization:\n",
        "   - In batch normalization, the inputs to a layer are normalized over a mini-batch. This means that the inputs are adjusted to have a mean of zero and a standard deviation of one within each batch. This normalization helps in stabilizing the learning process.\n",
        "\n",
        "2. Scaling and Shifting:\n",
        "   - After normalization, the inputs are scaled and shifted using learned parameters, typically referred to as gamma (γ) and beta (β). These parameters allow the network to undo the normalization if necessary, giving the network the flexibility to learn the appropriate scale and shift for the inputs.\n",
        "\n",
        "3. Mini-Batch Statistics:\n",
        "   - During training, the mean and variance are computed for each mini-batch. However, during inference (testing or deployment), using statistics from a single mini-batch can lead to instability. Therefore, running averages of the mean and variance are maintained during training and used during inference.\n",
        "\n",
        "4. Advantages of Batch Normalization:\n",
        "   - Accelerated Training: By reducing internal covariate shift, batch normalization allows the use of higher learning rates, leading to faster convergence.\n",
        "   - Improved Stability: It reduces the sensitivity to the initial weights and hyperparameters, making the training process more stable.\n",
        "   - Regularization Effect: Batch normalization has a slight regularization effect, reducing the need for dropout or other regularization techniques in some cases.\n",
        "   - Enabling Deeper Networks: It allows the training of deeper networks by mitigating the problem of vanishing or exploding gradients.\n",
        "\n",
        "Process of Batch Normalization:\n",
        "\n",
        "1. Compute the Mean of the inputs for the current mini-batch.\n",
        "2. Compute the Variance of the inputs for the current mini-batch.\n",
        "3. Normalize the Inputs: Subtract the mean and divide by the square root of the variance (adding a small epsilon value for numerical stability).\n",
        "4. Scale and Shift: Apply the learned parameters (γ and β) to scale and shift the normalized inputs.\n",
        "\n",
        "Formula:\n",
        "Given an input \\( x \\) to a layer during training, batch normalization is applied as follows:\n",
        "\n",
        "\\[\n",
        "\\hat{x} = \\frac{x - \\mu_{\\text{batch}}}{\\sqrt{\\sigma^2_{\\text{batch}} + \\epsilon}}\n",
        "\\]\n",
        "\n",
        "\\[\n",
        "y = \\gamma \\hat{x} + \\beta\n",
        "\\]\n",
        "\n",
        "Where:\n",
        "- \\( \\mu_{\\text{batch}} \\) is the mean of the batch.\n",
        "- \\( \\sigma^2_{\\text{batch}} \\) is the variance of the batch.\n",
        "- \\( \\epsilon \\) is a small constant added for numerical stability.\n",
        "- \\( \\gamma \\) and \\( \\beta \\) are learned parameters that scale and shift the normalized output.\n",
        "\n",
        "Practical Considerations:\n",
        "- Batch normalization is typically applied after the affine transformation (i.e., after the weights and biases) and before the activation function in a layer.\n",
        "- While it is very effective, it may not always be necessary for very simple or small networks.\n",
        "\n",
        "Overall, batch normalization has become a standard component in training deep neural networks, contributing significantly to the success of many modern architectures."
      ]
    },
    {
      "cell_type": "code",
      "execution_count": null,
      "id": "41cbf781-9a61-4709-97a1-75ed973ab3bf",
      "metadata": {
        "id": "41cbf781-9a61-4709-97a1-75ed973ab3bf"
      },
      "outputs": [],
      "source": [
        "2. Describe benifits of using batch normalization during training?"
      ]
    },
    {
      "cell_type": "code",
      "execution_count": null,
      "id": "4e35ba5e-c515-497b-a8e6-5fc55a15c14c",
      "metadata": {
        "id": "4e35ba5e-c515-497b-a8e6-5fc55a15c14c",
        "outputId": "59e4d782-c58a-41a8-e97e-601a3b748353"
      },
      "outputs": [
        {
          "ename": "SyntaxError",
          "evalue": "invalid syntax (3288986888.py, line 1)",
          "output_type": "error",
          "traceback": [
            "\u001b[0;36m  Cell \u001b[0;32mIn[3], line 1\u001b[0;36m\u001b[0m\n\u001b[0;31m    Batch normalization offers several key benefits during the training of artificial neural networks (ANNs):\u001b[0m\n\u001b[0m          ^\u001b[0m\n\u001b[0;31mSyntaxError\u001b[0m\u001b[0;31m:\u001b[0m invalid syntax\n"
          ]
        }
      ],
      "source": [
        "Batch normalization offers several key benefits during the training of artificial neural networks (ANNs):\n",
        "\n",
        "1. Accelerated Training:\n",
        "   - Faster Convergence: By reducing the internal covariate shift (the change in the distribution of inputs to layers during training), batch normalization enables the use of higher learning rates. This leads to faster convergence and reduces the overall training time.\n",
        "   - Reduced Need for Fine-Tuning: The network becomes less sensitive to the choice of initial parameters and learning rates, reducing the amount of fine-tuning required.\n",
        "\n",
        "2. Improved Stability:\n",
        "   - Smoother Loss Landscape: Batch normalization smooths the optimization landscape, making it easier for the gradient descent algorithm to navigate. This results in more stable and reliable training.\n",
        "   - Mitigation of Vanishing/Exploding Gradients: By keeping the inputs to each layer normalized, batch normalization helps prevent issues related to vanishing or exploding gradients, which can occur in deep networks.\n",
        "\n",
        "3. Regularization Effect:\n",
        "   - Implicit Regularization: Batch normalization introduces some noise due to the use of mini-batch statistics, which acts as a form of regularization. This can help reduce overfitting and may decrease the need for additional regularization techniques like dropout.\n",
        "   - Improved Generalization: Networks trained with batch normalization often generalize better to unseen data, as the normalization process helps in learning more robust features.\n",
        "\n",
        "4. Enabling the Training of Deeper Networks:\n",
        "   - Facilitates Deeper Architectures: Batch normalization makes it easier to train very deep networks by stabilizing the gradients throughout the network. This allows for the design and training of more complex models that would otherwise be difficult to optimize.\n",
        "\n",
        "5. Reduces Dependency on Careful Initialization:\n",
        "   - Less Sensitive to Initialization: Without batch normalization, careful initialization of weights is crucial to ensure that the network trains effectively. Batch normalization reduces this dependency, making the network more resilient to suboptimal initializations.\n",
        "\n",
        "6. Compatible with Various Architectures:\n",
        "   - Versatility: Batch normalization can be applied to a wide range of neural network architectures, including convolutional neural networks (CNNs), recurrent neural networks (RNNs), and fully connected networks, making it a versatile tool in deep learning.\n",
        "\n",
        "7. Stabilizes Activation Distributions:\n",
        "   - Consistent Activation Distributions: By normalizing the inputs to each layer, batch normalization ensures that the activation distributions remain consistent across different layers. This helps maintain the flow of information through the network, improving overall performance.\n",
        "\n",
        "Overall, batch normalization has become a fundamental technique in modern deep learning, contributing to the effectiveness and efficiency of training complex neural networks."
      ]
    },
    {
      "cell_type": "code",
      "execution_count": null,
      "id": "df8dcb71-bf56-4438-99ac-48d248ab1b08",
      "metadata": {
        "id": "df8dcb71-bf56-4438-99ac-48d248ab1b08"
      },
      "outputs": [],
      "source": [
        "3. Discuss the working principle of batch normalization including the normalization steps and learnable parameters"
      ]
    },
    {
      "cell_type": "code",
      "execution_count": null,
      "id": "d24bc3b4-fc45-4f23-a422-f52459a61462",
      "metadata": {
        "id": "d24bc3b4-fc45-4f23-a422-f52459a61462",
        "outputId": "4c5e59ef-169b-4d5d-e8ff-5bd405eb31f2"
      },
      "outputs": [
        {
          "ename": "SyntaxError",
          "evalue": "invalid syntax (2436806031.py, line 1)",
          "output_type": "error",
          "traceback": [
            "\u001b[0;36m  Cell \u001b[0;32mIn[4], line 1\u001b[0;36m\u001b[0m\n\u001b[0;31m    Batch normalization is a technique in artificial neural networks that normalizes the inputs to each layer in order to improve training speed, stability, and performance. It operates by normalizing the inputs of a layer for each mini-batch, and then scaling and shifting the normalized values using learnable parameters. Below is a detailed discussion of its working principle, including the normalization steps and the role of learnable parameters.\u001b[0m\n\u001b[0m          ^\u001b[0m\n\u001b[0;31mSyntaxError\u001b[0m\u001b[0;31m:\u001b[0m invalid syntax\n"
          ]
        }
      ],
      "source": [
        "Batch normalization is a technique in artificial neural networks that normalizes the inputs to each layer in order to improve training speed, stability, and performance. It operates by normalizing the inputs of a layer for each mini-batch, and then scaling and shifting the normalized values using learnable parameters. Below is a detailed discussion of its working principle, including the normalization steps and the role of learnable parameters.\n",
        "\n",
        "Working Principle of Batch Normalization:\n",
        "\n",
        "1. Normalization of Inputs:\n",
        "   - For each mini-batch during training, batch normalization first computes the mean and variance of the inputs.\n",
        "   - The inputs are then normalized by subtracting the mean and dividing by the standard deviation (which is the square root of the variance). This step ensures that the inputs to the next layer have a mean of 0 and a standard deviation of 1, which helps in stabilizing and accelerating the training process.\n",
        "\n",
        "   The formula for normalization is:\n",
        "\n",
        "   \\[\n",
        "   \\hat{x} = \\frac{x - \\mu_{\\text{batch}}}{\\sqrt{\\sigma^2_{\\text{batch}} + \\epsilon}}\n",
        "   \\]\n",
        "\n",
        "   Where:\n",
        "   - \\( x \\) is the input to be normalized.\n",
        "   - \\( \\mu_{\\text{batch}} \\) is the mean of the mini-batch.\n",
        "   - \\( \\sigma^2_{\\text{batch}} \\) is the variance of the mini-batch.\n",
        "   - \\( \\epsilon \\) is a small constant added for numerical stability to prevent division by zero.\n",
        "\n",
        "2. Scaling and Shifting (Learnable Parameters):\n",
        "   - After normalization, the normalized input \\( \\hat{x} \\) is scaled and shifted using two learnable parameters: gamma (γ) and beta (β).\n",
        "   - These parameters allow the network to learn the optimal scale and shift for the normalized inputs, providing flexibility in the model to undo the normalization if necessary.\n",
        "   - The output after scaling and shifting is:\n",
        "\n",
        "   \\[\n",
        "   y = \\gamma \\hat{x} + \\beta\n",
        "   \\]\n",
        "\n",
        "   Where:\n",
        "   - \\( \\gamma \\) (gamma) is the scaling factor.\n",
        "   - \\( \\beta \\) (beta) is the shifting factor.\n",
        "   - \\( y \\) is the output of the batch normalization layer.\n",
        "\n",
        "Steps of Batch Normalization:\n",
        "\n",
        "1. Calculate the Mini-Batch Mean:\n",
        "   - For a given input \\( x \\) over a mini-batch, calculate the mean \\( \\mu_{\\text{batch}} \\):\n",
        "\n",
        "   \\[\n",
        "   \\mu_{\\text{batch}} = \\frac{1}{m} \\sum_{i=1}^{m} x_i\n",
        "   \\]\n",
        "\n",
        "   Where \\( m \\) is the number of examples in the mini-batch.\n",
        "\n",
        "2. Calculate the Mini-Batch Variance:\n",
        "   - Calculate the variance \\( \\sigma^2_{\\text{batch}} \\) for the mini-batch:\n",
        "\n",
        "   \\[\n",
        "   \\sigma^2_{\\text{batch}} = \\frac{1}{m} \\sum_{i=1}^{m} (x_i - \\mu_{\\text{batch}})^2\n",
        "   \\]\n",
        "\n",
        "3. Normalize the Input:\n",
        "   - Normalize the input \\( x \\) using the calculated mean and variance:\n",
        "\n",
        "   \\[\n",
        "   \\hat{x} = \\frac{x - \\mu_{\\text{batch}}}{\\sqrt{\\sigma^2_{\\text{batch}} + \\epsilon}}\n",
        "   \\]\n",
        "\n",
        "4. Apply Scaling and Shifting:\n",
        "   - Use the learnable parameters \\( \\gamma \\) and \\( \\beta \\) to scale and shift the normalized input:\n",
        "\n",
        "   \\[\n",
        "   y = \\gamma \\hat{x} + \\beta\n",
        "   \\]\n",
        "\n",
        "5. Use During Inference:\n",
        "   - During inference (after training), the running mean and variance, accumulated during training, are used instead of the mini-batch mean and variance to ensure consistent behavior.\n",
        "\n",
        "Learnable Parameters:\n",
        "\n",
        "1. Gamma (γ):\n",
        "   - Purpose: Gamma is a learnable parameter that scales the normalized input. It allows the network to control the magnitude of the normalized output.\n",
        "   - Initialization: Typically initialized to 1.0, so that initially, the normalization does not scale the input.\n",
        "\n",
        "2. Beta (β):\n",
        "   - Purpose: Beta is a learnable parameter that shifts the normalized input. It allows the network to adjust the mean of the normalized output.\n",
        "   - Initialization: Typically initialized to 0.0, so that initially, the normalization does not shift the input.\n",
        "\n",
        "Summary:\n",
        "\n",
        "Batch normalization works by normalizing the inputs to each layer during training, scaling, and shifting these normalized inputs using learnable parameters (gamma and beta). This process stabilizes and accelerates training, helps in mitigating issues like vanishing/exploding gradients, and enables the training of deeper networks. The learnable parameters provide the flexibility needed for the network to adapt to the optimal scale and mean for each layer."
      ]
    },
    {
      "cell_type": "code",
      "execution_count": null,
      "id": "951a49d6-3530-448e-9eae-d22d33837ce5",
      "metadata": {
        "id": "951a49d6-3530-448e-9eae-d22d33837ce5"
      },
      "outputs": [],
      "source": [
        "Implementation"
      ]
    },
    {
      "cell_type": "code",
      "execution_count": null,
      "id": "955615da-eef3-4fd6-ad2e-d867837fd530",
      "metadata": {
        "id": "955615da-eef3-4fd6-ad2e-d867837fd530"
      },
      "outputs": [],
      "source": [
        "1. Choose a dataset of your choice (eg. MNIST, CIFAR 10) and preprocess it"
      ]
    },
    {
      "cell_type": "code",
      "execution_count": null,
      "id": "3327c3fd-05f8-434a-af6c-1bce1294bd64",
      "metadata": {
        "id": "3327c3fd-05f8-434a-af6c-1bce1294bd64",
        "outputId": "13d00541-877c-4fe0-8c02-54605724c727"
      },
      "outputs": [
        {
          "name": "stdout",
          "output_type": "stream",
          "text": [
            "Collecting tensorflow\n",
            "  Downloading tensorflow-2.17.0-cp310-cp310-manylinux_2_17_x86_64.manylinux2014_x86_64.whl (601.3 MB)\n",
            "\u001b[2K     \u001b[90m━━━━━━━━━━━━━━━━━━━━━━━━━━━━━━━━━━━━━━━\u001b[0m \u001b[32m601.3/601.3 MB\u001b[0m \u001b[31m2.7 MB/s\u001b[0m eta \u001b[36m0:00:00\u001b[0m00:01\u001b[0m00:01\u001b[0m\n",
            "\u001b[?25hCollecting flatbuffers>=24.3.25\n",
            "  Downloading flatbuffers-24.3.25-py2.py3-none-any.whl (26 kB)\n",
            "Requirement already satisfied: numpy<2.0.0,>=1.23.5 in /opt/conda/lib/python3.10/site-packages (from tensorflow) (1.23.5)\n",
            "Collecting libclang>=13.0.0\n",
            "  Downloading libclang-18.1.1-py2.py3-none-manylinux2010_x86_64.whl (24.5 MB)\n",
            "\u001b[2K     \u001b[90m━━━━━━━━━━━━━━━━━━━━━━━━━━━━━━━━━━━━━━━━\u001b[0m \u001b[32m24.5/24.5 MB\u001b[0m \u001b[31m40.9 MB/s\u001b[0m eta \u001b[36m0:00:00\u001b[0m00:01\u001b[0m00:01\u001b[0m\n",
            "\u001b[?25hCollecting tensorflow-io-gcs-filesystem>=0.23.1\n",
            "  Downloading tensorflow_io_gcs_filesystem-0.37.1-cp310-cp310-manylinux_2_17_x86_64.manylinux2014_x86_64.whl (5.1 MB)\n",
            "\u001b[2K     \u001b[90m━━━━━━━━━━━━━━━━━━━━━━━━━━━━━━━━━━━━━━━━\u001b[0m \u001b[32m5.1/5.1 MB\u001b[0m \u001b[31m60.1 MB/s\u001b[0m eta \u001b[36m0:00:00\u001b[0m00:01\u001b[0m00:01\u001b[0m\n",
            "\u001b[?25hCollecting gast!=0.5.0,!=0.5.1,!=0.5.2,>=0.2.1\n",
            "  Downloading gast-0.6.0-py3-none-any.whl (21 kB)\n",
            "Collecting tensorboard<2.18,>=2.17\n",
            "  Downloading tensorboard-2.17.1-py3-none-any.whl (5.5 MB)\n",
            "\u001b[2K     \u001b[90m━━━━━━━━━━━━━━━━━━━━━━━━━━━━━━━━━━━━━━━━\u001b[0m \u001b[32m5.5/5.5 MB\u001b[0m \u001b[31m58.4 MB/s\u001b[0m eta \u001b[36m0:00:00\u001b[0m00:01\u001b[0m00:01\u001b[0m\n",
            "\u001b[?25hCollecting termcolor>=1.1.0\n",
            "  Downloading termcolor-2.4.0-py3-none-any.whl (7.7 kB)\n",
            "Collecting h5py>=3.10.0\n",
            "  Downloading h5py-3.11.0-cp310-cp310-manylinux_2_17_x86_64.manylinux2014_x86_64.whl (5.3 MB)\n",
            "\u001b[2K     \u001b[90m━━━━━━━━━━━━━━━━━━━━━━━━━━━━━━━━━━━━━━━━\u001b[0m \u001b[32m5.3/5.3 MB\u001b[0m \u001b[31m65.3 MB/s\u001b[0m eta \u001b[36m0:00:00\u001b[0m00:01\u001b[0m:00:01\u001b[0m\n",
            "\u001b[?25hRequirement already satisfied: setuptools in /opt/conda/lib/python3.10/site-packages (from tensorflow) (65.5.1)\n",
            "Collecting ml-dtypes<0.5.0,>=0.3.1\n",
            "  Downloading ml_dtypes-0.4.0-cp310-cp310-manylinux_2_17_x86_64.manylinux2014_x86_64.whl (2.2 MB)\n",
            "\u001b[2K     \u001b[90m━━━━━━━━━━━━━━━━━━━━━━━━━━━━━━━━━━━━━━━━\u001b[0m \u001b[32m2.2/2.2 MB\u001b[0m \u001b[31m58.1 MB/s\u001b[0m eta \u001b[36m0:00:00\u001b[0m:00:01\u001b[0m\n",
            "\u001b[?25hCollecting grpcio<2.0,>=1.24.3\n",
            "  Downloading grpcio-1.66.1-cp310-cp310-manylinux_2_17_x86_64.manylinux2014_x86_64.whl (5.7 MB)\n",
            "\u001b[2K     \u001b[90m━━━━━━━━━━━━━━━━━━━━━━━━━━━━━━━━━━━━━━━━\u001b[0m \u001b[32m5.7/5.7 MB\u001b[0m \u001b[31m50.8 MB/s\u001b[0m eta \u001b[36m0:00:00\u001b[0m00:01\u001b[0m:00:01\u001b[0m\n",
            "\u001b[?25hCollecting astunparse>=1.6.0\n",
            "  Downloading astunparse-1.6.3-py2.py3-none-any.whl (12 kB)\n",
            "Collecting absl-py>=1.0.0\n",
            "  Downloading absl_py-2.1.0-py3-none-any.whl (133 kB)\n",
            "\u001b[2K     \u001b[90m━━━━━━━━━━━━━━━━━━━━━━━━━━━━━━━━━━━━━━\u001b[0m \u001b[32m133.7/133.7 kB\u001b[0m \u001b[31m20.4 MB/s\u001b[0m eta \u001b[36m0:00:00\u001b[0m\n",
            "\u001b[?25hRequirement already satisfied: six>=1.12.0 in /opt/conda/lib/python3.10/site-packages (from tensorflow) (1.16.0)\n",
            "Collecting opt-einsum>=2.3.2\n",
            "  Downloading opt_einsum-3.3.0-py3-none-any.whl (65 kB)\n",
            "\u001b[2K     \u001b[90m━━━━━━━━━━━━━━━━━━━━━━━━━━━━━━━━━━━━━━━━\u001b[0m \u001b[32m65.5/65.5 kB\u001b[0m \u001b[31m11.4 MB/s\u001b[0m eta \u001b[36m0:00:00\u001b[0m\n",
            "\u001b[?25hCollecting keras>=3.2.0\n",
            "  Downloading keras-3.5.0-py3-none-any.whl (1.1 MB)\n",
            "\u001b[2K     \u001b[90m━━━━━━━━━━━━━━━━━━━━━━━━━━━━━━━━━━━━━━━━\u001b[0m \u001b[32m1.1/1.1 MB\u001b[0m \u001b[31m53.6 MB/s\u001b[0m eta \u001b[36m0:00:00\u001b[0m\n",
            "\u001b[?25hRequirement already satisfied: requests<3,>=2.21.0 in /opt/conda/lib/python3.10/site-packages (from tensorflow) (2.28.1)\n",
            "Requirement already satisfied: protobuf!=4.21.0,!=4.21.1,!=4.21.2,!=4.21.3,!=4.21.4,!=4.21.5,<5.0.0dev,>=3.20.3 in /opt/conda/lib/python3.10/site-packages (from tensorflow) (4.21.11)\n",
            "Collecting google-pasta>=0.1.1\n",
            "  Downloading google_pasta-0.2.0-py3-none-any.whl (57 kB)\n",
            "\u001b[2K     \u001b[90m━━━━━━━━━━━━━━━━━━━━━━━━━━━━━━━━━━━━━━━━\u001b[0m \u001b[32m57.5/57.5 kB\u001b[0m \u001b[31m9.9 MB/s\u001b[0m eta \u001b[36m0:00:00\u001b[0m\n",
            "\u001b[?25hCollecting wrapt>=1.11.0\n",
            "  Downloading wrapt-1.16.0-cp310-cp310-manylinux_2_5_x86_64.manylinux1_x86_64.manylinux_2_17_x86_64.manylinux2014_x86_64.whl (80 kB)\n",
            "\u001b[2K     \u001b[90m━━━━━━━━━━━━━━━━━━━━━━━━━━━━━━━━━━━━━━━━\u001b[0m \u001b[32m80.3/80.3 kB\u001b[0m \u001b[31m12.4 MB/s\u001b[0m eta \u001b[36m0:00:00\u001b[0m\n",
            "\u001b[?25hRequirement already satisfied: typing-extensions>=3.6.6 in /opt/conda/lib/python3.10/site-packages (from tensorflow) (4.4.0)\n",
            "Requirement already satisfied: packaging in /opt/conda/lib/python3.10/site-packages (from tensorflow) (22.0)\n",
            "Requirement already satisfied: wheel<1.0,>=0.23.0 in /opt/conda/lib/python3.10/site-packages (from astunparse>=1.6.0->tensorflow) (0.38.4)\n",
            "Collecting rich\n",
            "  Downloading rich-13.8.0-py3-none-any.whl (241 kB)\n",
            "\u001b[2K     \u001b[90m━━━━━━━━━━━━━━━━━━━━━━━━━━━━━━━━━━━━━━\u001b[0m \u001b[32m241.6/241.6 kB\u001b[0m \u001b[31m27.9 MB/s\u001b[0m eta \u001b[36m0:00:00\u001b[0m\n",
            "\u001b[?25hCollecting optree\n",
            "  Downloading optree-0.12.1-cp310-cp310-manylinux_2_17_x86_64.manylinux2014_x86_64.whl (347 kB)\n",
            "\u001b[2K     \u001b[90m━━━━━━━━━━━━━━━━━━━━━━━━━━━━━━━━━━━━━━\u001b[0m \u001b[32m347.7/347.7 kB\u001b[0m \u001b[31m31.5 MB/s\u001b[0m eta \u001b[36m0:00:00\u001b[0m\n",
            "\u001b[?25hCollecting namex\n",
            "  Downloading namex-0.0.8-py3-none-any.whl (5.8 kB)\n",
            "Requirement already satisfied: certifi>=2017.4.17 in /opt/conda/lib/python3.10/site-packages (from requests<3,>=2.21.0->tensorflow) (2022.12.7)\n",
            "Requirement already satisfied: urllib3<1.27,>=1.21.1 in /opt/conda/lib/python3.10/site-packages (from requests<3,>=2.21.0->tensorflow) (1.26.13)\n",
            "Requirement already satisfied: charset-normalizer<3,>=2 in /opt/conda/lib/python3.10/site-packages (from requests<3,>=2.21.0->tensorflow) (2.1.1)\n",
            "Requirement already satisfied: idna<4,>=2.5 in /opt/conda/lib/python3.10/site-packages (from requests<3,>=2.21.0->tensorflow) (3.4)\n",
            "Collecting tensorboard-data-server<0.8.0,>=0.7.0\n",
            "  Downloading tensorboard_data_server-0.7.2-py3-none-manylinux_2_31_x86_64.whl (6.6 MB)\n",
            "\u001b[2K     \u001b[90m━━━━━━━━━━━━━━━━━━━━━━━━━━━━━━━━━━━━━━━━\u001b[0m \u001b[32m6.6/6.6 MB\u001b[0m \u001b[31m61.6 MB/s\u001b[0m eta \u001b[36m0:00:00\u001b[0m00:01\u001b[0m00:01\u001b[0m\n",
            "\u001b[?25hCollecting markdown>=2.6.8\n",
            "  Downloading Markdown-3.7-py3-none-any.whl (106 kB)\n",
            "\u001b[2K     \u001b[90m━━━━━━━━━━━━━━━━━━━━━━━━━━━━━━━━━━━━━━\u001b[0m \u001b[32m106.3/106.3 kB\u001b[0m \u001b[31m17.4 MB/s\u001b[0m eta \u001b[36m0:00:00\u001b[0m\n",
            "\u001b[?25hCollecting werkzeug>=1.0.1\n",
            "  Downloading werkzeug-3.0.4-py3-none-any.whl (227 kB)\n",
            "\u001b[2K     \u001b[90m━━━━━━━━━━━━━━━━━━━━━━━━━━━━━━━━━━━━━━\u001b[0m \u001b[32m227.6/227.6 kB\u001b[0m \u001b[31m28.5 MB/s\u001b[0m eta \u001b[36m0:00:00\u001b[0m\n",
            "\u001b[?25hRequirement already satisfied: MarkupSafe>=2.1.1 in /opt/conda/lib/python3.10/site-packages (from werkzeug>=1.0.1->tensorboard<2.18,>=2.17->tensorflow) (2.1.1)\n",
            "Collecting typing-extensions>=3.6.6\n",
            "  Downloading typing_extensions-4.12.2-py3-none-any.whl (37 kB)\n",
            "Requirement already satisfied: pygments<3.0.0,>=2.13.0 in /opt/conda/lib/python3.10/site-packages (from rich->keras>=3.2.0->tensorflow) (2.13.0)\n",
            "Collecting markdown-it-py>=2.2.0\n",
            "  Downloading markdown_it_py-3.0.0-py3-none-any.whl (87 kB)\n",
            "\u001b[2K     \u001b[90m━━━━━━━━━━━━━━━━━━━━━━━━━━━━━━━━━━━━━━━━\u001b[0m \u001b[32m87.5/87.5 kB\u001b[0m \u001b[31m12.6 MB/s\u001b[0m eta \u001b[36m0:00:00\u001b[0m\n",
            "\u001b[?25hCollecting mdurl~=0.1\n",
            "  Downloading mdurl-0.1.2-py3-none-any.whl (10.0 kB)\n",
            "Installing collected packages: namex, libclang, flatbuffers, wrapt, werkzeug, typing-extensions, termcolor, tensorflow-io-gcs-filesystem, tensorboard-data-server, opt-einsum, ml-dtypes, mdurl, markdown, h5py, grpcio, google-pasta, gast, astunparse, absl-py, tensorboard, optree, markdown-it-py, rich, keras, tensorflow\n",
            "  Attempting uninstall: typing-extensions\n",
            "    Found existing installation: typing_extensions 4.4.0\n",
            "    Uninstalling typing_extensions-4.4.0:\n",
            "      Successfully uninstalled typing_extensions-4.4.0\n",
            "  Attempting uninstall: h5py\n",
            "    Found existing installation: h5py 3.7.0\n",
            "    Uninstalling h5py-3.7.0:\n",
            "      Successfully uninstalled h5py-3.7.0\n",
            "Successfully installed absl-py-2.1.0 astunparse-1.6.3 flatbuffers-24.3.25 gast-0.6.0 google-pasta-0.2.0 grpcio-1.66.1 h5py-3.11.0 keras-3.5.0 libclang-18.1.1 markdown-3.7 markdown-it-py-3.0.0 mdurl-0.1.2 ml-dtypes-0.4.0 namex-0.0.8 opt-einsum-3.3.0 optree-0.12.1 rich-13.8.0 tensorboard-2.17.1 tensorboard-data-server-0.7.2 tensorflow-2.17.0 tensorflow-io-gcs-filesystem-0.37.1 termcolor-2.4.0 typing-extensions-4.12.2 werkzeug-3.0.4 wrapt-1.16.0\n"
          ]
        }
      ],
      "source": [
        "!pip install tensorflow --default-timeout=200"
      ]
    },
    {
      "cell_type": "code",
      "execution_count": null,
      "id": "71ca0fd9-044c-4fd1-83fb-c2fb7a134a0f",
      "metadata": {
        "id": "71ca0fd9-044c-4fd1-83fb-c2fb7a134a0f",
        "outputId": "f8cc8aee-ba93-4655-9b10-1c7a7939ac65"
      },
      "outputs": [
        {
          "name": "stderr",
          "output_type": "stream",
          "text": [
            "2024-09-03 18:06:01.871504: I external/local_xla/xla/tsl/cuda/cudart_stub.cc:32] Could not find cuda drivers on your machine, GPU will not be used.\n",
            "2024-09-03 18:06:01.877431: I external/local_xla/xla/tsl/cuda/cudart_stub.cc:32] Could not find cuda drivers on your machine, GPU will not be used.\n",
            "2024-09-03 18:06:01.899238: E external/local_xla/xla/stream_executor/cuda/cuda_fft.cc:485] Unable to register cuFFT factory: Attempting to register factory for plugin cuFFT when one has already been registered\n",
            "2024-09-03 18:06:01.934212: E external/local_xla/xla/stream_executor/cuda/cuda_dnn.cc:8454] Unable to register cuDNN factory: Attempting to register factory for plugin cuDNN when one has already been registered\n",
            "2024-09-03 18:06:01.944234: E external/local_xla/xla/stream_executor/cuda/cuda_blas.cc:1452] Unable to register cuBLAS factory: Attempting to register factory for plugin cuBLAS when one has already been registered\n",
            "2024-09-03 18:06:01.968163: I tensorflow/core/platform/cpu_feature_guard.cc:210] This TensorFlow binary is optimized to use available CPU instructions in performance-critical operations.\n",
            "To enable the following instructions: AVX2 FMA, in other operations, rebuild TensorFlow with the appropriate compiler flags.\n",
            "2024-09-03 18:06:03.590441: W tensorflow/compiler/tf2tensorrt/utils/py_utils.cc:38] TF-TRT Warning: Could not find TensorRT\n"
          ]
        },
        {
          "name": "stdout",
          "output_type": "stream",
          "text": [
            "TensorFlow version: 2.17.0\n",
            "Eager execution is: True\n",
            "Keras version: 3.5.0\n"
          ]
        }
      ],
      "source": [
        "import tensorflow as tf\n",
        "\n",
        "print(\"TensorFlow version: {}\".format(tf.__version__))\n",
        "print(\"Eager execution is: {}\".format(tf.executing_eagerly()))\n",
        "print(\"Keras version: {}\".format(tf.keras.__version__))"
      ]
    },
    {
      "cell_type": "code",
      "execution_count": null,
      "id": "0b94488f-41d7-4a23-96fa-cbf47eb6095d",
      "metadata": {
        "id": "0b94488f-41d7-4a23-96fa-cbf47eb6095d",
        "outputId": "9d8284f9-acee-487f-fad6-b3314a8f307a"
      },
      "outputs": [
        {
          "name": "stdout",
          "output_type": "stream",
          "text": [
            "WARNING:tensorflow:From /tmp/ipykernel_487/3803036092.py:1: is_gpu_available (from tensorflow.python.framework.test_util) is deprecated and will be removed in a future version.\n",
            "Instructions for updating:\n",
            "Use `tf.config.list_physical_devices('GPU')` instead.\n",
            "Running on CPU\n"
          ]
        }
      ],
      "source": [
        "if tf.test.is_gpu_available():\n",
        "    print('Running on GPU')\n",
        "else:\n",
        "    print('Running on CPU')"
      ]
    },
    {
      "cell_type": "code",
      "execution_count": null,
      "id": "90da198d-6e4c-4bc4-8f6e-049dbec7cf09",
      "metadata": {
        "id": "90da198d-6e4c-4bc4-8f6e-049dbec7cf09",
        "outputId": "1222cb81-d277-4dcb-876b-902800a3f184"
      },
      "outputs": [
        {
          "data": {
            "text/plain": [
              "[PhysicalDevice(name='/physical_device:CPU:0', device_type='CPU')]"
            ]
          },
          "execution_count": 8,
          "metadata": {},
          "output_type": "execute_result"
        }
      ],
      "source": [
        "tf.config.list_physical_devices('CPU')"
      ]
    },
    {
      "cell_type": "code",
      "execution_count": null,
      "id": "500bdf23-0fc7-49ae-beb2-c0a6b7adcb8c",
      "metadata": {
        "id": "500bdf23-0fc7-49ae-beb2-c0a6b7adcb8c",
        "outputId": "f0572e40-6ef0-4127-f2d8-6943ee4ddf0c"
      },
      "outputs": [
        {
          "data": {
            "text/plain": [
              "[]"
            ]
          },
          "execution_count": 9,
          "metadata": {},
          "output_type": "execute_result"
        }
      ],
      "source": [
        "tf.config.list_physical_devices('GPU')"
      ]
    },
    {
      "cell_type": "code",
      "execution_count": null,
      "id": "614cb250-e87e-4ee2-a40d-1bc52479982d",
      "metadata": {
        "id": "614cb250-e87e-4ee2-a40d-1bc52479982d"
      },
      "outputs": [],
      "source": [
        "from keras.datasets import mnist"
      ]
    },
    {
      "cell_type": "code",
      "execution_count": null,
      "id": "883693e7-6694-4d1e-9c63-11f04bae8c4a",
      "metadata": {
        "id": "883693e7-6694-4d1e-9c63-11f04bae8c4a",
        "outputId": "0fece2ef-6e98-458e-9f95-c203372ca4be"
      },
      "outputs": [
        {
          "name": "stdout",
          "output_type": "stream",
          "text": [
            "Downloading data from https://storage.googleapis.com/tensorflow/tf-keras-datasets/mnist.npz\n",
            "\u001b[1m11490434/11490434\u001b[0m \u001b[32m━━━━━━━━━━━━━━━━━━━━\u001b[0m\u001b[37m\u001b[0m \u001b[1m2s\u001b[0m 0us/step\n"
          ]
        }
      ],
      "source": [
        "(x_train, y_train), (x_test, y_test) = mnist.load_data()"
      ]
    },
    {
      "cell_type": "code",
      "execution_count": null,
      "id": "03318843-8a1a-41e4-b4ca-bb3294f741f5",
      "metadata": {
        "id": "03318843-8a1a-41e4-b4ca-bb3294f741f5",
        "outputId": "c880a30f-7c87-4963-c9eb-794a653870e7"
      },
      "outputs": [
        {
          "data": {
            "image/png": "[encoded data removed]",
            "text/plain": [
              "<Figure size 1000x1000 with 9 Axes>"
            ]
          },
          "metadata": {},
          "output_type": "display_data"
        }
      ],
      "source": [
        "import matplotlib.pyplot as plt\n",
        "plt.figure(figsize=(10,10))\n",
        "for i in range(9):\n",
        "    plt.subplot(3,3,i+1)\n",
        "    plt.imshow(x_train[i],cmap='gray')\n",
        "    plt.title(f'Label : {y_train[i]}')\n",
        "plt.show()"
      ]
    },
    {
      "cell_type": "code",
      "execution_count": null,
      "id": "de9a5bec-ebd9-441d-9809-fa1d088ef4f6",
      "metadata": {
        "id": "de9a5bec-ebd9-441d-9809-fa1d088ef4f6"
      },
      "outputs": [],
      "source": [
        "x_train = x_train/255\n",
        "x_test = x_test/255"
      ]
    },
    {
      "cell_type": "code",
      "execution_count": null,
      "id": "138d1a4f-6f5f-46e9-9611-cdd065d07926",
      "metadata": {
        "id": "138d1a4f-6f5f-46e9-9611-cdd065d07926"
      },
      "outputs": [],
      "source": [
        "from keras.utils import to_categorical\n",
        "num_classes = 10\n",
        "y_train = to_categorical(y_train, num_classes)\n",
        "y_test = to_categorical(y_test, num_classes)"
      ]
    },
    {
      "cell_type": "code",
      "execution_count": null,
      "id": "1de0eafc-ab5a-48eb-85a2-302d86836f4c",
      "metadata": {
        "id": "1de0eafc-ab5a-48eb-85a2-302d86836f4c",
        "outputId": "17549d59-5ad4-4468-b472-45bd43481ca9"
      },
      "outputs": [
        {
          "data": {
            "text/plain": [
              "array([[0., 0., 0., 0., 0., 1., 0., 0., 0., 0.],\n",
              "       [1., 0., 0., 0., 0., 0., 0., 0., 0., 0.],\n",
              "       [0., 0., 0., 0., 1., 0., 0., 0., 0., 0.],\n",
              "       [0., 1., 0., 0., 0., 0., 0., 0., 0., 0.],\n",
              "       [0., 0., 0., 0., 0., 0., 0., 0., 0., 1.]])"
            ]
          },
          "execution_count": 15,
          "metadata": {},
          "output_type": "execute_result"
        }
      ],
      "source": [
        "y_train[0:5]"
      ]
    },
    {
      "cell_type": "code",
      "execution_count": null,
      "id": "d7371e36-e65d-407d-98e7-c96bf90523b6",
      "metadata": {
        "id": "d7371e36-e65d-407d-98e7-c96bf90523b6",
        "outputId": "c0fc352a-3295-4579-d490-60a98834e8b1"
      },
      "outputs": [
        {
          "data": {
            "text/plain": [
              "array([[0., 0., 0., 0., 0., 0., 0., 1., 0., 0.],\n",
              "       [0., 0., 1., 0., 0., 0., 0., 0., 0., 0.],\n",
              "       [0., 1., 0., 0., 0., 0., 0., 0., 0., 0.],\n",
              "       [1., 0., 0., 0., 0., 0., 0., 0., 0., 0.],\n",
              "       [0., 0., 0., 0., 1., 0., 0., 0., 0., 0.]])"
            ]
          },
          "execution_count": 16,
          "metadata": {},
          "output_type": "execute_result"
        }
      ],
      "source": [
        "y_test[0:5]"
      ]
    },
    {
      "cell_type": "code",
      "execution_count": null,
      "id": "84115500-398e-4e2f-a140-a76ba125ec0c",
      "metadata": {
        "id": "84115500-398e-4e2f-a140-a76ba125ec0c",
        "outputId": "eef0fd3c-22fc-4101-c6ba-c0f46adc2e37"
      },
      "outputs": [
        {
          "ename": "SyntaxError",
          "evalue": "invalid decimal literal (3169473133.py, line 1)",
          "output_type": "error",
          "traceback": [
            "\u001b[0;36m  Cell \u001b[0;32mIn[17], line 1\u001b[0;36m\u001b[0m\n\u001b[0;31m    2.Implement a simple feedforward neural network using any deep learning framework\u001b[0m\n\u001b[0m     ^\u001b[0m\n\u001b[0;31mSyntaxError\u001b[0m\u001b[0;31m:\u001b[0m invalid decimal literal\n"
          ]
        }
      ],
      "source": [
        "2.Implement a simple feedforward neural network using any deep learning framework"
      ]
    },
    {
      "cell_type": "code",
      "execution_count": null,
      "id": "e26d04ba-3d24-495f-83fe-75644e358c30",
      "metadata": {
        "id": "e26d04ba-3d24-495f-83fe-75644e358c30"
      },
      "outputs": [],
      "source": [
        "from keras.models import Sequential\n",
        "from keras.layers import Dense, Flatten"
      ]
    },
    {
      "cell_type": "code",
      "execution_count": null,
      "id": "c36c866e-7376-4d65-a09e-7fd4e18ba649",
      "metadata": {
        "id": "c36c866e-7376-4d65-a09e-7fd4e18ba649",
        "outputId": "fc69ad85-6585-47ed-919a-b1b4ff574f6e"
      },
      "outputs": [
        {
          "name": "stderr",
          "output_type": "stream",
          "text": [
            "/opt/conda/lib/python3.10/site-packages/keras/src/layers/reshaping/flatten.py:37: UserWarning: Do not pass an `input_shape`/`input_dim` argument to a layer. When using Sequential models, prefer using an `Input(shape)` object as the first layer in the model instead.\n",
            "  super().__init__(**kwargs)\n"
          ]
        }
      ],
      "source": [
        "# Define the model\n",
        "model = Sequential()\n",
        "\n",
        "# Adding a simple flatten layer\n",
        "model.add(Flatten(input_shape=(28,28,1)))\n",
        "\n",
        "# Adding Dense Layers\n",
        "model.add(Dense(64, activation='relu'))\n",
        "model.add(Dense(32,activation='relu'))\n",
        "\n",
        "# Output layer\n",
        "model.add(Dense(10,activation='softmax'))"
      ]
    },
    {
      "cell_type": "code",
      "execution_count": null,
      "id": "ec8831dd-5006-481c-a49d-78b6907889e6",
      "metadata": {
        "id": "ec8831dd-5006-481c-a49d-78b6907889e6"
      },
      "outputs": [],
      "source": [
        "# Compile the model\n",
        "model.compile(loss='categorical_crossentropy',optimizer='adam',metrics=['accuracy'])"
      ]
    },
    {
      "cell_type": "code",
      "execution_count": null,
      "id": "5c1d10d9-21bd-4c67-9c39-59343ebfec17",
      "metadata": {
        "id": "5c1d10d9-21bd-4c67-9c39-59343ebfec17",
        "outputId": "919084a9-5c14-40a8-bf0c-98463100e6a6"
      },
      "outputs": [
        {
          "data": {
            "text/html": [
              "<pre style=\"white-space:pre;overflow-x:auto;line-height:normal;font-family:Menlo,'DejaVu Sans Mono',consolas,'Courier New',monospace\"><span style=\"font-weight: bold\">Model: \"sequential\"</span>\n",
              "</pre>\n"
            ],
            "text/plain": [
              "\u001b[1mModel: \"sequential\"\u001b[0m\n"
            ]
          },
          "metadata": {},
          "output_type": "display_data"
        },
        {
          "data": {
            "text/html": [
              "<pre style=\"white-space:pre;overflow-x:auto;line-height:normal;font-family:Menlo,'DejaVu Sans Mono',consolas,'Courier New',monospace\">┏━━━━━━━━━━━━━━━━━━━━━━━━━━━━━━━━━┳━━━━━━━━━━━━━━━━━━━━━━━━┳━━━━━━━━━━━━━━━┓\n",
              "┃<span style=\"font-weight: bold\"> Layer (type)                    </span>┃<span style=\"font-weight: bold\"> Output Shape           </span>┃<span style=\"font-weight: bold\">       Param # </span>┃\n",
              "┡━━━━━━━━━━━━━━━━━━━━━━━━━━━━━━━━━╇━━━━━━━━━━━━━━━━━━━━━━━━╇━━━━━━━━━━━━━━━┩\n",
              "│ flatten (<span style=\"color: #0087ff; text-decoration-color: #0087ff\">Flatten</span>)               │ (<span style=\"color: #00d7ff; text-decoration-color: #00d7ff\">None</span>, <span style=\"color: #00af00; text-decoration-color: #00af00\">784</span>)            │             <span style=\"color: #00af00; text-decoration-color: #00af00\">0</span> │\n",
              "├─────────────────────────────────┼────────────────────────┼───────────────┤\n",
              "│ dense (<span style=\"color: #0087ff; text-decoration-color: #0087ff\">Dense</span>)                   │ (<span style=\"color: #00d7ff; text-decoration-color: #00d7ff\">None</span>, <span style=\"color: #00af00; text-decoration-color: #00af00\">64</span>)             │        <span style=\"color: #00af00; text-decoration-color: #00af00\">50,240</span> │\n",
              "├─────────────────────────────────┼────────────────────────┼───────────────┤\n",
              "│ dense_1 (<span style=\"color: #0087ff; text-decoration-color: #0087ff\">Dense</span>)                 │ (<span style=\"color: #00d7ff; text-decoration-color: #00d7ff\">None</span>, <span style=\"color: #00af00; text-decoration-color: #00af00\">32</span>)             │         <span style=\"color: #00af00; text-decoration-color: #00af00\">2,080</span> │\n",
              "├─────────────────────────────────┼────────────────────────┼───────────────┤\n",
              "│ dense_2 (<span style=\"color: #0087ff; text-decoration-color: #0087ff\">Dense</span>)                 │ (<span style=\"color: #00d7ff; text-decoration-color: #00d7ff\">None</span>, <span style=\"color: #00af00; text-decoration-color: #00af00\">10</span>)             │           <span style=\"color: #00af00; text-decoration-color: #00af00\">330</span> │\n",
              "└─────────────────────────────────┴────────────────────────┴───────────────┘\n",
              "</pre>\n"
            ],
            "text/plain": [
              "┏━━━━━━━━━━━━━━━━━━━━━━━━━━━━━━━━━┳━━━━━━━━━━━━━━━━━━━━━━━━┳━━━━━━━━━━━━━━━┓\n",
              "┃\u001b[1m \u001b[0m\u001b[1mLayer (type)                   \u001b[0m\u001b[1m \u001b[0m┃\u001b[1m \u001b[0m\u001b[1mOutput Shape          \u001b[0m\u001b[1m \u001b[0m┃\u001b[1m \u001b[0m\u001b[1m      Param #\u001b[0m\u001b[1m \u001b[0m┃\n",
              "┡━━━━━━━━━━━━━━━━━━━━━━━━━━━━━━━━━╇━━━━━━━━━━━━━━━━━━━━━━━━╇━━━━━━━━━━━━━━━┩\n",
              "│ flatten (\u001b[38;5;33mFlatten\u001b[0m)               │ (\u001b[38;5;45mNone\u001b[0m, \u001b[38;5;34m784\u001b[0m)            │             \u001b[38;5;34m0\u001b[0m │\n",
              "├─────────────────────────────────┼────────────────────────┼───────────────┤\n",
              "│ dense (\u001b[38;5;33mDense\u001b[0m)                   │ (\u001b[38;5;45mNone\u001b[0m, \u001b[38;5;34m64\u001b[0m)             │        \u001b[38;5;34m50,240\u001b[0m │\n",
              "├─────────────────────────────────┼────────────────────────┼───────────────┤\n",
              "│ dense_1 (\u001b[38;5;33mDense\u001b[0m)                 │ (\u001b[38;5;45mNone\u001b[0m, \u001b[38;5;34m32\u001b[0m)             │         \u001b[38;5;34m2,080\u001b[0m │\n",
              "├─────────────────────────────────┼────────────────────────┼───────────────┤\n",
              "│ dense_2 (\u001b[38;5;33mDense\u001b[0m)                 │ (\u001b[38;5;45mNone\u001b[0m, \u001b[38;5;34m10\u001b[0m)             │           \u001b[38;5;34m330\u001b[0m │\n",
              "└─────────────────────────────────┴────────────────────────┴───────────────┘\n"
            ]
          },
          "metadata": {},
          "output_type": "display_data"
        },
        {
          "data": {
            "text/html": [
              "<pre style=\"white-space:pre;overflow-x:auto;line-height:normal;font-family:Menlo,'DejaVu Sans Mono',consolas,'Courier New',monospace\"><span style=\"font-weight: bold\"> Total params: </span><span style=\"color: #00af00; text-decoration-color: #00af00\">52,650</span> (205.66 KB)\n",
              "</pre>\n"
            ],
            "text/plain": [
              "\u001b[1m Total params: \u001b[0m\u001b[38;5;34m52,650\u001b[0m (205.66 KB)\n"
            ]
          },
          "metadata": {},
          "output_type": "display_data"
        },
        {
          "data": {
            "text/html": [
              "<pre style=\"white-space:pre;overflow-x:auto;line-height:normal;font-family:Menlo,'DejaVu Sans Mono',consolas,'Courier New',monospace\"><span style=\"font-weight: bold\"> Trainable params: </span><span style=\"color: #00af00; text-decoration-color: #00af00\">52,650</span> (205.66 KB)\n",
              "</pre>\n"
            ],
            "text/plain": [
              "\u001b[1m Trainable params: \u001b[0m\u001b[38;5;34m52,650\u001b[0m (205.66 KB)\n"
            ]
          },
          "metadata": {},
          "output_type": "display_data"
        },
        {
          "data": {
            "text/html": [
              "<pre style=\"white-space:pre;overflow-x:auto;line-height:normal;font-family:Menlo,'DejaVu Sans Mono',consolas,'Courier New',monospace\"><span style=\"font-weight: bold\"> Non-trainable params: </span><span style=\"color: #00af00; text-decoration-color: #00af00\">0</span> (0.00 B)\n",
              "</pre>\n"
            ],
            "text/plain": [
              "\u001b[1m Non-trainable params: \u001b[0m\u001b[38;5;34m0\u001b[0m (0.00 B)\n"
            ]
          },
          "metadata": {},
          "output_type": "display_data"
        }
      ],
      "source": [
        "# Model summary\n",
        "model.summary()"
      ]
    },
    {
      "cell_type": "code",
      "execution_count": null,
      "id": "b2bd9605-968a-44f4-aef3-4f4cada9d340",
      "metadata": {
        "id": "b2bd9605-968a-44f4-aef3-4f4cada9d340"
      },
      "outputs": [],
      "source": [
        "3. Train a neural network without using batch normalization during training\n"
      ]
    },
    {
      "cell_type": "code",
      "execution_count": null,
      "id": "d7c74f80-24eb-4399-b890-d38a9fd7b29f",
      "metadata": {
        "id": "d7c74f80-24eb-4399-b890-d38a9fd7b29f",
        "outputId": "06e5c32d-63e8-4e2c-9429-4858856674bf"
      },
      "outputs": [
        {
          "name": "stdout",
          "output_type": "stream",
          "text": [
            "Epoch 1/30\n",
            "\u001b[1m1500/1500\u001b[0m \u001b[32m━━━━━━━━━━━━━━━━━━━━\u001b[0m\u001b[37m\u001b[0m \u001b[1m5s\u001b[0m 2ms/step - accuracy: 0.8359 - loss: 0.5616 - val_accuracy: 0.9532 - val_loss: 0.1675\n",
            "Epoch 2/30\n",
            "\u001b[1m1500/1500\u001b[0m \u001b[32m━━━━━━━━━━━━━━━━━━━━\u001b[0m\u001b[37m\u001b[0m \u001b[1m3s\u001b[0m 2ms/step - accuracy: 0.9544 - loss: 0.1515 - val_accuracy: 0.9605 - val_loss: 0.1354\n",
            "Epoch 3/30\n",
            "\u001b[1m1500/1500\u001b[0m \u001b[32m━━━━━━━━━━━━━━━━━━━━\u001b[0m\u001b[37m\u001b[0m \u001b[1m3s\u001b[0m 2ms/step - accuracy: 0.9688 - loss: 0.1041 - val_accuracy: 0.9659 - val_loss: 0.1198\n",
            "Epoch 4/30\n",
            "\u001b[1m1500/1500\u001b[0m \u001b[32m━━━━━━━━━━━━━━━━━━━━\u001b[0m\u001b[37m\u001b[0m \u001b[1m3s\u001b[0m 2ms/step - accuracy: 0.9751 - loss: 0.0832 - val_accuracy: 0.9696 - val_loss: 0.1096\n",
            "Epoch 5/30\n",
            "\u001b[1m1500/1500\u001b[0m \u001b[32m━━━━━━━━━━━━━━━━━━━━\u001b[0m\u001b[37m\u001b[0m \u001b[1m3s\u001b[0m 2ms/step - accuracy: 0.9796 - loss: 0.0650 - val_accuracy: 0.9691 - val_loss: 0.1073\n",
            "Epoch 6/30\n",
            "\u001b[1m1500/1500\u001b[0m \u001b[32m━━━━━━━━━━━━━━━━━━━━\u001b[0m\u001b[37m\u001b[0m \u001b[1m3s\u001b[0m 2ms/step - accuracy: 0.9839 - loss: 0.0536 - val_accuracy: 0.9689 - val_loss: 0.1088\n",
            "Epoch 7/30\n",
            "\u001b[1m1500/1500\u001b[0m \u001b[32m━━━━━━━━━━━━━━━━━━━━\u001b[0m\u001b[37m\u001b[0m \u001b[1m3s\u001b[0m 2ms/step - accuracy: 0.9860 - loss: 0.0439 - val_accuracy: 0.9722 - val_loss: 0.1017\n",
            "Epoch 8/30\n",
            "\u001b[1m1500/1500\u001b[0m \u001b[32m━━━━━━━━━━━━━━━━━━━━\u001b[0m\u001b[37m\u001b[0m \u001b[1m3s\u001b[0m 2ms/step - accuracy: 0.9878 - loss: 0.0387 - val_accuracy: 0.9721 - val_loss: 0.1034\n",
            "Epoch 9/30\n",
            "\u001b[1m1500/1500\u001b[0m \u001b[32m━━━━━━━━━━━━━━━━━━━━\u001b[0m\u001b[37m\u001b[0m \u001b[1m3s\u001b[0m 2ms/step - accuracy: 0.9890 - loss: 0.0337 - val_accuracy: 0.9712 - val_loss: 0.1053\n",
            "Epoch 10/30\n",
            "\u001b[1m1500/1500\u001b[0m \u001b[32m━━━━━━━━━━━━━━━━━━━━\u001b[0m\u001b[37m\u001b[0m \u001b[1m3s\u001b[0m 2ms/step - accuracy: 0.9905 - loss: 0.0299 - val_accuracy: 0.9694 - val_loss: 0.1188\n",
            "Epoch 11/30\n",
            "\u001b[1m1500/1500\u001b[0m \u001b[32m━━━━━━━━━━━━━━━━━━━━\u001b[0m\u001b[37m\u001b[0m \u001b[1m3s\u001b[0m 2ms/step - accuracy: 0.9922 - loss: 0.0237 - val_accuracy: 0.9712 - val_loss: 0.1162\n",
            "Epoch 12/30\n",
            "\u001b[1m1500/1500\u001b[0m \u001b[32m━━━━━━━━━━━━━━━━━━━━\u001b[0m\u001b[37m\u001b[0m \u001b[1m3s\u001b[0m 2ms/step - accuracy: 0.9917 - loss: 0.0237 - val_accuracy: 0.9732 - val_loss: 0.1166\n",
            "Epoch 13/30\n",
            "\u001b[1m1500/1500\u001b[0m \u001b[32m━━━━━━━━━━━━━━━━━━━━\u001b[0m\u001b[37m\u001b[0m \u001b[1m3s\u001b[0m 2ms/step - accuracy: 0.9935 - loss: 0.0208 - val_accuracy: 0.9727 - val_loss: 0.1246\n",
            "Epoch 14/30\n",
            "\u001b[1m1500/1500\u001b[0m \u001b[32m━━━━━━━━━━━━━━━━━━━━\u001b[0m\u001b[37m\u001b[0m \u001b[1m3s\u001b[0m 2ms/step - accuracy: 0.9936 - loss: 0.0192 - val_accuracy: 0.9721 - val_loss: 0.1265\n",
            "Epoch 15/30\n",
            "\u001b[1m1500/1500\u001b[0m \u001b[32m━━━━━━━━━━━━━━━━━━━━\u001b[0m\u001b[37m\u001b[0m \u001b[1m3s\u001b[0m 2ms/step - accuracy: 0.9949 - loss: 0.0157 - val_accuracy: 0.9712 - val_loss: 0.1351\n",
            "Epoch 16/30\n",
            "\u001b[1m1500/1500\u001b[0m \u001b[32m━━━━━━━━━━━━━━━━━━━━\u001b[0m\u001b[37m\u001b[0m \u001b[1m3s\u001b[0m 2ms/step - accuracy: 0.9961 - loss: 0.0128 - val_accuracy: 0.9724 - val_loss: 0.1309\n",
            "Epoch 17/30\n",
            "\u001b[1m1500/1500\u001b[0m \u001b[32m━━━━━━━━━━━━━━━━━━━━\u001b[0m\u001b[37m\u001b[0m \u001b[1m3s\u001b[0m 2ms/step - accuracy: 0.9949 - loss: 0.0152 - val_accuracy: 0.9698 - val_loss: 0.1427\n",
            "Epoch 18/30\n",
            "\u001b[1m1500/1500\u001b[0m \u001b[32m━━━━━━━━━━━━━━━━━━━━\u001b[0m\u001b[37m\u001b[0m \u001b[1m3s\u001b[0m 2ms/step - accuracy: 0.9954 - loss: 0.0132 - val_accuracy: 0.9736 - val_loss: 0.1292\n",
            "Epoch 19/30\n",
            "\u001b[1m1500/1500\u001b[0m \u001b[32m━━━━━━━━━━━━━━━━━━━━\u001b[0m\u001b[37m\u001b[0m \u001b[1m3s\u001b[0m 2ms/step - accuracy: 0.9969 - loss: 0.0106 - val_accuracy: 0.9744 - val_loss: 0.1311\n",
            "Epoch 20/30\n",
            "\u001b[1m1500/1500\u001b[0m \u001b[32m━━━━━━━━━━━━━━━━━━━━\u001b[0m\u001b[37m\u001b[0m \u001b[1m3s\u001b[0m 2ms/step - accuracy: 0.9955 - loss: 0.0122 - val_accuracy: 0.9734 - val_loss: 0.1405\n",
            "Epoch 21/30\n",
            "\u001b[1m1500/1500\u001b[0m \u001b[32m━━━━━━━━━━━━━━━━━━━━\u001b[0m\u001b[37m\u001b[0m \u001b[1m3s\u001b[0m 2ms/step - accuracy: 0.9967 - loss: 0.0101 - val_accuracy: 0.9705 - val_loss: 0.1576\n",
            "Epoch 22/30\n",
            "\u001b[1m1500/1500\u001b[0m \u001b[32m━━━━━━━━━━━━━━━━━━━━\u001b[0m\u001b[37m\u001b[0m \u001b[1m3s\u001b[0m 2ms/step - accuracy: 0.9949 - loss: 0.0163 - val_accuracy: 0.9717 - val_loss: 0.1565\n",
            "Epoch 23/30\n",
            "\u001b[1m1500/1500\u001b[0m \u001b[32m━━━━━━━━━━━━━━━━━━━━\u001b[0m\u001b[37m\u001b[0m \u001b[1m3s\u001b[0m 2ms/step - accuracy: 0.9965 - loss: 0.0109 - val_accuracy: 0.9699 - val_loss: 0.1564\n",
            "Epoch 24/30\n",
            "\u001b[1m1500/1500\u001b[0m \u001b[32m━━━━━━━━━━━━━━━━━━━━\u001b[0m\u001b[37m\u001b[0m \u001b[1m3s\u001b[0m 2ms/step - accuracy: 0.9967 - loss: 0.0094 - val_accuracy: 0.9720 - val_loss: 0.1581\n",
            "Epoch 25/30\n",
            "\u001b[1m1500/1500\u001b[0m \u001b[32m━━━━━━━━━━━━━━━━━━━━\u001b[0m\u001b[37m\u001b[0m \u001b[1m3s\u001b[0m 2ms/step - accuracy: 0.9976 - loss: 0.0075 - val_accuracy: 0.9743 - val_loss: 0.1497\n",
            "Epoch 26/30\n",
            "\u001b[1m1500/1500\u001b[0m \u001b[32m━━━━━━━━━━━━━━━━━━━━\u001b[0m\u001b[37m\u001b[0m \u001b[1m3s\u001b[0m 2ms/step - accuracy: 0.9979 - loss: 0.0068 - val_accuracy: 0.9698 - val_loss: 0.1791\n",
            "Epoch 27/30\n",
            "\u001b[1m1500/1500\u001b[0m \u001b[32m━━━━━━━━━━━━━━━━━━━━\u001b[0m\u001b[37m\u001b[0m \u001b[1m3s\u001b[0m 2ms/step - accuracy: 0.9970 - loss: 0.0097 - val_accuracy: 0.9734 - val_loss: 0.1575\n",
            "Epoch 28/30\n",
            "\u001b[1m1500/1500\u001b[0m \u001b[32m━━━━━━━━━━━━━━━━━━━━\u001b[0m\u001b[37m\u001b[0m \u001b[1m3s\u001b[0m 2ms/step - accuracy: 0.9972 - loss: 0.0080 - val_accuracy: 0.9740 - val_loss: 0.1667\n",
            "Epoch 29/30\n",
            "\u001b[1m1500/1500\u001b[0m \u001b[32m━━━━━━━━━━━━━━━━━━━━\u001b[0m\u001b[37m\u001b[0m \u001b[1m3s\u001b[0m 2ms/step - accuracy: 0.9969 - loss: 0.0096 - val_accuracy: 0.9745 - val_loss: 0.1574\n",
            "Epoch 30/30\n",
            "\u001b[1m1500/1500\u001b[0m \u001b[32m━━━━━━━━━━━━━━━━━━━━\u001b[0m\u001b[37m\u001b[0m \u001b[1m3s\u001b[0m 2ms/step - accuracy: 0.9963 - loss: 0.0111 - val_accuracy: 0.9736 - val_loss: 0.1646\n"
          ]
        }
      ],
      "source": [
        "hist1 = model.fit(x_train,y_train,validation_split=0.2,epochs=30)"
      ]
    },
    {
      "cell_type": "code",
      "execution_count": null,
      "id": "b2f998e5-3f5b-4a79-bae2-e2b201952164",
      "metadata": {
        "id": "b2f998e5-3f5b-4a79-bae2-e2b201952164",
        "outputId": "9d364c6c-75bd-43d5-cda5-b4119dc3ddba"
      },
      "outputs": [
        {
          "name": "stdout",
          "output_type": "stream",
          "text": [
            "\u001b[1m1875/1875\u001b[0m \u001b[32m━━━━━━━━━━━━━━━━━━━━\u001b[0m\u001b[37m\u001b[0m \u001b[1m2s\u001b[0m 1ms/step - accuracy: 0.9982 - loss: 0.0077\n"
          ]
        },
        {
          "data": {
            "text/plain": [
              "[0.03655058890581131, 0.9936166405677795]"
            ]
          },
          "execution_count": 23,
          "metadata": {},
          "output_type": "execute_result"
        }
      ],
      "source": [
        "model.evaluate(x_train,y_train)"
      ]
    },
    {
      "cell_type": "code",
      "execution_count": null,
      "id": "b1b77653-f343-4005-b3c1-b8eee0f31015",
      "metadata": {
        "id": "b1b77653-f343-4005-b3c1-b8eee0f31015",
        "outputId": "a12f4534-bb84-4573-fca6-1f15e3c4f7e9"
      },
      "outputs": [
        {
          "name": "stdout",
          "output_type": "stream",
          "text": [
            "\u001b[1m313/313\u001b[0m \u001b[32m━━━━━━━━━━━━━━━━━━━━\u001b[0m\u001b[37m\u001b[0m \u001b[1m1s\u001b[0m 1ms/step - accuracy: 0.9689 - loss: 0.1848\n"
          ]
        },
        {
          "data": {
            "text/plain": [
              "[0.1554715484380722, 0.9740999937057495]"
            ]
          },
          "execution_count": 24,
          "metadata": {},
          "output_type": "execute_result"
        }
      ],
      "source": [
        "model.evaluate(x_test,y_test)"
      ]
    },
    {
      "cell_type": "code",
      "execution_count": null,
      "id": "cd81b500-a045-4c91-9404-770c959466be",
      "metadata": {
        "id": "cd81b500-a045-4c91-9404-770c959466be"
      },
      "outputs": [],
      "source": [
        "4. Implement batch normalization layers in neural network and train the model again\n"
      ]
    },
    {
      "cell_type": "code",
      "execution_count": null,
      "id": "3622b3f7-36b1-42fe-8acb-bd4281845760",
      "metadata": {
        "id": "3622b3f7-36b1-42fe-8acb-bd4281845760"
      },
      "outputs": [],
      "source": [
        "from keras.layers import BatchNormalization"
      ]
    },
    {
      "cell_type": "code",
      "execution_count": null,
      "id": "3dbf02c4-7520-4b82-bd3f-fb43251f0bc3",
      "metadata": {
        "id": "3dbf02c4-7520-4b82-bd3f-fb43251f0bc3"
      },
      "outputs": [],
      "source": [
        "model2 = Sequential()\n",
        "\n",
        "# Flatten Layer\n",
        "model2.add(Flatten(input_shape=(28,28,1)))\n",
        "\n",
        "# Dense layers with batch normalization\n",
        "model2.add(Dense(64,activation='relu'))\n",
        "model2.add(BatchNormalization())\n",
        "model2.add(Dense(32,activation='relu'))\n",
        "model2.add(BatchNormalization())\n",
        "\n",
        "# Output layer\n",
        "model2.add(Dense(10,activation='softmax'))"
      ]
    },
    {
      "cell_type": "code",
      "execution_count": null,
      "id": "6a10bf56-e3e5-4f5c-9a15-e783d8f21416",
      "metadata": {
        "id": "6a10bf56-e3e5-4f5c-9a15-e783d8f21416"
      },
      "outputs": [],
      "source": [
        "model2.compile(loss='categorical_crossentropy',optimizer='adam',metrics=['accuracy'])"
      ]
    },
    {
      "cell_type": "code",
      "execution_count": null,
      "id": "33a7a8a4-c8f6-461e-a895-8b33cf666683",
      "metadata": {
        "id": "33a7a8a4-c8f6-461e-a895-8b33cf666683",
        "outputId": "3009b7e9-dc8c-4f1a-f28f-d9599f6c6d88"
      },
      "outputs": [
        {
          "data": {
            "text/html": [
              "<pre style=\"white-space:pre;overflow-x:auto;line-height:normal;font-family:Menlo,'DejaVu Sans Mono',consolas,'Courier New',monospace\"><span style=\"font-weight: bold\">Model: \"sequential_1\"</span>\n",
              "</pre>\n"
            ],
            "text/plain": [
              "\u001b[1mModel: \"sequential_1\"\u001b[0m\n"
            ]
          },
          "metadata": {},
          "output_type": "display_data"
        },
        {
          "data": {
            "text/html": [
              "<pre style=\"white-space:pre;overflow-x:auto;line-height:normal;font-family:Menlo,'DejaVu Sans Mono',consolas,'Courier New',monospace\">┏━━━━━━━━━━━━━━━━━━━━━━━━━━━━━━━━━┳━━━━━━━━━━━━━━━━━━━━━━━━┳━━━━━━━━━━━━━━━┓\n",
              "┃<span style=\"font-weight: bold\"> Layer (type)                    </span>┃<span style=\"font-weight: bold\"> Output Shape           </span>┃<span style=\"font-weight: bold\">       Param # </span>┃\n",
              "┡━━━━━━━━━━━━━━━━━━━━━━━━━━━━━━━━━╇━━━━━━━━━━━━━━━━━━━━━━━━╇━━━━━━━━━━━━━━━┩\n",
              "│ flatten_1 (<span style=\"color: #0087ff; text-decoration-color: #0087ff\">Flatten</span>)             │ (<span style=\"color: #00d7ff; text-decoration-color: #00d7ff\">None</span>, <span style=\"color: #00af00; text-decoration-color: #00af00\">784</span>)            │             <span style=\"color: #00af00; text-decoration-color: #00af00\">0</span> │\n",
              "├─────────────────────────────────┼────────────────────────┼───────────────┤\n",
              "│ dense_3 (<span style=\"color: #0087ff; text-decoration-color: #0087ff\">Dense</span>)                 │ (<span style=\"color: #00d7ff; text-decoration-color: #00d7ff\">None</span>, <span style=\"color: #00af00; text-decoration-color: #00af00\">64</span>)             │        <span style=\"color: #00af00; text-decoration-color: #00af00\">50,240</span> │\n",
              "├─────────────────────────────────┼────────────────────────┼───────────────┤\n",
              "│ batch_normalization             │ (<span style=\"color: #00d7ff; text-decoration-color: #00d7ff\">None</span>, <span style=\"color: #00af00; text-decoration-color: #00af00\">64</span>)             │           <span style=\"color: #00af00; text-decoration-color: #00af00\">256</span> │\n",
              "│ (<span style=\"color: #0087ff; text-decoration-color: #0087ff\">BatchNormalization</span>)            │                        │               │\n",
              "├─────────────────────────────────┼────────────────────────┼───────────────┤\n",
              "│ dense_4 (<span style=\"color: #0087ff; text-decoration-color: #0087ff\">Dense</span>)                 │ (<span style=\"color: #00d7ff; text-decoration-color: #00d7ff\">None</span>, <span style=\"color: #00af00; text-decoration-color: #00af00\">32</span>)             │         <span style=\"color: #00af00; text-decoration-color: #00af00\">2,080</span> │\n",
              "├─────────────────────────────────┼────────────────────────┼───────────────┤\n",
              "│ batch_normalization_1           │ (<span style=\"color: #00d7ff; text-decoration-color: #00d7ff\">None</span>, <span style=\"color: #00af00; text-decoration-color: #00af00\">32</span>)             │           <span style=\"color: #00af00; text-decoration-color: #00af00\">128</span> │\n",
              "│ (<span style=\"color: #0087ff; text-decoration-color: #0087ff\">BatchNormalization</span>)            │                        │               │\n",
              "├─────────────────────────────────┼────────────────────────┼───────────────┤\n",
              "│ dense_5 (<span style=\"color: #0087ff; text-decoration-color: #0087ff\">Dense</span>)                 │ (<span style=\"color: #00d7ff; text-decoration-color: #00d7ff\">None</span>, <span style=\"color: #00af00; text-decoration-color: #00af00\">10</span>)             │           <span style=\"color: #00af00; text-decoration-color: #00af00\">330</span> │\n",
              "└─────────────────────────────────┴────────────────────────┴───────────────┘\n",
              "</pre>\n"
            ],
            "text/plain": [
              "┏━━━━━━━━━━━━━━━━━━━━━━━━━━━━━━━━━┳━━━━━━━━━━━━━━━━━━━━━━━━┳━━━━━━━━━━━━━━━┓\n",
              "┃\u001b[1m \u001b[0m\u001b[1mLayer (type)                   \u001b[0m\u001b[1m \u001b[0m┃\u001b[1m \u001b[0m\u001b[1mOutput Shape          \u001b[0m\u001b[1m \u001b[0m┃\u001b[1m \u001b[0m\u001b[1m      Param #\u001b[0m\u001b[1m \u001b[0m┃\n",
              "┡━━━━━━━━━━━━━━━━━━━━━━━━━━━━━━━━━╇━━━━━━━━━━━━━━━━━━━━━━━━╇━━━━━━━━━━━━━━━┩\n",
              "│ flatten_1 (\u001b[38;5;33mFlatten\u001b[0m)             │ (\u001b[38;5;45mNone\u001b[0m, \u001b[38;5;34m784\u001b[0m)            │             \u001b[38;5;34m0\u001b[0m │\n",
              "├─────────────────────────────────┼────────────────────────┼───────────────┤\n",
              "│ dense_3 (\u001b[38;5;33mDense\u001b[0m)                 │ (\u001b[38;5;45mNone\u001b[0m, \u001b[38;5;34m64\u001b[0m)             │        \u001b[38;5;34m50,240\u001b[0m │\n",
              "├─────────────────────────────────┼────────────────────────┼───────────────┤\n",
              "│ batch_normalization             │ (\u001b[38;5;45mNone\u001b[0m, \u001b[38;5;34m64\u001b[0m)             │           \u001b[38;5;34m256\u001b[0m │\n",
              "│ (\u001b[38;5;33mBatchNormalization\u001b[0m)            │                        │               │\n",
              "├─────────────────────────────────┼────────────────────────┼───────────────┤\n",
              "│ dense_4 (\u001b[38;5;33mDense\u001b[0m)                 │ (\u001b[38;5;45mNone\u001b[0m, \u001b[38;5;34m32\u001b[0m)             │         \u001b[38;5;34m2,080\u001b[0m │\n",
              "├─────────────────────────────────┼────────────────────────┼───────────────┤\n",
              "│ batch_normalization_1           │ (\u001b[38;5;45mNone\u001b[0m, \u001b[38;5;34m32\u001b[0m)             │           \u001b[38;5;34m128\u001b[0m │\n",
              "│ (\u001b[38;5;33mBatchNormalization\u001b[0m)            │                        │               │\n",
              "├─────────────────────────────────┼────────────────────────┼───────────────┤\n",
              "│ dense_5 (\u001b[38;5;33mDense\u001b[0m)                 │ (\u001b[38;5;45mNone\u001b[0m, \u001b[38;5;34m10\u001b[0m)             │           \u001b[38;5;34m330\u001b[0m │\n",
              "└─────────────────────────────────┴────────────────────────┴───────────────┘\n"
            ]
          },
          "metadata": {},
          "output_type": "display_data"
        },
        {
          "data": {
            "text/html": [
              "<pre style=\"white-space:pre;overflow-x:auto;line-height:normal;font-family:Menlo,'DejaVu Sans Mono',consolas,'Courier New',monospace\"><span style=\"font-weight: bold\"> Total params: </span><span style=\"color: #00af00; text-decoration-color: #00af00\">53,034</span> (207.16 KB)\n",
              "</pre>\n"
            ],
            "text/plain": [
              "\u001b[1m Total params: \u001b[0m\u001b[38;5;34m53,034\u001b[0m (207.16 KB)\n"
            ]
          },
          "metadata": {},
          "output_type": "display_data"
        },
        {
          "data": {
            "text/html": [
              "<pre style=\"white-space:pre;overflow-x:auto;line-height:normal;font-family:Menlo,'DejaVu Sans Mono',consolas,'Courier New',monospace\"><span style=\"font-weight: bold\"> Trainable params: </span><span style=\"color: #00af00; text-decoration-color: #00af00\">52,842</span> (206.41 KB)\n",
              "</pre>\n"
            ],
            "text/plain": [
              "\u001b[1m Trainable params: \u001b[0m\u001b[38;5;34m52,842\u001b[0m (206.41 KB)\n"
            ]
          },
          "metadata": {},
          "output_type": "display_data"
        },
        {
          "data": {
            "text/html": [
              "<pre style=\"white-space:pre;overflow-x:auto;line-height:normal;font-family:Menlo,'DejaVu Sans Mono',consolas,'Courier New',monospace\"><span style=\"font-weight: bold\"> Non-trainable params: </span><span style=\"color: #00af00; text-decoration-color: #00af00\">192</span> (768.00 B)\n",
              "</pre>\n"
            ],
            "text/plain": [
              "\u001b[1m Non-trainable params: \u001b[0m\u001b[38;5;34m192\u001b[0m (768.00 B)\n"
            ]
          },
          "metadata": {},
          "output_type": "display_data"
        }
      ],
      "source": [
        "model2.summary()"
      ]
    },
    {
      "cell_type": "code",
      "execution_count": null,
      "id": "e433e2dc-d14a-4f44-a9fe-cd2f7a629b52",
      "metadata": {
        "id": "e433e2dc-d14a-4f44-a9fe-cd2f7a629b52",
        "outputId": "7818299a-16c7-44c0-a372-fe58edd99d28"
      },
      "outputs": [
        {
          "name": "stdout",
          "output_type": "stream",
          "text": [
            "Epoch 1/30\n",
            "\u001b[1m1500/1500\u001b[0m \u001b[32m━━━━━━━━━━━━━━━━━━━━\u001b[0m\u001b[37m\u001b[0m \u001b[1m6s\u001b[0m 3ms/step - accuracy: 0.8371 - loss: 0.5553 - val_accuracy: 0.9544 - val_loss: 0.1503\n",
            "Epoch 2/30\n",
            "\u001b[1m1500/1500\u001b[0m \u001b[32m━━━━━━━━━━━━━━━━━━━━\u001b[0m\u001b[37m\u001b[0m \u001b[1m4s\u001b[0m 3ms/step - accuracy: 0.9509 - loss: 0.1609 - val_accuracy: 0.9672 - val_loss: 0.1142\n",
            "Epoch 3/30\n",
            "\u001b[1m1500/1500\u001b[0m \u001b[32m━━━━━━━━━━━━━━━━━━━━\u001b[0m\u001b[37m\u001b[0m \u001b[1m4s\u001b[0m 2ms/step - accuracy: 0.9631 - loss: 0.1201 - val_accuracy: 0.9663 - val_loss: 0.1057\n",
            "Epoch 4/30\n",
            "\u001b[1m1500/1500\u001b[0m \u001b[32m━━━━━━━━━━━━━━━━━━━━\u001b[0m\u001b[37m\u001b[0m \u001b[1m4s\u001b[0m 3ms/step - accuracy: 0.9693 - loss: 0.0978 - val_accuracy: 0.9705 - val_loss: 0.0960\n",
            "Epoch 5/30\n",
            "\u001b[1m1500/1500\u001b[0m \u001b[32m━━━━━━━━━━━━━━━━━━━━\u001b[0m\u001b[37m\u001b[0m \u001b[1m4s\u001b[0m 3ms/step - accuracy: 0.9737 - loss: 0.0838 - val_accuracy: 0.9688 - val_loss: 0.1093\n",
            "Epoch 6/30\n",
            "\u001b[1m1500/1500\u001b[0m \u001b[32m━━━━━━━━━━━━━━━━━━━━\u001b[0m\u001b[37m\u001b[0m \u001b[1m4s\u001b[0m 3ms/step - accuracy: 0.9767 - loss: 0.0739 - val_accuracy: 0.9693 - val_loss: 0.1057\n",
            "Epoch 7/30\n",
            "\u001b[1m1500/1500\u001b[0m \u001b[32m━━━━━━━━━━━━━━━━━━━━\u001b[0m\u001b[37m\u001b[0m \u001b[1m4s\u001b[0m 3ms/step - accuracy: 0.9788 - loss: 0.0657 - val_accuracy: 0.9749 - val_loss: 0.0926\n",
            "Epoch 8/30\n",
            "\u001b[1m1500/1500\u001b[0m \u001b[32m━━━━━━━━━━━━━━━━━━━━\u001b[0m\u001b[37m\u001b[0m \u001b[1m4s\u001b[0m 3ms/step - accuracy: 0.9824 - loss: 0.0559 - val_accuracy: 0.9717 - val_loss: 0.1003\n",
            "Epoch 9/30\n",
            "\u001b[1m1500/1500\u001b[0m \u001b[32m━━━━━━━━━━━━━━━━━━━━\u001b[0m\u001b[37m\u001b[0m \u001b[1m4s\u001b[0m 3ms/step - accuracy: 0.9827 - loss: 0.0512 - val_accuracy: 0.9748 - val_loss: 0.0894\n",
            "Epoch 10/30\n",
            "\u001b[1m1500/1500\u001b[0m \u001b[32m━━━━━━━━━━━━━━━━━━━━\u001b[0m\u001b[37m\u001b[0m \u001b[1m4s\u001b[0m 3ms/step - accuracy: 0.9837 - loss: 0.0505 - val_accuracy: 0.9758 - val_loss: 0.0943\n",
            "Epoch 11/30\n",
            "\u001b[1m1500/1500\u001b[0m \u001b[32m━━━━━━━━━━━━━━━━━━━━\u001b[0m\u001b[37m\u001b[0m \u001b[1m4s\u001b[0m 3ms/step - accuracy: 0.9851 - loss: 0.0459 - val_accuracy: 0.9739 - val_loss: 0.0935\n",
            "Epoch 12/30\n",
            "\u001b[1m1500/1500\u001b[0m \u001b[32m━━━━━━━━━━━━━━━━━━━━\u001b[0m\u001b[37m\u001b[0m \u001b[1m4s\u001b[0m 3ms/step - accuracy: 0.9855 - loss: 0.0447 - val_accuracy: 0.9718 - val_loss: 0.1032\n",
            "Epoch 13/30\n",
            "\u001b[1m1500/1500\u001b[0m \u001b[32m━━━━━━━━━━━━━━━━━━━━\u001b[0m\u001b[37m\u001b[0m \u001b[1m4s\u001b[0m 3ms/step - accuracy: 0.9864 - loss: 0.0418 - val_accuracy: 0.9745 - val_loss: 0.0998\n",
            "Epoch 14/30\n",
            "\u001b[1m1500/1500\u001b[0m \u001b[32m━━━━━━━━━━━━━━━━━━━━\u001b[0m\u001b[37m\u001b[0m \u001b[1m4s\u001b[0m 3ms/step - accuracy: 0.9856 - loss: 0.0405 - val_accuracy: 0.9758 - val_loss: 0.0887\n",
            "Epoch 15/30\n",
            "\u001b[1m1500/1500\u001b[0m \u001b[32m━━━━━━━━━━━━━━━━━━━━\u001b[0m\u001b[37m\u001b[0m \u001b[1m4s\u001b[0m 2ms/step - accuracy: 0.9877 - loss: 0.0370 - val_accuracy: 0.9761 - val_loss: 0.0926\n",
            "Epoch 16/30\n",
            "\u001b[1m1500/1500\u001b[0m \u001b[32m━━━━━━━━━━━━━━━━━━━━\u001b[0m\u001b[37m\u001b[0m \u001b[1m4s\u001b[0m 3ms/step - accuracy: 0.9874 - loss: 0.0375 - val_accuracy: 0.9747 - val_loss: 0.0964\n",
            "Epoch 17/30\n",
            "\u001b[1m1500/1500\u001b[0m \u001b[32m━━━━━━━━━━━━━━━━━━━━\u001b[0m\u001b[37m\u001b[0m \u001b[1m4s\u001b[0m 3ms/step - accuracy: 0.9889 - loss: 0.0346 - val_accuracy: 0.9753 - val_loss: 0.0993\n",
            "Epoch 18/30\n",
            "\u001b[1m1500/1500\u001b[0m \u001b[32m━━━━━━━━━━━━━━━━━━━━\u001b[0m\u001b[37m\u001b[0m \u001b[1m4s\u001b[0m 3ms/step - accuracy: 0.9906 - loss: 0.0292 - val_accuracy: 0.9758 - val_loss: 0.0963\n",
            "Epoch 19/30\n",
            "\u001b[1m1500/1500\u001b[0m \u001b[32m━━━━━━━━━━━━━━━━━━━━\u001b[0m\u001b[37m\u001b[0m \u001b[1m4s\u001b[0m 3ms/step - accuracy: 0.9895 - loss: 0.0299 - val_accuracy: 0.9745 - val_loss: 0.1011\n",
            "Epoch 20/30\n",
            "\u001b[1m1500/1500\u001b[0m \u001b[32m━━━━━━━━━━━━━━━━━━━━\u001b[0m\u001b[37m\u001b[0m \u001b[1m4s\u001b[0m 3ms/step - accuracy: 0.9905 - loss: 0.0271 - val_accuracy: 0.9745 - val_loss: 0.1058\n",
            "Epoch 21/30\n",
            "\u001b[1m1500/1500\u001b[0m \u001b[32m━━━━━━━━━━━━━━━━━━━━\u001b[0m\u001b[37m\u001b[0m \u001b[1m4s\u001b[0m 2ms/step - accuracy: 0.9912 - loss: 0.0268 - val_accuracy: 0.9743 - val_loss: 0.1040\n",
            "Epoch 22/30\n",
            "\u001b[1m1500/1500\u001b[0m \u001b[32m━━━━━━━━━━━━━━━━━━━━\u001b[0m\u001b[37m\u001b[0m \u001b[1m4s\u001b[0m 3ms/step - accuracy: 0.9908 - loss: 0.0276 - val_accuracy: 0.9726 - val_loss: 0.1164\n",
            "Epoch 23/30\n",
            "\u001b[1m1500/1500\u001b[0m \u001b[32m━━━━━━━━━━━━━━━━━━━━\u001b[0m\u001b[37m\u001b[0m \u001b[1m4s\u001b[0m 2ms/step - accuracy: 0.9906 - loss: 0.0277 - val_accuracy: 0.9724 - val_loss: 0.1166\n",
            "Epoch 24/30\n",
            "\u001b[1m1500/1500\u001b[0m \u001b[32m━━━━━━━━━━━━━━━━━━━━\u001b[0m\u001b[37m\u001b[0m \u001b[1m4s\u001b[0m 3ms/step - accuracy: 0.9911 - loss: 0.0265 - val_accuracy: 0.9728 - val_loss: 0.1127\n",
            "Epoch 25/30\n",
            "\u001b[1m1500/1500\u001b[0m \u001b[32m━━━━━━━━━━━━━━━━━━━━\u001b[0m\u001b[37m\u001b[0m \u001b[1m4s\u001b[0m 3ms/step - accuracy: 0.9909 - loss: 0.0278 - val_accuracy: 0.9753 - val_loss: 0.1054\n",
            "Epoch 26/30\n",
            "\u001b[1m1500/1500\u001b[0m \u001b[32m━━━━━━━━━━━━━━━━━━━━\u001b[0m\u001b[37m\u001b[0m \u001b[1m4s\u001b[0m 3ms/step - accuracy: 0.9909 - loss: 0.0249 - val_accuracy: 0.9763 - val_loss: 0.1088\n",
            "Epoch 27/30\n",
            "\u001b[1m1500/1500\u001b[0m \u001b[32m━━━━━━━━━━━━━━━━━━━━\u001b[0m\u001b[37m\u001b[0m \u001b[1m4s\u001b[0m 2ms/step - accuracy: 0.9925 - loss: 0.0217 - val_accuracy: 0.9765 - val_loss: 0.1040\n",
            "Epoch 28/30\n",
            "\u001b[1m1500/1500\u001b[0m \u001b[32m━━━━━━━━━━━━━━━━━━━━\u001b[0m\u001b[37m\u001b[0m \u001b[1m4s\u001b[0m 3ms/step - accuracy: 0.9930 - loss: 0.0220 - val_accuracy: 0.9764 - val_loss: 0.1111\n",
            "Epoch 29/30\n",
            "\u001b[1m1500/1500\u001b[0m \u001b[32m━━━━━━━━━━━━━━━━━━━━\u001b[0m\u001b[37m\u001b[0m \u001b[1m4s\u001b[0m 3ms/step - accuracy: 0.9922 - loss: 0.0234 - val_accuracy: 0.9758 - val_loss: 0.1117\n",
            "Epoch 30/30\n",
            "\u001b[1m1500/1500\u001b[0m \u001b[32m━━━━━━━━━━━━━━━━━━━━\u001b[0m\u001b[37m\u001b[0m \u001b[1m4s\u001b[0m 3ms/step - accuracy: 0.9923 - loss: 0.0217 - val_accuracy: 0.9773 - val_loss: 0.1094\n"
          ]
        }
      ],
      "source": [
        "hist2 = model2.fit(x_train,y_train,validation_split=0.2,epochs=30)"
      ]
    },
    {
      "cell_type": "code",
      "execution_count": null,
      "id": "f7170b3e-5a0b-4e53-932e-2fa47c6b18a4",
      "metadata": {
        "id": "f7170b3e-5a0b-4e53-932e-2fa47c6b18a4",
        "outputId": "e56583cf-bbd2-4244-d7e9-24f588b87f9b"
      },
      "outputs": [
        {
          "name": "stdout",
          "output_type": "stream",
          "text": [
            "\u001b[1m1875/1875\u001b[0m \u001b[32m━━━━━━━━━━━━━━━━━━━━\u001b[0m\u001b[37m\u001b[0m \u001b[1m2s\u001b[0m 1ms/step - accuracy: 0.9977 - loss: 0.0089\n"
          ]
        },
        {
          "data": {
            "text/plain": [
              "[0.027104679495096207, 0.9939166903495789]"
            ]
          },
          "execution_count": 31,
          "metadata": {},
          "output_type": "execute_result"
        }
      ],
      "source": [
        "model2.evaluate(x_train,y_train)"
      ]
    },
    {
      "cell_type": "code",
      "execution_count": null,
      "id": "26a0b932-f592-49ea-aa99-7e02ee0d8b4f",
      "metadata": {
        "id": "26a0b932-f592-49ea-aa99-7e02ee0d8b4f",
        "outputId": "9412f63c-6e33-4895-9b25-fca70e971115"
      },
      "outputs": [
        {
          "name": "stdout",
          "output_type": "stream",
          "text": [
            "\u001b[1m313/313\u001b[0m \u001b[32m━━━━━━━━━━━━━━━━━━━━\u001b[0m\u001b[37m\u001b[0m \u001b[1m1s\u001b[0m 1ms/step - accuracy: 0.9736 - loss: 0.1120\n"
          ]
        },
        {
          "data": {
            "text/plain": [
              "[0.0877678170800209, 0.9786999821662903]"
            ]
          },
          "execution_count": 32,
          "metadata": {},
          "output_type": "execute_result"
        }
      ],
      "source": [
        "model2.evaluate(x_test,y_test)"
      ]
    },
    {
      "cell_type": "code",
      "execution_count": null,
      "id": "2bd98d99-8e8a-4104-979d-e928134a5b92",
      "metadata": {
        "id": "2bd98d99-8e8a-4104-979d-e928134a5b92"
      },
      "outputs": [],
      "source": [
        "5. Compare training and validation performance in between models with and without batch normalization"
      ]
    },
    {
      "cell_type": "code",
      "execution_count": null,
      "id": "b4b4869c-28e7-480e-a148-7cbe4320f9c7",
      "metadata": {
        "id": "b4b4869c-28e7-480e-a148-7cbe4320f9c7",
        "outputId": "81f0e529-4a32-4a0f-f48a-91ab17ee24f4"
      },
      "outputs": [
        {
          "data": {
            "image/png": "[encoded data removed]",
            "text/plain": [
              "<Figure size 1600x800 with 1 Axes>"
            ]
          },
          "metadata": {},
          "output_type": "display_data"
        }
      ],
      "source": [
        "import matplotlib.pyplot as plt\n",
        "\n",
        "plt.figure(figsize=(16,8))\n",
        "plt.plot(hist1.history['loss'], label='Loss')\n",
        "plt.plot(hist1.history['val_loss'], label='Validation Loss')\n",
        "plt.xlabel('Epochs')\n",
        "plt.ylabel('Categorical Crossentropy')\n",
        "plt.title('Learning Curve without Batch Normalization')\n",
        "plt.legend()\n",
        "plt.grid()\n",
        "plt.show()\n"
      ]
    },
    {
      "cell_type": "code",
      "execution_count": null,
      "id": "12ce3143-9b4a-45cf-91fb-a43aaf22aa62",
      "metadata": {
        "id": "12ce3143-9b4a-45cf-91fb-a43aaf22aa62",
        "outputId": "bd86f992-2f38-4d12-cd96-10507584616b"
      },
      "outputs": [
        {
          "data": {
            "image/png": "[encoded data removed]",
            "text/plain": [
              "<Figure size 1600x800 with 1 Axes>"
            ]
          },
          "metadata": {},
          "output_type": "display_data"
        }
      ],
      "source": [
        "plt.figure(figsize=(16,8))\n",
        "plt.plot(hist2.history['loss'],label='Loss')\n",
        "plt.plot(hist2.history['val_loss'],label='Validation Loss')\n",
        "plt.xlabel('Epochs')\n",
        "plt.ylabel('Categorical Crossentropy')\n",
        "plt.title('Learning Curve INCLUDING Batch Normalization')\n",
        "plt.legend()\n",
        "plt.grid()\n",
        "plt.show()"
      ]
    },
    {
      "cell_type": "code",
      "execution_count": null,
      "id": "a6cf68ef-04bd-45dd-a111-d78737b9da2e",
      "metadata": {
        "id": "a6cf68ef-04bd-45dd-a111-d78737b9da2e",
        "outputId": "646f78c7-29ed-476b-8d89-0ee7d105668a"
      },
      "outputs": [
        {
          "name": "stdout",
          "output_type": "stream",
          "text": [
            "\u001b[1m1875/1875\u001b[0m \u001b[32m━━━━━━━━━━━━━━━━━━━━\u001b[0m\u001b[37m\u001b[0m \u001b[1m2s\u001b[0m 1ms/step - accuracy: 0.9982 - loss: 0.0077\n"
          ]
        },
        {
          "data": {
            "text/plain": [
              "[0.03655058890581131, 0.9936166405677795]"
            ]
          },
          "execution_count": 35,
          "metadata": {},
          "output_type": "execute_result"
        }
      ],
      "source": [
        "model.evaluate(x_train,y_train)"
      ]
    },
    {
      "cell_type": "code",
      "execution_count": null,
      "id": "0411a50f-e3cc-450d-8389-a1f857f9271d",
      "metadata": {
        "id": "0411a50f-e3cc-450d-8389-a1f857f9271d",
        "outputId": "53d8731d-c34b-4fdf-c9d6-fabcee8babcf"
      },
      "outputs": [
        {
          "name": "stdout",
          "output_type": "stream",
          "text": [
            "\u001b[1m313/313\u001b[0m \u001b[32m━━━━━━━━━━━━━━━━━━━━\u001b[0m\u001b[37m\u001b[0m \u001b[1m0s\u001b[0m 1ms/step - accuracy: 0.9689 - loss: 0.1848\n"
          ]
        },
        {
          "data": {
            "text/plain": [
              "[0.1554715484380722, 0.9740999937057495]"
            ]
          },
          "execution_count": 36,
          "metadata": {},
          "output_type": "execute_result"
        }
      ],
      "source": [
        "model.evaluate(x_test,y_test)"
      ]
    },
    {
      "cell_type": "code",
      "execution_count": null,
      "id": "b251cc9c-6fe3-447a-9f03-6204900bffc8",
      "metadata": {
        "id": "b251cc9c-6fe3-447a-9f03-6204900bffc8",
        "outputId": "31bc603b-b217-4929-b41e-dd195fd78ea1"
      },
      "outputs": [
        {
          "name": "stdout",
          "output_type": "stream",
          "text": [
            "\u001b[1m1875/1875\u001b[0m \u001b[32m━━━━━━━━━━━━━━━━━━━━\u001b[0m\u001b[37m\u001b[0m \u001b[1m2s\u001b[0m 1ms/step - accuracy: 0.9977 - loss: 0.0089\n"
          ]
        },
        {
          "data": {
            "text/plain": [
              "[0.027104679495096207, 0.9939166903495789]"
            ]
          },
          "execution_count": 37,
          "metadata": {},
          "output_type": "execute_result"
        }
      ],
      "source": [
        "model2.evaluate(x_train,y_train)"
      ]
    },
    {
      "cell_type": "code",
      "execution_count": null,
      "id": "c6b31bd5-ee9c-4ca8-afd5-9d416a279587",
      "metadata": {
        "id": "c6b31bd5-ee9c-4ca8-afd5-9d416a279587",
        "outputId": "23d6c351-6dca-48bb-cf67-cc47d39c9a55"
      },
      "outputs": [
        {
          "name": "stdout",
          "output_type": "stream",
          "text": [
            "\u001b[1m313/313\u001b[0m \u001b[32m━━━━━━━━━━━━━━━━━━━━\u001b[0m\u001b[37m\u001b[0m \u001b[1m0s\u001b[0m 1ms/step - accuracy: 0.9736 - loss: 0.1120\n"
          ]
        },
        {
          "data": {
            "text/plain": [
              "[0.0877678170800209, 0.9786999821662903]"
            ]
          },
          "execution_count": 38,
          "metadata": {},
          "output_type": "execute_result"
        }
      ],
      "source": [
        "model2.evaluate(x_test,y_test)"
      ]
    },
    {
      "cell_type": "code",
      "execution_count": null,
      "id": "77e0a71a-37e6-4a79-9753-015a57cc65b2",
      "metadata": {
        "id": "77e0a71a-37e6-4a79-9753-015a57cc65b2"
      },
      "outputs": [],
      "source": [
        "6. Discuss the impact of batch normalization on training process and performance of neural network"
      ]
    },
    {
      "cell_type": "code",
      "execution_count": null,
      "id": "67d6515f-92bc-45a7-aa75-58ae32bec89c",
      "metadata": {
        "id": "67d6515f-92bc-45a7-aa75-58ae32bec89c",
        "outputId": "9a650ffb-8119-4a7c-de9a-be53ca71455f"
      },
      "outputs": [
        {
          "name": "stdout",
          "output_type": "stream",
          "text": [
            "\u001b[1m313/313\u001b[0m \u001b[32m━━━━━━━━━━━━━━━━━━━━\u001b[0m\u001b[37m\u001b[0m \u001b[1m1s\u001b[0m 1ms/step\n"
          ]
        },
        {
          "data": {
            "text/plain": [
              "array([[4.36836262e-10, 1.26319264e-07, 2.99175507e-09, 2.89570744e-05,\n",
              "        1.39372824e-09, 4.19714354e-07, 1.48647402e-07, 9.99860287e-01,\n",
              "        4.95371104e-08, 1.10015149e-04],\n",
              "       [1.01105491e-09, 1.41918235e-05, 9.99985754e-01, 1.28966180e-08,\n",
              "        1.09271585e-11, 1.76428259e-08, 2.17517865e-10, 7.28021587e-10,\n",
              "        1.26262001e-09, 8.41078509e-13],\n",
              "       [4.14152924e-13, 9.99999702e-01, 1.03185649e-09, 4.17634487e-13,\n",
              "        1.06778093e-10, 4.50172712e-11, 1.34370716e-12, 1.97535087e-07,\n",
              "        1.96637776e-11, 1.46492722e-14]], dtype=float32)"
            ]
          },
          "execution_count": 39,
          "metadata": {},
          "output_type": "execute_result"
        }
      ],
      "source": [
        "yprob_test = model2.predict(x_test)\n",
        "yprob_test[0:3]"
      ]
    },
    {
      "cell_type": "code",
      "execution_count": null,
      "id": "3e47f267-4cb8-4230-8c49-dd6efb55eda2",
      "metadata": {
        "id": "3e47f267-4cb8-4230-8c49-dd6efb55eda2",
        "outputId": "047d0950-40aa-40b7-f90d-787cc03ab317"
      },
      "outputs": [
        {
          "data": {
            "text/plain": [
              "array([7, 2, 1])"
            ]
          },
          "execution_count": 40,
          "metadata": {},
          "output_type": "execute_result"
        }
      ],
      "source": [
        "import numpy as np\n",
        "ypred_test = np.argmax(yprob_test,axis=1)\n",
        "ypred_test[0:3]"
      ]
    },
    {
      "cell_type": "code",
      "execution_count": null,
      "id": "0e1b68c5-f036-4163-9e4f-f194a1a57555",
      "metadata": {
        "id": "0e1b68c5-f036-4163-9e4f-f194a1a57555",
        "outputId": "effac241-1b0e-4234-90f2-836549409d7d"
      },
      "outputs": [
        {
          "data": {
            "text/plain": [
              "array([7, 2, 1])"
            ]
          },
          "execution_count": 41,
          "metadata": {},
          "output_type": "execute_result"
        }
      ],
      "source": [
        "y_test_label = np.argmax(y_test,axis=1)\n",
        "y_test_label[0:3]"
      ]
    },
    {
      "cell_type": "code",
      "execution_count": null,
      "id": "c23e7259-d723-47a6-b049-55093d2b15da",
      "metadata": {
        "id": "c23e7259-d723-47a6-b049-55093d2b15da",
        "outputId": "12aaef05-942a-4879-b1be-3c627eccc51e"
      },
      "outputs": [
        {
          "data": {
            "text/plain": [
              "array([0, 1, 2, 3, 4, 5, 6, 7, 8, 9])"
            ]
          },
          "execution_count": 42,
          "metadata": {},
          "output_type": "execute_result"
        }
      ],
      "source": [
        "lb = np.unique(y_test_label)\n",
        "lb"
      ]
    },
    {
      "cell_type": "code",
      "execution_count": null,
      "id": "87eb2585-464d-40bd-9439-9bcc0a0a6fd7",
      "metadata": {
        "id": "87eb2585-464d-40bd-9439-9bcc0a0a6fd7",
        "outputId": "f359062d-ac51-4558-cc70-67c2a4c8559e"
      },
      "outputs": [
        {
          "data": {
            "image/png": "[encoded data removed]",
            "text/plain": [
              "<Figure size 640x480 with 2 Axes>"
            ]
          },
          "metadata": {},
          "output_type": "display_data"
        }
      ],
      "source": [
        "from sklearn.metrics import confusion_matrix, ConfusionMatrixDisplay\n",
        "cf = confusion_matrix(y_test_label,ypred_test)\n",
        "cfd = ConfusionMatrixDisplay(cf,display_labels=lb)\n",
        "cfd.plot()\n",
        "plt.show()"
      ]
    },
    {
      "cell_type": "code",
      "execution_count": null,
      "id": "0926252a-ff48-40f2-9f4e-19407857c1be",
      "metadata": {
        "id": "0926252a-ff48-40f2-9f4e-19407857c1be",
        "outputId": "be2932f2-d9ab-456c-de90-9ded30013bd7"
      },
      "outputs": [
        {
          "name": "stdout",
          "output_type": "stream",
          "text": [
            "              precision    recall  f1-score   support\n",
            "\n",
            "           0       0.99      0.99      0.99       980\n",
            "           1       0.99      0.99      0.99      1135\n",
            "           2       0.97      0.98      0.97      1032\n",
            "           3       0.97      0.99      0.98      1010\n",
            "           4       0.98      0.97      0.98       982\n",
            "           5       0.98      0.96      0.97       892\n",
            "           6       0.98      0.98      0.98       958\n",
            "           7       0.98      0.97      0.98      1028\n",
            "           8       0.97      0.98      0.97       974\n",
            "           9       0.98      0.97      0.98      1009\n",
            "\n",
            "    accuracy                           0.98     10000\n",
            "   macro avg       0.98      0.98      0.98     10000\n",
            "weighted avg       0.98      0.98      0.98     10000\n",
            "\n"
          ]
        }
      ],
      "source": [
        "from sklearn.metrics import classification_report\n",
        "print(classification_report(y_test_label,ypred_test))"
      ]
    },
    {
      "cell_type": "code",
      "execution_count": null,
      "id": "a9a1342f-7e30-4312-8ef3-fc1f915c28a9",
      "metadata": {
        "id": "a9a1342f-7e30-4312-8ef3-fc1f915c28a9"
      },
      "outputs": [],
      "source": [
        "1. Experiment with different batch sizes and observe the effect of training dynamics and model performance\n"
      ]
    },
    {
      "cell_type": "code",
      "execution_count": null,
      "id": "4551f5c6-2eaa-4112-a70a-eed0ffd18a04",
      "metadata": {
        "id": "4551f5c6-2eaa-4112-a70a-eed0ffd18a04"
      },
      "outputs": [],
      "source": [
        "def plot_learning_curve(hist, batch_size):\n",
        "    plt.figure(figsize=(16,8))\n",
        "    plt.plot(hist.history['loss'],label='Loss')\n",
        "    plt.plot(hist.history['val_loss'],label='Validation Loss')\n",
        "    plt.xlabel('Epochs')\n",
        "    plt.ylabel('Categorical Crossentropy')\n",
        "    plt.title(f'Learning curve with Batch Size = {batch_size}')\n",
        "    plt.legend()\n",
        "    plt.grid()\n",
        "    plt.show()"
      ]
    },
    {
      "cell_type": "code",
      "execution_count": null,
      "id": "bf30ba49-d3e1-4d13-8fd1-5d5676f232b8",
      "metadata": {
        "id": "bf30ba49-d3e1-4d13-8fd1-5d5676f232b8",
        "outputId": "e79d6386-4bbc-475b-c681-aa68b83fac8e"
      },
      "outputs": [
        {
          "name": "stdout",
          "output_type": "stream",
          "text": [
            "Training for batch size = 8\n"
          ]
        },
        {
          "ename": "NameError",
          "evalue": "name 'Sequential' is not defined",
          "output_type": "error",
          "traceback": [
            "\u001b[0;31m---------------------------------------------------------------------------\u001b[0m",
            "\u001b[0;31mNameError\u001b[0m                                 Traceback (most recent call last)",
            "Cell \u001b[0;32mIn[1], line 5\u001b[0m\n\u001b[1;32m      3\u001b[0m \u001b[38;5;28mprint\u001b[39m(\u001b[38;5;124mf\u001b[39m\u001b[38;5;124m'\u001b[39m\u001b[38;5;124mTraining for batch size = \u001b[39m\u001b[38;5;132;01m{\u001b[39;00mi\u001b[38;5;132;01m}\u001b[39;00m\u001b[38;5;124m'\u001b[39m)\n\u001b[1;32m      4\u001b[0m \u001b[38;5;66;03m# Build Model\u001b[39;00m\n\u001b[0;32m----> 5\u001b[0m nn \u001b[38;5;241m=\u001b[39m \u001b[43mSequential\u001b[49m()\n\u001b[1;32m      6\u001b[0m nn\u001b[38;5;241m.\u001b[39madd(Flatten(input_shape\u001b[38;5;241m=\u001b[39m(\u001b[38;5;241m28\u001b[39m,\u001b[38;5;241m28\u001b[39m,\u001b[38;5;241m1\u001b[39m)))\n\u001b[1;32m      7\u001b[0m nn\u001b[38;5;241m.\u001b[39madd(Dense(\u001b[38;5;241m64\u001b[39m,activation\u001b[38;5;241m=\u001b[39m\u001b[38;5;124m'\u001b[39m\u001b[38;5;124mrelu\u001b[39m\u001b[38;5;124m'\u001b[39m))\n",
            "\u001b[0;31mNameError\u001b[0m: name 'Sequential' is not defined"
          ]
        }
      ],
      "source": [
        "sizes = [8,16,32,64,128,256,512,1024]\n",
        "for i in sizes:\n",
        "    print(f'Training for batch size = {i}')\n",
        "    # Build Model\n",
        "    nn = Sequential()\n",
        "    nn.add(Flatten(input_shape=(28,28,1)))\n",
        "    nn.add(Dense(64,activation='relu'))\n",
        "    nn.add(BatchNormalization())\n",
        "    nn.add(Dense(32,activation='relu'))\n",
        "    nn.add(BatchNormalization())\n",
        "    nn.add(Dense(10,activation='softmax'))\n",
        "    # Compile model\n",
        "    nn.compile(loss='categorical_crossentropy',optimizer='adam',metrics=['accuracy'])\n",
        "    # Fit the model\n",
        "    histn = nn.fit(x_train,y_train,validation_split=0.2,batch_size=i,epochs=30,verbose=0)\n",
        "    # Plot learning curve\n",
        "    plot_learning_curve(histn,i)\n",
        "    nn.evaluate(x_train,y_train)\n",
        "    nn.evaluate(x_test,y_test)\n",
        "    print('\\n=======================================================================================\\n')"
      ]
    },
    {
      "cell_type": "code",
      "execution_count": null,
      "id": "c83c40c5-e564-4951-8f8c-6e8930ece315",
      "metadata": {
        "id": "c83c40c5-e564-4951-8f8c-6e8930ece315"
      },
      "outputs": [],
      "source": [
        "2. Discuss the advantage and potential limitations of batch Normalization in improving training of Neural Networks\n"
      ]
    },
    {
      "cell_type": "code",
      "execution_count": null,
      "id": "24666109-1e42-47d9-a605-6d495d3c64d6",
      "metadata": {
        "id": "24666109-1e42-47d9-a605-6d495d3c64d6"
      },
      "outputs": [],
      "source": [
        "Batch normalization offers several advantages in improving the training of neural networks, but it also has certain potential limitations. Let's discuss both the advantages and limitations:\n",
        "\n",
        "Advantages of Batch Normalization:\n",
        "\n",
        "1. `Improved Training Stability`: Batch normalization reduces the internal covariate shift by normalizing the inputs within each mini-batch. This stabilizes the training process, allowing for higher learning rates and faster convergence. It helps prevent vanishing or exploding gradients, which can hinder training stability.\n",
        "\n",
        "2. `Accelerated Convergence`: With batch normalization, the network can converge more quickly compared to models without it. The normalized inputs provide a more consistent distribution of values, making it easier for the model to find an optimal solution in a shorter amount of time.\n",
        "\n",
        "3. `Regularization Effect`: Batch normalization acts as a form of regularization by adding noise to the network activations. It reduces overfitting, as it adds some randomness to the network during training, leading to better generalization performance.\n",
        "\n",
        "4. `Reduced Dependency on Initialization`: Batch normalization makes the network less sensitive to the choice of initial weights. It reduces the reliance on careful weight initialization techniques and allows the model to converge effectively even with suboptimal initial weights.\n",
        "\n",
        "5. `Handling Different Data Scales`: Batch normalization helps normalize the inputs, making the network more robust to variations in data scales. It ensures that the network can learn effectively irrespective of the range or distribution of the input data.\n",
        "\n",
        "Limitations of Batch Normalization:\n",
        "\n",
        "1. `Dependency on Mini-Batch Size`: The effectiveness of batch normalization can be influenced by the mini-batch size. Extremely small mini-batches may result in noisy estimates of the mean and variance, leading to suboptimal normalization. However, larger mini-batch sizes can also introduce computational overhead.\n",
        "\n",
        "2. `Impact on Training Time and Memory`: Batch normalization requires additional computations during training, which can increase the overall training time. Additionally, it requires storing and updating the mean and variance values for each layer, leading to higher memory requirements.\n",
        "\n",
        "3. `Inference Dependency on Statistics`: During inference (prediction), the statistics used for normalization are typically based on the training data. This can lead to discrepancies if the statistical properties of the training and inference data significantly differ. Techniques like running averages or batch renormalization can be used to address this limitation.\n",
        "\n",
        "4. `Non-Robustness to Extreme Values`: Batch normalization assumes a Gaussian distribution of the input data. In the presence of extreme values or outliers, it may not perform optimally. Techniques like layer normalization or group normalization may be more suitable in such cases.\n",
        "\n",
        "Overall, batch normalization has proven to be a valuable technique in training neural networks. Its advantages, such as improved training stability, faster convergence, and regularization effects, make it a popular choice. However, it's important to be aware of the potential limitations and consider alternative normalization techniques depending on the specific characteristics of the data and the network architecture."
      ]
    }
  ],
  "metadata": {
    "kernelspec": {
      "display_name": "Python 3 (ipykernel)",
      "language": "python",
      "name": "python3"
    },
    "language_info": {
      "codemirror_mode": {
        "name": "ipython",
        "version": 3
      },
      "file_extension": ".py",
      "mimetype": "text/x-python",
      "name": "python",
      "nbconvert_exporter": "python",
      "pygments_lexer": "ipython3",
      "version": "3.10.8"
    },
    "colab": {
      "provenance": [],
      "include_colab_link": true
    }
  },
  "nbformat": 4,
  "nbformat_minor": 5
}